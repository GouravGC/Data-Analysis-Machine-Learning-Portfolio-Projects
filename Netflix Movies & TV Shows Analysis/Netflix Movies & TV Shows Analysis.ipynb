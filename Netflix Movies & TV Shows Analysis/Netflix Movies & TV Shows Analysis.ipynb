{
 "cells": [
  {
   "cell_type": "markdown",
   "id": "89f87448",
   "metadata": {},
   "source": [
    " Step 1: Project Setup\n",
    "\n",
    "Install necessary Python libraries:"
   ]
  },
  {
   "cell_type": "code",
   "execution_count": 1,
   "id": "b4fdcc34",
   "metadata": {},
   "outputs": [
    {
     "name": "stdout",
     "output_type": "stream",
     "text": [
      "Requirement already satisfied: pandas in c:\\users\\gc\\.conda\\envs\\youtube_analytics\\lib\\site-packages (2.2.3)\n",
      "Requirement already satisfied: matplotlib in c:\\users\\gc\\.conda\\envs\\youtube_analytics\\lib\\site-packages (3.10.1)\n",
      "Requirement already satisfied: seaborn in c:\\users\\gc\\.conda\\envs\\youtube_analytics\\lib\\site-packages (0.13.2)\n",
      "Requirement already satisfied: wordcloud in c:\\users\\gc\\.conda\\envs\\youtube_analytics\\lib\\site-packages (1.9.4)\n",
      "Requirement already satisfied: numpy>=1.22.4 in c:\\users\\gc\\.conda\\envs\\youtube_analytics\\lib\\site-packages (from pandas) (2.2.5)\n",
      "Requirement already satisfied: python-dateutil>=2.8.2 in c:\\users\\gc\\.conda\\envs\\youtube_analytics\\lib\\site-packages (from pandas) (2.9.0.post0)\n",
      "Requirement already satisfied: pytz>=2020.1 in c:\\users\\gc\\.conda\\envs\\youtube_analytics\\lib\\site-packages (from pandas) (2025.2)\n",
      "Requirement already satisfied: tzdata>=2022.7 in c:\\users\\gc\\.conda\\envs\\youtube_analytics\\lib\\site-packages (from pandas) (2025.2)\n",
      "Requirement already satisfied: contourpy>=1.0.1 in c:\\users\\gc\\.conda\\envs\\youtube_analytics\\lib\\site-packages (from matplotlib) (1.3.2)\n",
      "Requirement already satisfied: cycler>=0.10 in c:\\users\\gc\\.conda\\envs\\youtube_analytics\\lib\\site-packages (from matplotlib) (0.12.1)\n",
      "Requirement already satisfied: fonttools>=4.22.0 in c:\\users\\gc\\.conda\\envs\\youtube_analytics\\lib\\site-packages (from matplotlib) (4.57.0)\n",
      "Requirement already satisfied: kiwisolver>=1.3.1 in c:\\users\\gc\\.conda\\envs\\youtube_analytics\\lib\\site-packages (from matplotlib) (1.4.8)\n",
      "Requirement already satisfied: packaging>=20.0 in c:\\users\\gc\\.conda\\envs\\youtube_analytics\\lib\\site-packages (from matplotlib) (25.0)\n",
      "Requirement already satisfied: pillow>=8 in c:\\users\\gc\\.conda\\envs\\youtube_analytics\\lib\\site-packages (from matplotlib) (11.2.1)\n",
      "Requirement already satisfied: pyparsing>=2.3.1 in c:\\users\\gc\\.conda\\envs\\youtube_analytics\\lib\\site-packages (from matplotlib) (3.2.3)\n",
      "Requirement already satisfied: six>=1.5 in c:\\users\\gc\\.conda\\envs\\youtube_analytics\\lib\\site-packages (from python-dateutil>=2.8.2->pandas) (1.17.0)\n"
     ]
    }
   ],
   "source": [
    "!pip install pandas matplotlib seaborn wordcloud"
   ]
  },
  {
   "cell_type": "markdown",
   "id": "50dd3857",
   "metadata": {},
   "source": [
    " Import Libraries"
   ]
  },
  {
   "cell_type": "code",
   "execution_count": 2,
   "id": "ee513727",
   "metadata": {},
   "outputs": [],
   "source": [
    "import pandas as pd\n",
    "import numpy as np\n",
    "import matplotlib.pyplot as plt\n",
    "import seaborn as sns\n",
    "from wordcloud import WordCloud\n",
    "import plotly.express as px"
   ]
  },
  {
   "cell_type": "code",
   "execution_count": 3,
   "id": "3eecb5ea",
   "metadata": {},
   "outputs": [
    {
     "name": "stdout",
     "output_type": "stream",
     "text": [
      "c:\\Users\\GC\\Desktop\\Data Science Become Data Scientist full\\Data Analysis self projects\\Netflix Movies & TV Shows Analysis\n"
     ]
    }
   ],
   "source": [
    "import os\n",
    "print(os.getcwd())"
   ]
  },
  {
   "cell_type": "code",
   "execution_count": 4,
   "id": "b1cd29f6",
   "metadata": {},
   "outputs": [],
   "source": [
    "df = pd.read_csv('./Dataset/netflix_titles.csv')"
   ]
  },
  {
   "cell_type": "code",
   "execution_count": 5,
   "id": "c8f6c27f",
   "metadata": {},
   "outputs": [
    {
     "data": {
      "text/html": [
       "<div>\n",
       "<style scoped>\n",
       "    .dataframe tbody tr th:only-of-type {\n",
       "        vertical-align: middle;\n",
       "    }\n",
       "\n",
       "    .dataframe tbody tr th {\n",
       "        vertical-align: top;\n",
       "    }\n",
       "\n",
       "    .dataframe thead th {\n",
       "        text-align: right;\n",
       "    }\n",
       "</style>\n",
       "<table border=\"1\" class=\"dataframe\">\n",
       "  <thead>\n",
       "    <tr style=\"text-align: right;\">\n",
       "      <th></th>\n",
       "      <th>show_id</th>\n",
       "      <th>type</th>\n",
       "      <th>title</th>\n",
       "      <th>director</th>\n",
       "      <th>cast</th>\n",
       "      <th>country</th>\n",
       "      <th>date_added</th>\n",
       "      <th>release_year</th>\n",
       "      <th>rating</th>\n",
       "      <th>duration</th>\n",
       "      <th>listed_in</th>\n",
       "      <th>description</th>\n",
       "    </tr>\n",
       "  </thead>\n",
       "  <tbody>\n",
       "    <tr>\n",
       "      <th>0</th>\n",
       "      <td>s1</td>\n",
       "      <td>Movie</td>\n",
       "      <td>Dick Johnson Is Dead</td>\n",
       "      <td>Kirsten Johnson</td>\n",
       "      <td>NaN</td>\n",
       "      <td>United States</td>\n",
       "      <td>September 25, 2021</td>\n",
       "      <td>2020</td>\n",
       "      <td>PG-13</td>\n",
       "      <td>90 min</td>\n",
       "      <td>Documentaries</td>\n",
       "      <td>As her father nears the end of his life, filmm...</td>\n",
       "    </tr>\n",
       "    <tr>\n",
       "      <th>1</th>\n",
       "      <td>s2</td>\n",
       "      <td>TV Show</td>\n",
       "      <td>Blood &amp; Water</td>\n",
       "      <td>NaN</td>\n",
       "      <td>Ama Qamata, Khosi Ngema, Gail Mabalane, Thaban...</td>\n",
       "      <td>South Africa</td>\n",
       "      <td>September 24, 2021</td>\n",
       "      <td>2021</td>\n",
       "      <td>TV-MA</td>\n",
       "      <td>2 Seasons</td>\n",
       "      <td>International TV Shows, TV Dramas, TV Mysteries</td>\n",
       "      <td>After crossing paths at a party, a Cape Town t...</td>\n",
       "    </tr>\n",
       "    <tr>\n",
       "      <th>2</th>\n",
       "      <td>s3</td>\n",
       "      <td>TV Show</td>\n",
       "      <td>Ganglands</td>\n",
       "      <td>Julien Leclercq</td>\n",
       "      <td>Sami Bouajila, Tracy Gotoas, Samuel Jouy, Nabi...</td>\n",
       "      <td>NaN</td>\n",
       "      <td>September 24, 2021</td>\n",
       "      <td>2021</td>\n",
       "      <td>TV-MA</td>\n",
       "      <td>1 Season</td>\n",
       "      <td>Crime TV Shows, International TV Shows, TV Act...</td>\n",
       "      <td>To protect his family from a powerful drug lor...</td>\n",
       "    </tr>\n",
       "    <tr>\n",
       "      <th>3</th>\n",
       "      <td>s4</td>\n",
       "      <td>TV Show</td>\n",
       "      <td>Jailbirds New Orleans</td>\n",
       "      <td>NaN</td>\n",
       "      <td>NaN</td>\n",
       "      <td>NaN</td>\n",
       "      <td>September 24, 2021</td>\n",
       "      <td>2021</td>\n",
       "      <td>TV-MA</td>\n",
       "      <td>1 Season</td>\n",
       "      <td>Docuseries, Reality TV</td>\n",
       "      <td>Feuds, flirtations and toilet talk go down amo...</td>\n",
       "    </tr>\n",
       "    <tr>\n",
       "      <th>4</th>\n",
       "      <td>s5</td>\n",
       "      <td>TV Show</td>\n",
       "      <td>Kota Factory</td>\n",
       "      <td>NaN</td>\n",
       "      <td>Mayur More, Jitendra Kumar, Ranjan Raj, Alam K...</td>\n",
       "      <td>India</td>\n",
       "      <td>September 24, 2021</td>\n",
       "      <td>2021</td>\n",
       "      <td>TV-MA</td>\n",
       "      <td>2 Seasons</td>\n",
       "      <td>International TV Shows, Romantic TV Shows, TV ...</td>\n",
       "      <td>In a city of coaching centers known to train I...</td>\n",
       "    </tr>\n",
       "  </tbody>\n",
       "</table>\n",
       "</div>"
      ],
      "text/plain": [
       "  show_id     type                  title         director  \\\n",
       "0      s1    Movie   Dick Johnson Is Dead  Kirsten Johnson   \n",
       "1      s2  TV Show          Blood & Water              NaN   \n",
       "2      s3  TV Show              Ganglands  Julien Leclercq   \n",
       "3      s4  TV Show  Jailbirds New Orleans              NaN   \n",
       "4      s5  TV Show           Kota Factory              NaN   \n",
       "\n",
       "                                                cast        country  \\\n",
       "0                                                NaN  United States   \n",
       "1  Ama Qamata, Khosi Ngema, Gail Mabalane, Thaban...   South Africa   \n",
       "2  Sami Bouajila, Tracy Gotoas, Samuel Jouy, Nabi...            NaN   \n",
       "3                                                NaN            NaN   \n",
       "4  Mayur More, Jitendra Kumar, Ranjan Raj, Alam K...          India   \n",
       "\n",
       "           date_added  release_year rating   duration  \\\n",
       "0  September 25, 2021          2020  PG-13     90 min   \n",
       "1  September 24, 2021          2021  TV-MA  2 Seasons   \n",
       "2  September 24, 2021          2021  TV-MA   1 Season   \n",
       "3  September 24, 2021          2021  TV-MA   1 Season   \n",
       "4  September 24, 2021          2021  TV-MA  2 Seasons   \n",
       "\n",
       "                                           listed_in  \\\n",
       "0                                      Documentaries   \n",
       "1    International TV Shows, TV Dramas, TV Mysteries   \n",
       "2  Crime TV Shows, International TV Shows, TV Act...   \n",
       "3                             Docuseries, Reality TV   \n",
       "4  International TV Shows, Romantic TV Shows, TV ...   \n",
       "\n",
       "                                         description  \n",
       "0  As her father nears the end of his life, filmm...  \n",
       "1  After crossing paths at a party, a Cape Town t...  \n",
       "2  To protect his family from a powerful drug lor...  \n",
       "3  Feuds, flirtations and toilet talk go down amo...  \n",
       "4  In a city of coaching centers known to train I...  "
      ]
     },
     "execution_count": 5,
     "metadata": {},
     "output_type": "execute_result"
    }
   ],
   "source": [
    "df.head()"
   ]
  },
  {
   "cell_type": "code",
   "execution_count": 6,
   "id": "60f7ae0b",
   "metadata": {},
   "outputs": [
    {
     "data": {
      "text/plain": [
       "show_id            0\n",
       "type               0\n",
       "title              0\n",
       "director        2634\n",
       "cast             825\n",
       "country          831\n",
       "date_added        10\n",
       "release_year       0\n",
       "rating             4\n",
       "duration           3\n",
       "listed_in          0\n",
       "description        0\n",
       "dtype: int64"
      ]
     },
     "execution_count": 6,
     "metadata": {},
     "output_type": "execute_result"
    }
   ],
   "source": [
    "df.isnull().sum()"
   ]
  },
  {
   "cell_type": "code",
   "execution_count": 7,
   "id": "ff2587da",
   "metadata": {},
   "outputs": [
    {
     "data": {
      "text/plain": [
       "(8807, 12)"
      ]
     },
     "execution_count": 7,
     "metadata": {},
     "output_type": "execute_result"
    }
   ],
   "source": [
    "df.shape"
   ]
  },
  {
   "cell_type": "code",
   "execution_count": 8,
   "id": "d887fd35",
   "metadata": {},
   "outputs": [
    {
     "data": {
      "text/plain": [
       "Index(['show_id', 'type', 'title', 'director', 'cast', 'country', 'date_added',\n",
       "       'release_year', 'rating', 'duration', 'listed_in', 'description'],\n",
       "      dtype='object')"
      ]
     },
     "execution_count": 8,
     "metadata": {},
     "output_type": "execute_result"
    }
   ],
   "source": [
    "df.columns"
   ]
  },
  {
   "cell_type": "code",
   "execution_count": 9,
   "id": "0d1cb619",
   "metadata": {},
   "outputs": [
    {
     "data": {
      "text/plain": [
       "['cast',\n",
       " 'country',\n",
       " 'date_added',\n",
       " 'description',\n",
       " 'director',\n",
       " 'duration',\n",
       " 'listed_in',\n",
       " 'rating',\n",
       " 'release_year',\n",
       " 'show_id',\n",
       " 'title',\n",
       " 'type']"
      ]
     },
     "execution_count": 9,
     "metadata": {},
     "output_type": "execute_result"
    }
   ],
   "source": [
    "sorted(df.columns)"
   ]
  },
  {
   "cell_type": "code",
   "execution_count": 10,
   "id": "9e745001",
   "metadata": {},
   "outputs": [
    {
     "data": {
      "text/plain": [
       "(8790, 12)"
      ]
     },
     "execution_count": 10,
     "metadata": {},
     "output_type": "execute_result"
    }
   ],
   "source": [
    "import pandas as pd\n",
    "\n",
    "# Fill missing 'country' with 'Unknown'\n",
    "df['country'] = df['country'].fillna('Unknown')\n",
    "\n",
    "# Fill missing 'cast' and 'director' with 'Not specified'\n",
    "df['cast'] = df['cast'].fillna('Not specified')\n",
    "df['director'] = df['director'].fillna('Not specified')\n",
    "\n",
    "# Drop rows where 'date_added', 'duration', or 'rating' are null (very few)\n",
    "df.dropna(subset=['date_added', 'duration', 'rating'], inplace=True)\n",
    "\n",
    "df.shape  # Should now be slightly less than (8807, 14)\n"
   ]
  },
  {
   "cell_type": "code",
   "execution_count": 11,
   "id": "71f4f4c4",
   "metadata": {},
   "outputs": [],
   "source": [
    "# Remove leading/trailing whitespace from 'date_added'\n",
    "df['date_added'] = df['date_added'].str.strip()\n",
    "\n",
    "# Now convert to datetime\n",
    "df['date_added'] = pd.to_datetime(df['date_added'], errors='coerce')\n"
   ]
  },
  {
   "cell_type": "code",
   "execution_count": 12,
   "id": "71fcf84a",
   "metadata": {},
   "outputs": [
    {
     "data": {
      "text/plain": [
       "0      2021-09-25\n",
       "1      2021-09-24\n",
       "2      2021-09-24\n",
       "3      2021-09-24\n",
       "4      2021-09-24\n",
       "          ...    \n",
       "8802   2019-11-20\n",
       "8803   2019-07-01\n",
       "8804   2019-11-01\n",
       "8805   2020-01-11\n",
       "8806   2019-03-02\n",
       "Name: date_added, Length: 8790, dtype: datetime64[ns]"
      ]
     },
     "execution_count": 12,
     "metadata": {},
     "output_type": "execute_result"
    }
   ],
   "source": [
    "df['date_added']"
   ]
  },
  {
   "cell_type": "code",
   "execution_count": 13,
   "id": "0ec5823a",
   "metadata": {},
   "outputs": [
    {
     "data": {
      "text/plain": [
       "0      2021-09-25\n",
       "1      2021-09-24\n",
       "2      2021-09-24\n",
       "3      2021-09-24\n",
       "4      2021-09-24\n",
       "          ...    \n",
       "8802   2019-11-20\n",
       "8803   2019-07-01\n",
       "8804   2019-11-01\n",
       "8805   2020-01-11\n",
       "8806   2019-03-02\n",
       "Name: date_added, Length: 8790, dtype: datetime64[ns]"
      ]
     },
     "execution_count": 13,
     "metadata": {},
     "output_type": "execute_result"
    }
   ],
   "source": [
    "df['date_added']"
   ]
  },
  {
   "cell_type": "code",
   "execution_count": 14,
   "id": "d23ccca6",
   "metadata": {},
   "outputs": [],
   "source": [
    "df['year_added'] = df['date_added'].dt.year\n",
    "df['month_added'] = df['date_added'].dt.month\n"
   ]
  },
  {
   "cell_type": "code",
   "execution_count": 15,
   "id": "1b114ab6",
   "metadata": {},
   "outputs": [],
   "source": [
    "df.dropna(subset=['date_added'], inplace=True)"
   ]
  },
  {
   "cell_type": "code",
   "execution_count": 16,
   "id": "ad77cf36",
   "metadata": {},
   "outputs": [],
   "source": [
    "df.to_csv('./Dataset/Updated_Dataset.csv')"
   ]
  },
  {
   "cell_type": "code",
   "execution_count": 17,
   "id": "70c36cbf",
   "metadata": {},
   "outputs": [
    {
     "data": {
      "text/plain": [
       "(8790, 14)"
      ]
     },
     "execution_count": 17,
     "metadata": {},
     "output_type": "execute_result"
    }
   ],
   "source": [
    "df.shape"
   ]
  },
  {
   "cell_type": "code",
   "execution_count": 18,
   "id": "2ce21e50",
   "metadata": {},
   "outputs": [
    {
     "name": "stdout",
     "output_type": "stream",
     "text": [
      "<class 'pandas.core.frame.DataFrame'>\n",
      "Index: 8790 entries, 0 to 8806\n",
      "Data columns (total 14 columns):\n",
      " #   Column        Non-Null Count  Dtype         \n",
      "---  ------        --------------  -----         \n",
      " 0   show_id       8790 non-null   object        \n",
      " 1   type          8790 non-null   object        \n",
      " 2   title         8790 non-null   object        \n",
      " 3   director      8790 non-null   object        \n",
      " 4   cast          8790 non-null   object        \n",
      " 5   country       8790 non-null   object        \n",
      " 6   date_added    8790 non-null   datetime64[ns]\n",
      " 7   release_year  8790 non-null   int64         \n",
      " 8   rating        8790 non-null   object        \n",
      " 9   duration      8790 non-null   object        \n",
      " 10  listed_in     8790 non-null   object        \n",
      " 11  description   8790 non-null   object        \n",
      " 12  year_added    8790 non-null   int32         \n",
      " 13  month_added   8790 non-null   int32         \n",
      "dtypes: datetime64[ns](1), int32(2), int64(1), object(10)\n",
      "memory usage: 961.4+ KB\n"
     ]
    }
   ],
   "source": [
    "df.info()"
   ]
  },
  {
   "cell_type": "code",
   "execution_count": 19,
   "id": "68e87695",
   "metadata": {},
   "outputs": [
    {
     "data": {
      "text/html": [
       "<div>\n",
       "<style scoped>\n",
       "    .dataframe tbody tr th:only-of-type {\n",
       "        vertical-align: middle;\n",
       "    }\n",
       "\n",
       "    .dataframe tbody tr th {\n",
       "        vertical-align: top;\n",
       "    }\n",
       "\n",
       "    .dataframe thead th {\n",
       "        text-align: right;\n",
       "    }\n",
       "</style>\n",
       "<table border=\"1\" class=\"dataframe\">\n",
       "  <thead>\n",
       "    <tr style=\"text-align: right;\">\n",
       "      <th></th>\n",
       "      <th>show_id</th>\n",
       "      <th>type</th>\n",
       "      <th>title</th>\n",
       "      <th>director</th>\n",
       "      <th>cast</th>\n",
       "      <th>country</th>\n",
       "      <th>date_added</th>\n",
       "      <th>release_year</th>\n",
       "      <th>rating</th>\n",
       "      <th>duration</th>\n",
       "      <th>listed_in</th>\n",
       "      <th>description</th>\n",
       "      <th>year_added</th>\n",
       "      <th>month_added</th>\n",
       "    </tr>\n",
       "  </thead>\n",
       "  <tbody>\n",
       "    <tr>\n",
       "      <th>0</th>\n",
       "      <td>s1</td>\n",
       "      <td>Movie</td>\n",
       "      <td>Dick Johnson Is Dead</td>\n",
       "      <td>Kirsten Johnson</td>\n",
       "      <td>Not specified</td>\n",
       "      <td>United States</td>\n",
       "      <td>2021-09-25</td>\n",
       "      <td>2020</td>\n",
       "      <td>PG-13</td>\n",
       "      <td>90 min</td>\n",
       "      <td>Documentaries</td>\n",
       "      <td>As her father nears the end of his life, filmm...</td>\n",
       "      <td>2021</td>\n",
       "      <td>9</td>\n",
       "    </tr>\n",
       "    <tr>\n",
       "      <th>1</th>\n",
       "      <td>s2</td>\n",
       "      <td>TV Show</td>\n",
       "      <td>Blood &amp; Water</td>\n",
       "      <td>Not specified</td>\n",
       "      <td>Ama Qamata, Khosi Ngema, Gail Mabalane, Thaban...</td>\n",
       "      <td>South Africa</td>\n",
       "      <td>2021-09-24</td>\n",
       "      <td>2021</td>\n",
       "      <td>TV-MA</td>\n",
       "      <td>2 Seasons</td>\n",
       "      <td>International TV Shows, TV Dramas, TV Mysteries</td>\n",
       "      <td>After crossing paths at a party, a Cape Town t...</td>\n",
       "      <td>2021</td>\n",
       "      <td>9</td>\n",
       "    </tr>\n",
       "    <tr>\n",
       "      <th>2</th>\n",
       "      <td>s3</td>\n",
       "      <td>TV Show</td>\n",
       "      <td>Ganglands</td>\n",
       "      <td>Julien Leclercq</td>\n",
       "      <td>Sami Bouajila, Tracy Gotoas, Samuel Jouy, Nabi...</td>\n",
       "      <td>Unknown</td>\n",
       "      <td>2021-09-24</td>\n",
       "      <td>2021</td>\n",
       "      <td>TV-MA</td>\n",
       "      <td>1 Season</td>\n",
       "      <td>Crime TV Shows, International TV Shows, TV Act...</td>\n",
       "      <td>To protect his family from a powerful drug lor...</td>\n",
       "      <td>2021</td>\n",
       "      <td>9</td>\n",
       "    </tr>\n",
       "    <tr>\n",
       "      <th>3</th>\n",
       "      <td>s4</td>\n",
       "      <td>TV Show</td>\n",
       "      <td>Jailbirds New Orleans</td>\n",
       "      <td>Not specified</td>\n",
       "      <td>Not specified</td>\n",
       "      <td>Unknown</td>\n",
       "      <td>2021-09-24</td>\n",
       "      <td>2021</td>\n",
       "      <td>TV-MA</td>\n",
       "      <td>1 Season</td>\n",
       "      <td>Docuseries, Reality TV</td>\n",
       "      <td>Feuds, flirtations and toilet talk go down amo...</td>\n",
       "      <td>2021</td>\n",
       "      <td>9</td>\n",
       "    </tr>\n",
       "    <tr>\n",
       "      <th>4</th>\n",
       "      <td>s5</td>\n",
       "      <td>TV Show</td>\n",
       "      <td>Kota Factory</td>\n",
       "      <td>Not specified</td>\n",
       "      <td>Mayur More, Jitendra Kumar, Ranjan Raj, Alam K...</td>\n",
       "      <td>India</td>\n",
       "      <td>2021-09-24</td>\n",
       "      <td>2021</td>\n",
       "      <td>TV-MA</td>\n",
       "      <td>2 Seasons</td>\n",
       "      <td>International TV Shows, Romantic TV Shows, TV ...</td>\n",
       "      <td>In a city of coaching centers known to train I...</td>\n",
       "      <td>2021</td>\n",
       "      <td>9</td>\n",
       "    </tr>\n",
       "  </tbody>\n",
       "</table>\n",
       "</div>"
      ],
      "text/plain": [
       "  show_id     type                  title         director  \\\n",
       "0      s1    Movie   Dick Johnson Is Dead  Kirsten Johnson   \n",
       "1      s2  TV Show          Blood & Water    Not specified   \n",
       "2      s3  TV Show              Ganglands  Julien Leclercq   \n",
       "3      s4  TV Show  Jailbirds New Orleans    Not specified   \n",
       "4      s5  TV Show           Kota Factory    Not specified   \n",
       "\n",
       "                                                cast        country  \\\n",
       "0                                      Not specified  United States   \n",
       "1  Ama Qamata, Khosi Ngema, Gail Mabalane, Thaban...   South Africa   \n",
       "2  Sami Bouajila, Tracy Gotoas, Samuel Jouy, Nabi...        Unknown   \n",
       "3                                      Not specified        Unknown   \n",
       "4  Mayur More, Jitendra Kumar, Ranjan Raj, Alam K...          India   \n",
       "\n",
       "  date_added  release_year rating   duration  \\\n",
       "0 2021-09-25          2020  PG-13     90 min   \n",
       "1 2021-09-24          2021  TV-MA  2 Seasons   \n",
       "2 2021-09-24          2021  TV-MA   1 Season   \n",
       "3 2021-09-24          2021  TV-MA   1 Season   \n",
       "4 2021-09-24          2021  TV-MA  2 Seasons   \n",
       "\n",
       "                                           listed_in  \\\n",
       "0                                      Documentaries   \n",
       "1    International TV Shows, TV Dramas, TV Mysteries   \n",
       "2  Crime TV Shows, International TV Shows, TV Act...   \n",
       "3                             Docuseries, Reality TV   \n",
       "4  International TV Shows, Romantic TV Shows, TV ...   \n",
       "\n",
       "                                         description  year_added  month_added  \n",
       "0  As her father nears the end of his life, filmm...        2021            9  \n",
       "1  After crossing paths at a party, a Cape Town t...        2021            9  \n",
       "2  To protect his family from a powerful drug lor...        2021            9  \n",
       "3  Feuds, flirtations and toilet talk go down amo...        2021            9  \n",
       "4  In a city of coaching centers known to train I...        2021            9  "
      ]
     },
     "execution_count": 19,
     "metadata": {},
     "output_type": "execute_result"
    }
   ],
   "source": [
    "df.head()"
   ]
  },
  {
   "cell_type": "code",
   "execution_count": 20,
   "id": "076c47b8",
   "metadata": {},
   "outputs": [
    {
     "data": {
      "application/vnd.plotly.v1+json": {
       "config": {
        "plotlyServerURL": "https://plot.ly"
       },
       "data": [
        {
         "hovertemplate": "Count=%{marker.color}<br>Genre=%{y}<extra></extra>",
         "legendgroup": "",
         "marker": {
          "color": {
           "bdata": "wAp6CYoGRQVlA1sD+gL0AoECaAI=",
           "dtype": "i2"
          },
          "coloraxis": "coloraxis",
          "pattern": {
           "shape": ""
          }
         },
         "name": "",
         "orientation": "h",
         "showlegend": false,
         "textposition": "auto",
         "type": "bar",
         "x": {
          "bdata": "wAp6CYoGRQVlA1sD+gL0AoECaAI=",
          "dtype": "i2"
         },
         "xaxis": "x",
         "y": [
          "International Movies",
          "Dramas",
          "Comedies",
          "International TV Shows",
          "Documentaries",
          "Action & Adventure",
          "TV Dramas",
          "Independent Movies",
          "Children & Family Movies",
          "Romantic Movies"
         ],
         "yaxis": "y"
        }
       ],
       "layout": {
        "barmode": "relative",
        "coloraxis": {
         "colorbar": {
          "title": {
           "text": "Count"
          }
         },
         "colorscale": [
          [
           0,
           "#440154"
          ],
          [
           0.1111111111111111,
           "#482878"
          ],
          [
           0.2222222222222222,
           "#3e4989"
          ],
          [
           0.3333333333333333,
           "#31688e"
          ],
          [
           0.4444444444444444,
           "#26828e"
          ],
          [
           0.5555555555555556,
           "#1f9e89"
          ],
          [
           0.6666666666666666,
           "#35b779"
          ],
          [
           0.7777777777777778,
           "#6ece58"
          ],
          [
           0.8888888888888888,
           "#b5de2b"
          ],
          [
           1,
           "#fde725"
          ]
         ]
        },
        "legend": {
         "tracegroupgap": 0
        },
        "template": {
         "data": {
          "bar": [
           {
            "error_x": {
             "color": "#2a3f5f"
            },
            "error_y": {
             "color": "#2a3f5f"
            },
            "marker": {
             "line": {
              "color": "#E5ECF6",
              "width": 0.5
             },
             "pattern": {
              "fillmode": "overlay",
              "size": 10,
              "solidity": 0.2
             }
            },
            "type": "bar"
           }
          ],
          "barpolar": [
           {
            "marker": {
             "line": {
              "color": "#E5ECF6",
              "width": 0.5
             },
             "pattern": {
              "fillmode": "overlay",
              "size": 10,
              "solidity": 0.2
             }
            },
            "type": "barpolar"
           }
          ],
          "carpet": [
           {
            "aaxis": {
             "endlinecolor": "#2a3f5f",
             "gridcolor": "white",
             "linecolor": "white",
             "minorgridcolor": "white",
             "startlinecolor": "#2a3f5f"
            },
            "baxis": {
             "endlinecolor": "#2a3f5f",
             "gridcolor": "white",
             "linecolor": "white",
             "minorgridcolor": "white",
             "startlinecolor": "#2a3f5f"
            },
            "type": "carpet"
           }
          ],
          "choropleth": [
           {
            "colorbar": {
             "outlinewidth": 0,
             "ticks": ""
            },
            "type": "choropleth"
           }
          ],
          "contour": [
           {
            "colorbar": {
             "outlinewidth": 0,
             "ticks": ""
            },
            "colorscale": [
             [
              0,
              "#0d0887"
             ],
             [
              0.1111111111111111,
              "#46039f"
             ],
             [
              0.2222222222222222,
              "#7201a8"
             ],
             [
              0.3333333333333333,
              "#9c179e"
             ],
             [
              0.4444444444444444,
              "#bd3786"
             ],
             [
              0.5555555555555556,
              "#d8576b"
             ],
             [
              0.6666666666666666,
              "#ed7953"
             ],
             [
              0.7777777777777778,
              "#fb9f3a"
             ],
             [
              0.8888888888888888,
              "#fdca26"
             ],
             [
              1,
              "#f0f921"
             ]
            ],
            "type": "contour"
           }
          ],
          "contourcarpet": [
           {
            "colorbar": {
             "outlinewidth": 0,
             "ticks": ""
            },
            "type": "contourcarpet"
           }
          ],
          "heatmap": [
           {
            "colorbar": {
             "outlinewidth": 0,
             "ticks": ""
            },
            "colorscale": [
             [
              0,
              "#0d0887"
             ],
             [
              0.1111111111111111,
              "#46039f"
             ],
             [
              0.2222222222222222,
              "#7201a8"
             ],
             [
              0.3333333333333333,
              "#9c179e"
             ],
             [
              0.4444444444444444,
              "#bd3786"
             ],
             [
              0.5555555555555556,
              "#d8576b"
             ],
             [
              0.6666666666666666,
              "#ed7953"
             ],
             [
              0.7777777777777778,
              "#fb9f3a"
             ],
             [
              0.8888888888888888,
              "#fdca26"
             ],
             [
              1,
              "#f0f921"
             ]
            ],
            "type": "heatmap"
           }
          ],
          "histogram": [
           {
            "marker": {
             "pattern": {
              "fillmode": "overlay",
              "size": 10,
              "solidity": 0.2
             }
            },
            "type": "histogram"
           }
          ],
          "histogram2d": [
           {
            "colorbar": {
             "outlinewidth": 0,
             "ticks": ""
            },
            "colorscale": [
             [
              0,
              "#0d0887"
             ],
             [
              0.1111111111111111,
              "#46039f"
             ],
             [
              0.2222222222222222,
              "#7201a8"
             ],
             [
              0.3333333333333333,
              "#9c179e"
             ],
             [
              0.4444444444444444,
              "#bd3786"
             ],
             [
              0.5555555555555556,
              "#d8576b"
             ],
             [
              0.6666666666666666,
              "#ed7953"
             ],
             [
              0.7777777777777778,
              "#fb9f3a"
             ],
             [
              0.8888888888888888,
              "#fdca26"
             ],
             [
              1,
              "#f0f921"
             ]
            ],
            "type": "histogram2d"
           }
          ],
          "histogram2dcontour": [
           {
            "colorbar": {
             "outlinewidth": 0,
             "ticks": ""
            },
            "colorscale": [
             [
              0,
              "#0d0887"
             ],
             [
              0.1111111111111111,
              "#46039f"
             ],
             [
              0.2222222222222222,
              "#7201a8"
             ],
             [
              0.3333333333333333,
              "#9c179e"
             ],
             [
              0.4444444444444444,
              "#bd3786"
             ],
             [
              0.5555555555555556,
              "#d8576b"
             ],
             [
              0.6666666666666666,
              "#ed7953"
             ],
             [
              0.7777777777777778,
              "#fb9f3a"
             ],
             [
              0.8888888888888888,
              "#fdca26"
             ],
             [
              1,
              "#f0f921"
             ]
            ],
            "type": "histogram2dcontour"
           }
          ],
          "mesh3d": [
           {
            "colorbar": {
             "outlinewidth": 0,
             "ticks": ""
            },
            "type": "mesh3d"
           }
          ],
          "parcoords": [
           {
            "line": {
             "colorbar": {
              "outlinewidth": 0,
              "ticks": ""
             }
            },
            "type": "parcoords"
           }
          ],
          "pie": [
           {
            "automargin": true,
            "type": "pie"
           }
          ],
          "scatter": [
           {
            "fillpattern": {
             "fillmode": "overlay",
             "size": 10,
             "solidity": 0.2
            },
            "type": "scatter"
           }
          ],
          "scatter3d": [
           {
            "line": {
             "colorbar": {
              "outlinewidth": 0,
              "ticks": ""
             }
            },
            "marker": {
             "colorbar": {
              "outlinewidth": 0,
              "ticks": ""
             }
            },
            "type": "scatter3d"
           }
          ],
          "scattercarpet": [
           {
            "marker": {
             "colorbar": {
              "outlinewidth": 0,
              "ticks": ""
             }
            },
            "type": "scattercarpet"
           }
          ],
          "scattergeo": [
           {
            "marker": {
             "colorbar": {
              "outlinewidth": 0,
              "ticks": ""
             }
            },
            "type": "scattergeo"
           }
          ],
          "scattergl": [
           {
            "marker": {
             "colorbar": {
              "outlinewidth": 0,
              "ticks": ""
             }
            },
            "type": "scattergl"
           }
          ],
          "scattermap": [
           {
            "marker": {
             "colorbar": {
              "outlinewidth": 0,
              "ticks": ""
             }
            },
            "type": "scattermap"
           }
          ],
          "scattermapbox": [
           {
            "marker": {
             "colorbar": {
              "outlinewidth": 0,
              "ticks": ""
             }
            },
            "type": "scattermapbox"
           }
          ],
          "scatterpolar": [
           {
            "marker": {
             "colorbar": {
              "outlinewidth": 0,
              "ticks": ""
             }
            },
            "type": "scatterpolar"
           }
          ],
          "scatterpolargl": [
           {
            "marker": {
             "colorbar": {
              "outlinewidth": 0,
              "ticks": ""
             }
            },
            "type": "scatterpolargl"
           }
          ],
          "scatterternary": [
           {
            "marker": {
             "colorbar": {
              "outlinewidth": 0,
              "ticks": ""
             }
            },
            "type": "scatterternary"
           }
          ],
          "surface": [
           {
            "colorbar": {
             "outlinewidth": 0,
             "ticks": ""
            },
            "colorscale": [
             [
              0,
              "#0d0887"
             ],
             [
              0.1111111111111111,
              "#46039f"
             ],
             [
              0.2222222222222222,
              "#7201a8"
             ],
             [
              0.3333333333333333,
              "#9c179e"
             ],
             [
              0.4444444444444444,
              "#bd3786"
             ],
             [
              0.5555555555555556,
              "#d8576b"
             ],
             [
              0.6666666666666666,
              "#ed7953"
             ],
             [
              0.7777777777777778,
              "#fb9f3a"
             ],
             [
              0.8888888888888888,
              "#fdca26"
             ],
             [
              1,
              "#f0f921"
             ]
            ],
            "type": "surface"
           }
          ],
          "table": [
           {
            "cells": {
             "fill": {
              "color": "#EBF0F8"
             },
             "line": {
              "color": "white"
             }
            },
            "header": {
             "fill": {
              "color": "#C8D4E3"
             },
             "line": {
              "color": "white"
             }
            },
            "type": "table"
           }
          ]
         },
         "layout": {
          "annotationdefaults": {
           "arrowcolor": "#2a3f5f",
           "arrowhead": 0,
           "arrowwidth": 1
          },
          "autotypenumbers": "strict",
          "coloraxis": {
           "colorbar": {
            "outlinewidth": 0,
            "ticks": ""
           }
          },
          "colorscale": {
           "diverging": [
            [
             0,
             "#8e0152"
            ],
            [
             0.1,
             "#c51b7d"
            ],
            [
             0.2,
             "#de77ae"
            ],
            [
             0.3,
             "#f1b6da"
            ],
            [
             0.4,
             "#fde0ef"
            ],
            [
             0.5,
             "#f7f7f7"
            ],
            [
             0.6,
             "#e6f5d0"
            ],
            [
             0.7,
             "#b8e186"
            ],
            [
             0.8,
             "#7fbc41"
            ],
            [
             0.9,
             "#4d9221"
            ],
            [
             1,
             "#276419"
            ]
           ],
           "sequential": [
            [
             0,
             "#0d0887"
            ],
            [
             0.1111111111111111,
             "#46039f"
            ],
            [
             0.2222222222222222,
             "#7201a8"
            ],
            [
             0.3333333333333333,
             "#9c179e"
            ],
            [
             0.4444444444444444,
             "#bd3786"
            ],
            [
             0.5555555555555556,
             "#d8576b"
            ],
            [
             0.6666666666666666,
             "#ed7953"
            ],
            [
             0.7777777777777778,
             "#fb9f3a"
            ],
            [
             0.8888888888888888,
             "#fdca26"
            ],
            [
             1,
             "#f0f921"
            ]
           ],
           "sequentialminus": [
            [
             0,
             "#0d0887"
            ],
            [
             0.1111111111111111,
             "#46039f"
            ],
            [
             0.2222222222222222,
             "#7201a8"
            ],
            [
             0.3333333333333333,
             "#9c179e"
            ],
            [
             0.4444444444444444,
             "#bd3786"
            ],
            [
             0.5555555555555556,
             "#d8576b"
            ],
            [
             0.6666666666666666,
             "#ed7953"
            ],
            [
             0.7777777777777778,
             "#fb9f3a"
            ],
            [
             0.8888888888888888,
             "#fdca26"
            ],
            [
             1,
             "#f0f921"
            ]
           ]
          },
          "colorway": [
           "#636efa",
           "#EF553B",
           "#00cc96",
           "#ab63fa",
           "#FFA15A",
           "#19d3f3",
           "#FF6692",
           "#B6E880",
           "#FF97FF",
           "#FECB52"
          ],
          "font": {
           "color": "#2a3f5f"
          },
          "geo": {
           "bgcolor": "white",
           "lakecolor": "white",
           "landcolor": "#E5ECF6",
           "showlakes": true,
           "showland": true,
           "subunitcolor": "white"
          },
          "hoverlabel": {
           "align": "left"
          },
          "hovermode": "closest",
          "mapbox": {
           "style": "light"
          },
          "paper_bgcolor": "white",
          "plot_bgcolor": "#E5ECF6",
          "polar": {
           "angularaxis": {
            "gridcolor": "white",
            "linecolor": "white",
            "ticks": ""
           },
           "bgcolor": "#E5ECF6",
           "radialaxis": {
            "gridcolor": "white",
            "linecolor": "white",
            "ticks": ""
           }
          },
          "scene": {
           "xaxis": {
            "backgroundcolor": "#E5ECF6",
            "gridcolor": "white",
            "gridwidth": 2,
            "linecolor": "white",
            "showbackground": true,
            "ticks": "",
            "zerolinecolor": "white"
           },
           "yaxis": {
            "backgroundcolor": "#E5ECF6",
            "gridcolor": "white",
            "gridwidth": 2,
            "linecolor": "white",
            "showbackground": true,
            "ticks": "",
            "zerolinecolor": "white"
           },
           "zaxis": {
            "backgroundcolor": "#E5ECF6",
            "gridcolor": "white",
            "gridwidth": 2,
            "linecolor": "white",
            "showbackground": true,
            "ticks": "",
            "zerolinecolor": "white"
           }
          },
          "shapedefaults": {
           "line": {
            "color": "#2a3f5f"
           }
          },
          "ternary": {
           "aaxis": {
            "gridcolor": "white",
            "linecolor": "white",
            "ticks": ""
           },
           "baxis": {
            "gridcolor": "white",
            "linecolor": "white",
            "ticks": ""
           },
           "bgcolor": "#E5ECF6",
           "caxis": {
            "gridcolor": "white",
            "linecolor": "white",
            "ticks": ""
           }
          },
          "title": {
           "x": 0.05
          },
          "xaxis": {
           "automargin": true,
           "gridcolor": "white",
           "linecolor": "white",
           "ticks": "",
           "title": {
            "standoff": 15
           },
           "zerolinecolor": "white",
           "zerolinewidth": 2
          },
          "yaxis": {
           "automargin": true,
           "gridcolor": "white",
           "linecolor": "white",
           "ticks": "",
           "title": {
            "standoff": 15
           },
           "zerolinecolor": "white",
           "zerolinewidth": 2
          }
         }
        },
        "title": {
         "text": "Top 10 Genres on Netflix"
        },
        "xaxis": {
         "anchor": "y",
         "domain": [
          0,
          1
         ],
         "title": {
          "text": "Count"
         }
        },
        "yaxis": {
         "anchor": "x",
         "autorange": "reversed",
         "domain": [
          0,
          1
         ],
         "title": {
          "text": "Genre"
         }
        }
       }
      }
     },
     "metadata": {},
     "output_type": "display_data"
    }
   ],
   "source": [
    "#1. Top Genres by Count (Interactive Bar Chart)\n",
    "\n",
    "df_genres = df.assign(listed_in=df['listed_in'].str.split(', ')).explode('listed_in')\n",
    "top_genres = df_genres['listed_in'].value_counts().head(10).reset_index()\n",
    "top_genres.columns = ['Genre', 'Count']\n",
    "\n",
    "fig = px.bar(top_genres, x='Count', y='Genre', orientation='h',\n",
    "             title=\"Top 10 Genres on Netflix\", color='Count', color_continuous_scale='viridis')\n",
    "fig.update_layout(yaxis=dict(autorange=\"reversed\"))\n",
    "fig.show()\n"
   ]
  },
  {
   "cell_type": "code",
   "execution_count": 21,
   "id": "6830dd5a",
   "metadata": {},
   "outputs": [
    {
     "data": {
      "application/vnd.plotly.v1+json": {
       "config": {
        "plotlyServerURL": "https://plot.ly"
       },
       "data": [
        {
         "hovertemplate": "type=Movie<br>year_added=%{x}<br>Count=%{y}<extra></extra>",
         "legendgroup": "Movie",
         "marker": {
          "color": "#636efa",
          "pattern": {
           "shape": ""
          }
         },
         "name": "Movie",
         "orientation": "v",
         "showlegend": true,
         "textposition": "auto",
         "type": "bar",
         "x": {
          "bdata": "2AcAANkHAADaBwAA2wcAANwHAADdBwAA3gcAAN8HAADgBwAA4QcAAOIHAADjBwAA5AcAAOUHAAA=",
          "dtype": "i4"
         },
         "xaxis": "x",
         "y": {
          "bdata": "AQACAAEADQADAAYAEwA4APsARAPVBJAFBAXhAw==",
          "dtype": "i2"
         },
         "yaxis": "y"
        },
        {
         "hovertemplate": "type=TV Show<br>year_added=%{x}<br>Count=%{y}<extra></extra>",
         "legendgroup": "TV Show",
         "marker": {
          "color": "#EF553B",
          "pattern": {
           "shape": ""
          }
         },
         "name": "TV Show",
         "orientation": "v",
         "showlegend": true,
         "textposition": "auto",
         "type": "bar",
         "x": {
          "bdata": "2AcAAN0HAADeBwAA3wcAAOAHAADhBwAA4gcAAOMHAADkBwAA5QcAAA==",
          "dtype": "i4"
         },
         "xaxis": "x",
         "y": {
          "bdata": "AQAFAAUAGgCvAF0BmwFQAlMC+QE=",
          "dtype": "i2"
         },
         "yaxis": "y"
        }
       ],
       "layout": {
        "barmode": "stack",
        "legend": {
         "title": {
          "text": "type"
         },
         "tracegroupgap": 0
        },
        "template": {
         "data": {
          "bar": [
           {
            "error_x": {
             "color": "#2a3f5f"
            },
            "error_y": {
             "color": "#2a3f5f"
            },
            "marker": {
             "line": {
              "color": "#E5ECF6",
              "width": 0.5
             },
             "pattern": {
              "fillmode": "overlay",
              "size": 10,
              "solidity": 0.2
             }
            },
            "type": "bar"
           }
          ],
          "barpolar": [
           {
            "marker": {
             "line": {
              "color": "#E5ECF6",
              "width": 0.5
             },
             "pattern": {
              "fillmode": "overlay",
              "size": 10,
              "solidity": 0.2
             }
            },
            "type": "barpolar"
           }
          ],
          "carpet": [
           {
            "aaxis": {
             "endlinecolor": "#2a3f5f",
             "gridcolor": "white",
             "linecolor": "white",
             "minorgridcolor": "white",
             "startlinecolor": "#2a3f5f"
            },
            "baxis": {
             "endlinecolor": "#2a3f5f",
             "gridcolor": "white",
             "linecolor": "white",
             "minorgridcolor": "white",
             "startlinecolor": "#2a3f5f"
            },
            "type": "carpet"
           }
          ],
          "choropleth": [
           {
            "colorbar": {
             "outlinewidth": 0,
             "ticks": ""
            },
            "type": "choropleth"
           }
          ],
          "contour": [
           {
            "colorbar": {
             "outlinewidth": 0,
             "ticks": ""
            },
            "colorscale": [
             [
              0,
              "#0d0887"
             ],
             [
              0.1111111111111111,
              "#46039f"
             ],
             [
              0.2222222222222222,
              "#7201a8"
             ],
             [
              0.3333333333333333,
              "#9c179e"
             ],
             [
              0.4444444444444444,
              "#bd3786"
             ],
             [
              0.5555555555555556,
              "#d8576b"
             ],
             [
              0.6666666666666666,
              "#ed7953"
             ],
             [
              0.7777777777777778,
              "#fb9f3a"
             ],
             [
              0.8888888888888888,
              "#fdca26"
             ],
             [
              1,
              "#f0f921"
             ]
            ],
            "type": "contour"
           }
          ],
          "contourcarpet": [
           {
            "colorbar": {
             "outlinewidth": 0,
             "ticks": ""
            },
            "type": "contourcarpet"
           }
          ],
          "heatmap": [
           {
            "colorbar": {
             "outlinewidth": 0,
             "ticks": ""
            },
            "colorscale": [
             [
              0,
              "#0d0887"
             ],
             [
              0.1111111111111111,
              "#46039f"
             ],
             [
              0.2222222222222222,
              "#7201a8"
             ],
             [
              0.3333333333333333,
              "#9c179e"
             ],
             [
              0.4444444444444444,
              "#bd3786"
             ],
             [
              0.5555555555555556,
              "#d8576b"
             ],
             [
              0.6666666666666666,
              "#ed7953"
             ],
             [
              0.7777777777777778,
              "#fb9f3a"
             ],
             [
              0.8888888888888888,
              "#fdca26"
             ],
             [
              1,
              "#f0f921"
             ]
            ],
            "type": "heatmap"
           }
          ],
          "histogram": [
           {
            "marker": {
             "pattern": {
              "fillmode": "overlay",
              "size": 10,
              "solidity": 0.2
             }
            },
            "type": "histogram"
           }
          ],
          "histogram2d": [
           {
            "colorbar": {
             "outlinewidth": 0,
             "ticks": ""
            },
            "colorscale": [
             [
              0,
              "#0d0887"
             ],
             [
              0.1111111111111111,
              "#46039f"
             ],
             [
              0.2222222222222222,
              "#7201a8"
             ],
             [
              0.3333333333333333,
              "#9c179e"
             ],
             [
              0.4444444444444444,
              "#bd3786"
             ],
             [
              0.5555555555555556,
              "#d8576b"
             ],
             [
              0.6666666666666666,
              "#ed7953"
             ],
             [
              0.7777777777777778,
              "#fb9f3a"
             ],
             [
              0.8888888888888888,
              "#fdca26"
             ],
             [
              1,
              "#f0f921"
             ]
            ],
            "type": "histogram2d"
           }
          ],
          "histogram2dcontour": [
           {
            "colorbar": {
             "outlinewidth": 0,
             "ticks": ""
            },
            "colorscale": [
             [
              0,
              "#0d0887"
             ],
             [
              0.1111111111111111,
              "#46039f"
             ],
             [
              0.2222222222222222,
              "#7201a8"
             ],
             [
              0.3333333333333333,
              "#9c179e"
             ],
             [
              0.4444444444444444,
              "#bd3786"
             ],
             [
              0.5555555555555556,
              "#d8576b"
             ],
             [
              0.6666666666666666,
              "#ed7953"
             ],
             [
              0.7777777777777778,
              "#fb9f3a"
             ],
             [
              0.8888888888888888,
              "#fdca26"
             ],
             [
              1,
              "#f0f921"
             ]
            ],
            "type": "histogram2dcontour"
           }
          ],
          "mesh3d": [
           {
            "colorbar": {
             "outlinewidth": 0,
             "ticks": ""
            },
            "type": "mesh3d"
           }
          ],
          "parcoords": [
           {
            "line": {
             "colorbar": {
              "outlinewidth": 0,
              "ticks": ""
             }
            },
            "type": "parcoords"
           }
          ],
          "pie": [
           {
            "automargin": true,
            "type": "pie"
           }
          ],
          "scatter": [
           {
            "fillpattern": {
             "fillmode": "overlay",
             "size": 10,
             "solidity": 0.2
            },
            "type": "scatter"
           }
          ],
          "scatter3d": [
           {
            "line": {
             "colorbar": {
              "outlinewidth": 0,
              "ticks": ""
             }
            },
            "marker": {
             "colorbar": {
              "outlinewidth": 0,
              "ticks": ""
             }
            },
            "type": "scatter3d"
           }
          ],
          "scattercarpet": [
           {
            "marker": {
             "colorbar": {
              "outlinewidth": 0,
              "ticks": ""
             }
            },
            "type": "scattercarpet"
           }
          ],
          "scattergeo": [
           {
            "marker": {
             "colorbar": {
              "outlinewidth": 0,
              "ticks": ""
             }
            },
            "type": "scattergeo"
           }
          ],
          "scattergl": [
           {
            "marker": {
             "colorbar": {
              "outlinewidth": 0,
              "ticks": ""
             }
            },
            "type": "scattergl"
           }
          ],
          "scattermap": [
           {
            "marker": {
             "colorbar": {
              "outlinewidth": 0,
              "ticks": ""
             }
            },
            "type": "scattermap"
           }
          ],
          "scattermapbox": [
           {
            "marker": {
             "colorbar": {
              "outlinewidth": 0,
              "ticks": ""
             }
            },
            "type": "scattermapbox"
           }
          ],
          "scatterpolar": [
           {
            "marker": {
             "colorbar": {
              "outlinewidth": 0,
              "ticks": ""
             }
            },
            "type": "scatterpolar"
           }
          ],
          "scatterpolargl": [
           {
            "marker": {
             "colorbar": {
              "outlinewidth": 0,
              "ticks": ""
             }
            },
            "type": "scatterpolargl"
           }
          ],
          "scatterternary": [
           {
            "marker": {
             "colorbar": {
              "outlinewidth": 0,
              "ticks": ""
             }
            },
            "type": "scatterternary"
           }
          ],
          "surface": [
           {
            "colorbar": {
             "outlinewidth": 0,
             "ticks": ""
            },
            "colorscale": [
             [
              0,
              "#0d0887"
             ],
             [
              0.1111111111111111,
              "#46039f"
             ],
             [
              0.2222222222222222,
              "#7201a8"
             ],
             [
              0.3333333333333333,
              "#9c179e"
             ],
             [
              0.4444444444444444,
              "#bd3786"
             ],
             [
              0.5555555555555556,
              "#d8576b"
             ],
             [
              0.6666666666666666,
              "#ed7953"
             ],
             [
              0.7777777777777778,
              "#fb9f3a"
             ],
             [
              0.8888888888888888,
              "#fdca26"
             ],
             [
              1,
              "#f0f921"
             ]
            ],
            "type": "surface"
           }
          ],
          "table": [
           {
            "cells": {
             "fill": {
              "color": "#EBF0F8"
             },
             "line": {
              "color": "white"
             }
            },
            "header": {
             "fill": {
              "color": "#C8D4E3"
             },
             "line": {
              "color": "white"
             }
            },
            "type": "table"
           }
          ]
         },
         "layout": {
          "annotationdefaults": {
           "arrowcolor": "#2a3f5f",
           "arrowhead": 0,
           "arrowwidth": 1
          },
          "autotypenumbers": "strict",
          "coloraxis": {
           "colorbar": {
            "outlinewidth": 0,
            "ticks": ""
           }
          },
          "colorscale": {
           "diverging": [
            [
             0,
             "#8e0152"
            ],
            [
             0.1,
             "#c51b7d"
            ],
            [
             0.2,
             "#de77ae"
            ],
            [
             0.3,
             "#f1b6da"
            ],
            [
             0.4,
             "#fde0ef"
            ],
            [
             0.5,
             "#f7f7f7"
            ],
            [
             0.6,
             "#e6f5d0"
            ],
            [
             0.7,
             "#b8e186"
            ],
            [
             0.8,
             "#7fbc41"
            ],
            [
             0.9,
             "#4d9221"
            ],
            [
             1,
             "#276419"
            ]
           ],
           "sequential": [
            [
             0,
             "#0d0887"
            ],
            [
             0.1111111111111111,
             "#46039f"
            ],
            [
             0.2222222222222222,
             "#7201a8"
            ],
            [
             0.3333333333333333,
             "#9c179e"
            ],
            [
             0.4444444444444444,
             "#bd3786"
            ],
            [
             0.5555555555555556,
             "#d8576b"
            ],
            [
             0.6666666666666666,
             "#ed7953"
            ],
            [
             0.7777777777777778,
             "#fb9f3a"
            ],
            [
             0.8888888888888888,
             "#fdca26"
            ],
            [
             1,
             "#f0f921"
            ]
           ],
           "sequentialminus": [
            [
             0,
             "#0d0887"
            ],
            [
             0.1111111111111111,
             "#46039f"
            ],
            [
             0.2222222222222222,
             "#7201a8"
            ],
            [
             0.3333333333333333,
             "#9c179e"
            ],
            [
             0.4444444444444444,
             "#bd3786"
            ],
            [
             0.5555555555555556,
             "#d8576b"
            ],
            [
             0.6666666666666666,
             "#ed7953"
            ],
            [
             0.7777777777777778,
             "#fb9f3a"
            ],
            [
             0.8888888888888888,
             "#fdca26"
            ],
            [
             1,
             "#f0f921"
            ]
           ]
          },
          "colorway": [
           "#636efa",
           "#EF553B",
           "#00cc96",
           "#ab63fa",
           "#FFA15A",
           "#19d3f3",
           "#FF6692",
           "#B6E880",
           "#FF97FF",
           "#FECB52"
          ],
          "font": {
           "color": "#2a3f5f"
          },
          "geo": {
           "bgcolor": "white",
           "lakecolor": "white",
           "landcolor": "#E5ECF6",
           "showlakes": true,
           "showland": true,
           "subunitcolor": "white"
          },
          "hoverlabel": {
           "align": "left"
          },
          "hovermode": "closest",
          "mapbox": {
           "style": "light"
          },
          "paper_bgcolor": "white",
          "plot_bgcolor": "#E5ECF6",
          "polar": {
           "angularaxis": {
            "gridcolor": "white",
            "linecolor": "white",
            "ticks": ""
           },
           "bgcolor": "#E5ECF6",
           "radialaxis": {
            "gridcolor": "white",
            "linecolor": "white",
            "ticks": ""
           }
          },
          "scene": {
           "xaxis": {
            "backgroundcolor": "#E5ECF6",
            "gridcolor": "white",
            "gridwidth": 2,
            "linecolor": "white",
            "showbackground": true,
            "ticks": "",
            "zerolinecolor": "white"
           },
           "yaxis": {
            "backgroundcolor": "#E5ECF6",
            "gridcolor": "white",
            "gridwidth": 2,
            "linecolor": "white",
            "showbackground": true,
            "ticks": "",
            "zerolinecolor": "white"
           },
           "zaxis": {
            "backgroundcolor": "#E5ECF6",
            "gridcolor": "white",
            "gridwidth": 2,
            "linecolor": "white",
            "showbackground": true,
            "ticks": "",
            "zerolinecolor": "white"
           }
          },
          "shapedefaults": {
           "line": {
            "color": "#2a3f5f"
           }
          },
          "ternary": {
           "aaxis": {
            "gridcolor": "white",
            "linecolor": "white",
            "ticks": ""
           },
           "baxis": {
            "gridcolor": "white",
            "linecolor": "white",
            "ticks": ""
           },
           "bgcolor": "#E5ECF6",
           "caxis": {
            "gridcolor": "white",
            "linecolor": "white",
            "ticks": ""
           }
          },
          "title": {
           "x": 0.05
          },
          "xaxis": {
           "automargin": true,
           "gridcolor": "white",
           "linecolor": "white",
           "ticks": "",
           "title": {
            "standoff": 15
           },
           "zerolinecolor": "white",
           "zerolinewidth": 2
          },
          "yaxis": {
           "automargin": true,
           "gridcolor": "white",
           "linecolor": "white",
           "ticks": "",
           "title": {
            "standoff": 15
           },
           "zerolinecolor": "white",
           "zerolinewidth": 2
          }
         }
        },
        "title": {
         "text": "Movies vs TV Shows Added Per Year"
        },
        "xaxis": {
         "anchor": "y",
         "domain": [
          0,
          1
         ],
         "title": {
          "text": "Year Added"
         }
        },
        "yaxis": {
         "anchor": "x",
         "domain": [
          0,
          1
         ],
         "title": {
          "text": "Number of Titles"
         }
        }
       }
      }
     },
     "metadata": {},
     "output_type": "display_data"
    }
   ],
   "source": [
    " #2. Movie vs TV Show Split by Year\n",
    "\n",
    "content_by_year = df.groupby(['year_added', 'type']).size().reset_index(name='Count')\n",
    "\n",
    "fig = px.bar(content_by_year, x='year_added', y='Count', color='type',\n",
    "             title=\"Movies vs TV Shows Added Per Year\", barmode='stack')\n",
    "fig.update_layout(xaxis_title=\"Year Added\", yaxis_title=\"Number of Titles\")\n",
    "fig.show()\n"
   ]
  },
  {
   "cell_type": "code",
   "execution_count": 22,
   "id": "b8f4a116",
   "metadata": {},
   "outputs": [
    {
     "data": {
      "application/vnd.plotly.v1+json": {
       "config": {
        "plotlyServerURL": "https://plot.ly"
       },
       "data": [
        {
         "hovertemplate": "Count=%{marker.color}<br>Country=%{y}<extra></extra>",
         "legendgroup": "",
         "marker": {
          "color": {
           "bdata": "YA4WBD0DIwO9AYkBPAHoAOcA4gA=",
           "dtype": "i2"
          },
          "coloraxis": "coloraxis",
          "pattern": {
           "shape": ""
          }
         },
         "name": "",
         "orientation": "h",
         "showlegend": false,
         "textposition": "auto",
         "type": "bar",
         "x": {
          "bdata": "YA4WBD0DIwO9AYkBPAHoAOcA4gA=",
          "dtype": "i2"
         },
         "xaxis": "x",
         "y": [
          "United States",
          "India",
          "Unknown",
          "United Kingdom",
          "Canada",
          "France",
          "Japan",
          "Spain",
          "South Korea",
          "Germany"
         ],
         "yaxis": "y"
        }
       ],
       "layout": {
        "barmode": "relative",
        "coloraxis": {
         "colorbar": {
          "title": {
           "text": "Count"
          }
         },
         "colorscale": [
          [
           0,
           "rgb(255,245,240)"
          ],
          [
           0.125,
           "rgb(254,224,210)"
          ],
          [
           0.25,
           "rgb(252,187,161)"
          ],
          [
           0.375,
           "rgb(252,146,114)"
          ],
          [
           0.5,
           "rgb(251,106,74)"
          ],
          [
           0.625,
           "rgb(239,59,44)"
          ],
          [
           0.75,
           "rgb(203,24,29)"
          ],
          [
           0.875,
           "rgb(165,15,21)"
          ],
          [
           1,
           "rgb(103,0,13)"
          ]
         ]
        },
        "legend": {
         "tracegroupgap": 0
        },
        "template": {
         "data": {
          "bar": [
           {
            "error_x": {
             "color": "#2a3f5f"
            },
            "error_y": {
             "color": "#2a3f5f"
            },
            "marker": {
             "line": {
              "color": "#E5ECF6",
              "width": 0.5
             },
             "pattern": {
              "fillmode": "overlay",
              "size": 10,
              "solidity": 0.2
             }
            },
            "type": "bar"
           }
          ],
          "barpolar": [
           {
            "marker": {
             "line": {
              "color": "#E5ECF6",
              "width": 0.5
             },
             "pattern": {
              "fillmode": "overlay",
              "size": 10,
              "solidity": 0.2
             }
            },
            "type": "barpolar"
           }
          ],
          "carpet": [
           {
            "aaxis": {
             "endlinecolor": "#2a3f5f",
             "gridcolor": "white",
             "linecolor": "white",
             "minorgridcolor": "white",
             "startlinecolor": "#2a3f5f"
            },
            "baxis": {
             "endlinecolor": "#2a3f5f",
             "gridcolor": "white",
             "linecolor": "white",
             "minorgridcolor": "white",
             "startlinecolor": "#2a3f5f"
            },
            "type": "carpet"
           }
          ],
          "choropleth": [
           {
            "colorbar": {
             "outlinewidth": 0,
             "ticks": ""
            },
            "type": "choropleth"
           }
          ],
          "contour": [
           {
            "colorbar": {
             "outlinewidth": 0,
             "ticks": ""
            },
            "colorscale": [
             [
              0,
              "#0d0887"
             ],
             [
              0.1111111111111111,
              "#46039f"
             ],
             [
              0.2222222222222222,
              "#7201a8"
             ],
             [
              0.3333333333333333,
              "#9c179e"
             ],
             [
              0.4444444444444444,
              "#bd3786"
             ],
             [
              0.5555555555555556,
              "#d8576b"
             ],
             [
              0.6666666666666666,
              "#ed7953"
             ],
             [
              0.7777777777777778,
              "#fb9f3a"
             ],
             [
              0.8888888888888888,
              "#fdca26"
             ],
             [
              1,
              "#f0f921"
             ]
            ],
            "type": "contour"
           }
          ],
          "contourcarpet": [
           {
            "colorbar": {
             "outlinewidth": 0,
             "ticks": ""
            },
            "type": "contourcarpet"
           }
          ],
          "heatmap": [
           {
            "colorbar": {
             "outlinewidth": 0,
             "ticks": ""
            },
            "colorscale": [
             [
              0,
              "#0d0887"
             ],
             [
              0.1111111111111111,
              "#46039f"
             ],
             [
              0.2222222222222222,
              "#7201a8"
             ],
             [
              0.3333333333333333,
              "#9c179e"
             ],
             [
              0.4444444444444444,
              "#bd3786"
             ],
             [
              0.5555555555555556,
              "#d8576b"
             ],
             [
              0.6666666666666666,
              "#ed7953"
             ],
             [
              0.7777777777777778,
              "#fb9f3a"
             ],
             [
              0.8888888888888888,
              "#fdca26"
             ],
             [
              1,
              "#f0f921"
             ]
            ],
            "type": "heatmap"
           }
          ],
          "histogram": [
           {
            "marker": {
             "pattern": {
              "fillmode": "overlay",
              "size": 10,
              "solidity": 0.2
             }
            },
            "type": "histogram"
           }
          ],
          "histogram2d": [
           {
            "colorbar": {
             "outlinewidth": 0,
             "ticks": ""
            },
            "colorscale": [
             [
              0,
              "#0d0887"
             ],
             [
              0.1111111111111111,
              "#46039f"
             ],
             [
              0.2222222222222222,
              "#7201a8"
             ],
             [
              0.3333333333333333,
              "#9c179e"
             ],
             [
              0.4444444444444444,
              "#bd3786"
             ],
             [
              0.5555555555555556,
              "#d8576b"
             ],
             [
              0.6666666666666666,
              "#ed7953"
             ],
             [
              0.7777777777777778,
              "#fb9f3a"
             ],
             [
              0.8888888888888888,
              "#fdca26"
             ],
             [
              1,
              "#f0f921"
             ]
            ],
            "type": "histogram2d"
           }
          ],
          "histogram2dcontour": [
           {
            "colorbar": {
             "outlinewidth": 0,
             "ticks": ""
            },
            "colorscale": [
             [
              0,
              "#0d0887"
             ],
             [
              0.1111111111111111,
              "#46039f"
             ],
             [
              0.2222222222222222,
              "#7201a8"
             ],
             [
              0.3333333333333333,
              "#9c179e"
             ],
             [
              0.4444444444444444,
              "#bd3786"
             ],
             [
              0.5555555555555556,
              "#d8576b"
             ],
             [
              0.6666666666666666,
              "#ed7953"
             ],
             [
              0.7777777777777778,
              "#fb9f3a"
             ],
             [
              0.8888888888888888,
              "#fdca26"
             ],
             [
              1,
              "#f0f921"
             ]
            ],
            "type": "histogram2dcontour"
           }
          ],
          "mesh3d": [
           {
            "colorbar": {
             "outlinewidth": 0,
             "ticks": ""
            },
            "type": "mesh3d"
           }
          ],
          "parcoords": [
           {
            "line": {
             "colorbar": {
              "outlinewidth": 0,
              "ticks": ""
             }
            },
            "type": "parcoords"
           }
          ],
          "pie": [
           {
            "automargin": true,
            "type": "pie"
           }
          ],
          "scatter": [
           {
            "fillpattern": {
             "fillmode": "overlay",
             "size": 10,
             "solidity": 0.2
            },
            "type": "scatter"
           }
          ],
          "scatter3d": [
           {
            "line": {
             "colorbar": {
              "outlinewidth": 0,
              "ticks": ""
             }
            },
            "marker": {
             "colorbar": {
              "outlinewidth": 0,
              "ticks": ""
             }
            },
            "type": "scatter3d"
           }
          ],
          "scattercarpet": [
           {
            "marker": {
             "colorbar": {
              "outlinewidth": 0,
              "ticks": ""
             }
            },
            "type": "scattercarpet"
           }
          ],
          "scattergeo": [
           {
            "marker": {
             "colorbar": {
              "outlinewidth": 0,
              "ticks": ""
             }
            },
            "type": "scattergeo"
           }
          ],
          "scattergl": [
           {
            "marker": {
             "colorbar": {
              "outlinewidth": 0,
              "ticks": ""
             }
            },
            "type": "scattergl"
           }
          ],
          "scattermap": [
           {
            "marker": {
             "colorbar": {
              "outlinewidth": 0,
              "ticks": ""
             }
            },
            "type": "scattermap"
           }
          ],
          "scattermapbox": [
           {
            "marker": {
             "colorbar": {
              "outlinewidth": 0,
              "ticks": ""
             }
            },
            "type": "scattermapbox"
           }
          ],
          "scatterpolar": [
           {
            "marker": {
             "colorbar": {
              "outlinewidth": 0,
              "ticks": ""
             }
            },
            "type": "scatterpolar"
           }
          ],
          "scatterpolargl": [
           {
            "marker": {
             "colorbar": {
              "outlinewidth": 0,
              "ticks": ""
             }
            },
            "type": "scatterpolargl"
           }
          ],
          "scatterternary": [
           {
            "marker": {
             "colorbar": {
              "outlinewidth": 0,
              "ticks": ""
             }
            },
            "type": "scatterternary"
           }
          ],
          "surface": [
           {
            "colorbar": {
             "outlinewidth": 0,
             "ticks": ""
            },
            "colorscale": [
             [
              0,
              "#0d0887"
             ],
             [
              0.1111111111111111,
              "#46039f"
             ],
             [
              0.2222222222222222,
              "#7201a8"
             ],
             [
              0.3333333333333333,
              "#9c179e"
             ],
             [
              0.4444444444444444,
              "#bd3786"
             ],
             [
              0.5555555555555556,
              "#d8576b"
             ],
             [
              0.6666666666666666,
              "#ed7953"
             ],
             [
              0.7777777777777778,
              "#fb9f3a"
             ],
             [
              0.8888888888888888,
              "#fdca26"
             ],
             [
              1,
              "#f0f921"
             ]
            ],
            "type": "surface"
           }
          ],
          "table": [
           {
            "cells": {
             "fill": {
              "color": "#EBF0F8"
             },
             "line": {
              "color": "white"
             }
            },
            "header": {
             "fill": {
              "color": "#C8D4E3"
             },
             "line": {
              "color": "white"
             }
            },
            "type": "table"
           }
          ]
         },
         "layout": {
          "annotationdefaults": {
           "arrowcolor": "#2a3f5f",
           "arrowhead": 0,
           "arrowwidth": 1
          },
          "autotypenumbers": "strict",
          "coloraxis": {
           "colorbar": {
            "outlinewidth": 0,
            "ticks": ""
           }
          },
          "colorscale": {
           "diverging": [
            [
             0,
             "#8e0152"
            ],
            [
             0.1,
             "#c51b7d"
            ],
            [
             0.2,
             "#de77ae"
            ],
            [
             0.3,
             "#f1b6da"
            ],
            [
             0.4,
             "#fde0ef"
            ],
            [
             0.5,
             "#f7f7f7"
            ],
            [
             0.6,
             "#e6f5d0"
            ],
            [
             0.7,
             "#b8e186"
            ],
            [
             0.8,
             "#7fbc41"
            ],
            [
             0.9,
             "#4d9221"
            ],
            [
             1,
             "#276419"
            ]
           ],
           "sequential": [
            [
             0,
             "#0d0887"
            ],
            [
             0.1111111111111111,
             "#46039f"
            ],
            [
             0.2222222222222222,
             "#7201a8"
            ],
            [
             0.3333333333333333,
             "#9c179e"
            ],
            [
             0.4444444444444444,
             "#bd3786"
            ],
            [
             0.5555555555555556,
             "#d8576b"
            ],
            [
             0.6666666666666666,
             "#ed7953"
            ],
            [
             0.7777777777777778,
             "#fb9f3a"
            ],
            [
             0.8888888888888888,
             "#fdca26"
            ],
            [
             1,
             "#f0f921"
            ]
           ],
           "sequentialminus": [
            [
             0,
             "#0d0887"
            ],
            [
             0.1111111111111111,
             "#46039f"
            ],
            [
             0.2222222222222222,
             "#7201a8"
            ],
            [
             0.3333333333333333,
             "#9c179e"
            ],
            [
             0.4444444444444444,
             "#bd3786"
            ],
            [
             0.5555555555555556,
             "#d8576b"
            ],
            [
             0.6666666666666666,
             "#ed7953"
            ],
            [
             0.7777777777777778,
             "#fb9f3a"
            ],
            [
             0.8888888888888888,
             "#fdca26"
            ],
            [
             1,
             "#f0f921"
            ]
           ]
          },
          "colorway": [
           "#636efa",
           "#EF553B",
           "#00cc96",
           "#ab63fa",
           "#FFA15A",
           "#19d3f3",
           "#FF6692",
           "#B6E880",
           "#FF97FF",
           "#FECB52"
          ],
          "font": {
           "color": "#2a3f5f"
          },
          "geo": {
           "bgcolor": "white",
           "lakecolor": "white",
           "landcolor": "#E5ECF6",
           "showlakes": true,
           "showland": true,
           "subunitcolor": "white"
          },
          "hoverlabel": {
           "align": "left"
          },
          "hovermode": "closest",
          "mapbox": {
           "style": "light"
          },
          "paper_bgcolor": "white",
          "plot_bgcolor": "#E5ECF6",
          "polar": {
           "angularaxis": {
            "gridcolor": "white",
            "linecolor": "white",
            "ticks": ""
           },
           "bgcolor": "#E5ECF6",
           "radialaxis": {
            "gridcolor": "white",
            "linecolor": "white",
            "ticks": ""
           }
          },
          "scene": {
           "xaxis": {
            "backgroundcolor": "#E5ECF6",
            "gridcolor": "white",
            "gridwidth": 2,
            "linecolor": "white",
            "showbackground": true,
            "ticks": "",
            "zerolinecolor": "white"
           },
           "yaxis": {
            "backgroundcolor": "#E5ECF6",
            "gridcolor": "white",
            "gridwidth": 2,
            "linecolor": "white",
            "showbackground": true,
            "ticks": "",
            "zerolinecolor": "white"
           },
           "zaxis": {
            "backgroundcolor": "#E5ECF6",
            "gridcolor": "white",
            "gridwidth": 2,
            "linecolor": "white",
            "showbackground": true,
            "ticks": "",
            "zerolinecolor": "white"
           }
          },
          "shapedefaults": {
           "line": {
            "color": "#2a3f5f"
           }
          },
          "ternary": {
           "aaxis": {
            "gridcolor": "white",
            "linecolor": "white",
            "ticks": ""
           },
           "baxis": {
            "gridcolor": "white",
            "linecolor": "white",
            "ticks": ""
           },
           "bgcolor": "#E5ECF6",
           "caxis": {
            "gridcolor": "white",
            "linecolor": "white",
            "ticks": ""
           }
          },
          "title": {
           "x": 0.05
          },
          "xaxis": {
           "automargin": true,
           "gridcolor": "white",
           "linecolor": "white",
           "ticks": "",
           "title": {
            "standoff": 15
           },
           "zerolinecolor": "white",
           "zerolinewidth": 2
          },
          "yaxis": {
           "automargin": true,
           "gridcolor": "white",
           "linecolor": "white",
           "ticks": "",
           "title": {
            "standoff": 15
           },
           "zerolinecolor": "white",
           "zerolinewidth": 2
          }
         }
        },
        "title": {
         "text": "Top 10 Countries Producing Netflix Content"
        },
        "xaxis": {
         "anchor": "y",
         "domain": [
          0,
          1
         ],
         "title": {
          "text": "Count"
         }
        },
        "yaxis": {
         "anchor": "x",
         "autorange": "reversed",
         "domain": [
          0,
          1
         ],
         "title": {
          "text": "Country"
         }
        }
       }
      }
     },
     "metadata": {},
     "output_type": "display_data"
    }
   ],
   "source": [
    "#3. Top Countries Producing Netflix Content\n",
    "\n",
    "df_countries = df.assign(country=df['country'].str.split(', ')).explode('country')\n",
    "top_countries = df_countries['country'].value_counts().head(10).reset_index()\n",
    "top_countries.columns = ['Country', 'Count']\n",
    "\n",
    "fig = px.bar(top_countries, x='Count', y='Country', orientation='h',\n",
    "             title=\"Top 10 Countries Producing Netflix Content\", color='Count', color_continuous_scale='reds')\n",
    "fig.update_layout(yaxis=dict(autorange=\"reversed\"))\n",
    "fig.show()\n"
   ]
  },
  {
   "cell_type": "code",
   "execution_count": 23,
   "id": "eef4a290",
   "metadata": {},
   "outputs": [
    {
     "data": {
      "application/vnd.plotly.v1+json": {
       "config": {
        "plotlyServerURL": "https://plot.ly"
       },
       "data": [
        {
         "hovertemplate": "x: %{x}<br>y: %{y}<br>color: [%{z[0]}, %{z[1]}, %{z[2]}]<extra></extra>",
         "name": "0",
         "source": "data:image/png;base64,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",
         "type": "image",
         "xaxis": "x",
         "yaxis": "y"
        }
       ],
       "layout": {
        "margin": {
         "t": 60
        },
        "template": {
         "data": {
          "bar": [
           {
            "error_x": {
             "color": "#2a3f5f"
            },
            "error_y": {
             "color": "#2a3f5f"
            },
            "marker": {
             "line": {
              "color": "#E5ECF6",
              "width": 0.5
             },
             "pattern": {
              "fillmode": "overlay",
              "size": 10,
              "solidity": 0.2
             }
            },
            "type": "bar"
           }
          ],
          "barpolar": [
           {
            "marker": {
             "line": {
              "color": "#E5ECF6",
              "width": 0.5
             },
             "pattern": {
              "fillmode": "overlay",
              "size": 10,
              "solidity": 0.2
             }
            },
            "type": "barpolar"
           }
          ],
          "carpet": [
           {
            "aaxis": {
             "endlinecolor": "#2a3f5f",
             "gridcolor": "white",
             "linecolor": "white",
             "minorgridcolor": "white",
             "startlinecolor": "#2a3f5f"
            },
            "baxis": {
             "endlinecolor": "#2a3f5f",
             "gridcolor": "white",
             "linecolor": "white",
             "minorgridcolor": "white",
             "startlinecolor": "#2a3f5f"
            },
            "type": "carpet"
           }
          ],
          "choropleth": [
           {
            "colorbar": {
             "outlinewidth": 0,
             "ticks": ""
            },
            "type": "choropleth"
           }
          ],
          "contour": [
           {
            "colorbar": {
             "outlinewidth": 0,
             "ticks": ""
            },
            "colorscale": [
             [
              0,
              "#0d0887"
             ],
             [
              0.1111111111111111,
              "#46039f"
             ],
             [
              0.2222222222222222,
              "#7201a8"
             ],
             [
              0.3333333333333333,
              "#9c179e"
             ],
             [
              0.4444444444444444,
              "#bd3786"
             ],
             [
              0.5555555555555556,
              "#d8576b"
             ],
             [
              0.6666666666666666,
              "#ed7953"
             ],
             [
              0.7777777777777778,
              "#fb9f3a"
             ],
             [
              0.8888888888888888,
              "#fdca26"
             ],
             [
              1,
              "#f0f921"
             ]
            ],
            "type": "contour"
           }
          ],
          "contourcarpet": [
           {
            "colorbar": {
             "outlinewidth": 0,
             "ticks": ""
            },
            "type": "contourcarpet"
           }
          ],
          "heatmap": [
           {
            "colorbar": {
             "outlinewidth": 0,
             "ticks": ""
            },
            "colorscale": [
             [
              0,
              "#0d0887"
             ],
             [
              0.1111111111111111,
              "#46039f"
             ],
             [
              0.2222222222222222,
              "#7201a8"
             ],
             [
              0.3333333333333333,
              "#9c179e"
             ],
             [
              0.4444444444444444,
              "#bd3786"
             ],
             [
              0.5555555555555556,
              "#d8576b"
             ],
             [
              0.6666666666666666,
              "#ed7953"
             ],
             [
              0.7777777777777778,
              "#fb9f3a"
             ],
             [
              0.8888888888888888,
              "#fdca26"
             ],
             [
              1,
              "#f0f921"
             ]
            ],
            "type": "heatmap"
           }
          ],
          "histogram": [
           {
            "marker": {
             "pattern": {
              "fillmode": "overlay",
              "size": 10,
              "solidity": 0.2
             }
            },
            "type": "histogram"
           }
          ],
          "histogram2d": [
           {
            "colorbar": {
             "outlinewidth": 0,
             "ticks": ""
            },
            "colorscale": [
             [
              0,
              "#0d0887"
             ],
             [
              0.1111111111111111,
              "#46039f"
             ],
             [
              0.2222222222222222,
              "#7201a8"
             ],
             [
              0.3333333333333333,
              "#9c179e"
             ],
             [
              0.4444444444444444,
              "#bd3786"
             ],
             [
              0.5555555555555556,
              "#d8576b"
             ],
             [
              0.6666666666666666,
              "#ed7953"
             ],
             [
              0.7777777777777778,
              "#fb9f3a"
             ],
             [
              0.8888888888888888,
              "#fdca26"
             ],
             [
              1,
              "#f0f921"
             ]
            ],
            "type": "histogram2d"
           }
          ],
          "histogram2dcontour": [
           {
            "colorbar": {
             "outlinewidth": 0,
             "ticks": ""
            },
            "colorscale": [
             [
              0,
              "#0d0887"
             ],
             [
              0.1111111111111111,
              "#46039f"
             ],
             [
              0.2222222222222222,
              "#7201a8"
             ],
             [
              0.3333333333333333,
              "#9c179e"
             ],
             [
              0.4444444444444444,
              "#bd3786"
             ],
             [
              0.5555555555555556,
              "#d8576b"
             ],
             [
              0.6666666666666666,
              "#ed7953"
             ],
             [
              0.7777777777777778,
              "#fb9f3a"
             ],
             [
              0.8888888888888888,
              "#fdca26"
             ],
             [
              1,
              "#f0f921"
             ]
            ],
            "type": "histogram2dcontour"
           }
          ],
          "mesh3d": [
           {
            "colorbar": {
             "outlinewidth": 0,
             "ticks": ""
            },
            "type": "mesh3d"
           }
          ],
          "parcoords": [
           {
            "line": {
             "colorbar": {
              "outlinewidth": 0,
              "ticks": ""
             }
            },
            "type": "parcoords"
           }
          ],
          "pie": [
           {
            "automargin": true,
            "type": "pie"
           }
          ],
          "scatter": [
           {
            "fillpattern": {
             "fillmode": "overlay",
             "size": 10,
             "solidity": 0.2
            },
            "type": "scatter"
           }
          ],
          "scatter3d": [
           {
            "line": {
             "colorbar": {
              "outlinewidth": 0,
              "ticks": ""
             }
            },
            "marker": {
             "colorbar": {
              "outlinewidth": 0,
              "ticks": ""
             }
            },
            "type": "scatter3d"
           }
          ],
          "scattercarpet": [
           {
            "marker": {
             "colorbar": {
              "outlinewidth": 0,
              "ticks": ""
             }
            },
            "type": "scattercarpet"
           }
          ],
          "scattergeo": [
           {
            "marker": {
             "colorbar": {
              "outlinewidth": 0,
              "ticks": ""
             }
            },
            "type": "scattergeo"
           }
          ],
          "scattergl": [
           {
            "marker": {
             "colorbar": {
              "outlinewidth": 0,
              "ticks": ""
             }
            },
            "type": "scattergl"
           }
          ],
          "scattermap": [
           {
            "marker": {
             "colorbar": {
              "outlinewidth": 0,
              "ticks": ""
             }
            },
            "type": "scattermap"
           }
          ],
          "scattermapbox": [
           {
            "marker": {
             "colorbar": {
              "outlinewidth": 0,
              "ticks": ""
             }
            },
            "type": "scattermapbox"
           }
          ],
          "scatterpolar": [
           {
            "marker": {
             "colorbar": {
              "outlinewidth": 0,
              "ticks": ""
             }
            },
            "type": "scatterpolar"
           }
          ],
          "scatterpolargl": [
           {
            "marker": {
             "colorbar": {
              "outlinewidth": 0,
              "ticks": ""
             }
            },
            "type": "scatterpolargl"
           }
          ],
          "scatterternary": [
           {
            "marker": {
             "colorbar": {
              "outlinewidth": 0,
              "ticks": ""
             }
            },
            "type": "scatterternary"
           }
          ],
          "surface": [
           {
            "colorbar": {
             "outlinewidth": 0,
             "ticks": ""
            },
            "colorscale": [
             [
              0,
              "#0d0887"
             ],
             [
              0.1111111111111111,
              "#46039f"
             ],
             [
              0.2222222222222222,
              "#7201a8"
             ],
             [
              0.3333333333333333,
              "#9c179e"
             ],
             [
              0.4444444444444444,
              "#bd3786"
             ],
             [
              0.5555555555555556,
              "#d8576b"
             ],
             [
              0.6666666666666666,
              "#ed7953"
             ],
             [
              0.7777777777777778,
              "#fb9f3a"
             ],
             [
              0.8888888888888888,
              "#fdca26"
             ],
             [
              1,
              "#f0f921"
             ]
            ],
            "type": "surface"
           }
          ],
          "table": [
           {
            "cells": {
             "fill": {
              "color": "#EBF0F8"
             },
             "line": {
              "color": "white"
             }
            },
            "header": {
             "fill": {
              "color": "#C8D4E3"
             },
             "line": {
              "color": "white"
             }
            },
            "type": "table"
           }
          ]
         },
         "layout": {
          "annotationdefaults": {
           "arrowcolor": "#2a3f5f",
           "arrowhead": 0,
           "arrowwidth": 1
          },
          "autotypenumbers": "strict",
          "coloraxis": {
           "colorbar": {
            "outlinewidth": 0,
            "ticks": ""
           }
          },
          "colorscale": {
           "diverging": [
            [
             0,
             "#8e0152"
            ],
            [
             0.1,
             "#c51b7d"
            ],
            [
             0.2,
             "#de77ae"
            ],
            [
             0.3,
             "#f1b6da"
            ],
            [
             0.4,
             "#fde0ef"
            ],
            [
             0.5,
             "#f7f7f7"
            ],
            [
             0.6,
             "#e6f5d0"
            ],
            [
             0.7,
             "#b8e186"
            ],
            [
             0.8,
             "#7fbc41"
            ],
            [
             0.9,
             "#4d9221"
            ],
            [
             1,
             "#276419"
            ]
           ],
           "sequential": [
            [
             0,
             "#0d0887"
            ],
            [
             0.1111111111111111,
             "#46039f"
            ],
            [
             0.2222222222222222,
             "#7201a8"
            ],
            [
             0.3333333333333333,
             "#9c179e"
            ],
            [
             0.4444444444444444,
             "#bd3786"
            ],
            [
             0.5555555555555556,
             "#d8576b"
            ],
            [
             0.6666666666666666,
             "#ed7953"
            ],
            [
             0.7777777777777778,
             "#fb9f3a"
            ],
            [
             0.8888888888888888,
             "#fdca26"
            ],
            [
             1,
             "#f0f921"
            ]
           ],
           "sequentialminus": [
            [
             0,
             "#0d0887"
            ],
            [
             0.1111111111111111,
             "#46039f"
            ],
            [
             0.2222222222222222,
             "#7201a8"
            ],
            [
             0.3333333333333333,
             "#9c179e"
            ],
            [
             0.4444444444444444,
             "#bd3786"
            ],
            [
             0.5555555555555556,
             "#d8576b"
            ],
            [
             0.6666666666666666,
             "#ed7953"
            ],
            [
             0.7777777777777778,
             "#fb9f3a"
            ],
            [
             0.8888888888888888,
             "#fdca26"
            ],
            [
             1,
             "#f0f921"
            ]
           ]
          },
          "colorway": [
           "#636efa",
           "#EF553B",
           "#00cc96",
           "#ab63fa",
           "#FFA15A",
           "#19d3f3",
           "#FF6692",
           "#B6E880",
           "#FF97FF",
           "#FECB52"
          ],
          "font": {
           "color": "#2a3f5f"
          },
          "geo": {
           "bgcolor": "white",
           "lakecolor": "white",
           "landcolor": "#E5ECF6",
           "showlakes": true,
           "showland": true,
           "subunitcolor": "white"
          },
          "hoverlabel": {
           "align": "left"
          },
          "hovermode": "closest",
          "mapbox": {
           "style": "light"
          },
          "paper_bgcolor": "white",
          "plot_bgcolor": "#E5ECF6",
          "polar": {
           "angularaxis": {
            "gridcolor": "white",
            "linecolor": "white",
            "ticks": ""
           },
           "bgcolor": "#E5ECF6",
           "radialaxis": {
            "gridcolor": "white",
            "linecolor": "white",
            "ticks": ""
           }
          },
          "scene": {
           "xaxis": {
            "backgroundcolor": "#E5ECF6",
            "gridcolor": "white",
            "gridwidth": 2,
            "linecolor": "white",
            "showbackground": true,
            "ticks": "",
            "zerolinecolor": "white"
           },
           "yaxis": {
            "backgroundcolor": "#E5ECF6",
            "gridcolor": "white",
            "gridwidth": 2,
            "linecolor": "white",
            "showbackground": true,
            "ticks": "",
            "zerolinecolor": "white"
           },
           "zaxis": {
            "backgroundcolor": "#E5ECF6",
            "gridcolor": "white",
            "gridwidth": 2,
            "linecolor": "white",
            "showbackground": true,
            "ticks": "",
            "zerolinecolor": "white"
           }
          },
          "shapedefaults": {
           "line": {
            "color": "#2a3f5f"
           }
          },
          "ternary": {
           "aaxis": {
            "gridcolor": "white",
            "linecolor": "white",
            "ticks": ""
           },
           "baxis": {
            "gridcolor": "white",
            "linecolor": "white",
            "ticks": ""
           },
           "bgcolor": "#E5ECF6",
           "caxis": {
            "gridcolor": "white",
            "linecolor": "white",
            "ticks": ""
           }
          },
          "title": {
           "x": 0.05
          },
          "xaxis": {
           "automargin": true,
           "gridcolor": "white",
           "linecolor": "white",
           "ticks": "",
           "title": {
            "standoff": 15
           },
           "zerolinecolor": "white",
           "zerolinewidth": 2
          },
          "yaxis": {
           "automargin": true,
           "gridcolor": "white",
           "linecolor": "white",
           "ticks": "",
           "title": {
            "standoff": 15
           },
           "zerolinecolor": "white",
           "zerolinewidth": 2
          }
         }
        },
        "title": {
         "text": "WordCloud of Netflix Titles"
        },
        "xaxis": {
         "anchor": "y",
         "domain": [
          0,
          1
         ],
         "visible": false
        },
        "yaxis": {
         "anchor": "x",
         "domain": [
          0,
          1
         ],
         "visible": false
        }
       }
      }
     },
     "metadata": {},
     "output_type": "display_data"
    }
   ],
   "source": [
    "#4. WordCloud (Plotly-style: Convert to Image)\n",
    "\n",
    "from wordcloud import WordCloud\n",
    "import matplotlib.pyplot as plt\n",
    "from PIL import Image\n",
    "import io\n",
    "\n",
    "# Generate wordcloud image\n",
    "wordcloud = WordCloud(width=800, height=400, background_color='black').generate(' '.join(df['title']))\n",
    "\n",
    "# Save image to buffer\n",
    "img = Image.fromarray(wordcloud.to_array())\n",
    "buf = io.BytesIO()\n",
    "img.save(buf, format='PNG')\n",
    "buf.seek(0)\n",
    "\n",
    "# Show with Plotly\n",
    "fig = px.imshow(Image.open(buf))\n",
    "fig.update_layout(title='WordCloud of Netflix Titles', xaxis_visible=False, yaxis_visible=False)\n",
    "fig.show()\n"
   ]
  },
  {
   "cell_type": "code",
   "execution_count": 24,
   "id": "ff2b053a",
   "metadata": {},
   "outputs": [
    {
     "data": {
      "application/vnd.plotly.v1+json": {
       "config": {
        "plotlyServerURL": "https://plot.ly"
       },
       "data": [
        {
         "domain": {
          "x": [
           0,
           1
          ],
          "y": [
           0,
           1
          ]
         },
         "hovertemplate": "Type=%{label}<br>Count=%{value}<extra></extra>",
         "labels": [
          "Movie",
          "TV Show"
         ],
         "legendgroup": "",
         "name": "",
         "showlegend": true,
         "textinfo": "percent+label",
         "textposition": "inside",
         "type": "pie",
         "values": {
          "bdata": "7hdoCg==",
          "dtype": "i2"
         }
        }
       ],
       "layout": {
        "legend": {
         "tracegroupgap": 0
        },
        "template": {
         "data": {
          "bar": [
           {
            "error_x": {
             "color": "#2a3f5f"
            },
            "error_y": {
             "color": "#2a3f5f"
            },
            "marker": {
             "line": {
              "color": "#E5ECF6",
              "width": 0.5
             },
             "pattern": {
              "fillmode": "overlay",
              "size": 10,
              "solidity": 0.2
             }
            },
            "type": "bar"
           }
          ],
          "barpolar": [
           {
            "marker": {
             "line": {
              "color": "#E5ECF6",
              "width": 0.5
             },
             "pattern": {
              "fillmode": "overlay",
              "size": 10,
              "solidity": 0.2
             }
            },
            "type": "barpolar"
           }
          ],
          "carpet": [
           {
            "aaxis": {
             "endlinecolor": "#2a3f5f",
             "gridcolor": "white",
             "linecolor": "white",
             "minorgridcolor": "white",
             "startlinecolor": "#2a3f5f"
            },
            "baxis": {
             "endlinecolor": "#2a3f5f",
             "gridcolor": "white",
             "linecolor": "white",
             "minorgridcolor": "white",
             "startlinecolor": "#2a3f5f"
            },
            "type": "carpet"
           }
          ],
          "choropleth": [
           {
            "colorbar": {
             "outlinewidth": 0,
             "ticks": ""
            },
            "type": "choropleth"
           }
          ],
          "contour": [
           {
            "colorbar": {
             "outlinewidth": 0,
             "ticks": ""
            },
            "colorscale": [
             [
              0,
              "#0d0887"
             ],
             [
              0.1111111111111111,
              "#46039f"
             ],
             [
              0.2222222222222222,
              "#7201a8"
             ],
             [
              0.3333333333333333,
              "#9c179e"
             ],
             [
              0.4444444444444444,
              "#bd3786"
             ],
             [
              0.5555555555555556,
              "#d8576b"
             ],
             [
              0.6666666666666666,
              "#ed7953"
             ],
             [
              0.7777777777777778,
              "#fb9f3a"
             ],
             [
              0.8888888888888888,
              "#fdca26"
             ],
             [
              1,
              "#f0f921"
             ]
            ],
            "type": "contour"
           }
          ],
          "contourcarpet": [
           {
            "colorbar": {
             "outlinewidth": 0,
             "ticks": ""
            },
            "type": "contourcarpet"
           }
          ],
          "heatmap": [
           {
            "colorbar": {
             "outlinewidth": 0,
             "ticks": ""
            },
            "colorscale": [
             [
              0,
              "#0d0887"
             ],
             [
              0.1111111111111111,
              "#46039f"
             ],
             [
              0.2222222222222222,
              "#7201a8"
             ],
             [
              0.3333333333333333,
              "#9c179e"
             ],
             [
              0.4444444444444444,
              "#bd3786"
             ],
             [
              0.5555555555555556,
              "#d8576b"
             ],
             [
              0.6666666666666666,
              "#ed7953"
             ],
             [
              0.7777777777777778,
              "#fb9f3a"
             ],
             [
              0.8888888888888888,
              "#fdca26"
             ],
             [
              1,
              "#f0f921"
             ]
            ],
            "type": "heatmap"
           }
          ],
          "histogram": [
           {
            "marker": {
             "pattern": {
              "fillmode": "overlay",
              "size": 10,
              "solidity": 0.2
             }
            },
            "type": "histogram"
           }
          ],
          "histogram2d": [
           {
            "colorbar": {
             "outlinewidth": 0,
             "ticks": ""
            },
            "colorscale": [
             [
              0,
              "#0d0887"
             ],
             [
              0.1111111111111111,
              "#46039f"
             ],
             [
              0.2222222222222222,
              "#7201a8"
             ],
             [
              0.3333333333333333,
              "#9c179e"
             ],
             [
              0.4444444444444444,
              "#bd3786"
             ],
             [
              0.5555555555555556,
              "#d8576b"
             ],
             [
              0.6666666666666666,
              "#ed7953"
             ],
             [
              0.7777777777777778,
              "#fb9f3a"
             ],
             [
              0.8888888888888888,
              "#fdca26"
             ],
             [
              1,
              "#f0f921"
             ]
            ],
            "type": "histogram2d"
           }
          ],
          "histogram2dcontour": [
           {
            "colorbar": {
             "outlinewidth": 0,
             "ticks": ""
            },
            "colorscale": [
             [
              0,
              "#0d0887"
             ],
             [
              0.1111111111111111,
              "#46039f"
             ],
             [
              0.2222222222222222,
              "#7201a8"
             ],
             [
              0.3333333333333333,
              "#9c179e"
             ],
             [
              0.4444444444444444,
              "#bd3786"
             ],
             [
              0.5555555555555556,
              "#d8576b"
             ],
             [
              0.6666666666666666,
              "#ed7953"
             ],
             [
              0.7777777777777778,
              "#fb9f3a"
             ],
             [
              0.8888888888888888,
              "#fdca26"
             ],
             [
              1,
              "#f0f921"
             ]
            ],
            "type": "histogram2dcontour"
           }
          ],
          "mesh3d": [
           {
            "colorbar": {
             "outlinewidth": 0,
             "ticks": ""
            },
            "type": "mesh3d"
           }
          ],
          "parcoords": [
           {
            "line": {
             "colorbar": {
              "outlinewidth": 0,
              "ticks": ""
             }
            },
            "type": "parcoords"
           }
          ],
          "pie": [
           {
            "automargin": true,
            "type": "pie"
           }
          ],
          "scatter": [
           {
            "fillpattern": {
             "fillmode": "overlay",
             "size": 10,
             "solidity": 0.2
            },
            "type": "scatter"
           }
          ],
          "scatter3d": [
           {
            "line": {
             "colorbar": {
              "outlinewidth": 0,
              "ticks": ""
             }
            },
            "marker": {
             "colorbar": {
              "outlinewidth": 0,
              "ticks": ""
             }
            },
            "type": "scatter3d"
           }
          ],
          "scattercarpet": [
           {
            "marker": {
             "colorbar": {
              "outlinewidth": 0,
              "ticks": ""
             }
            },
            "type": "scattercarpet"
           }
          ],
          "scattergeo": [
           {
            "marker": {
             "colorbar": {
              "outlinewidth": 0,
              "ticks": ""
             }
            },
            "type": "scattergeo"
           }
          ],
          "scattergl": [
           {
            "marker": {
             "colorbar": {
              "outlinewidth": 0,
              "ticks": ""
             }
            },
            "type": "scattergl"
           }
          ],
          "scattermap": [
           {
            "marker": {
             "colorbar": {
              "outlinewidth": 0,
              "ticks": ""
             }
            },
            "type": "scattermap"
           }
          ],
          "scattermapbox": [
           {
            "marker": {
             "colorbar": {
              "outlinewidth": 0,
              "ticks": ""
             }
            },
            "type": "scattermapbox"
           }
          ],
          "scatterpolar": [
           {
            "marker": {
             "colorbar": {
              "outlinewidth": 0,
              "ticks": ""
             }
            },
            "type": "scatterpolar"
           }
          ],
          "scatterpolargl": [
           {
            "marker": {
             "colorbar": {
              "outlinewidth": 0,
              "ticks": ""
             }
            },
            "type": "scatterpolargl"
           }
          ],
          "scatterternary": [
           {
            "marker": {
             "colorbar": {
              "outlinewidth": 0,
              "ticks": ""
             }
            },
            "type": "scatterternary"
           }
          ],
          "surface": [
           {
            "colorbar": {
             "outlinewidth": 0,
             "ticks": ""
            },
            "colorscale": [
             [
              0,
              "#0d0887"
             ],
             [
              0.1111111111111111,
              "#46039f"
             ],
             [
              0.2222222222222222,
              "#7201a8"
             ],
             [
              0.3333333333333333,
              "#9c179e"
             ],
             [
              0.4444444444444444,
              "#bd3786"
             ],
             [
              0.5555555555555556,
              "#d8576b"
             ],
             [
              0.6666666666666666,
              "#ed7953"
             ],
             [
              0.7777777777777778,
              "#fb9f3a"
             ],
             [
              0.8888888888888888,
              "#fdca26"
             ],
             [
              1,
              "#f0f921"
             ]
            ],
            "type": "surface"
           }
          ],
          "table": [
           {
            "cells": {
             "fill": {
              "color": "#EBF0F8"
             },
             "line": {
              "color": "white"
             }
            },
            "header": {
             "fill": {
              "color": "#C8D4E3"
             },
             "line": {
              "color": "white"
             }
            },
            "type": "table"
           }
          ]
         },
         "layout": {
          "annotationdefaults": {
           "arrowcolor": "#2a3f5f",
           "arrowhead": 0,
           "arrowwidth": 1
          },
          "autotypenumbers": "strict",
          "coloraxis": {
           "colorbar": {
            "outlinewidth": 0,
            "ticks": ""
           }
          },
          "colorscale": {
           "diverging": [
            [
             0,
             "#8e0152"
            ],
            [
             0.1,
             "#c51b7d"
            ],
            [
             0.2,
             "#de77ae"
            ],
            [
             0.3,
             "#f1b6da"
            ],
            [
             0.4,
             "#fde0ef"
            ],
            [
             0.5,
             "#f7f7f7"
            ],
            [
             0.6,
             "#e6f5d0"
            ],
            [
             0.7,
             "#b8e186"
            ],
            [
             0.8,
             "#7fbc41"
            ],
            [
             0.9,
             "#4d9221"
            ],
            [
             1,
             "#276419"
            ]
           ],
           "sequential": [
            [
             0,
             "#0d0887"
            ],
            [
             0.1111111111111111,
             "#46039f"
            ],
            [
             0.2222222222222222,
             "#7201a8"
            ],
            [
             0.3333333333333333,
             "#9c179e"
            ],
            [
             0.4444444444444444,
             "#bd3786"
            ],
            [
             0.5555555555555556,
             "#d8576b"
            ],
            [
             0.6666666666666666,
             "#ed7953"
            ],
            [
             0.7777777777777778,
             "#fb9f3a"
            ],
            [
             0.8888888888888888,
             "#fdca26"
            ],
            [
             1,
             "#f0f921"
            ]
           ],
           "sequentialminus": [
            [
             0,
             "#0d0887"
            ],
            [
             0.1111111111111111,
             "#46039f"
            ],
            [
             0.2222222222222222,
             "#7201a8"
            ],
            [
             0.3333333333333333,
             "#9c179e"
            ],
            [
             0.4444444444444444,
             "#bd3786"
            ],
            [
             0.5555555555555556,
             "#d8576b"
            ],
            [
             0.6666666666666666,
             "#ed7953"
            ],
            [
             0.7777777777777778,
             "#fb9f3a"
            ],
            [
             0.8888888888888888,
             "#fdca26"
            ],
            [
             1,
             "#f0f921"
            ]
           ]
          },
          "colorway": [
           "#636efa",
           "#EF553B",
           "#00cc96",
           "#ab63fa",
           "#FFA15A",
           "#19d3f3",
           "#FF6692",
           "#B6E880",
           "#FF97FF",
           "#FECB52"
          ],
          "font": {
           "color": "#2a3f5f"
          },
          "geo": {
           "bgcolor": "white",
           "lakecolor": "white",
           "landcolor": "#E5ECF6",
           "showlakes": true,
           "showland": true,
           "subunitcolor": "white"
          },
          "hoverlabel": {
           "align": "left"
          },
          "hovermode": "closest",
          "mapbox": {
           "style": "light"
          },
          "paper_bgcolor": "white",
          "plot_bgcolor": "#E5ECF6",
          "polar": {
           "angularaxis": {
            "gridcolor": "white",
            "linecolor": "white",
            "ticks": ""
           },
           "bgcolor": "#E5ECF6",
           "radialaxis": {
            "gridcolor": "white",
            "linecolor": "white",
            "ticks": ""
           }
          },
          "scene": {
           "xaxis": {
            "backgroundcolor": "#E5ECF6",
            "gridcolor": "white",
            "gridwidth": 2,
            "linecolor": "white",
            "showbackground": true,
            "ticks": "",
            "zerolinecolor": "white"
           },
           "yaxis": {
            "backgroundcolor": "#E5ECF6",
            "gridcolor": "white",
            "gridwidth": 2,
            "linecolor": "white",
            "showbackground": true,
            "ticks": "",
            "zerolinecolor": "white"
           },
           "zaxis": {
            "backgroundcolor": "#E5ECF6",
            "gridcolor": "white",
            "gridwidth": 2,
            "linecolor": "white",
            "showbackground": true,
            "ticks": "",
            "zerolinecolor": "white"
           }
          },
          "shapedefaults": {
           "line": {
            "color": "#2a3f5f"
           }
          },
          "ternary": {
           "aaxis": {
            "gridcolor": "white",
            "linecolor": "white",
            "ticks": ""
           },
           "baxis": {
            "gridcolor": "white",
            "linecolor": "white",
            "ticks": ""
           },
           "bgcolor": "#E5ECF6",
           "caxis": {
            "gridcolor": "white",
            "linecolor": "white",
            "ticks": ""
           }
          },
          "title": {
           "x": 0.05
          },
          "xaxis": {
           "automargin": true,
           "gridcolor": "white",
           "linecolor": "white",
           "ticks": "",
           "title": {
            "standoff": 15
           },
           "zerolinecolor": "white",
           "zerolinewidth": 2
          },
          "yaxis": {
           "automargin": true,
           "gridcolor": "white",
           "linecolor": "white",
           "ticks": "",
           "title": {
            "standoff": 15
           },
           "zerolinecolor": "white",
           "zerolinewidth": 2
          }
         }
        },
        "title": {
         "text": "Distribution of Movies vs TV Shows"
        }
       }
      }
     },
     "metadata": {},
     "output_type": "display_data"
    }
   ],
   "source": [
    "#Optional: Interactive Pie Chart of Content Types\n",
    "\n",
    "type_counts = df['type'].value_counts().reset_index()\n",
    "type_counts.columns = ['Type', 'Count']\n",
    "\n",
    "fig = px.pie(type_counts, names='Type', values='Count', title='Distribution of Movies vs TV Shows')\n",
    "fig.update_traces(textposition='inside', textinfo='percent+label')\n",
    "fig.show()\n"
   ]
  },
  {
   "cell_type": "code",
   "execution_count": 25,
   "id": "653bef0f",
   "metadata": {},
   "outputs": [
    {
     "data": {
      "application/vnd.plotly.v1+json": {
       "config": {
        "plotlyServerURL": "https://plot.ly"
       },
       "data": [
        {
         "hovertemplate": "Count=%{x}<br>Director=%{y}<extra></extra>",
         "legendgroup": "",
         "marker": {
          "color": "#636efa",
          "pattern": {
           "shape": ""
          }
         },
         "name": "",
         "orientation": "h",
         "showlegend": false,
         "textposition": "auto",
         "type": "bar",
         "x": {
          "bdata": "FhUTEBAPDQwMDA==",
          "dtype": "i1"
         },
         "xaxis": "x",
         "y": [
          "Rajiv Chilaka",
          "Jan Suter",
          "Raúl Campos",
          "Marcus Raboy",
          "Suhas Kadav",
          "Jay Karas",
          "Cathy Garcia-Molina",
          "Youssef Chahine",
          "Martin Scorsese",
          "Jay Chapman"
         ],
         "yaxis": "y"
        }
       ],
       "layout": {
        "barmode": "relative",
        "legend": {
         "tracegroupgap": 0
        },
        "template": {
         "data": {
          "bar": [
           {
            "error_x": {
             "color": "#2a3f5f"
            },
            "error_y": {
             "color": "#2a3f5f"
            },
            "marker": {
             "line": {
              "color": "#E5ECF6",
              "width": 0.5
             },
             "pattern": {
              "fillmode": "overlay",
              "size": 10,
              "solidity": 0.2
             }
            },
            "type": "bar"
           }
          ],
          "barpolar": [
           {
            "marker": {
             "line": {
              "color": "#E5ECF6",
              "width": 0.5
             },
             "pattern": {
              "fillmode": "overlay",
              "size": 10,
              "solidity": 0.2
             }
            },
            "type": "barpolar"
           }
          ],
          "carpet": [
           {
            "aaxis": {
             "endlinecolor": "#2a3f5f",
             "gridcolor": "white",
             "linecolor": "white",
             "minorgridcolor": "white",
             "startlinecolor": "#2a3f5f"
            },
            "baxis": {
             "endlinecolor": "#2a3f5f",
             "gridcolor": "white",
             "linecolor": "white",
             "minorgridcolor": "white",
             "startlinecolor": "#2a3f5f"
            },
            "type": "carpet"
           }
          ],
          "choropleth": [
           {
            "colorbar": {
             "outlinewidth": 0,
             "ticks": ""
            },
            "type": "choropleth"
           }
          ],
          "contour": [
           {
            "colorbar": {
             "outlinewidth": 0,
             "ticks": ""
            },
            "colorscale": [
             [
              0,
              "#0d0887"
             ],
             [
              0.1111111111111111,
              "#46039f"
             ],
             [
              0.2222222222222222,
              "#7201a8"
             ],
             [
              0.3333333333333333,
              "#9c179e"
             ],
             [
              0.4444444444444444,
              "#bd3786"
             ],
             [
              0.5555555555555556,
              "#d8576b"
             ],
             [
              0.6666666666666666,
              "#ed7953"
             ],
             [
              0.7777777777777778,
              "#fb9f3a"
             ],
             [
              0.8888888888888888,
              "#fdca26"
             ],
             [
              1,
              "#f0f921"
             ]
            ],
            "type": "contour"
           }
          ],
          "contourcarpet": [
           {
            "colorbar": {
             "outlinewidth": 0,
             "ticks": ""
            },
            "type": "contourcarpet"
           }
          ],
          "heatmap": [
           {
            "colorbar": {
             "outlinewidth": 0,
             "ticks": ""
            },
            "colorscale": [
             [
              0,
              "#0d0887"
             ],
             [
              0.1111111111111111,
              "#46039f"
             ],
             [
              0.2222222222222222,
              "#7201a8"
             ],
             [
              0.3333333333333333,
              "#9c179e"
             ],
             [
              0.4444444444444444,
              "#bd3786"
             ],
             [
              0.5555555555555556,
              "#d8576b"
             ],
             [
              0.6666666666666666,
              "#ed7953"
             ],
             [
              0.7777777777777778,
              "#fb9f3a"
             ],
             [
              0.8888888888888888,
              "#fdca26"
             ],
             [
              1,
              "#f0f921"
             ]
            ],
            "type": "heatmap"
           }
          ],
          "histogram": [
           {
            "marker": {
             "pattern": {
              "fillmode": "overlay",
              "size": 10,
              "solidity": 0.2
             }
            },
            "type": "histogram"
           }
          ],
          "histogram2d": [
           {
            "colorbar": {
             "outlinewidth": 0,
             "ticks": ""
            },
            "colorscale": [
             [
              0,
              "#0d0887"
             ],
             [
              0.1111111111111111,
              "#46039f"
             ],
             [
              0.2222222222222222,
              "#7201a8"
             ],
             [
              0.3333333333333333,
              "#9c179e"
             ],
             [
              0.4444444444444444,
              "#bd3786"
             ],
             [
              0.5555555555555556,
              "#d8576b"
             ],
             [
              0.6666666666666666,
              "#ed7953"
             ],
             [
              0.7777777777777778,
              "#fb9f3a"
             ],
             [
              0.8888888888888888,
              "#fdca26"
             ],
             [
              1,
              "#f0f921"
             ]
            ],
            "type": "histogram2d"
           }
          ],
          "histogram2dcontour": [
           {
            "colorbar": {
             "outlinewidth": 0,
             "ticks": ""
            },
            "colorscale": [
             [
              0,
              "#0d0887"
             ],
             [
              0.1111111111111111,
              "#46039f"
             ],
             [
              0.2222222222222222,
              "#7201a8"
             ],
             [
              0.3333333333333333,
              "#9c179e"
             ],
             [
              0.4444444444444444,
              "#bd3786"
             ],
             [
              0.5555555555555556,
              "#d8576b"
             ],
             [
              0.6666666666666666,
              "#ed7953"
             ],
             [
              0.7777777777777778,
              "#fb9f3a"
             ],
             [
              0.8888888888888888,
              "#fdca26"
             ],
             [
              1,
              "#f0f921"
             ]
            ],
            "type": "histogram2dcontour"
           }
          ],
          "mesh3d": [
           {
            "colorbar": {
             "outlinewidth": 0,
             "ticks": ""
            },
            "type": "mesh3d"
           }
          ],
          "parcoords": [
           {
            "line": {
             "colorbar": {
              "outlinewidth": 0,
              "ticks": ""
             }
            },
            "type": "parcoords"
           }
          ],
          "pie": [
           {
            "automargin": true,
            "type": "pie"
           }
          ],
          "scatter": [
           {
            "fillpattern": {
             "fillmode": "overlay",
             "size": 10,
             "solidity": 0.2
            },
            "type": "scatter"
           }
          ],
          "scatter3d": [
           {
            "line": {
             "colorbar": {
              "outlinewidth": 0,
              "ticks": ""
             }
            },
            "marker": {
             "colorbar": {
              "outlinewidth": 0,
              "ticks": ""
             }
            },
            "type": "scatter3d"
           }
          ],
          "scattercarpet": [
           {
            "marker": {
             "colorbar": {
              "outlinewidth": 0,
              "ticks": ""
             }
            },
            "type": "scattercarpet"
           }
          ],
          "scattergeo": [
           {
            "marker": {
             "colorbar": {
              "outlinewidth": 0,
              "ticks": ""
             }
            },
            "type": "scattergeo"
           }
          ],
          "scattergl": [
           {
            "marker": {
             "colorbar": {
              "outlinewidth": 0,
              "ticks": ""
             }
            },
            "type": "scattergl"
           }
          ],
          "scattermap": [
           {
            "marker": {
             "colorbar": {
              "outlinewidth": 0,
              "ticks": ""
             }
            },
            "type": "scattermap"
           }
          ],
          "scattermapbox": [
           {
            "marker": {
             "colorbar": {
              "outlinewidth": 0,
              "ticks": ""
             }
            },
            "type": "scattermapbox"
           }
          ],
          "scatterpolar": [
           {
            "marker": {
             "colorbar": {
              "outlinewidth": 0,
              "ticks": ""
             }
            },
            "type": "scatterpolar"
           }
          ],
          "scatterpolargl": [
           {
            "marker": {
             "colorbar": {
              "outlinewidth": 0,
              "ticks": ""
             }
            },
            "type": "scatterpolargl"
           }
          ],
          "scatterternary": [
           {
            "marker": {
             "colorbar": {
              "outlinewidth": 0,
              "ticks": ""
             }
            },
            "type": "scatterternary"
           }
          ],
          "surface": [
           {
            "colorbar": {
             "outlinewidth": 0,
             "ticks": ""
            },
            "colorscale": [
             [
              0,
              "#0d0887"
             ],
             [
              0.1111111111111111,
              "#46039f"
             ],
             [
              0.2222222222222222,
              "#7201a8"
             ],
             [
              0.3333333333333333,
              "#9c179e"
             ],
             [
              0.4444444444444444,
              "#bd3786"
             ],
             [
              0.5555555555555556,
              "#d8576b"
             ],
             [
              0.6666666666666666,
              "#ed7953"
             ],
             [
              0.7777777777777778,
              "#fb9f3a"
             ],
             [
              0.8888888888888888,
              "#fdca26"
             ],
             [
              1,
              "#f0f921"
             ]
            ],
            "type": "surface"
           }
          ],
          "table": [
           {
            "cells": {
             "fill": {
              "color": "#EBF0F8"
             },
             "line": {
              "color": "white"
             }
            },
            "header": {
             "fill": {
              "color": "#C8D4E3"
             },
             "line": {
              "color": "white"
             }
            },
            "type": "table"
           }
          ]
         },
         "layout": {
          "annotationdefaults": {
           "arrowcolor": "#2a3f5f",
           "arrowhead": 0,
           "arrowwidth": 1
          },
          "autotypenumbers": "strict",
          "coloraxis": {
           "colorbar": {
            "outlinewidth": 0,
            "ticks": ""
           }
          },
          "colorscale": {
           "diverging": [
            [
             0,
             "#8e0152"
            ],
            [
             0.1,
             "#c51b7d"
            ],
            [
             0.2,
             "#de77ae"
            ],
            [
             0.3,
             "#f1b6da"
            ],
            [
             0.4,
             "#fde0ef"
            ],
            [
             0.5,
             "#f7f7f7"
            ],
            [
             0.6,
             "#e6f5d0"
            ],
            [
             0.7,
             "#b8e186"
            ],
            [
             0.8,
             "#7fbc41"
            ],
            [
             0.9,
             "#4d9221"
            ],
            [
             1,
             "#276419"
            ]
           ],
           "sequential": [
            [
             0,
             "#0d0887"
            ],
            [
             0.1111111111111111,
             "#46039f"
            ],
            [
             0.2222222222222222,
             "#7201a8"
            ],
            [
             0.3333333333333333,
             "#9c179e"
            ],
            [
             0.4444444444444444,
             "#bd3786"
            ],
            [
             0.5555555555555556,
             "#d8576b"
            ],
            [
             0.6666666666666666,
             "#ed7953"
            ],
            [
             0.7777777777777778,
             "#fb9f3a"
            ],
            [
             0.8888888888888888,
             "#fdca26"
            ],
            [
             1,
             "#f0f921"
            ]
           ],
           "sequentialminus": [
            [
             0,
             "#0d0887"
            ],
            [
             0.1111111111111111,
             "#46039f"
            ],
            [
             0.2222222222222222,
             "#7201a8"
            ],
            [
             0.3333333333333333,
             "#9c179e"
            ],
            [
             0.4444444444444444,
             "#bd3786"
            ],
            [
             0.5555555555555556,
             "#d8576b"
            ],
            [
             0.6666666666666666,
             "#ed7953"
            ],
            [
             0.7777777777777778,
             "#fb9f3a"
            ],
            [
             0.8888888888888888,
             "#fdca26"
            ],
            [
             1,
             "#f0f921"
            ]
           ]
          },
          "colorway": [
           "#636efa",
           "#EF553B",
           "#00cc96",
           "#ab63fa",
           "#FFA15A",
           "#19d3f3",
           "#FF6692",
           "#B6E880",
           "#FF97FF",
           "#FECB52"
          ],
          "font": {
           "color": "#2a3f5f"
          },
          "geo": {
           "bgcolor": "white",
           "lakecolor": "white",
           "landcolor": "#E5ECF6",
           "showlakes": true,
           "showland": true,
           "subunitcolor": "white"
          },
          "hoverlabel": {
           "align": "left"
          },
          "hovermode": "closest",
          "mapbox": {
           "style": "light"
          },
          "paper_bgcolor": "white",
          "plot_bgcolor": "#E5ECF6",
          "polar": {
           "angularaxis": {
            "gridcolor": "white",
            "linecolor": "white",
            "ticks": ""
           },
           "bgcolor": "#E5ECF6",
           "radialaxis": {
            "gridcolor": "white",
            "linecolor": "white",
            "ticks": ""
           }
          },
          "scene": {
           "xaxis": {
            "backgroundcolor": "#E5ECF6",
            "gridcolor": "white",
            "gridwidth": 2,
            "linecolor": "white",
            "showbackground": true,
            "ticks": "",
            "zerolinecolor": "white"
           },
           "yaxis": {
            "backgroundcolor": "#E5ECF6",
            "gridcolor": "white",
            "gridwidth": 2,
            "linecolor": "white",
            "showbackground": true,
            "ticks": "",
            "zerolinecolor": "white"
           },
           "zaxis": {
            "backgroundcolor": "#E5ECF6",
            "gridcolor": "white",
            "gridwidth": 2,
            "linecolor": "white",
            "showbackground": true,
            "ticks": "",
            "zerolinecolor": "white"
           }
          },
          "shapedefaults": {
           "line": {
            "color": "#2a3f5f"
           }
          },
          "ternary": {
           "aaxis": {
            "gridcolor": "white",
            "linecolor": "white",
            "ticks": ""
           },
           "baxis": {
            "gridcolor": "white",
            "linecolor": "white",
            "ticks": ""
           },
           "bgcolor": "#E5ECF6",
           "caxis": {
            "gridcolor": "white",
            "linecolor": "white",
            "ticks": ""
           }
          },
          "title": {
           "x": 0.05
          },
          "xaxis": {
           "automargin": true,
           "gridcolor": "white",
           "linecolor": "white",
           "ticks": "",
           "title": {
            "standoff": 15
           },
           "zerolinecolor": "white",
           "zerolinewidth": 2
          },
          "yaxis": {
           "automargin": true,
           "gridcolor": "white",
           "linecolor": "white",
           "ticks": "",
           "title": {
            "standoff": 15
           },
           "zerolinecolor": "white",
           "zerolinewidth": 2
          }
         }
        },
        "title": {
         "text": "Top 10 Directors on Netflix"
        },
        "xaxis": {
         "anchor": "y",
         "domain": [
          0,
          1
         ],
         "title": {
          "text": "Count"
         }
        },
        "yaxis": {
         "anchor": "x",
         "autorange": "reversed",
         "domain": [
          0,
          1
         ],
         "title": {
          "text": "Director"
         }
        }
       }
      }
     },
     "metadata": {},
     "output_type": "display_data"
    }
   ],
   "source": [
    "# Most Frequent Directors / Actors\n",
    "# Top 10 directors\n",
    "\n",
    "df_directors = df[df['director'] != 'Not specified']\n",
    "df_directors = df_directors.assign(director=df_directors['director'].str.split(', ')).explode('director')\n",
    "top_directors = df_directors['director'].value_counts().head(10).reset_index()\n",
    "top_directors.columns = ['Director', 'Count']\n",
    "\n",
    "fig = px.bar(top_directors, x='Count', y='Director', orientation='h', title='Top 10 Directors on Netflix')\n",
    "fig.update_layout(yaxis=dict(autorange=\"reversed\"))\n",
    "fig.show()\n"
   ]
  },
  {
   "cell_type": "code",
   "execution_count": 26,
   "id": "9ad24c9b",
   "metadata": {},
   "outputs": [
    {
     "data": {
      "application/vnd.plotly.v1+json": {
       "config": {
        "plotlyServerURL": "https://plot.ly"
       },
       "data": [
        {
         "bingroup": "x",
         "hovertemplate": "minutes=%{x}<br>count=%{y}<extra></extra>",
         "legendgroup": "",
         "marker": {
          "color": "#636efa",
          "pattern": {
           "shape": ""
          }
         },
         "name": "",
         "nbinsx": 50,
         "orientation": "v",
         "showlegend": false,
         "type": "histogram",
         "x": {
          "bdata": "AAAAAACAVkAAAAAAAMBWQAAAAAAAQF9AAAAAAAAAWkAAAAAAAMBfQAAAAAAAwFZAAAAAAADAUEAAAAAAAIBXQAAAAAAAIGRAAAAAAACATkAAAAAAAMBkQAAAAAAAYGJAAAAAAADAWUAAAAAAAEBYQAAAAAAAgFpAAAAAAADAW0AAAAAAAIBbQAAAAAAAQFpAAAAAAAAAWEAAAAAAAABfQAAAAAAAAF1AAAAAAACAWEAAAAAAAMBWQAAAAAAAADdAAAAAAADAXEAAAAAAAIBeQAAAAAAAwFhAAAAAAADAWEAAAAAAAABWQAAAAAAAAFlAAAAAAACAWUAAAAAAAEBXQAAAAAAAAFhAAAAAAADAV0AAAAAAAEBVQAAAAAAAQFhAAAAAAADAV0AAAAAAAMBUQAAAAAAAwFlAAAAAAABAXEAAAAAAAAAqQAAAAAAAwGZAAAAAAACAWkAAAAAAAABIQAAAAAAAIGJAAAAAAAAgYkAAAAAAAEBXQAAAAAAAgFpAAAAAAABgYkAAAAAAAMBVQAAAAAAAAFhAAAAAAADAV0AAAAAAAABXQAAAAAAAwFZAAAAAAACAVkAAAAAAAEBYQAAAAAAAAFRAAAAAAABAXUAAAAAAAABgQAAAAAAAgFZAAAAAAADAXUAAAAAAAIBbQAAAAAAA4GFAAAAAAADAXUAAAAAAAIBcQAAAAAAAgFdAAAAAAACAWkAAAAAAAMBYQAAAAAAAgF1AAAAAAADAXEAAAAAAAMBXQAAAAAAAwFxAAAAAAAAAW0AAAAAAAIBPQAAAAAAAQF1AAAAAAABAXkAAAAAAAMBhQAAAAAAAQFxAAAAAAABAY0AAAAAAAMBXQAAAAAAAAFtAAAAAAAAAXkAAAAAAAABZQAAAAAAAgFRAAAAAAAAAX0AAAAAAAIBcQAAAAAAAAFpAAAAAAACAV0AAAAAAAIBXQAAAAAAAQFdAAAAAAABAWEAAAAAAAEBbQAAAAAAAAFZAAAAAAABAWUAAAAAAAEBaQAAAAAAAgFlAAAAAAABAWUAAAAAAAMBZQAAAAAAAgFpAAAAAAACAXUAAAAAAAIBVQAAAAAAAQF5AAAAAAACgbEAAAAAAAABTQAAAAAAAwFdAAAAAAACAWEAAAAAAAEBWQAAAAAAAAF5AAAAAAACAW0AAAAAAAMBUQAAAAAAAQF5AAAAAAABAWkAAAAAAAIBXQAAAAAAAgGNAAAAAAAAAXEAAAAAAAMBXQAAAAAAAwFpAAAAAAACAXEAAAAAAACBgQAAAAAAAgFVAAAAAAABAWEAAAAAAAEBfQAAAAAAAwFpAAAAAAADAX0AAAAAAAABgQAAAAAAAAFdAAAAAAADgYEAAAAAAAABfQAAAAAAAAGFAAAAAAACgZEAAAAAAAABfQAAAAAAAAGFAAAAAAADAYkAAAAAAAABcQAAAAAAAwF1AAAAAAACgYEAAAAAAAMBhQAAAAAAAQFdAAAAAAABAXEAAAAAAAABfQAAAAAAAAF1AAAAAAACAWkAAAAAAACBiQAAAAAAAQFdAAAAAAADAV0AAAAAAAABbQAAAAAAAgFZAAAAAAACAVUAAAAAAAABXQAAAAAAAgFRAAAAAAACAUUAAAAAAAIBeQAAAAAAAgF5AAAAAAACAXkAAAAAAAIBeQAAAAAAAAFVAAAAAAAAAWEAAAAAAAMBcQAAAAAAAgFtAAAAAAAAAVkAAAAAAAIBZQAAAAAAAwFZAAAAAAABAWkAAAAAAAOBgQAAAAAAAgFVAAAAAAACAYUAAAAAAAKBgQAAAAAAAAFdAAAAAAACAVEAAAAAAAEBYQAAAAAAAgFNAAAAAAACAV0AAAAAAAEBeQAAAAAAAQFhAAAAAAACAW0AAAAAAAABQQAAAAAAAgE1AAAAAAABAWUAAAAAAAMBfQAAAAAAAgFZAAAAAAACAXEAAAAAAAABbQAAAAAAAgFFAAAAAAACAWEAAAAAAAIBVQAAAAAAAYGFAAAAAAADAW0AAAAAAAMBcQAAAAAAAgFlAAAAAAAAAWUAAAAAAAOBgQAAAAAAAQFFAAAAAAADAV0AAAAAAAEBYQAAAAAAAAF9AAAAAAACAXUAAAAAAAMBcQAAAAAAAwFxAAAAAAAAAWkAAAAAAAIBaQAAAAAAAgFlAAAAAAABAWEAAAAAAAMBVQAAAAAAAAFZAAAAAAACAXEAAAAAAAIBWQAAAAAAAwGFAAAAAAACAVkAAAAAAAEBaQAAAAAAAwFlAAAAAAAAAXUAAAAAAAEBcQAAAAAAAwFhAAAAAAAAAWEAAAAAAAIBiQAAAAAAAoGdAAAAAAABAWEAAAAAAAIBZQAAAAAAAwFhAAAAAAABAVUAAAAAAAABcQAAAAAAAwFZAAAAAAADAVkAAAAAAAKBhQAAAAAAAQGBAAAAAAACAWEAAAAAAAEBaQAAAAAAAQFlAAAAAAABAWkAAAAAAAIBdQAAAAAAAQFhAAAAAAACAWUAAAAAAAIBcQAAAAAAAwFtAAAAAAABAX0AAAAAAAABTQAAAAAAAgF1AAAAAAADAWUAAAAAAAIBcQAAAAAAAwFdAAAAAAABAYUAAAAAAAABcQAAAAAAAgFdAAAAAAACAWUAAAAAAAABXQAAAAAAAQFRAAAAAAADgYUAAAAAAAIBVQAAAAAAAgGBAAAAAAABAXUAAAAAAAKBkQAAAAAAAwFZAAAAAAABAWEAAAAAAAEBYQAAAAAAAwF5AAAAAAACAV0AAAAAAAMBbQAAAAAAAQFVAAAAAAABAUEAAAAAAAABQQAAAAAAAAFFAAAAAAADAUEAAAAAAAIBQQAAAAAAAAFBAAAAAAAAAUEAAAAAAAEBQQAAAAAAAAFBAAAAAAAAAUUAAAAAAAABRQAAAAAAAAFBAAAAAAAAAT0AAAAAAAIBPQAAAAAAAQFFAAAAAAACAUUAAAAAAAIBPQAAAAAAAAFFAAAAAAACAUkAAAAAAAABRQAAAAAAAwFhAAAAAAACAVkAAAAAAAMBVQAAAAAAAQFpAAAAAAACAWkAAAAAAAIBZQAAAAAAAwFZAAAAAAAAAVkAAAAAAAMBaQAAAAAAAQFlAAAAAAACAXEAAAAAAAMBeQAAAAAAAgFdAAAAAAABAWkAAAAAAAEBdQAAAAAAAwFxAAAAAAAAAX0AAAAAAAGBgQAAAAAAAgF5AAAAAAABAXEAAAAAAAMBWQAAAAAAAAFlAAAAAAABAV0AAAAAAAIBWQAAAAAAAgFVAAAAAAAAAWUAAAAAAAABYQAAAAAAAwFdAAAAAAADAXEAAAAAAAABZQAAAAAAAgFlAAAAAAADAVUAAAAAAAIBDQAAAAAAAgFtAAAAAAABAV0AAAAAAAABYQAAAAAAAQFdAAAAAAABAV0AAAAAAAMBbQAAAAAAAQFpAAAAAAABAWUAAAAAAAIBZQAAAAAAAAEdAAAAAAABAVkAAAAAAAIBXQAAAAAAAAFpAAAAAAABAWEAAAAAAAMBWQAAAAAAAgFpAAAAAAAAAQ0AAAAAAAIBWQAAAAAAAwFVAAAAAAABAYUAAAAAAAEBaQAAAAAAAAFpAAAAAAABAVUAAAAAAAABXQAAAAAAAAFtAAAAAAADAV0AAAAAAAEBaQAAAAAAAAF1AAAAAAAAAX0AAAAAAAEBZQAAAAAAAwFdAAAAAAAAAYEAAAAAAAOBhQAAAAAAAwFpAAAAAAAAAYUAAAAAAAIBXQAAAAAAAAGFAAAAAAACAX0AAAAAAAABdQAAAAAAAAFlAAAAAAADAXEAAAAAAAEBfQAAAAAAAgENAAAAAAACAV0AAAAAAAIBWQAAAAAAAwFdAAAAAAABgY0AAAAAAAIBYQAAAAAAAAFtAAAAAAAAAWEAAAAAAAEBdQAAAAAAAgF1AAAAAAADAWUAAAAAAAIBXQAAAAAAAQFdAAAAAAADAXEAAAAAAAABeQAAAAAAAIGJAAAAAAACAX0AAAAAAAABYQAAAAAAAQFlAAAAAAACAXUAAAAAAAEBbQAAAAAAAQFZAAAAAAACAWkAAAAAAAEBZQAAAAAAAQFlAAAAAAADAXkAAAAAAAIBaQAAAAAAAQFZAAAAAAAAAYEAAAAAAAEBVQAAAAAAAQFZAAAAAAAAAW0AAAAAAAEBaQAAAAAAAoGBAAAAAAAAgYEAAAAAAAMBfQAAAAAAAQFxAAAAAAAAAXEAAAAAAAEBgQAAAAAAAAFlAAAAAAADAWUAAAAAAAEBVQAAAAAAAAF9AAAAAAADAWUAAAAAAAEBeQAAAAAAAQFZAAAAAAAAAV0AAAAAAAABcQAAAAAAAgFxAAAAAAAAAXUAAAAAAAIBbQAAAAAAAgFhAAAAAAACAWEAAAAAAAABZQAAAAAAAgFZAAAAAAAAAV0AAAAAAAIBUQAAAAAAAQFhAAAAAAACAVkAAAAAAAABTQAAAAAAAwFRAAAAAAABAWUAAAAAAAEBbQAAAAAAAQFhAAAAAAADAVUAAAAAAAIBXQAAAAAAAQFZAAAAAAAAAVkAAAAAAAABbQAAAAAAAAFhAAAAAAAAAVUAAAAAAAIBRQAAAAAAAQF9AAAAAAADAXUAAAAAAAEBaQAAAAAAAoGBAAAAAAACAYUAAAAAAAABeQAAAAAAA4GBAAAAAAADAW0AAAAAAAOBjQAAAAAAAwF1AAAAAAABgYUAAAAAAACBhQAAAAAAAQFlAAAAAAAAAKkAAAAAAAAAoQAAAAAAAQFlAAAAAAAAAWEAAAAAAAIBeQAAAAAAAwFdAAAAAAABAVkAAAAAAAIBYQAAAAAAAwF1AAAAAAABAYUAAAAAAAABaQAAAAAAAEHFAAAAAAABAWUAAAAAAAMBYQAAAAAAAAFVAAAAAAACAVEAAAAAAAEBYQAAAAAAAQFZAAAAAAAAAQkAAAAAAAABBQAAAAAAAAEJAAAAAAABAXEAAAAAAAIBbQAAAAAAAAEJAAAAAAACAWUAAAAAAAIBVQAAAAAAAwFZAAAAAAABAXUAAAAAAAMBYQAAAAAAAQFNAAAAAAABAWEAAAAAAAIBaQAAAAAAAQFhAAAAAAAAAWkAAAAAAAIBbQAAAAAAAgE5AAAAAAACAWEAAAAAAAIBSQAAAAAAAAE5AAAAAAAAATkAAAAAAAMBZQAAAAAAAgFdAAAAAAAAAXEAAAAAAAIBIQAAAAAAAwFtAAAAAAAAATUAAAAAAAABSQAAAAAAAgFNAAAAAAABAWUAAAAAAAIBbQAAAAAAAgFdAAAAAAACAUUAAAAAAAIBdQAAAAAAAwFhAAAAAAADAWUAAAAAAAMBXQAAAAAAAQFdAAAAAAABAWUAAAAAAAEBZQAAAAAAAQFZAAAAAAABAW0AAAAAAAABaQAAAAAAAgFZAAAAAAABAW0AAAAAAACBiQAAAAAAAAFZAAAAAAACAYEAAAAAAAEBbQAAAAAAAoGBAAAAAAABAVUAAAAAAAABaQAAAAAAAwFhAAAAAAABAV0AAAAAAAIBpQAAAAAAAgGpAAAAAAACAWEAAAAAAAEBZQAAAAAAAgFdAAAAAAAAAOUAAAAAAAMBYQAAAAAAAAFtAAAAAAACAWkAAAAAAAABgQAAAAAAAAFpAAAAAAADAX0AAAAAAAABhQAAAAAAAQFhAAAAAAAAAVkAAAAAAAEBYQAAAAAAAQFhAAAAAAAAAVkAAAAAAAMBZQAAAAAAAQFhAAAAAAAAAVkAAAAAAAEBYQAAAAAAAgF1AAAAAAACAUUAAAAAAAMBWQAAAAAAAAFdAAAAAAAAAXkAAAAAAAEBSQAAAAAAAgFtAAAAAAACAV0AAAAAAAIBOQAAAAAAAYGBAAAAAAABgYEAAAAAAAGBgQAAAAAAAgGJAAAAAAAAAPUAAAAAAAMBaQAAAAAAAwFhAAAAAAAAAV0AAAAAAAMBWQAAAAAAAgEdAAAAAAAAAVkAAAAAAAABdQAAAAAAAQFtAAAAAAAAAV0AAAAAAAMBVQAAAAAAAQFlAAAAAAACAYUAAAAAAAEBWQAAAAAAAQFRAAAAAAAAAXUAAAAAAAMBYQAAAAAAAwFpAAAAAAADAWkAAAAAAAIBWQAAAAAAAAFpAAAAAAAAAWUAAAAAAAABAQAAAAAAAgFlAAAAAAABAWkAAAAAAAMBaQAAAAAAAAFBAAAAAAADAWEAAAAAAAIBZQAAAAAAAgF9AAAAAAADAXUAAAAAAAIBVQAAAAAAAgF5AAAAAAADAV0AAAAAAAABaQAAAAAAAgF1AAAAAAABAVUAAAAAAAIBYQAAAAAAAwFhAAAAAAACAQUAAAAAAAMBaQAAAAAAAQFhAAAAAAAAAXEAAAAAAAIBdQAAAAAAAQFtAAAAAAABAW0AAAAAAAABWQAAAAAAAQFhAAAAAAABAWEAAAAAAAMBYQAAAAAAAwFdAAAAAAADAVkAAAAAAAMBcQAAAAAAAQFdAAAAAAABAW0AAAAAAAABYQAAAAAAAgFNAAAAAAADAVUAAAAAAAABTQAAAAAAAAFNAAAAAAADAUUAAAAAAAEBhQAAAAAAAQFxAAAAAAACAV0AAAAAAAEBWQAAAAAAAQF5AAAAAAADAX0AAAAAAAIBXQAAAAAAAQFZAAAAAAAAAYUAAAAAAAEBWQAAAAAAAwFhAAAAAAABAV0AAAAAAAEBVQAAAAAAAgFlAAAAAAABAWUAAAAAAAEBcQAAAAAAAAGBAAAAAAACAXEAAAAAAAEBVQAAAAAAAQF5AAAAAAADAV0AAAAAAAEBeQAAAAAAAAF1AAAAAAADAVkAAAAAAAKBiQAAAAAAAQFxAAAAAAACAQEAAAAAAAMBfQAAAAAAAQFlAAAAAAACAWUAAAAAAAIBZQAAAAAAAwFpAAAAAAADAXkAAAAAAAIBYQAAAAAAAwFdAAAAAAABAWUAAAAAAAABaQAAAAAAAAFpAAAAAAADAWUAAAAAAAMBbQAAAAAAAgFlAAAAAAAAALkAAAAAAAABLQAAAAAAAAF5AAAAAAACAWkAAAAAAAABdQAAAAAAAAE1AAAAAAAAAXUAAAAAAAIBfQAAAAAAAgFVAAAAAAABAWEAAAAAAAABTQAAAAAAAAFRAAAAAAABAVEAAAAAAAABVQAAAAAAAwFVAAAAAAADAVkAAAAAAAABTQAAAAAAAgGBAAAAAAACAX0AAAAAAAEBZQAAAAAAAgFlAAAAAAABgYkAAAAAAAABsQAAAAAAAoGFAAAAAAABAW0AAAAAAAEBkQAAAAAAAwGFAAAAAAABAV0AAAAAAAABOQAAAAAAAwF1AAAAAAACAQkAAAAAAAABYQAAAAAAAAF1AAAAAAACAWUAAAAAAAMBeQAAAAAAAgFlAAAAAAADAX0AAAAAAAABWQAAAAAAAgFpAAAAAAABAUEAAAAAAAABYQAAAAAAAAFZAAAAAAADgYUAAAAAAACBhQAAAAAAAwFJAAAAAAADAUUAAAAAAAMBZQAAAAAAAQGBAAAAAAAAgYkAAAAAAAABVQAAAAAAAAFVAAAAAAABAU0AAAAAAAIBVQAAAAAAAwFNAAAAAAAAAVEAAAAAAAEBUQAAAAAAAgFNAAAAAAACAXUAAAAAAAIBZQAAAAAAAgGBAAAAAAAAAW0AAAAAAAKBgQAAAAAAAwFpAAAAAAAAAQEAAAAAAAIBTQAAAAAAAgEtAAAAAAAAAV0AAAAAAAIBVQAAAAAAAgGFAAAAAAADgYUAAAAAAAABWQAAAAAAAQFZAAAAAAABAV0AAAAAAAEBYQAAAAAAAgFdAAAAAAAAAXEAAAAAAAABZQAAAAAAAAF5AAAAAAADAVkAAAAAAAIBYQAAAAAAAQFxAAAAAAACAWEAAAAAAAMBWQAAAAAAAwGNAAAAAAACAZEAAAAAAAKBgQAAAAAAAwFJAAAAAAADAWUAAAAAAAIBWQAAAAAAAAF1AAAAAAAAAWEAAAAAAAEBeQAAAAAAAQFlAAAAAAACgZUAAAAAAAEBWQAAAAAAAwGZAAAAAAACgZkAAAAAAACBnQAAAAAAAwFhAAAAAAAAAVkAAAAAAAMBaQAAAAAAAgFxAAAAAAAAAWEAAAAAAAKBiQAAAAAAAgFlAAAAAAADAVEAAAAAAAIBYQAAAAAAAwFRAAAAAAAAAWkAAAAAAAMBbQAAAAAAAgFhAAAAAAABAV0AAAAAAAEBSQAAAAAAAoGFAAAAAAAAAXUAAAAAAAAA1QAAAAAAAgFhAAAAAAADAVUAAAAAAAMBVQAAAAAAAwFdAAAAAAADAVUAAAAAAAEBXQAAAAAAAQFhAAAAAAACAXEAAAAAAAABZQAAAAAAAQFpAAAAAAACAVkAAAAAAAABOQAAAAAAAgFhAAAAAAAAAW0AAAAAAAIBWQAAAAAAAgFlAAAAAAAAAVUAAAAAAAABeQAAAAAAAgFpAAAAAAADAXEAAAAAAAIBYQAAAAAAAAE5AAAAAAABAXEAAAAAAAEBZQAAAAAAAADhAAAAAAACASUAAAAAAAABUQAAAAAAAAFlAAAAAAABgYUAAAAAAAIBSQAAAAAAAYGBAAAAAAABgYEAAAAAAAIBdQAAAAAAAwFVAAAAAAABAWUAAAAAAAEBYQAAAAAAAAFdAAAAAAAAAYUAAAAAAAEBYQAAAAAAAwFlAAAAAAACAW0AAAAAAAEBaQAAAAAAAgFZAAAAAAADAWkAAAAAAAABXQAAAAAAAgFdAAAAAAADAWEAAAAAAAEBYQAAAAAAA4GJAAAAAAAAAW0AAAAAAAEBcQAAAAAAAQFRAAAAAAAAAXUAAAAAAAMBdQAAAAAAAAF1AAAAAAAAAXEAAAAAAAEBeQAAAAAAAwFxAAAAAAADAZkAAAAAAAIBYQAAAAAAAAFhAAAAAAAAARUAAAAAAAKBmQAAAAAAAAFlAAAAAAAAANkAAAAAAAMBgQAAAAAAAIGZAAAAAAACAV0AAAAAAAABWQAAAAAAAwF1AAAAAAADAWkAAAAAAAABcQAAAAAAAgEFAAAAAAADAWUAAAAAAAIBWQAAAAAAAAF5AAAAAAABAWEAAAAAAAIBZQAAAAAAAgFpAAAAAAADAXUAAAAAAAABVQAAAAAAAAE1AAAAAAACAVkAAAAAAAEBbQAAAAAAA4GFAAAAAAAAAXEAAAAAAAMBgQAAAAAAAwF5AAAAAAAAAQkAAAAAAAMBeQAAAAAAAAE1AAAAAAACAXUAAAAAAAMBWQAAAAAAAAFNAAAAAAABAWEAAAAAAAEBVQAAAAAAAAFdAAAAAAABgYUAAAAAAAEBkQAAAAAAAAFdAAAAAAACAVUAAAAAAAMBaQAAAAAAAQFVAAAAAAADAVEAAAAAAAABaQAAAAAAAAF1AAAAAAADAVUAAAAAAAMBWQAAAAAAAwF1AAAAAAACAWUAAAAAAAIBVQAAAAAAAgFlAAAAAAACAWEAAAAAAAMBYQAAAAAAAAFtAAAAAAACAXEAAAAAAAABaQAAAAAAAAFZAAAAAAAAAWkAAAAAAAMBeQAAAAAAAgFpAAAAAAABAYUAAAAAAAEBcQAAAAAAAwFpAAAAAAACgYEAAAAAAAEBYQAAAAAAAAF1AAAAAAADAXkAAAAAAAEBWQAAAAAAAQFdAAAAAAABgYUAAAAAAAABcQAAAAAAAQFlAAAAAAABAXEAAAAAAAEBWQAAAAAAAwFpAAAAAAADAXkAAAAAAAEBcQAAAAAAAgFZAAAAAAAAASkAAAAAAAMBfQAAAAAAAwFdAAAAAAABAXkAAAAAAAABbQAAAAAAAgFlAAAAAAADAV0AAAAAAAKBgQAAAAAAAwF9AAAAAAADAV0AAAAAAAEBZQAAAAAAAwF5AAAAAAABAVkAAAAAAAABZQAAAAAAAAFtAAAAAAACAV0AAAAAAAMBZQAAAAAAAQFpAAAAAAAAAXUAAAAAAAABXQAAAAAAAQFBAAAAAAADAXEAAAAAAAABYQAAAAAAAAEBAAAAAAACAWUAAAAAAAIBZQAAAAAAAQFlAAAAAAADAUUAAAAAAAEBUQAAAAAAAgFhAAAAAAACAVkAAAAAAAABcQAAAAAAAIGRAAAAAAAAgYEAAAAAAAEBVQAAAAAAAACxAAAAAAACAYkAAAAAAAMBYQAAAAAAAQFhAAAAAAABAWUAAAAAAAEBWQAAAAAAAAGBAAAAAAAAAU0AAAAAAAMBYQAAAAAAAgF9AAAAAAACAWkAAAAAAAEBZQAAAAAAAwFVAAAAAAADAW0AAAAAAAIBWQAAAAAAAwFZAAAAAAABAWUAAAAAAAABYQAAAAAAAAFhAAAAAAACAYkAAAAAAAABYQAAAAAAAgFhAAAAAAAAAWkAAAAAAAIBKQAAAAAAAAEtAAAAAAABAXEAAAAAAAIBZQAAAAAAAgF1AAAAAAADAVEAAAAAAAEBTQAAAAAAAAF1AAAAAAAAAXUAAAAAAAIBaQAAAAAAAQFpAAAAAAAAAIEAAAAAAAIBbQAAAAAAAwFFAAAAAAADAVkAAAAAAAABHQAAAAAAAQFtAAAAAAACAWUAAAAAAAEBZQAAAAAAAgFdAAAAAAACAW0AAAAAAAEBdQAAAAAAAQFVAAAAAAADAXUAAAAAAAMBcQAAAAAAAQFpAAAAAAAAAUUAAAAAAAIBMQAAAAAAAADxAAAAAAACAWEAAAAAAAMBXQAAAAAAAAFhAAAAAAACAUEAAAAAAAABcQAAAAAAAAFVAAAAAAACAV0AAAAAAAABAQAAAAAAAgFhAAAAAAABAVUAAAAAAAABeQAAAAAAAwFRAAAAAAACAV0AAAAAAAIBZQAAAAAAAwFtAAAAAAACAVkAAAAAAAMBbQAAAAAAAgFtAAAAAAADAVUAAAAAAAIBgQAAAAAAAQF1AAAAAAAAASUAAAAAAAIBaQAAAAAAAQF9AAAAAAADAWkAAAAAAAIBNQAAAAAAAADxAAAAAAAAAIkAAAAAAAMBWQAAAAAAAgGBAAAAAAACgYEAAAAAAAEBbQAAAAAAAwFpAAAAAAADAW0AAAAAAAABbQAAAAAAAQFpAAAAAAADAXUAAAAAAAABaQAAAAAAAwFRAAAAAAACAVkAAAAAAAMBTQAAAAAAAADhAAAAAAADAXEAAAAAAAEBYQAAAAAAAADpAAAAAAAAAR0AAAAAAAIBaQAAAAAAAQFxAAAAAAACgYEAAAAAAAEBXQAAAAAAAAFtAAAAAAAAAWEAAAAAAAAA5QAAAAAAAQFlAAAAAAACAWkAAAAAAAABLQAAAAAAAgF1AAAAAAAAATUAAAAAAAEBdQAAAAAAAAEhAAAAAAABgYUAAAAAAAMBcQAAAAAAAQFtAAAAAAADAVkAAAAAAAABOQAAAAAAAgFlAAAAAAAAAXkAAAAAAAKBiQAAAAAAAwFZAAAAAAADAWEAAAAAAAIBaQAAAAAAAAFtAAAAAAACARkAAAAAAAEBXQAAAAAAAADZAAAAAAABAVEAAAAAAAIBYQAAAAAAAAFlAAAAAAAAAXEAAAAAAAIBcQAAAAAAAAFFAAAAAAADAWUAAAAAAAEBeQAAAAAAAwFdAAAAAAADAVUAAAAAAAMBcQAAAAAAAYGVAAAAAAABgZUAAAAAAAABHQAAAAAAAQF1AAAAAAAAAVUAAAAAAAIBYQAAAAAAAwFRAAAAAAABAWEAAAAAAAMBYQAAAAAAAAFtAAAAAAABAV0AAAAAAAABFQAAAAAAAACpAAAAAAAAAUEAAAAAAAEBkQAAAAAAAQGBAAAAAAAAAW0AAAAAAACBgQAAAAAAAQFpAAAAAAACgYEAAAAAAAMBhQAAAAAAAAGBAAAAAAABAWEAAAAAAAMBaQAAAAAAA4GBAAAAAAAAAVUAAAAAAAIBRQAAAAAAAAF9AAAAAAACAWUAAAAAAAABVQAAAAAAAwFdAAAAAAAAAVUAAAAAAAABeQAAAAAAAwFVAAAAAAADAUkAAAAAAAABfQAAAAAAAAFdAAAAAAADAV0AAAAAAAMBaQAAAAAAAwF5AAAAAAABAVUAAAAAAAMBiQAAAAAAAQFhAAAAAAAAAVkAAAAAAAIBSQAAAAAAAQFdAAAAAAADgYkAAAAAAAIBUQAAAAAAAgGJAAAAAAADAV0AAAAAAAIBWQAAAAAAAwFlAAAAAAADAVUAAAAAAAIBZQAAAAAAAAFhAAAAAAADAVUAAAAAAAIBVQAAAAAAAAGFAAAAAAAAATkAAAAAAAMBfQAAAAAAAAFhAAAAAAAAALkAAAAAAAABZQAAAAAAAwFVAAAAAAAAAPEAAAAAAAAA7QAAAAAAAgFZAAAAAAACAWUAAAAAAAIBXQAAAAAAAQFRAAAAAAADAYEAAAAAAAIBcQAAAAAAAwFpAAAAAAADAWkAAAAAAAEBgQAAAAAAAwFVAAAAAAABAV0AAAAAAAIBcQAAAAAAAwFZAAAAAAAAAXUAAAAAAAEBXQAAAAAAAgFpAAAAAAABAWkAAAAAAAABJQAAAAAAAQFdAAAAAAADAWUAAAAAAAIBcQAAAAAAAwFdAAAAAAAAASUAAAAAAAMBiQAAAAAAAAFlAAAAAAABAXUAAAAAAAMBVQAAAAAAAAFlAAAAAAACAVUAAAAAAAIBZQAAAAAAAwFVAAAAAAADAWUAAAAAAAABcQAAAAAAAAF5AAAAAAADAW0AAAAAAAIBTQAAAAAAAgElAAAAAAADAXkAAAAAAAABHQAAAAAAAgFlAAAAAAACAWkAAAAAAAABcQAAAAAAAQFlAAAAAAAAAWEAAAAAAAMBZQAAAAAAAgFdAAAAAAABAUUAAAAAAAEBUQAAAAAAAAFNAAAAAAAAAW0AAAAAAAIBXQAAAAAAAgFpAAAAAAACAWEAAAAAAAEBXQAAAAAAAwFhAAAAAAABAV0AAAAAAAIBUQAAAAAAAwFpAAAAAAAAAWkAAAAAAAEBgQAAAAAAAwFRAAAAAAADAWEAAAAAAAEBTQAAAAAAAgFdAAAAAAACAXUAAAAAAAMBVQAAAAAAAAEVAAAAAAABAWUAAAAAAAABUQAAAAAAAgFtAAAAAAABAXUAAAAAAAIBHQAAAAAAAoGRAAAAAAADAYEAAAAAAAIBhQAAAAAAAwGJAAAAAAACAY0AAAAAAAIBVQAAAAAAAgF9AAAAAAAAAWUAAAAAAAAA5QAAAAAAAAF9AAAAAAAAAWUAAAAAAAIBaQAAAAAAAAFpAAAAAAAAAWEAAAAAAAIBWQAAAAAAAgEBAAAAAAABAVEAAAAAAAABVQAAAAAAAAEZAAAAAAADAXEAAAAAAAIBXQAAAAAAAADZAAAAAAADAWkAAAAAAAMBcQAAAAAAAQFdAAAAAAADAWkAAAAAAAIBVQAAAAAAAAFxAAAAAAACAWUAAAAAAAMBWQAAAAAAAwFRAAAAAAABAUkAAAAAAAGBhQAAAAAAAwFdAAAAAAABAWUAAAAAAAMBSQAAAAAAAwFVAAAAAAADAVkAAAAAAAABeQAAAAAAAwF5AAAAAAADAV0AAAAAAAABVQAAAAAAAAD1AAAAAAAAAPEAAAAAAAIBeQAAAAAAAADxAAAAAAACAWEAAAAAAAIBNQAAAAAAAAFRAAAAAAADAWUAAAAAAAABaQAAAAAAAQGJAAAAAAADgYEAAAAAAACBgQAAAAAAAwFxAAAAAAADgYUAAAAAAAKBlQAAAAAAAIGBAAAAAAACgYkAAAAAAAIBYQAAAAAAAwFxAAAAAAAAARkAAAAAAAMBfQAAAAAAAAF9AAAAAAABAVUAAAAAAAAA0QAAAAAAAgFlAAAAAAAAgYEAAAAAAAABfQAAAAAAAgF1AAAAAAADAW0AAAAAAAEBfQAAAAAAAgFdAAAAAAABAYEAAAAAAAEBdQAAAAAAAIGFAAAAAAABgYUAAAAAAAMBbQAAAAAAAwFlAAAAAAAAAXkAAAAAAAIBYQAAAAAAAQGBAAAAAAAAAWEAAAAAAAIBOQAAAAAAAIGFAAAAAAACAVkAAAAAAAEBRQAAAAAAAYGFAAAAAAACAV0AAAAAAAABXQAAAAAAAAFRAAAAAAACAT0AAAAAAAABWQAAAAAAAQFpAAAAAAABAV0AAAAAAAIBhQAAAAAAAwFlAAAAAAACAWUAAAAAAAEBXQAAAAAAAQFFAAAAAAACgYEAAAAAAAKBjQAAAAAAAAF1AAAAAAAAAXEAAAAAAAABYQAAAAAAAwF9AAAAAAABAYEAAAAAAAEBXQAAAAAAAQGFAAAAAAABAYUAAAAAAAABXQAAAAAAAgFtAAAAAAACAWUAAAAAAAEBcQAAAAAAAAFhAAAAAAAAAW0AAAAAAAIBXQAAAAAAAwFhAAAAAAACAVUAAAAAAAIBYQAAAAAAAwFtAAAAAAABAWEAAAAAAAOBgQAAAAAAAQFdAAAAAAACAV0AAAAAAAEBdQAAAAAAAgE9AAAAAAABAUkAAAAAAAMBWQAAAAAAAQFdAAAAAAABAWUAAAAAAAEBXQAAAAAAAAFhAAAAAAAAAXEAAAAAAAABSQAAAAAAAAFxAAAAAAAAAUkAAAAAAAABXQAAAAAAAQFtAAAAAAABgY0AAAAAAAEBbQAAAAAAAwFxAAAAAAABAWEAAAAAAAMBZQAAAAAAAADhAAAAAAACAW0AAAAAAAEBYQAAAAAAAgFdAAAAAAADAWkAAAAAAAEBYQAAAAAAAwFlAAAAAAAAAVkAAAAAAAMBbQAAAAAAAgFdAAAAAAACAQEAAAAAAAMBaQAAAAAAAgFtAAAAAAACAWEAAAAAAAEBUQAAAAAAAAFpAAAAAAAAAMUAAAAAAAEBeQAAAAAAAAFlAAAAAAACAUUAAAAAAAEBYQAAAAAAAwFJAAAAAAACAWUAAAAAAAABWQAAAAAAAwGNAAAAAAACAWUAAAAAAAGBpQAAAAAAAgE1AAAAAAAAAV0AAAAAAAABaQAAAAAAAAFJAAAAAAABAXEAAAAAAAEBXQAAAAAAAwF1AAAAAAABAWkAAAAAAAEBcQAAAAAAAQFdAAAAAAAAARkAAAAAAAIBbQAAAAAAAQFxAAAAAAACAVkAAAAAAAIBUQAAAAAAAQFFAAAAAAAAAR0AAAAAAAIBXQAAAAAAAAFJAAAAAAADAV0AAAAAAAEBZQAAAAAAAADVAAAAAAADAUUAAAAAAAABQQAAAAAAAAFdAAAAAAAAAVEAAAAAAAABaQAAAAAAAADlAAAAAAADAW0AAAAAAAABSQAAAAAAAwFhAAAAAAADAVEAAAAAAAMBiQAAAAAAAAFtAAAAAAAAARkAAAAAAAIBZQAAAAAAAIGFAAAAAAAAAXEAAAAAAAIBZQAAAAAAAwFlAAAAAAAAAYUAAAAAAAIBEQAAAAAAAAFZAAAAAAAAAVUAAAAAAAIBcQAAAAAAAgFtAAAAAAADAWUAAAAAAAIBaQAAAAAAAAEdAAAAAAADAXEAAAAAAAIBhQAAAAAAAAF9AAAAAAACgYEAAAAAAAMBWQAAAAAAAAD5AAAAAAADAUEAAAAAAAEBaQAAAAAAAAE1AAAAAAADAVUAAAAAAAABZQAAAAAAAwFdAAAAAAACAVkAAAAAAAIBZQAAAAAAAgFhAAAAAAAAAUUAAAAAAAABaQAAAAAAAQFZAAAAAAAAAT0AAAAAAAIBVQAAAAAAAAFpAAAAAAABAWUAAAAAAAAAxQAAAAAAAgF9AAAAAAAAAXkAAAAAAAEBWQAAAAAAAAFhAAAAAAADAVkAAAAAAAIBVQAAAAAAAwFBAAAAAAABAVkAAAAAAAEBQQAAAAAAA4GJAAAAAAAAAXUAAAAAAAIBbQAAAAAAAwF5AAAAAAABgYUAAAAAAAMBXQAAAAAAAQF5AAAAAAADAX0AAAAAAAEBkQAAAAAAAAGBAAAAAAAAAXEAAAAAAAEBfQAAAAAAAAGBAAAAAAAAAXkAAAAAAAIBVQAAAAAAAwFpAAAAAAAAgYEAAAAAAAOBgQAAAAAAAQFhAAAAAAABAX0AAAAAAAEBkQAAAAAAAAGFAAAAAAABAYUAAAAAAAIBfQAAAAAAAIGFAAAAAAACAXEAAAAAAAABYQAAAAAAAwFpAAAAAAABAVkAAAAAAAIBXQAAAAAAAgGJAAAAAAACAVEAAAAAAAMBXQAAAAAAAAF5AAAAAAADAXEAAAAAAAMBaQAAAAAAAQFpAAAAAAADAYEAAAAAAAABgQAAAAAAAwFlAAAAAAAAAWEAAAAAAAIBcQAAAAAAAgFlAAAAAAAAASkAAAAAAAIBVQAAAAAAAAFpAAAAAAAAAU0AAAAAAAOBgQAAAAAAAwFhAAAAAAAAAX0AAAAAAAEBdQAAAAAAAwFpAAAAAAADAW0AAAAAAAABdQAAAAAAA4GBAAAAAAACAX0AAAAAAAIBkQAAAAAAAwGRAAAAAAAAAWkAAAAAAAIBXQAAAAAAAAFdAAAAAAAAASkAAAAAAAABcQAAAAAAAgFZAAAAAAABAWUAAAAAAAABVQAAAAAAAAFxAAAAAAAAAYUAAAAAAAABbQAAAAAAAgFtAAAAAAABAV0AAAAAAAIBWQAAAAAAAQGBAAAAAAAAAYEAAAAAAAABaQAAAAAAAYGBAAAAAAABAW0AAAAAAACBgQAAAAAAAQFJAAAAAAAAAWkAAAAAAAABIQAAAAAAAgFxAAAAAAACAVUAAAAAAAEBoQAAAAAAAAFNAAAAAAAAAXUAAAAAAAEBgQAAAAAAAQFVAAAAAAAAAW0AAAAAAAEBUQAAAAAAAAFNAAAAAAAAAV0AAAAAAAEBVQAAAAAAAQFVAAAAAAAAAW0AAAAAAAABeQAAAAAAAQF1AAAAAAAAAWUAAAAAAAEBZQAAAAAAAgGNAAAAAAACAS0AAAAAAAABYQAAAAAAAAFpAAAAAAABAWUAAAAAAAEBcQAAAAAAAgF9AAAAAAACAWEAAAAAAAIBcQAAAAAAAgGBAAAAAAAAAV0AAAAAAAIBWQAAAAAAAgFVAAAAAAADAWUAAAAAAAIBcQAAAAAAAwFxAAAAAAACgYkAAAAAAAABYQAAAAAAAgFlAAAAAAABAWkAAAAAAAIBcQAAAAAAAgFdAAAAAAADAVEAAAAAAAIBaQAAAAAAAAF1AAAAAAABAW0AAAAAAAEBYQAAAAAAAAFlAAAAAAAAAXUAAAAAAAMBbQAAAAAAAADhAAAAAAADAV0AAAAAAAOBgQAAAAAAAwFdAAAAAAAAAV0AAAAAAAABZQAAAAAAAAFRAAAAAAACAWEAAAAAAAABaQAAAAAAAgFhAAAAAAAAAWkAAAAAAAMBYQAAAAAAAAFFAAAAAAACAWkAAAAAAAMBRQAAAAAAAAFRAAAAAAAAAXUAAAAAAAABcQAAAAAAAQFJAAAAAAACAW0AAAAAAAOBgQAAAAAAAAGBAAAAAAABAV0AAAAAAAKBiQAAAAAAAAEtAAAAAAADAVUAAAAAAAIBZQAAAAAAAIGZAAAAAAACAaUAAAAAAACBtQAAAAAAAgFhAAAAAAACgbUAAAAAAAMBsQAAAAAAAoGVAAAAAAABgaEAAAAAAAKBvQAAAAAAAoGNAAAAAAABAWEAAAAAAAEBVQAAAAAAAgFdAAAAAAAAAVEAAAAAAAIBXQAAAAAAAAFdAAAAAAABAWkAAAAAAAABeQAAAAAAAAFhAAAAAAADAWkAAAAAAAEBXQAAAAAAAQFlAAAAAAACAW0AAAAAAAABcQAAAAAAAQFdAAAAAAABAW0AAAAAAAEBaQAAAAAAAQFhAAAAAAADAVkAAAAAAAABWQAAAAAAAQFtAAAAAAACAXUAAAAAAAEBbQAAAAAAAYGBAAAAAAADAVkAAAAAAAABjQAAAAAAAwFBAAAAAAAAAUkAAAAAAAMBUQAAAAAAAgFZAAAAAAACAWkAAAAAAAMBnQAAAAAAAIGBAAAAAAAAAZEAAAAAAAIBVQAAAAAAAAFdAAAAAAACAXEAAAAAAAIBWQAAAAAAAgFdAAAAAAACAVUAAAAAAAEBWQAAAAAAAwFpAAAAAAACATkAAAAAAAEBXQAAAAAAAQFRAAAAAAAAAXkAAAAAAAIBXQAAAAAAAwFZAAAAAAAAAWkAAAAAAAABTQAAAAAAAgFZAAAAAAADAWUAAAAAAAIBeQAAAAAAAQFhAAAAAAACAWEAAAAAAAABFQAAAAAAAgFZAAAAAAADAVkAAAAAAAIBXQAAAAAAAwFpAAAAAAADgYUAAAAAAAEBaQAAAAAAAAF1AAAAAAAAAN0AAAAAAAAA3QAAAAAAAADdAAAAAAABAWkAAAAAAAEBYQAAAAAAAQFpAAAAAAADAVEAAAAAAAEBbQAAAAAAAwFtAAAAAAABAWEAAAAAAAIBgQAAAAAAAgFlAAAAAAADAWkAAAAAAAABZQAAAAAAAwFxAAAAAAAAAWkAAAAAAAIBbQAAAAAAAAFlAAAAAAADAW0AAAAAAAABbQAAAAAAAAFpAAAAAAAAAXUAAAAAAAIBaQAAAAAAAAFhAAAAAAACAYUAAAAAAAMBaQAAAAAAAQGFAAAAAAACAYEAAAAAAAABqQAAAAAAAQFpAAAAAAABAWUAAAAAAAABfQAAAAAAAQFdAAAAAAACAW0AAAAAAAMBcQAAAAAAAwFpAAAAAAAAAUkAAAAAAAMBaQAAAAAAAwFdAAAAAAACAZkAAAAAAAOBgQAAAAAAAwFVAAAAAAACAV0AAAAAAAEBaQAAAAAAAQFdAAAAAAAAAV0AAAAAAAABiQAAAAAAAQFlAAAAAAABAVEAAAAAAAMBXQAAAAAAAwF1AAAAAAABAXkAAAAAAAABWQAAAAAAAgFpAAAAAAADAXUAAAAAAAIBPQAAAAAAAgFRAAAAAAADAV0AAAAAAAEBXQAAAAAAAAF5AAAAAAABgYkAAAAAAAIBLQAAAAAAAwFpAAAAAAAAAV0AAAAAAAEBVQAAAAAAAgFhAAAAAAAAAV0AAAAAAAEBZQAAAAAAAAFxAAAAAAADAWUAAAAAAAMBWQAAAAAAAAFhAAAAAAAAAWkAAAAAAAIBQQAAAAAAAwFRAAAAAAADAW0AAAAAAAIBWQAAAAAAAQF5AAAAAAABAXkAAAAAAAABWQAAAAAAAgExAAAAAAADAWkAAAAAAAAAUQAAAAAAAwFZAAAAAAADAZUAAAAAAAGBjQAAAAAAAwFVAAAAAAABAU0AAAAAAAMBhQAAAAAAAQGVAAAAAAACgZEAAAAAAACBkQAAAAAAAAGJAAAAAAACgYkAAAAAAAOBgQAAAAAAAYGBAAAAAAACAX0AAAAAAAABoQAAAAAAAIGpAAAAAAABgZ0AAAAAAAEBhQAAAAAAAIGdAAAAAAADgYUAAAAAAAEBYQAAAAAAAgGVAAAAAAADAWUAAAAAAAMBUQAAAAAAAwFpAAAAAAACAXEAAAAAAAEBXQAAAAAAAQFVAAAAAAABAVUAAAAAAAGBgQAAAAAAAQFlAAAAAAADAWkAAAAAAAABVQAAAAAAAAFpAAAAAAAAAZEAAAAAAAMBZQAAAAAAAAEdAAAAAAAAAXEAAAAAAAMBUQAAAAAAAAFJAAAAAAAAAOEAAAAAAAABaQAAAAAAAAFJAAAAAAABAXEAAAAAAAAA1QAAAAAAAAFlAAAAAAAAAW0AAAAAAAMBYQAAAAAAAAFpAAAAAAACAUUAAAAAAAEBXQAAAAAAAwFdAAAAAAABAW0AAAAAAAMBWQAAAAAAAwFJAAAAAAAAAWUAAAAAAAMBXQAAAAAAAQFxAAAAAAADAVkAAAAAAAABPQAAAAAAAQFdAAAAAAADgYEAAAAAAAAA3QAAAAAAAADdAAAAAAAAAN0AAAAAAAEBZQAAAAAAAgFhAAAAAAADAWUAAAAAAAIBaQAAAAAAAwFdAAAAAAACAYEAAAAAAAIBUQAAAAAAAwFFAAAAAAAAAMEAAAAAAAABaQAAAAAAAwFNAAAAAAAAAXkAAAAAAAIBUQAAAAAAAwFxAAAAAAADAW0AAAAAAAIBbQAAAAAAAQF5AAAAAAABAZEAAAAAAAABbQAAAAAAAQGdAAAAAAAAAXUAAAAAAAEBjQAAAAAAAQFpAAAAAAADAUUAAAAAAAIBOQAAAAAAAoGBAAAAAAACAWEAAAAAAAMBdQAAAAAAAgE5AAAAAAABAYEAAAAAAAAAmQAAAAAAAwFVAAAAAAADAX0AAAAAAAMBVQAAAAAAAAFZAAAAAAADAY0AAAAAAAIBUQAAAAAAAQFdAAAAAAACAVkAAAAAAAEBbQAAAAAAAAFJAAAAAAABAZEAAAAAAAIBYQAAAAAAAwFlAAAAAAABAWEAAAAAAAIBXQAAAAAAAQFlAAAAAAABAYUAAAAAAAEBbQAAAAAAAAElAAAAAAACAW0AAAAAAAABXQAAAAAAAAF5AAAAAAABAWUAAAAAAAABdQAAAAAAAQF1AAAAAAADAV0AAAAAAAEBXQAAAAAAAgF5AAAAAAACAWUAAAAAAAABYQAAAAAAAQFdAAAAAAABAV0AAAAAAAABSQAAAAAAAwFVAAAAAAADAV0AAAAAAAIBAQAAAAAAAQFxAAAAAAACAXUAAAAAAAGBlQAAAAAAAAFlAAAAAAADAWUAAAAAAAIBVQAAAAAAAgFlAAAAAAABAVEAAAAAAAEBZQAAAAAAAQFJAAAAAAAAAWEAAAAAAAIBaQAAAAAAAAFZAAAAAAADAWUAAAAAAAGBhQAAAAAAAQFZAAAAAAAAAWkAAAAAAAABfQAAAAAAAAFxAAAAAAACAUUAAAAAAAIBaQAAAAAAAQFhAAAAAAACAWkAAAAAAAABOQAAAAAAAgGJAAAAAAACAXkAAAAAAAIBVQAAAAAAAIGhAAAAAAAAAV0AAAAAAAIBXQAAAAAAAgFRAAAAAAACATUAAAAAAAEBWQAAAAAAAAGZAAAAAAAAAXUAAAAAAAIBVQAAAAAAAQFdAAAAAAABAVUAAAAAAAABPQAAAAAAAAFxAAAAAAABAXkAAAAAAAKBgQAAAAAAAAFNAAAAAAACAVEAAAAAAAIBjQAAAAAAAgFZAAAAAAABAWEAAAAAAAIBJQAAAAAAAgFhAAAAAAACATkAAAAAAAABdQAAAAAAAgGBAAAAAAAAAMUAAAAAAAMBWQAAAAAAAQF5AAAAAAACAU0AAAAAAAMBXQAAAAAAAgFVAAAAAAACAYEAAAAAAAMBaQAAAAAAAgF5AAAAAAADAV0AAAAAAAABbQAAAAAAAwFhAAAAAAADAWUAAAAAAAIBQQAAAAAAAgGBAAAAAAAAATEAAAAAAAABgQAAAAAAAwF1AAAAAAABAWEAAAAAAAABXQAAAAAAAgFlAAAAAAACAVkAAAAAAACBgQAAAAAAAgFpAAAAAAABAWkAAAAAAAIBTQAAAAAAAwFNAAAAAAACAU0AAAAAAACBiQAAAAAAAwFFAAAAAAADAVEAAAAAAAEBUQAAAAAAAwF1AAAAAAACAWEAAAAAAAIBZQAAAAAAAAFZAAAAAAABAWEAAAAAAAIBbQAAAAAAAQFVAAAAAAACAVkAAAAAAAEBWQAAAAAAAAF5AAAAAAACAWUAAAAAAAEBSQAAAAAAAwFlAAAAAAADAU0AAAAAAAEBYQAAAAAAAwFZAAAAAAAAAWEAAAAAAAMBZQAAAAAAAwFdAAAAAAADAVEAAAAAAAEBdQAAAAAAAgFFAAAAAAACAVkAAAAAAAIBVQAAAAAAAgFVAAAAAAABAXEAAAAAAAIBUQAAAAAAAoGFAAAAAAADAWkAAAAAAAIBfQAAAAAAAADlAAAAAAACAT0AAAAAAAABhQAAAAAAAAF5AAAAAAADAYEAAAAAAACBnQAAAAAAAwGVAAAAAAAAgZUAAAAAAAIBiQAAAAAAA4GBAAAAAAADgYEAAAAAAAEBWQAAAAAAAwF1AAAAAAACAWEAAAAAAAOBgQAAAAAAAIGdAAAAAAACAY0AAAAAAAABaQAAAAAAAYGFAAAAAAACAYUAAAAAAAEBjQAAAAAAAIGBAAAAAAADAWEAAAAAAAABZQAAAAAAAgFtAAAAAAADAWkAAAAAAAMBXQAAAAAAAQFZAAAAAAABAUEAAAAAAAOBhQAAAAAAAQFlAAAAAAAAATkAAAAAAAAA9QAAAAAAAAFdAAAAAAACAZUAAAAAAAEBYQAAAAAAAAFtAAAAAAADAWkAAAAAAACBhQAAAAAAAgFpAAAAAAADAXEAAAAAAAABHQAAAAAAAAFdAAAAAAABAV0AAAAAAAEBVQAAAAAAAADhAAAAAAAAATEAAAAAAAIBVQAAAAAAAwF9AAAAAAABAV0AAAAAAAIBXQAAAAAAAAF5AAAAAAAAAW0AAAAAAAOBgQAAAAAAAwFtAAAAAAADAYEAAAAAAACBhQAAAAAAAwFlAAAAAAACgYEAAAAAAAMBXQAAAAAAAgF9AAAAAAADAUEAAAAAAAOBgQAAAAAAAgFpAAAAAAADAWkAAAAAAAEBUQAAAAAAAwFpAAAAAAACAXUAAAAAAAIBbQAAAAAAAAFpAAAAAAABAV0AAAAAAAIBXQAAAAAAAIGFAAAAAAADAYEAAAAAAAEBRQAAAAAAAgFpAAAAAAAAgakAAAAAAAIBVQAAAAAAAADhAAAAAAAAAR0AAAAAAAEBdQAAAAAAAwFVAAAAAAABAXkAAAAAAAEBYQAAAAAAAQF5AAAAAAAAATEAAAAAAAMBdQAAAAAAAQFdAAAAAAACAVUAAAAAAAMBgQAAAAAAAADxAAAAAAABgYEAAAAAAAIBTQAAAAAAAQFdAAAAAAAAAVUAAAAAAAMBaQAAAAAAAQFlAAAAAAADAWkAAAAAAAIBSQAAAAAAAAE5AAAAAAADgYUAAAAAAAEBaQAAAAAAAgFtAAAAAAACAWEAAAAAAAIBSQAAAAAAAAEdAAAAAAAAAS0AAAAAAAIBNQAAAAAAAAFlAAAAAAAAAVkAAAAAAAEBXQAAAAAAAgFdAAAAAAABAXkAAAAAAAIBTQAAAAAAAAF1AAAAAAADAVUAAAAAAAIBOQAAAAAAAgFhAAAAAAADAXkAAAAAAAEBVQAAAAAAAgFNAAAAAAADAWUAAAAAAAABGQAAAAAAAAFFAAAAAAAAAUUAAAAAAAEBRQAAAAAAAQFRAAAAAAABAUUAAAAAAAABRQAAAAAAAAFFAAAAAAACAVUAAAAAAAABEQAAAAAAAgFdAAAAAAACAVkAAAAAAAABcQAAAAAAAQFlAAAAAAADAXUAAAAAAAABEQAAAAAAAgFVAAAAAAAAAV0AAAAAAAMBWQAAAAAAAAEJAAAAAAACgYUAAAAAAAMBaQAAAAAAAQFhAAAAAAAAAOEAAAAAAAEBWQAAAAAAAQFBAAAAAAACAX0AAAAAAAIBPQAAAAAAAACxAAAAAAAAAPEAAAAAAAAA0QAAAAAAAgFpAAAAAAACAXUAAAAAAAMBfQAAAAAAAgE5AAAAAAACAVUAAAAAAAIBXQAAAAAAAgFRAAAAAAAAAV0AAAAAAAABKQAAAAAAAAFtAAAAAAADAUEAAAAAAAMBWQAAAAAAAgFBAAAAAAACAXUAAAAAAAMBVQAAAAAAAgEdAAAAAAAAATEAAAAAAAIBOQAAAAAAAAEFAAAAAAACAWEAAAAAAAMBYQAAAAAAAwFdAAAAAAAAAWUAAAAAAAEBZQAAAAAAAgFVAAAAAAAAAWEAAAAAAAMBYQAAAAAAAAFxAAAAAAADAX0AAAAAAAAA2QAAAAAAAgFNAAAAAAACAT0AAAAAAAEBYQAAAAAAAgFVAAAAAAAAAT0AAAAAAAABYQAAAAAAAAFpAAAAAAADAXkAAAAAAAABZQAAAAAAAwFhAAAAAAADgYkAAAAAAAIBZQAAAAAAAQGNAAAAAAACAWkAAAAAAAMBVQAAAAAAAgFFAAAAAAAAAR0AAAAAAAEBZQAAAAAAAQFtAAAAAAAAAWUAAAAAAAIBbQAAAAAAAgFlAAAAAAACAWUAAAAAAAAA4QAAAAAAAgFhAAAAAAAAAU0AAAAAAAIBWQAAAAAAAgE1AAAAAAAAATUAAAAAAAABQQAAAAAAAwFNAAAAAAABAVEAAAAAAAEBUQAAAAAAAAFBAAAAAAACARkAAAAAAAIBWQAAAAAAAgFlAAAAAAAAAXUAAAAAAAABFQAAAAAAAoGBAAAAAAAAAW0AAAAAAAABDQAAAAAAAQGJAAAAAAABAYkAAAAAAAIBaQAAAAAAAAE1AAAAAAAAAY0AAAAAAAMBVQAAAAAAAQF5AAAAAAADAVEAAAAAAAMBbQAAAAAAAADhAAAAAAABgZUAAAAAAAABWQAAAAAAAAFNAAAAAAAAAUEAAAAAAAIBXQAAAAAAAoGNAAAAAAADAVEAAAAAAAEBQQAAAAAAAQFpAAAAAAADAWkAAAAAAAMBZQAAAAAAAwFBAAAAAAAAAWEAAAAAAAEBfQAAAAAAAwGFAAAAAAACgYEAAAAAAAABZQAAAAAAAACRAAAAAAAAAYEAAAAAAAEBXQAAAAAAAQFRAAAAAAACAVEAAAAAAAIBHQAAAAAAAwFdAAAAAAAAAVUAAAAAAAMBWQAAAAAAAgFlAAAAAAAAAWUAAAAAAAIBYQAAAAAAAgFtAAAAAAABAVUAAAAAAAIBQQAAAAAAAAFdAAAAAAACgYEAAAAAAAOBgQAAAAAAAAF5AAAAAAACAXUAAAAAAAIBbQAAAAAAAgFhAAAAAAACAWEAAAAAAAIBYQAAAAAAAAFpAAAAAAACAT0AAAAAAAABKQAAAAAAAAFJAAAAAAABAXUAAAAAAAABZQAAAAAAAADhAAAAAAACAVUAAAAAAAEBRQAAAAAAAwF1AAAAAAADAXkAAAAAAAEBXQAAAAAAAQFtAAAAAAACAUEAAAAAAAMBaQAAAAAAAAEdAAAAAAABAXUAAAAAAAMBQQAAAAAAAgFxAAAAAAADAUEAAAAAAAEBTQAAAAAAAQFpAAAAAAACAT0AAAAAAAIBNQAAAAAAAgFlAAAAAAABAVEAAAAAAAABVQAAAAAAAQFlAAAAAAAAAXUAAAAAAACBmQAAAAAAAQGBAAAAAAACATUAAAAAAAMBbQAAAAAAAAFlAAAAAAABAU0AAAAAAAEBXQAAAAAAAgFxAAAAAAAAATUAAAAAAAABMQAAAAAAAgFtAAAAAAACAWEAAAAAAAIBaQAAAAAAAgFlAAAAAAABAVEAAAAAAAIBYQAAAAAAAAGFAAAAAAAAgZEAAAAAAAABAQAAAAAAAQFpAAAAAAACAWkAAAAAAAIBWQAAAAAAAwFVAAAAAAADAVkAAAAAAAIBaQAAAAAAAQFBAAAAAAABAWkAAAAAAAABEQAAAAAAAgFBAAAAAAACATkAAAAAAAIBeQAAAAAAAoGFAAAAAAAAAZkAAAAAAAEBSQAAAAAAAwFVAAAAAAAAALkAAAAAAAIBLQAAAAAAAoGFAAAAAAACAXkAAAAAAAEBbQAAAAAAAgE9AAAAAAAAAWEAAAAAAAEBcQAAAAAAAQFFAAAAAAADAVUAAAAAAAABdQAAAAAAAAF1AAAAAAACAW0AAAAAAAIBeQAAAAAAAgE1AAAAAAAAAVkAAAAAAAMBWQAAAAAAAAERAAAAAAABAXEAAAAAAAIBWQAAAAAAAwFdAAAAAAACAWEAAAAAAAIBOQAAAAAAAQF1AAAAAAAAATkAAAAAAAMBhQAAAAAAAgFJAAAAAAADAXUAAAAAAAIBcQAAAAAAAQF9AAAAAAADAUUAAAAAAAIBbQAAAAAAAwF9AAAAAAACAXUAAAAAAAIBWQAAAAAAAQGBAAAAAAAAAKEAAAAAAAABPQAAAAAAAAAhAAAAAAACAXEAAAAAAAABgQAAAAAAAQFtAAAAAAABAW0AAAAAAAEBZQAAAAAAAwFlAAAAAAACAWEAAAAAAAMBeQAAAAAAAAENAAAAAAABAWUAAAAAAAMBYQAAAAAAAwFZAAAAAAAAAPkAAAAAAAAA+QAAAAAAAIGFAAAAAAACAUEAAAAAAAIBRQAAAAAAAwFVAAAAAAAAAVkAAAAAAAIBWQAAAAAAAAFVAAAAAAACASkAAAAAAAMBVQAAAAAAAgFZAAAAAAAAAWEAAAAAAAIBXQAAAAAAAAFtAAAAAAACAWUAAAAAAAIBOQAAAAAAAgFdAAAAAAACAUUAAAAAAAABWQAAAAAAAAFlAAAAAAADAW0AAAAAAAABgQAAAAAAAgFhAAAAAAAAAWkAAAAAAAIBfQAAAAAAAgFVAAAAAAABAX0AAAAAAAABEQAAAAAAAwFNAAAAAAACAW0AAAAAAAABgQAAAAAAAgFtAAAAAAAAAXUAAAAAAAMBdQAAAAAAAgFZAAAAAAAAAVkAAAAAAAABaQAAAAAAAgGFAAAAAAAAAV0AAAAAAAABQQAAAAAAAwF1AAAAAAADAVkAAAAAAAIBeQAAAAAAAQF9AAAAAAACASEAAAAAAAABlQAAAAAAAgFhAAAAAAABAU0AAAAAAAIBZQAAAAAAAAFdAAAAAAADAW0AAAAAAAEBcQAAAAAAAAEtAAAAAAABAYUAAAAAAAMBeQAAAAAAAgE1AAAAAAACAWUAAAAAAAKBhQAAAAAAAwFdAAAAAAADAW0AAAAAAAGBgQAAAAAAAAF1AAAAAAADAXUAAAAAAAEBiQAAAAAAAQFlAAAAAAADAVUAAAAAAAIBXQAAAAAAAoGBAAAAAAADgYEAAAAAAAIBOQAAAAAAAwFZAAAAAAACATUAAAAAAAMBWQAAAAAAAYGBAAAAAAABAZUAAAAAAAABWQAAAAAAAQGVAAAAAAAAAV0AAAAAAAIBNQAAAAAAAgF9AAAAAAAAAXkAAAAAAAABTQAAAAAAAAE5AAAAAAADAWUAAAAAAAABfQAAAAAAAwFZAAAAAAAAAVkAAAAAAAEBUQAAAAAAAAF9AAAAAAACAWUAAAAAAAIBgQAAAAAAAwFVAAAAAAADAUkAAAAAAAIBfQAAAAAAAgE5AAAAAAACAX0AAAAAAAABbQAAAAAAAAFlAAAAAAAAgYEAAAAAAAMBRQAAAAAAAAFtAAAAAAAAATkAAAAAAAEBaQAAAAAAAwFxAAAAAAACAXUAAAAAAAEBgQAAAAAAAwFxAAAAAAABAUUAAAAAAAEBYQAAAAAAAgE5AAAAAAAAAV0AAAAAAAABbQAAAAAAAAFpAAAAAAABAUEAAAAAAAIBaQAAAAAAAQFFAAAAAAABAWEAAAAAAAABUQAAAAAAAQFVAAAAAAACAWEAAAAAAAMBcQAAAAAAAQF1AAAAAAACAYEAAAAAAAMBfQAAAAAAAQF9AAAAAAAAAYEAAAAAAAIBfQAAAAAAAAE1AAAAAAAAAXUAAAAAAAIBWQAAAAAAAwFtAAAAAAAAAWUAAAAAAAMBYQAAAAAAAQFpAAAAAAAAAYEAAAAAAAMBWQAAAAAAAwF9AAAAAAACAV0AAAAAAAABfQAAAAAAAwFlAAAAAAACAXUAAAAAAAEBkQAAAAAAAQFZAAAAAAABAVkAAAAAAAABbQAAAAAAAwFlAAAAAAADAVUAAAAAAAEBXQAAAAAAAgFZAAAAAAABgYEAAAAAAAIBcQAAAAAAAwFpAAAAAAABAWEAAAAAAAMBZQAAAAAAAQF9AAAAAAABAYEAAAAAAAMBdQAAAAAAAgFtAAAAAAAAAXkAAAAAAAIBZQAAAAAAAQF9AAAAAAADAX0AAAAAAAEBeQAAAAAAAQFxAAAAAAACAXUAAAAAAAIBgQAAAAAAAgE5AAAAAAAAAVEAAAAAAAIBbQAAAAAAAgFFAAAAAAABAXUAAAAAAAEBWQAAAAAAAAFVAAAAAAABgYEAAAAAAAGBhQAAAAAAAAEVAAAAAAADAU0AAAAAAAABYQAAAAAAAgFxAAAAAAADAWEAAAAAAAMBbQAAAAAAAAFxAAAAAAAAAWEAAAAAAAMBZQAAAAAAAAFpAAAAAAACAWUAAAAAAAEBYQAAAAAAAgGBAAAAAAAAAXkAAAAAAACBhQAAAAAAAgFRAAAAAAADAXEAAAAAAAEBgQAAAAAAAAE9AAAAAAAAAOkAAAAAAAMBWQAAAAAAAgE9AAAAAAACAUkAAAAAAAABhQAAAAAAAgE1AAAAAAADAVkAAAAAAAEBXQAAAAAAAAFVAAAAAAAAAWUAAAAAAAIBJQAAAAAAAADZAAAAAAAAANkAAAAAAAAA2QAAAAAAAADhAAAAAAABAXEAAAAAAAIBbQAAAAAAAAF5AAAAAAAAATEAAAAAAAMBfQAAAAAAAgFJAAAAAAADAVkAAAAAAACBhQAAAAAAAgFVAAAAAAACAWkAAAAAAAEBfQAAAAAAAgFxAAAAAAADgYUAAAAAAAEBeQAAAAAAAwF1AAAAAAADAYkAAAAAAAABWQAAAAAAAQFpAAAAAAADAXUAAAAAAAABYQAAAAAAAwFdAAAAAAACAWEAAAAAAAABYQAAAAAAAAFhAAAAAAACAVkAAAAAAAEBYQAAAAAAAgFZAAAAAAAAAVkAAAAAAAEBaQAAAAAAAwF9AAAAAAABAX0AAAAAAAABdQAAAAAAAgFlAAAAAAABAUEAAAAAAAIBaQAAAAAAAQF1AAAAAAAAAYUAAAAAAAABaQAAAAAAAQFBAAAAAAADAVkAAAAAAAMBYQAAAAAAAwFZAAAAAAABAXUAAAAAAAMBXQAAAAAAAQFlAAAAAAACAWUAAAAAAAIBeQAAAAAAAwFdAAAAAAAAAV0AAAAAAAMBbQAAAAAAAwFxAAAAAAACATkAAAAAAAEBYQAAAAAAAAF5AAAAAAACAYkAAAAAAAABIQAAAAAAAADxAAAAAAAAAQUAAAAAAAIBOQAAAAAAAAExAAAAAAABAVEAAAAAAAABRQAAAAAAAAE1AAAAAAAAAWUAAAAAAAABJQAAAAAAAgEhAAAAAAADAUUAAAAAAAAA9QAAAAAAAAFtAAAAAAABAX0AAAAAAAABZQAAAAAAAAD5AAAAAAAAAPkAAAAAAAEBiQAAAAAAAwF9AAAAAAAAAR0AAAAAAAIBMQAAAAAAAgF5AAAAAAACAc0AAAAAAAEBbQAAAAAAAQFJAAAAAAAAAWEAAAAAAAEBaQAAAAAAAAF9AAAAAAABAWkAAAAAAAIBTQAAAAAAAADZAAAAAAADAV0AAAAAAAIBUQAAAAAAAQFZAAAAAAACAVkAAAAAAAEBVQAAAAAAAAD1AAAAAAAAgYUAAAAAAAAA7QAAAAAAAAFxAAAAAAAAAXEAAAAAAACBjQAAAAAAAwF5AAAAAAACAVkAAAAAAAABVQAAAAAAAgFNAAAAAAADAU0AAAAAAAEBSQAAAAAAAwFRAAAAAAADAVEAAAAAAACBiQAAAAAAA4GBAAAAAAACAQUAAAAAAAABRQAAAAAAAAFhAAAAAAACAW0AAAAAAAABNQAAAAAAAQFpAAAAAAACATUAAAAAAAAA8QAAAAAAAgFhAAAAAAACAT0AAAAAAAGBjQAAAAAAAgF5AAAAAAADAVUAAAAAAAEBSQAAAAAAAgFhAAAAAAABAYEAAAAAAAEBaQAAAAAAAgFtAAAAAAABAVEAAAAAAAMBcQAAAAAAAQFxAAAAAAABAYkAAAAAAAIBdQAAAAAAAQFtAAAAAAABAXUAAAAAAAAA3QAAAAAAAwFdAAAAAAAAAX0AAAAAAAIBWQAAAAAAAAFhAAAAAAAAAWEAAAAAAAEBXQAAAAAAAAD5AAAAAAACAVEAAAAAAAMBfQAAAAAAAgFxAAAAAAADAXUAAAAAAAEBZQAAAAAAAAFhAAAAAAAAARkAAAAAAAABaQAAAAAAAwFZAAAAAAADAVkAAAAAAAIBcQAAAAAAAwFZAAAAAAAAAUEAAAAAAAEBWQAAAAAAAwFdAAAAAAACAV0AAAAAAAKBgQAAAAAAAgFlAAAAAAACAXkAAAAAAAIBVQAAAAAAAwFtAAAAAAADAW0AAAAAAAABhQAAAAAAAQF5AAAAAAADAXUAAAAAAAMBcQAAAAAAAAGBAAAAAAAAAV0AAAAAAAMBYQAAAAAAAgFpAAAAAAACAXkAAAAAAACBgQAAAAAAAgFZAAAAAAAAAXUAAAAAAAIBNQAAAAAAAwFdAAAAAAACAXkAAAAAAAIBYQAAAAAAAQF1AAAAAAADAV0AAAAAAAEBiQAAAAAAAAGFAAAAAAADAVkAAAAAAAMBeQAAAAAAAAGJAAAAAAABAXkAAAAAAAMBWQAAAAAAAwGNAAAAAAACgY0AAAAAAAABfQAAAAAAAgFpAAAAAAAAAV0AAAAAAAABUQAAAAAAAgF9AAAAAAAAgYEAAAAAAAKBgQAAAAAAAQFtAAAAAAADgYUAAAAAAAIBhQAAAAAAAwGJAAAAAAAAAYEAAAAAAAABeQAAAAAAAQGNAAAAAAACARkAAAAAAAIBgQAAAAAAAgF9AAAAAAADAV0AAAAAAAOBgQAAAAAAAYGFAAAAAAABgYEAAAAAAAIBdQAAAAAAAIGBAAAAAAABgYEAAAAAAAEBiQAAAAAAAwF5AAAAAAACgYUAAAAAAAEBXQAAAAAAAwFZAAAAAAACAWkAAAAAAAGBgQAAAAAAAwFdAAAAAAAAAWkAAAAAAAIBfQAAAAAAAgF1AAAAAAACAV0AAAAAAAABZQAAAAAAAgF9AAAAAAACAVkAAAAAAAMBVQAAAAAAAQFhAAAAAAADAXEAAAAAAAEBXQAAAAAAAQGFAAAAAAACAUkAAAAAAAIBZQAAAAAAAAFpAAAAAAACASUAAAAAAAABJQAAAAAAAgFVAAAAAAACAYUAAAAAAAIBeQAAAAAAAADdAAAAAAADAV0AAAAAAAEBeQAAAAAAAYGBAAAAAAACAT0AAAAAAAMBiQAAAAAAA4GNAAAAAAABgYEAAAAAAAEBgQAAAAAAAwFhAAAAAAACAVUAAAAAAAIBaQAAAAAAAgExAAAAAAABAWEAAAAAAAABiQAAAAAAAgFtAAAAAAACATEAAAAAAAMBdQAAAAAAAgFdAAAAAAABAVkAAAAAAAABfQAAAAAAAADlAAAAAAABAXkAAAAAAAABWQAAAAAAAwFtAAAAAAABAVEAAAAAAAABQQAAAAAAAgEtAAAAAAAAgYUAAAAAAAABMQAAAAAAAAE1AAAAAAAAAVEAAAAAAAIBXQAAAAAAAgFdAAAAAAAAAUkAAAAAAAABOQAAAAAAAgGFAAAAAAADAVkAAAAAAAEBYQAAAAAAAQGJAAAAAAACAXUAAAAAAAABgQAAAAAAAIGFAAAAAAAAgYkAAAAAAAKBhQAAAAAAAgFpAAAAAAADgYEAAAAAAACBhQAAAAAAAIGBAAAAAAADAWEAAAAAAAGBjQAAAAAAAwGFAAAAAAADAakAAAAAAACBhQAAAAAAAAGBAAAAAAADgYkAAAAAAAEBeQAAAAAAAQFlAAAAAAAAgYkAAAAAAAGBiQAAAAAAAgFZAAAAAAAAgYEAAAAAAACBgQAAAAAAAAGFAAAAAAABAXUAAAAAAAMBiQAAAAAAAwGBAAAAAAAAAWUAAAAAAAABGQAAAAAAAAEZAAAAAAADAW0AAAAAAAGBiQAAAAAAAwFxAAAAAAABAXkAAAAAAAMBZQAAAAAAAQFJAAAAAAAAgYEAAAAAAAIBZQAAAAAAAgF5AAAAAAABgY0AAAAAAAGBhQAAAAAAAYGBAAAAAAADAX0AAAAAAAIBjQAAAAAAAwFZAAAAAAACAYEAAAAAAAEBgQAAAAAAAIGFAAAAAAACAY0AAAAAAAIBgQAAAAAAAwF1AAAAAAACAYUAAAAAAAIBfQAAAAAAAwFpAAAAAAADAW0AAAAAAAEBgQAAAAAAAgF9AAAAAAAAAOEAAAAAAAABbQAAAAAAAQF1AAAAAAABAWUAAAAAAAABfQAAAAAAAgE9AAAAAAACAXEAAAAAAAIBYQAAAAAAAAFlAAAAAAAAAWUAAAAAAAMBeQAAAAAAAQFNAAAAAAACAWkAAAAAAAIBaQAAAAAAAgFlAAAAAAABAYkAAAAAAAABYQAAAAAAAAFpAAAAAAABAW0AAAAAAAIBbQAAAAAAAgFtAAAAAAABAWUAAAAAAAIBXQAAAAAAAQFlAAAAAAACgYUAAAAAAAABeQAAAAAAAgGFAAAAAAAAASUAAAAAAAIBMQAAAAAAAAD9AAAAAAACAVkAAAAAAAIBbQAAAAAAAQGRAAAAAAABgYUAAAAAAAEBgQAAAAAAAIGJAAAAAAACAQEAAAAAAAIBcQAAAAAAAAFlAAAAAAAAAS0AAAAAAAMBiQAAAAAAAQFpAAAAAAAAAX0AAAAAAAMBXQAAAAAAAAChAAAAAAAAAWkAAAAAAAOBhQAAAAAAAwF9AAAAAAAAAWUAAAAAAAIBSQAAAAAAAAFpAAAAAAACAYkAAAAAAAMBfQAAAAAAAwGNAAAAAAAAAX0AAAAAAAGBkQAAAAAAAQF5AAAAAAABAY0AAAAAAAMBfQAAAAAAAAGBAAAAAAACAWEAAAAAAAEBbQAAAAAAAAGVAAAAAAABAZEAAAAAAAOBjQAAAAAAAIGFAAAAAAACgYEAAAAAAAMBfQAAAAAAAYGBAAAAAAACAVkAAAAAAAABWQAAAAAAAwFVAAAAAAACAVEAAAAAAAIBVQAAAAAAAAFlAAAAAAACATEAAAAAAAMBXQAAAAAAAQFlAAAAAAAAAX0AAAAAAAABSQAAAAAAAQFdAAAAAAAAAV0AAAAAAAMBXQAAAAAAAoGBAAAAAAABAVUAAAAAAAEBaQAAAAAAAQFlAAAAAAAAAVkAAAAAAAEBcQAAAAAAAwFFAAAAAAADAUkAAAAAAAIBQQAAAAAAAwFRAAAAAAACAW0AAAAAAAABWQAAAAAAAQFNAAAAAAAAATUAAAAAAAEBRQAAAAAAAgE5AAAAAAAAAVkAAAAAAAIBeQAAAAAAAAE5AAAAAAADAZEAAAAAAAMBaQAAAAAAAgFdAAAAAAADAVUAAAAAAAABXQAAAAAAAQGBAAAAAAAAAVkAAAAAAAABgQAAAAAAAAFhAAAAAAACAV0AAAAAAAEBRQAAAAAAAgFZAAAAAAABAWUAAAAAAAEBTQAAAAAAAQFZAAAAAAACAVkAAAAAAAIBYQAAAAAAAgFBAAAAAAADAWUAAAAAAAMBXQAAAAAAAQFZAAAAAAACAUkAAAAAAAMBdQAAAAAAAgFFAAAAAAABAXkAAAAAAAIBaQAAAAAAAgFJAAAAAAACAWkAAAAAAAEBcQAAAAAAAwF1AAAAAAAAAWUAAAAAAAIBbQAAAAAAAgFBAAAAAAACAX0AAAAAAAEBgQAAAAAAAgFtAAAAAAABAVUAAAAAAAEBdQAAAAAAAgE9AAAAAAACAV0AAAAAAAIBSQAAAAAAAAE1AAAAAAABAXUAAAAAAAEBWQAAAAAAAgFBAAAAAAADAY0AAAAAAAABZQAAAAAAAAFBAAAAAAAAAV0AAAAAAAIBPQAAAAAAAQFpAAAAAAADAUEAAAAAAAMBWQAAAAAAAAFdAAAAAAADAVUAAAAAAAABZQAAAAAAAQFxAAAAAAAAAREAAAAAAAEBaQAAAAAAAgFdAAAAAAABAW0AAAAAAAMBYQAAAAAAAQFZAAAAAAAAAV0AAAAAAAEBaQAAAAAAAQGBAAAAAAABAUUAAAAAAAIBYQAAAAAAAgFZAAAAAAABAUEAAAAAAAABXQAAAAAAAADNAAAAAAAAAOUAAAAAAAAA2QAAAAAAAAERAAAAAAAAANkAAAAAAAAA4QAAAAAAAQFlAAAAAAACAVkAAAAAAAABYQAAAAAAAwFxAAAAAAAAAV0AAAAAAAEBXQAAAAAAAwFdAAAAAAABAWkAAAAAAAEBdQAAAAAAAgFBAAAAAAABAWEAAAAAAAIBTQAAAAAAAgFlAAAAAAAAAT0AAAAAAAEBYQAAAAAAAQFpAAAAAAADAU0AAAAAAAIBWQAAAAAAAwFpAAAAAAABAWkAAAAAAAMBYQAAAAAAAAFtAAAAAAACAUEAAAAAAAMBSQAAAAAAAAFhAAAAAAADAV0AAAAAAAABAQAAAAAAAgFFAAAAAAACAV0AAAAAAAIBTQAAAAAAAwFZAAAAAAADAUkAAAAAAAEBaQAAAAAAAAFhAAAAAAACAYEAAAAAAAABOQAAAAAAAYGVAAAAAAAAAXUAAAAAAACBlQAAAAAAAwGBAAAAAAADgY0AAAAAAAMBVQAAAAAAAwFlAAAAAAACAU0AAAAAAAABPQAAAAAAAQFhAAAAAAACAWUAAAAAAAMBXQAAAAAAAwFxAAAAAAACAWUAAAAAAAMBYQAAAAAAAgFJAAAAAAAAAWUAAAAAAAMBiQAAAAAAAwFVAAAAAAAAAVkAAAAAAAIBPQAAAAAAAIGBAAAAAAADAVkAAAAAAAMBcQAAAAAAAgGFAAAAAAADAU0AAAAAAAABaQAAAAAAAQF5AAAAAAAAAREAAAAAAAIBXQAAAAAAAAE1AAAAAAACAU0AAAAAAAIBJQAAAAAAAQFFAAAAAAAAAWkAAAAAAAIBNQAAAAAAAgFdAAAAAAADAZEAAAAAAAGBjQAAAAAAAIGJAAAAAAACAWkAAAAAAAIBXQAAAAAAAwF9AAAAAAADAVUAAAAAAACBnQAAAAAAAwFJAAAAAAABAVkAAAAAAAEBUQAAAAAAAgEdAAAAAAAAAR0AAAAAAAEBfQAAAAAAAAGRAAAAAAACAW0AAAAAAAEBRQAAAAAAAwFBAAAAAAABAWkAAAAAAAMBfQAAAAAAAQFtAAAAAAADAYEAAAAAAAABOQAAAAAAAAFhAAAAAAABAUEAAAAAAAKBgQAAAAAAAAFhAAAAAAADAV0AAAAAAAAA4QAAAAAAAQFhAAAAAAABAUEAAAAAAAIBZQAAAAAAAgEpAAAAAAAAAXUAAAAAAAIBZQAAAAAAAgFVAAAAAAABAXUAAAAAAAABYQAAAAAAAQFFAAAAAAAAAW0AAAAAAAIBZQAAAAAAAgE5AAAAAAACATEAAAAAAAIBIQAAAAAAAwFVAAAAAAACATUAAAAAAAIBPQAAAAAAAQFFAAAAAAAAAT0AAAAAAAABbQAAAAAAAwFdAAAAAAADAWEAAAAAAAABPQAAAAAAAAE5AAAAAAABgYkAAAAAAACBjQAAAAAAAwFVAAAAAAAAAX0AAAAAAAIBXQAAAAAAAAFlAAAAAAADAUUAAAAAAAABOQAAAAAAA4GBAAAAAAABAWEAAAAAAAIBVQAAAAAAAwFZAAAAAAACAVEAAAAAAAIBZQAAAAAAAQFpAAAAAAACAWkAAAAAAAMBWQAAAAAAAgE5AAAAAAAAAVEAAAAAAAIBdQAAAAAAAgFdAAAAAAAAAVUAAAAAAAMBZQAAAAAAAQFFAAAAAAABAWkAAAAAAAABgQAAAAAAAgFVAAAAAAABAW0AAAAAAAIBRQAAAAAAAQFZAAAAAAABAZEAAAAAAAGBkQAAAAAAAwFZAAAAAAAAAO0AAAAAAAMBQQAAAAAAAwGFAAAAAAACAU0AAAAAAAAA6QAAAAAAAAEdAAAAAAABAVEAAAAAAAMBdQAAAAAAAwFhAAAAAAAAAWEAAAAAAAABgQAAAAAAAgFxAAAAAAABAWUAAAAAAAEBbQAAAAAAAgElAAAAAAACATkAAAAAAAEBSQAAAAAAAAFdAAAAAAACAV0AAAAAAAOBgQAAAAAAAgFBAAAAAAACAX0AAAAAAAABLQAAAAAAAAFlAAAAAAABAVEAAAAAAAMBeQAAAAAAAAGJAAAAAAAAgY0AAAAAAAKBhQAAAAAAAAFpAAAAAAABAWEAAAAAAAIBUQAAAAAAAgFhAAAAAAAAAVUAAAAAAAABTQAAAAAAAwFJAAAAAAABAV0AAAAAAAIBYQAAAAAAAwFZAAAAAAAAAZUAAAAAAAABRQAAAAAAAwFlAAAAAAADAV0AAAAAAAIBUQAAAAAAAgFdAAAAAAACAUEAAAAAAAOBgQAAAAAAAAGJAAAAAAACAVkAAAAAAAMBjQAAAAAAAwFRAAAAAAACAWUAAAAAAAABKQAAAAAAAgFtAAAAAAABAVUAAAAAAAEBcQAAAAAAAAFZAAAAAAABAVkAAAAAAAIBNQAAAAAAAgFpAAAAAAACAUEAAAAAAAOBgQAAAAAAAQFdAAAAAAADAU0AAAAAAAMBaQAAAAAAAgEdAAAAAAACAXUAAAAAAAEBUQAAAAAAAwFlAAAAAAAAAREAAAAAAAMBZQAAAAAAAQFVAAAAAAAAAWkAAAAAAAIBUQAAAAAAAAFxAAAAAAACAWUAAAAAAAEBZQAAAAAAAwF1AAAAAAAAAT0AAAAAAAABQQAAAAAAAIGFAAAAAAAAAW0AAAAAAAIBTQAAAAAAAAERAAAAAAADAUUAAAAAAAMBYQAAAAAAAAE5AAAAAAACAU0AAAAAAAIBYQAAAAAAAgFFAAAAAAACAYkAAAAAAAABLQAAAAAAAAFdAAAAAAADAWkAAAAAAAIBWQAAAAAAA4GBAAAAAAADgYkAAAAAAAIBgQAAAAAAAwFdAAAAAAABAZEAAAAAAAGBkQAAAAAAAQFZAAAAAAAAAPEAAAAAAAMBZQAAAAAAAAGRAAAAAAABAXEAAAAAAAIBVQAAAAAAAwFRAAAAAAABAXEAAAAAAAIBVQAAAAAAAgExAAAAAAACAWEAAAAAAAABdQAAAAAAAAFlAAAAAAACASUAAAAAAAEBcQAAAAAAAAF9AAAAAAACAT0AAAAAAAABMQAAAAAAAgFdAAAAAAACAVkAAAAAAAMBRQAAAAAAAQFhAAAAAAADAVEAAAAAAAABXQAAAAAAAoGRAAAAAAADAZEAAAAAAAMBkQAAAAAAA4GNAAAAAAAAAZEAAAAAAAOBjQAAAAAAAADZAAAAAAABAWkAAAAAAAABLQAAAAAAAQF5AAAAAAADAWUAAAAAAACBgQAAAAAAAwFdAAAAAAAAAVEAAAAAAAMBQQAAAAAAAAFVAAAAAAABAWEAAAAAAAIBVQAAAAAAAgFxAAAAAAAAAVUAAAAAAAMBQQAAAAAAAwFZAAAAAAACAT0AAAAAAAABdQAAAAAAAAFpAAAAAAAAALEAAAAAAAEBWQAAAAAAAAFtAAAAAAACATUAAAAAAAIBSQAAAAAAAAFVAAAAAAABAWEAAAAAAAMBXQAAAAAAAAF1AAAAAAACAVUAAAAAAACBjQAAAAAAAAFpAAAAAAABgZEAAAAAAAIBaQAAAAAAAgGJAAAAAAABAWkAAAAAAAEBeQAAAAAAAgFBAAAAAAACAWUAAAAAAAABYQAAAAAAAQFZAAAAAAAAgZEAAAAAAAAA4QAAAAAAAgFBAAAAAAADAVkAAAAAAAABXQAAAAAAAAFpAAAAAAABAUkAAAAAAAIBHQAAAAAAAgFlAAAAAAADAVUAAAAAAAEBdQAAAAAAAwF1AAAAAAABAYEAAAAAAAIBZQAAAAAAAQGNAAAAAAAAARkAAAAAAAABYQAAAAAAAgEdAAAAAAAAARkAAAAAAAEBbQAAAAAAAQFZAAAAAAAAAV0AAAAAAAIBeQAAAAAAAADNAAAAAAABAY0AAAAAAAABjQAAAAAAAIGRAAAAAAADAXkAAAAAAAABGQAAAAAAAAFRAAAAAAADAUUAAAAAAACBjQAAAAAAAwFNAAAAAAADgYUAAAAAAAMBeQAAAAAAAAFRAAAAAAABAUkAAAAAAAIBaQAAAAAAAQFlAAAAAAACATUAAAAAAAIBkQAAAAAAA4GJAAAAAAAAAVUAAAAAAAIBJQAAAAAAAwGFAAAAAAACAW0AAAAAAAIBVQAAAAAAAQFlAAAAAAAAAVkAAAAAAAIBVQAAAAAAAgE5AAAAAAABAVEAAAAAAAABSQAAAAAAAgFhAAAAAAAAAUEAAAAAAAMBbQAAAAAAAgGJAAAAAAABgZEAAAAAAAMBXQAAAAAAAwFhAAAAAAAAARkAAAAAAAEBXQAAAAAAAQFZAAAAAAADAVEAAAAAAAABaQAAAAAAAQFRAAAAAAACASkAAAAAAAMBXQAAAAAAAoGJAAAAAAACAWkAAAAAAAABbQAAAAAAAgFBAAAAAAABAXEAAAAAAAMBUQAAAAAAAAElAAAAAAABAWEAAAAAAAEBaQAAAAAAAwFpAAAAAAADAWEAAAAAAAEBZQAAAAAAAQFRAAAAAAAAAV0AAAAAAAGBgQAAAAAAAQFlAAAAAAAAAWEAAAAAAAEBVQAAAAAAAgFtAAAAAAABAVkAAAAAAAABWQAAAAAAAAFZAAAAAAADgYUAAAAAAAMBUQAAAAAAAwFpAAAAAAADAWEAAAAAAAMBgQAAAAAAAgFNAAAAAAABAVEAAAAAAAIBaQAAAAAAAgElAAAAAAACAWUAAAAAAAIBPQAAAAAAAwFZAAAAAAABAV0AAAAAAAEBXQAAAAAAAQFhAAAAAAAAAV0AAAAAAACBhQAAAAAAA4GFAAAAAAAAAZUAAAAAAAEBdQAAAAAAAwFVAAAAAAAAAZEAAAAAAAABPQAAAAAAAQFtAAAAAAACAWUAAAAAAAIBdQAAAAAAAgExAAAAAAACAV0AAAAAAAMBRQAAAAAAAwF5AAAAAAABAWEAAAAAAAMBYQAAAAAAAQFhAAAAAAADAUEAAAAAAAEBaQAAAAAAAgFNAAAAAAADAWEAAAAAAAMBdQAAAAAAAQFtAAAAAAADAWkAAAAAAAABXQAAAAAAAAFZAAAAAAADAUUAAAAAAAABQQAAAAAAAQFhAAAAAAAAAWEAAAAAAAMBiQAAAAAAAAEtAAAAAAACAU0AAAAAAAIBVQAAAAAAAQGNAAAAAAABgZkAAAAAAAEBXQAAAAAAAQFhAAAAAAAAAW0AAAAAAAABXQAAAAAAAgFNAAAAAAADAVUAAAAAAAMBYQAAAAAAAwFZAAAAAAACAWUAAAAAAAMBQQAAAAAAAgExAAAAAAABAYEAAAAAAAABUQAAAAAAAgFBAAAAAAABAWkAAAAAAAIBYQAAAAAAAwFZAAAAAAADAXkAAAAAAAIBUQAAAAAAAAFpAAAAAAABAW0AAAAAAAIBSQAAAAAAAAFVAAAAAAACAWEAAAAAAAAA2QAAAAAAAAFlAAAAAAADAUkAAAAAAAEBRQAAAAAAAQFhAAAAAAAAAV0AAAAAAAABXQAAAAAAAQGJAAAAAAABAWEAAAAAAAEBXQAAAAAAAAE9AAAAAAAAANkAAAAAAAABWQAAAAAAAQFpAAAAAAAAAVkAAAAAAAEBXQAAAAAAAgFhAAAAAAAAAVkAAAAAAAAA/QAAAAAAAwFRAAAAAAAAAQ0AAAAAAAABbQAAAAAAAQFhAAAAAAABAVEAAAAAAAIBRQAAAAAAAAE9AAAAAAADAWEAAAAAAAABcQAAAAAAAgFZAAAAAAAAATEAAAAAAAEBWQAAAAAAAADhAAAAAAAAAWUAAAAAAAABdQAAAAAAAAFdAAAAAAADAU0AAAAAAAABSQAAAAAAAAFdAAAAAAACATkAAAAAAAABWQAAAAAAAQFxAAAAAAADAUEAAAAAAAEBQQAAAAAAAAE9AAAAAAADAWkAAAAAAAEBRQAAAAAAAQFNAAAAAAACAWEAAAAAAAMBRQAAAAAAAAFBAAAAAAAAAXEAAAAAAAIBNQAAAAAAAwFZAAAAAAAAARkAAAAAAAMBaQAAAAAAAAFdAAAAAAABAVkAAAAAAAMBaQAAAAAAAgFdAAAAAAACAW0AAAAAAAEBUQAAAAAAAQFNAAAAAAAAAUEAAAAAAAEBYQAAAAAAAQFNAAAAAAACAV0AAAAAAAIBXQAAAAAAAwFZAAAAAAAAAVEAAAAAAAMBXQAAAAAAAgFZAAAAAAABAWUAAAAAAAEBSQAAAAAAAAFtAAAAAAAAAOUAAAAAAAIBVQAAAAAAAQFpAAAAAAAAAWUAAAAAAAABYQAAAAAAAQFhAAAAAAABAUkAAAAAAAABGQAAAAAAAgGBAAAAAAAAAWEAAAAAAAABXQAAAAAAAwFhAAAAAAAAAV0AAAAAAAMBYQAAAAAAAgFNAAAAAAABAUEAAAAAAAEBQQAAAAAAAQFFAAAAAAAAAUEAAAAAAAIBPQAAAAAAAgE9AAAAAAABAVkAAAAAAAABOQAAAAAAAgERAAAAAAADAVEAAAAAAAAA5QAAAAAAAgFdAAAAAAAAASkAAAAAAAMBSQAAAAAAAAFdAAAAAAAAAVEAAAAAAAABHQAAAAAAAAFJAAAAAAADAUUAAAAAAAEBTQAAAAAAAgFFAAAAAAABAUkAAAAAAAEBUQAAAAAAAgE9AAAAAAACARkAAAAAAAABHQAAAAAAAAFxAAAAAAABAWUAAAAAAAEBdQAAAAAAAgFxAAAAAAAAAWEAAAAAAAMBVQAAAAAAAQFpAAAAAAAAAVEAAAAAAAEBYQAAAAAAAQFpAAAAAAAAATkAAAAAAAEBbQAAAAAAAAE5AAAAAAABAWUAAAAAAAMBWQAAAAAAAgFBAAAAAAADAX0AAAAAAAIBUQAAAAAAAgFFAAAAAAAAAN0AAAAAAAEBYQAAAAAAAAE9AAAAAAAAAVUAAAAAAAIBWQAAAAAAAQFlAAAAAAACAUkAAAAAAAABRQAAAAAAAAFdAAAAAAADAWkAAAAAAAABbQAAAAAAAgFJAAAAAAAAAPUAAAAAAAABOQAAAAAAAAF5AAAAAAACAUkAAAAAAAIBMQAAAAAAAwFZAAAAAAAAAT0AAAAAAAEBVQAAAAAAAgFZAAAAAAABAWkAAAAAAAIBNQAAAAAAAIGFAAAAAAACAVUAAAAAAAMBYQAAAAAAAAFBAAAAAAACAVEAAAAAAAIBWQAAAAAAAAFRAAAAAAAAAT0AAAAAAAABXQAAAAAAAgFNAAAAAAAAAV0AAAAAAAEBRQAAAAAAAwFlAAAAAAAAAV0AAAAAAAOBhQAAAAAAAwFRAAAAAAACAU0AAAAAAAABVQAAAAAAAAFVAAAAAAAAATUAAAAAAAIBUQAAAAAAAwFRAAAAAAAAAPUAAAAAAAABSQAAAAAAAADpAAAAAAABAVEAAAAAAAMBSQAAAAAAAAFlAAAAAAACAVkAAAAAAAABRQAAAAAAAwFFAAAAAAAAAWUAAAAAAAIBXQAAAAAAAAFRAAAAAAACAQUAAAAAAAEBXQAAAAAAAQFpAAAAAAABAYEAAAAAAAABZQAAAAAAAAFRAAAAAAAAAU0AAAAAAAMBXQAAAAAAAAFhAAAAAAACAV0AAAAAAAIBXQAAAAAAAQFdAAAAAAAAAWEAAAAAAAIBXQAAAAAAAgFdAAAAAAABAV0AAAAAAAMBXQAAAAAAAQFdAAAAAAADAUkAAAAAAAMBZQAAAAAAAAD1AAAAAAAAAWkAAAAAAAEBUQAAAAAAAAFRAAAAAAADAXkAAAAAAAMBdQAAAAAAAgF1AAAAAAADgYUAAAAAAAKBiQAAAAAAAAGJAAAAAAAAAX0AAAAAAAMBVQAAAAAAAAGBAAAAAAABAXUAAAAAAAABZQAAAAAAAAFVAAAAAAACAVkAAAAAAAEBaQAAAAAAAgFpAAAAAAADAWEAAAAAAAEBXQAAAAAAAQFZAAAAAAABAWkAAAAAAAEBbQAAAAAAAQFdAAAAAAADAUkAAAAAAAIBWQAAAAAAAgFZAAAAAAABAV0AAAAAAAEBcQAAAAAAAQFZAAAAAAACAWUAAAAAAAIBZQAAAAAAAgFZAAAAAAACAV0AAAAAAAMBWQAAAAAAAwFpAAAAAAADAV0AAAAAAAMBdQAAAAAAAQFdAAAAAAABAWUAAAAAAAEBXQAAAAAAAgFRAAAAAAACAUUAAAAAAAABaQAAAAAAAQF5AAAAAAAAAV0AAAAAAAABfQAAAAAAAgEpAAAAAAADAVkAAAAAAAMBUQAAAAAAAQFdAAAAAAABAVEAAAAAAAIBVQAAAAAAAgFpAAAAAAABAWEAAAAAAAMBYQAAAAAAAAFlAAAAAAACAX0AAAAAAAIBXQAAAAAAAwFlAAAAAAAAAWEAAAAAAACBhQAAAAAAAAFpAAAAAAAAAWkAAAAAAAIBXQAAAAAAAAGZAAAAAAAAgYUAAAAAAAEBZQAAAAAAAwFtAAAAAAACAW0AAAAAAAMBhQAAAAAAAgFVAAAAAAABAV0AAAAAAAIBVQAAAAAAAAFRAAAAAAAAAV0AAAAAAAABYQAAAAAAAwFVAAAAAAACAWEAAAAAAAEBfQAAAAAAAwFZAAAAAAAAAU0AAAAAAAIBUQAAAAAAAwFtAAAAAAAAAV0AAAAAAAIBXQAAAAAAAwFZAAAAAAAAARkAAAAAAAABbQAAAAAAAwF5AAAAAAACAWkAAAAAAAEBWQAAAAAAAgFhAAAAAAAAAW0AAAAAAAABXQAAAAAAAgFlAAAAAAADAWUAAAAAAAMBWQAAAAAAAgFtAAAAAAABAU0AAAAAAAMBYQAAAAAAAgF5AAAAAAADAYkAAAAAAAIBfQAAAAAAAgGRAAAAAAADAXEAAAAAAAKBgQAAAAAAAwF9AAAAAAAAAWUAAAAAAAGBgQAAAAAAAAEZAAAAAAABAWUAAAAAAAIBWQAAAAAAAQFZAAAAAAAAAVkAAAAAAAKBgQAAAAAAAgFtAAAAAAAAAXEAAAAAAAMBVQAAAAAAAwFZAAAAAAADAW0AAAAAAAMBYQAAAAAAAgFVAAAAAAABAV0AAAAAAAMBVQAAAAAAAwFpAAAAAAABAVkAAAAAAAABXQAAAAAAAgF5AAAAAAADAVkAAAAAAAMBfQAAAAAAAIGNAAAAAAACAV0AAAAAAAIBaQAAAAAAAgFlAAAAAAAAAXEAAAAAAAIBPQAAAAAAAgFZAAAAAAABAVkAAAAAAAEBZQAAAAAAAQFVAAAAAAADAVEAAAAAAAABXQAAAAAAAAFVAAAAAAADAVkAAAAAAAABZQAAAAAAAwFlAAAAAAADAWUAAAAAAAIBGQAAAAAAAgEZAAAAAAACAVkAAAAAAAIBYQAAAAAAAAFdAAAAAAACAZUAAAAAAAEBfQAAAAAAAQFRAAAAAAAAAXEAAAAAAAIBeQAAAAAAAQFlAAAAAAACASkAAAAAAAIBKQAAAAAAAwFhAAAAAAADAV0AAAAAAAMBdQAAAAAAAYGRAAAAAAACAS0AAAAAAAIBZQAAAAAAAgFpAAAAAAAAAYEAAAAAAAABUQAAAAAAAAFRAAAAAAADAUkAAAAAAAMBSQAAAAAAAwFNAAAAAAADAVUAAAAAAAEBYQAAAAAAAQFVAAAAAAADAW0AAAAAAAEBcQAAAAAAAgFZAAAAAAADAWUAAAAAAAEBaQAAAAAAAAFpAAAAAAADAX0AAAAAAAABXQAAAAAAAAFJAAAAAAACAXUAAAAAAAIBbQAAAAAAAQFBAAAAAAACAVkAAAAAAAMBgQAAAAAAAQFZAAAAAAACAVUAAAAAAAMBVQAAAAAAAwFpAAAAAAADAU0AAAAAAAMBVQAAAAAAAQFxAAAAAAACAW0AAAAAAAIBYQAAAAAAAQFdAAAAAAABgYUAAAAAAAIBXQAAAAAAAoGBAAAAAAABAVEAAAAAAAMBWQAAAAAAAgF5AAAAAAACAWUAAAAAAAABWQAAAAAAAgEhAAAAAAACAW0AAAAAAAMBiQAAAAAAAQFhAAAAAAAAgYEAAAAAAAMBYQAAAAAAAAFxAAAAAAADgYUAAAAAAAIBOQAAAAAAAwFdAAAAAAAAAV0AAAAAAAEBYQAAAAAAAgFZAAAAAAADAXUAAAAAAAGBiQAAAAAAAwFRAAAAAAADAVEAAAAAAAMBWQAAAAAAAQF1AAAAAAACAU0AAAAAAAMBSQAAAAAAAgFNAAAAAAACgYkAAAAAAAMBZQAAAAAAAgFdAAAAAAADAV0AAAAAAAIBeQAAAAAAAwFpAAAAAAACAX0AAAAAAAIBeQAAAAAAAwFdAAAAAAABAWUAAAAAAAIBSQAAAAAAAgFJAAAAAAACAUkAAAAAAAMBUQAAAAAAAwFNAAAAAAAAAUkAAAAAAAABUQAAAAAAAwFJAAAAAAADAUkAAAAAAAABSQAAAAAAAwFhAAAAAAADAVkAAAAAAAMBkQAAAAAAAwFlAAAAAAAAAYEAAAAAAAMBVQAAAAAAAQF9AAAAAAABAXkAAAAAAAIBbQAAAAAAAAFZAAAAAAAAASkAAAAAAAEBWQAAAAAAAAEpAAAAAAABAVEAAAAAAAEBSQAAAAAAAwFJAAAAAAADAWEAAAAAAAEBeQAAAAAAAAFlAAAAAAABAWEAAAAAAAEBaQAAAAAAAAFlAAAAAAADAXEAAAAAAAMBYQAAAAAAAwFZAAAAAAACAVkAAAAAAAABZQAAAAAAAADlAAAAAAADAWEAAAAAAAABeQAAAAAAAgFhAAAAAAAAAWkAAAAAAAKBiQAAAAAAAAFxAAAAAAACAWEAAAAAAAABeQAAAAAAA4GJAAAAAAACAT0AAAAAAAIBiQAAAAAAAgFxAAAAAAADAXkAAAAAAAMBVQAAAAAAAQFdAAAAAAAAAVkAAAAAAAIBfQAAAAAAAgFZAAAAAAADAV0AAAAAAAABbQAAAAAAAQFBAAAAAAACAW0AAAAAAAIBQQAAAAAAAwF9AAAAAAABgYEAAAAAAAABWQAAAAAAAQFhAAAAAAAAAXUAAAAAAAEBdQAAAAAAAwFNAAAAAAAAAYkAAAAAAAMBTQAAAAAAA4GBAAAAAAAAAVkAAAAAAAABdQAAAAAAAwFZAAAAAAADAVEAAAAAAAIBWQAAAAAAAIGBAAAAAAAAAXkAAAAAAAMBWQAAAAAAAQFVAAAAAAAAAVkAAAAAAAMBeQAAAAAAAgGZAAAAAAACAWEAAAAAAAIBWQAAAAAAAgFZAAAAAAACAV0AAAAAAAABcQAAAAAAAQFVAAAAAAABAWEAAAAAAAIBHQAAAAAAAwFhAAAAAAAAAZUAAAAAAAMBYQAAAAAAAgFpAAAAAAAAAV0AAAAAAAMBYQAAAAAAAQFZAAAAAAAAAVkAAAAAAAMBbQAAAAAAAwFNAAAAAAACAVUAAAAAAAIBSQAAAAAAAAFVAAAAAAAAAVEAAAAAAAIBVQAAAAAAAgFZAAAAAAACAWUAAAAAAAABXQAAAAAAAQFRAAAAAAAAAXUAAAAAAAIBbQAAAAAAAwFdAAAAAAACgYEAAAAAAAABeQAAAAAAAwFZAAAAAAACAVkAAAAAAAIBWQAAAAAAAwFlAAAAAAABAUkAAAAAAAIBYQAAAAAAAwF1AAAAAAAAAU0AAAAAAAIBiQAAAAAAAgFdAAAAAAAAAW0AAAAAAAIBcQAAAAAAAgFhAAAAAAADgYkAAAAAAAIBTQAAAAAAAQF9AAAAAAACAX0AAAAAAAAAmQAAAAAAAADZAAAAAAAAAWkAAAAAAAABaQAAAAAAAQF1AAAAAAABAWUAAAAAAAMBYQAAAAAAAwFlAAAAAAACAX0AAAAAAAABXQAAAAAAAYGBAAAAAAADAXUAAAAAAAIBYQAAAAAAAQFVAAAAAAAAAVUAAAAAAACBiQAAAAAAAQF9AAAAAAAAAW0AAAAAAAABbQAAAAAAAgFJAAAAAAACAVEAAAAAAAMBSQAAAAAAAQFNAAAAAAACAY0AAAAAAAABdQAAAAAAAgF9AAAAAAAAgYEAAAAAAAIBgQAAAAAAAgF1AAAAAAADAVUAAAAAAAMBXQAAAAAAAgFVAAAAAAACAWkAAAAAAAMBcQAAAAAAAgFpAAAAAAACAV0AAAAAAAEBeQAAAAAAAQFxAAAAAAAAgYEAAAAAAAMBYQAAAAAAAAF1AAAAAAAAAVkAAAAAAAIBPQAAAAAAAAE9AAAAAAAAAT0AAAAAAAABcQAAAAAAAQFxAAAAAAACAVEAAAAAAAIBYQAAAAAAAwFVAAAAAAADAW0AAAAAAAIBPQAAAAAAAQFpAAAAAAABAYkAAAAAAAABYQAAAAAAAAFRAAAAAAADAWEAAAAAAAMBVQAAAAAAAAFZAAAAAAADAWEAAAAAAAABaQAAAAAAAAFpAAAAAAACAXUAAAAAAAMBfQAAAAAAAQFtAAAAAAABAYEAAAAAAAIBbQAAAAAAAAFZAAAAAAACAWkAAAAAAAMBWQAAAAAAAwFlAAAAAAABAVkAAAAAAAABbQAAAAAAAAF9AAAAAAAAAWEAAAAAAAIBlQAAAAAAAAF9AAAAAAABAVUAAAAAAACBhQAAAAAAAwFZAAAAAAAAAXkAAAAAAAIBdQAAAAAAAgFtAAAAAAACAXEAAAAAAAABcQAAAAAAAAFdAAAAAAAAgYUAAAAAAAABVQAAAAAAAAEpAAAAAAAAAWEAAAAAAAABcQAAAAAAAgFZAAAAAAACAWkAAAAAAAABdQAAAAAAAQFhAAAAAAADAX0AAAAAAAABYQAAAAAAAgEZAAAAAAABAWUAAAAAAAABWQAAAAAAAwFJAAAAAAAAAXEAAAAAAAIBbQAAAAAAAAF5AAAAAAACAVkAAAAAAAIBUQAAAAAAAgF1AAAAAAAAgY0AAAAAAAEBdQAAAAAAAQFdAAAAAAACAVEAAAAAAAMBcQAAAAAAA4GJAAAAAAADAWUAAAAAAAEBdQAAAAAAAAFlAAAAAAACAUUAAAAAAAMBZQAAAAAAAAFtAAAAAAAAAWUAAAAAAAMBWQAAAAAAAQFdAAAAAAABAXEAAAAAAAABdQAAAAAAAQF5AAAAAAAAAXEAAAAAAAABTQAAAAAAAQFRAAAAAAACAW0AAAAAAAIBWQAAAAAAAQFhAAAAAAACAVUAAAAAAAIBXQAAAAAAAwFRAAAAAAACARUAAAAAAAABXQAAAAAAAQFdAAAAAAAAAVkAAAAAAAIBKQAAAAAAAgGNAAAAAAADAU0AAAAAAAABYQAAAAAAAwFhAAAAAAACAYUAAAAAAAABPQAAAAAAAAFZAAAAAAAAAU0AAAAAAAMBYQAAAAAAAQFhAAAAAAADAVUAAAAAAAABbQAAAAAAAgFdAAAAAAADAXkAAAAAAAABgQAAAAAAAgGBAAAAAAABAV0AAAAAAAEBcQAAAAAAAAFhAAAAAAACgYEAAAAAAAABmQAAAAAAAwFxAAAAAAACAVkAAAAAAAMBbQAAAAAAAwFVAAAAAAAAAXEAAAAAAAABpQAAAAAAAQFdAAAAAAACAVkAAAAAAAMBaQAAAAAAAQFZAAAAAAADAVEAAAAAAAABYQAAAAAAAwFhAAAAAAADAV0AAAAAAAABWQAAAAAAAgFdAAAAAAABAV0AAAAAAAEBXQAAAAAAAAFdAAAAAAADAX0AAAAAAAEBaQAAAAAAAgFdAAAAAAAAAWkAAAAAAAIBXQAAAAAAAgFRAAAAAAACAVUAAAAAAAMBZQAAAAAAAQFhAAAAAAAAAVUAAAAAAAIBYQAAAAAAAAFFAAAAAAAAARUAAAAAAAABXQAAAAAAAQFZAAAAAAADAWEAAAAAAAEBXQAAAAAAAQGRAAAAAAABAVUAAAAAAAABKQAAAAAAAwFZAAAAAAACAWkAAAAAAAABXQAAAAAAAgGFAAAAAAABAUUAAAAAAACBjQAAAAAAAAF9AAAAAAAAAXkAAAAAAAMBgQAAAAAAAQFpAAAAAAADAXUAAAAAAAIBaQAAAAAAAwFNAAAAAAACAaEAAAAAAAIBWQAAAAAAAQFtAAAAAAABAV0AAAAAAAABXQAAAAAAAgEhAAAAAAACAWUAAAAAAAIBUQAAAAAAAgFJAAAAAAACAV0AAAAAAAMBVQAAAAAAAAFtAAAAAAADgYkAAAAAAAEBbQAAAAAAAwFZAAAAAAABAV0AAAAAAAEBVQAAAAAAAwFlAAAAAAACAWUAAAAAAAMBaQAAAAAAAAFZAAAAAAADAV0AAAAAAAABZQAAAAAAAwFZAAAAAAACAW0AAAAAAAABYQAAAAAAAAFhAAAAAAACAWEAAAAAAAKBgQAAAAAAAgFlAAAAAAAAAW0AAAAAAAKBgQAAAAAAAAE1AAAAAAADAU0AAAAAAAEBZQAAAAAAAQFRAAAAAAADAWEAAAAAAAIBaQAAAAAAAwFlAAAAAAAAAV0AAAAAAAEBWQAAAAAAAwGJAAAAAAAAAVEAAAAAAAABfQAAAAAAAwFhAAAAAAAAAPUAAAAAAAMBWQAAAAAAAgFlAAAAAAACAV0AAAAAAAIBdQAAAAAAAgFFAAAAAAACgZkAAAAAAAEBZQAAAAAAAAD1AAAAAAAAAV0AAAAAAAIBXQAAAAAAAgF1AAAAAAACAWEAAAAAAAIBWQAAAAAAAQFdAAAAAAACAXEAAAAAAAMBYQAAAAAAAAFhAAAAAAACAWUAAAAAAAIBWQAAAAAAAgEhAAAAAAACATkAAAAAAAABOQAAAAAAAAFpAAAAAAADAXUAAAAAAAIBZQAAAAAAAwFRAAAAAAAAAVkAAAAAAAIBVQAAAAAAAgFZAAAAAAADAYEAAAAAAAABXQAAAAAAAIGJAAAAAAADAV0AAAAAAAEBXQAAAAAAAAFVAAAAAAABAVEAAAAAAAIBYQAAAAAAAgFJAAAAAAADAVUAAAAAAAABYQAAAAAAAAFZAAAAAAACAXUAAAAAAAEBcQAAAAAAAgFVAAAAAAADAVkAAAAAAAMBcQAAAAAAAAFxAAAAAAADAWUAAAAAAAABdQAAAAAAAAFJAAAAAAAAAWkAAAAAAAEBYQAAAAAAAAFdAAAAAAABAV0AAAAAAAEBXQAAAAAAAwFhAAAAAAACAR0AAAAAAAABKQAAAAAAAQFhAAAAAAAAAVkAAAAAAAIBaQAAAAAAAQFhAAAAAAAAAVkAAAAAAAABWQAAAAAAAgGBAAAAAAAAAW0AAAAAAAMBbQAAAAAAA4GRAAAAAAAAAWEAAAAAAAMBXQAAAAAAAwFpAAAAAAACAXUAAAAAAAEBgQAAAAAAAgFZAAAAAAADAVUAAAAAAAEBbQAAAAAAAwFlAAAAAAACAW0AAAAAAAEBVQAAAAAAAYGRAAAAAAAAAWUAAAAAAAABNQAAAAAAAgFtAAAAAAAAATUAAAAAAAABMQAAAAAAAIGRAAAAAAACgYUAAAAAAAMBcQAAAAAAAgFZAAAAAAADAWUAAAAAAAEBTQAAAAAAAwFtAAAAAAADAWUAAAAAAACBgQAAAAAAAQFxAAAAAAACAWkAAAAAAAEBaQAAAAAAAIGFAAAAAAAAANkAAAAAAAEBgQAAAAAAAQFZAAAAAAACAW0AAAAAAAIBiQAAAAAAAAFlAAAAAAACAVkAAAAAAAMBZQAAAAAAAwFJAAAAAAADAWEAAAAAAAEBXQAAAAAAAgFZAAAAAAAAgYkAAAAAAAMBXQAAAAAAAAFdAAAAAAACAVkAAAAAAACBhQAAAAAAAgFhAAAAAAABAW0AAAAAAAEBdQAAAAAAAQFdAAAAAAACATEAAAAAAAIBbQAAAAAAAwFdAAAAAAACAWUAAAAAAAEBYQAAAAAAAgFRAAAAAAACAVkAAAAAAAIBMQAAAAAAAwFZAAAAAAAAAWUAAAAAAAEBZQAAAAAAAQGFAAAAAAADAV0AAAAAAAABdQAAAAAAAQF1AAAAAAABAUEAAAAAAAMBjQAAAAAAAgFtAAAAAAADAU0AAAAAAAMBYQAAAAAAAgFVAAAAAAABAYUAAAAAAAMBWQAAAAAAAwFNAAAAAAADAU0AAAAAAAABYQAAAAAAAgEtAAAAAAABAWUAAAAAAAABWQAAAAAAAwFdAAAAAAADAVUAAAAAAAMBUQAAAAAAAgFZAAAAAAADgYkAAAAAAAEBWQAAAAAAAwFhAAAAAAACAVUAAAAAAAEBVQAAAAAAAQFdAAAAAAABAVkAAAAAAAEBWQAAAAAAAgFZAAAAAAAAAWkAAAAAAAMBaQAAAAAAAAF9AAAAAAADAVUAAAAAAAIBXQAAAAAAAgFVAAAAAAACAWUAAAAAAAIBeQAAAAAAAgF9AAAAAAADAVUAAAAAAAIBjQAAAAAAAQFhAAAAAAABAVkAAAAAAAABWQAAAAAAAAFhAAAAAAAAAWkAAAAAAAABUQAAAAAAAwFdAAAAAAABAWEAAAAAAAIBdQAAAAAAAgF1AAAAAAAAARkAAAAAAAABLQAAAAAAAQGVAAAAAAACAXUAAAAAAAABgQAAAAAAAgFpAAAAAAADAWUAAAAAAAABXQAAAAAAAgFlAAAAAAACAX0AAAAAAAEBSQAAAAAAAwFtAAAAAAAAAWUAAAAAAAIBVQAAAAAAAwFdAAAAAAADAU0AAAAAAAEBUQAAAAAAAAF5AAAAAAABAVUAAAAAAAABYQAAAAAAAwFZAAAAAAADAYEAAAAAAAEBXQAAAAAAAgFRAAAAAAAAAVkAAAAAAAABYQAAAAAAAQFhAAAAAAABAWUAAAAAAAABWQAAAAAAAAFVAAAAAAACAW0AAAAAAAEBaQAAAAAAAAF1AAAAAAACAV0AAAAAAAIBbQAAAAAAAAF1AAAAAAACASUAAAAAAAMBZQAAAAAAAwFRAAAAAAAAAZkAAAAAAAKBiQAAAAAAAwFNAAAAAAABAWEAAAAAAAMBWQAAAAAAAQFVAAAAAAABAVUAAAAAAAEBdQAAAAAAAAFVAAAAAAACAWkAAAAAAAMBaQAAAAAAAgFhAAAAAAAAAS0AAAAAAAGBhQAAAAAAAAFZAAAAAAABAV0AAAAAAAMBWQAAAAAAAQFZAAAAAAACAWkAAAAAAAABdQAAAAAAAAFlAAAAAAAAAWEAAAAAAAMBdQAAAAAAAAFtAAAAAAAAAWkAAAAAAAABfQAAAAAAAwFVAAAAAAADAUkAAAAAAAABbQAAAAAAAwFlAAAAAAADAWUAAAAAAAEBWQAAAAAAAwFlAAAAAAABAVkAAAAAAAMBdQAAAAAAAgFpAAAAAAACAVkAAAAAAAIBdQAAAAAAAwFdAAAAAAADAXkAAAAAAAMBfQAAAAAAAAF1AAAAAAADAXUAAAAAAAMBYQAAAAAAAgFZAAAAAAACAVkAAAAAAACBjQAAAAAAAgFpAAAAAAACgYUAAAAAAAIBeQAAAAAAAwFVAAAAAAACAWUAAAAAAAABWQAAAAAAAwFhAAAAAAADAWEAAAAAAAMBgQAAAAAAAwFZAAAAAAAAAVkAAAAAAAMBfQAAAAAAAIGFAAAAAAABAU0AAAAAAAMBRQAAAAAAAQGBAAAAAAACAYUAAAAAAAEBZQAAAAAAAQFlAAAAAAADAVkAAAAAAAABVQAAAAAAAAFZAAAAAAAAAUUAAAAAAAGBkQAAAAAAAQFdAAAAAAACAVUAAAAAAAEBjQAAAAAAAAFdAAAAAAACAYEAAAAAAAAA2QAAAAAAAgGBAAAAAAACAV0AAAAAAAIBgQAAAAAAAQFpAAAAAAABAWEAAAAAAAEBbQAAAAAAAwGBAAAAAAACASkAAAAAAAABVQAAAAAAAgFlAAAAAAADAU0AAAAAAAKBmQAAAAAAAgFZAAAAAAADAU0AAAAAAAKBgQAAAAAAAQF9AAAAAAAAAVEAAAAAAAEBZQAAAAAAA4GBAAAAAAACgYEAAAAAAAMBWQAAAAAAAAEpAAAAAAADAXkAAAAAAAEBcQAAAAAAAwFpAAAAAAAAAYEAAAAAAAIBXQAAAAAAAwFdAAAAAAACAWkAAAAAAAEBhQAAAAAAAYGFAAAAAAACAYEAAAAAAAKBlQAAAAAAAQFpAAAAAAACAYkAAAAAAAABeQAAAAAAAQFVAAAAAAABAXEAAAAAAAMBYQAAAAAAAgERAAAAAAACAW0AAAAAAACBhQAAAAAAAgF1AAAAAAACAYUAAAAAAAEBVQAAAAAAAAF1AAAAAAACgYEAAAAAAAEBWQAAAAAAAwFJAAAAAAADAUEAAAAAAAIBWQAAAAAAAQGVAAAAAAAAAX0AAAAAAAABeQAAAAAAAoGNAAAAAAAAAX0AAAAAAAIBbQAAAAAAAgFZAAAAAAABAWEAAAAAAAABbQAAAAAAAwFdAAAAAAADAW0AAAAAAACBhQAAAAAAAAFlAAAAAAACASkAAAAAAAMBVQAAAAAAAgFpAAAAAAACAVUAAAAAAAABZQAAAAAAAwFlAAAAAAABAW0AAAAAAAEBUQAAAAAAAgFhAAAAAAACAXEAAAAAAAMBVQAAAAAAAgGBAAAAAAAAAXUAAAAAAAABXQAAAAAAAwFhAAAAAAACAT0AAAAAAAEBeQAAAAAAAAExAAAAAAAAAWEAAAAAAAMBcQAAAAAAAQF1AAAAAAAAATUAAAAAAAABPQAAAAAAAQFBAAAAAAACATkAAAAAAAEBQQAAAAAAAQFBAAAAAAAAATUAAAAAAAABOQAAAAAAAQFRAAAAAAABAVUAAAAAAAEBXQAAAAAAAgF9AAAAAAADAWEAAAAAAAMBTQAAAAAAAADpAAAAAAADAWkAAAAAAAKBgQAAAAAAAwFdAAAAAAAAAWUAAAAAAAKBiQAAAAAAAAEpAAAAAAACgZEAAAAAAAABaQAAAAAAAgFxAAAAAAABAW0AAAAAAAABWQAAAAAAA4GFAAAAAAAAAXEAAAAAAAEBZQAAAAAAAgFtAAAAAAADAVEAAAAAAACBiQAAAAAAAwFVAAAAAAACAVUAAAAAAAMBcQAAAAAAAQFdAAAAAAABAXkAAAAAAAABLQAAAAAAAAFlAAAAAAACAQkAAAAAAAIBAQAAAAAAAgEFAAAAAAAAAQEAAAAAAAGBiQAAAAAAAgFtAAAAAAABAWEAAAAAAAABbQAAAAAAAQFlAAAAAAAAAWUAAAAAAAABIQAAAAAAAAEZAAAAAAACAU0AAAAAAAMBZQAAAAAAAAE1AAAAAAACAVkAAAAAAAEBWQAAAAAAAwFRAAAAAAAAAVUAAAAAAAABaQAAAAAAAwFhAAAAAAABAWkAAAAAAAIBXQAAAAAAAwGJAAAAAAADAW0AAAAAAAABdQAAAAAAAAFdAAAAAAAAAN0AAAAAAAAA5QAAAAAAAQFVAAAAAAACAVkAAAAAAAABRQAAAAAAAwFBAAAAAAACAUEAAAAAAAMBWQAAAAAAAwFVAAAAAAACAWEAAAAAAAABbQAAAAAAAQFVAAAAAAADAV0AAAAAAAMBZQAAAAAAAgF1AAAAAAAAgY0AAAAAAAABYQAAAAAAAAFZAAAAAAAAAXUAAAAAAAGBjQAAAAAAAAFZAAAAAAAAAV0AAAAAAAIBYQAAAAAAAwFlAAAAAAABgZEAAAAAAAEBXQAAAAAAAQFNAAAAAAABAWEAAAAAAAMBcQAAAAAAAwFlAAAAAAACAVEAAAAAAAEBTQAAAAAAAwFNAAAAAAACAWEAAAAAAAGBgQAAAAAAAgFtAAAAAAAAAWUAAAAAAAEBdQAAAAAAAwFpAAAAAAAAAU0AAAAAAAIBdQAAAAAAAQFdAAAAAAADAWEAAAAAAAABVQAAAAAAAgFlAAAAAAADAYEAAAAAAAIBTQAAAAAAAwFdAAAAAAABAUkAAAAAAAIBbQAAAAAAAwFJAAAAAAADAXUAAAAAAAABXQAAAAAAAIGFAAAAAAAAAaEAAAAAAAIBgQAAAAAAAwFZAAAAAAABAWkAAAAAAAABWQAAAAAAAYGNAAAAAAADAWUAAAAAAAEBYQAAAAAAAAFdAAAAAAACAWEAAAAAAAEBWQAAAAAAAAFxAAAAAAADAUkAAAAAAAEBWQAAAAAAAwFhAAAAAAADAWkAAAAAAAAA9QAAAAAAAgFdAAAAAAACAVkAAAAAAAABaQAAAAAAAgEtAAAAAAADAVEAAAAAAAEBTQAAAAAAAAFJAAAAAAADAWUAAAAAAAGBgQAAAAAAAQGFAAAAAAADgYUAAAAAAAABUQAAAAAAAgGBAAAAAAAAAVUAAAAAAAMBYQAAAAAAAQFdAAAAAAACAXEAAAAAAAABZQAAAAAAAgGBAAAAAAADAVEAAAAAAAEBaQAAAAAAAAFxAAAAAAACAV0AAAAAAAIBWQAAAAAAAAEhAAAAAAACAW0AAAAAAAABVQAAAAAAAgF1AAAAAAACAVUAAAAAAAIBYQAAAAAAAAFZAAAAAAABAVEAAAAAAAABcQAAAAAAAgFpAAAAAAACAYkAAAAAAAEBaQAAAAAAAAFdAAAAAAAAAXEAAAAAAAABgQAAAAAAAAGBAAAAAAAAAYUAAAAAAAIBaQAAAAAAAIGBAAAAAAACAVkAAAAAAAEBgQAAAAAAAQFVAAAAAAACAVkAAAAAAAIBXQAAAAAAAgFVAAAAAAAAAWUAAAAAAAMBaQAAAAAAAQFdAAAAAAABAW0AAAAAAAEBbQAAAAAAAAFdAAAAAAABAV0AAAAAAAABZQAAAAAAAoGFAAAAAAADAXUAAAAAAAABVQAAAAAAAAFhAAAAAAADAVEAAAAAAAEBdQAAAAAAAQFdAAAAAAABAUkAAAAAAAABSQAAAAAAAAEdAAAAAAACAUkAAAAAAAABHQAAAAAAAAEdAAAAAAACAUkAAAAAAAMBRQAAAAAAAAFJAAAAAAAAAU0AAAAAAAAA3QAAAAAAAAE5AAAAAAAAAR0AAAAAAAEBZQAAAAAAAQFhAAAAAAADAW0AAAAAAAABYQAAAAAAA4GBAAAAAAADAVkAAAAAAAABVQAAAAAAAQF5AAAAAAABAW0AAAAAAAIBSQAAAAAAAgFdAAAAAAABAWkAAAAAAAEBYQAAAAAAAgFlAAAAAAACAVUAAAAAAAABWQAAAAAAAgFZAAAAAAABgYEAAAAAAAMBjQAAAAAAAQFVAAAAAAACAW0AAAAAAAMBTQAAAAAAAIGdAAAAAAAAAVEAAAAAAAABdQAAAAAAAwFdAAAAAAADAWEAAAAAAAEBTQAAAAAAAwFZAAAAAAAAAUUAAAAAAAABSQAAAAAAAQFJAAAAAAAAAWkAAAAAAAIBWQAAAAAAAwFhAAAAAAABAW0AAAAAAAABbQAAAAAAAwFhAAAAAAADAWEAAAAAAAABWQAAAAAAAAFdAAAAAAABAUkAAAAAAAEBVQAAAAAAAwFZAAAAAAABgZUAAAAAAAABUQAAAAAAAgFlAAAAAAAAAU0AAAAAAAABXQAAAAAAAgFRAAAAAAAAARUAAAAAAAGBgQAAAAAAAoGRAAAAAAADAVkAAAAAAAEBZQAAAAAAAgEpAAAAAAACATUAAAAAAAABbQAAAAAAAQFZAAAAAAADAVkAAAAAAAABVQAAAAAAAAFhAAAAAAAAAX0AAAAAAAMBVQAAAAAAAQFxAAAAAAACAXUAAAAAAAEBYQAAAAAAAIGRAAAAAAAAAXUAAAAAAAABaQAAAAAAAQFZAAAAAAAAAV0AAAAAAAIBWQAAAAAAAAElAAAAAAACASkAAAAAAAEBcQAAAAAAAgEpAAAAAAAAAS0AAAAAAAIBKQAAAAAAAAEtAAAAAAABAXEAAAAAAAIBKQAAAAAAAgEpAAAAAAACASkAAAAAAAABLQAAAAAAAAEtAAAAAAAAASkAAAAAAAABLQAAAAAAAAEtAAAAAAACASkAAAAAAAIBKQAAAAAAAgEpAAAAAAABAXEAAAAAAAIBKQAAAAAAAgFVAAAAAAACAWUAAAAAAAIBcQAAAAAAAwFhAAAAAAACAS0AAAAAAAMBWQAAAAAAAQF1AAAAAAAAAX0AAAAAAAIBeQAAAAAAAAFVAAAAAAAAAVUAAAAAAAABeQAAAAAAAwF9AAAAAAACAXkAAAAAAAEBfQAAAAAAAwFpAAAAAAADAVkAAAAAAAMBZQAAAAAAAwFlAAAAAAACAWkAAAAAAAIBZQAAAAAAAQFhAAAAAAABAVkAAAAAAAABXQAAAAAAAwFpAAAAAAACAVUAAAAAAAIBRQAAAAAAAgFBAAAAAAAAAUkAAAAAAAMBbQAAAAAAAwGRAAAAAAADgYEAAAAAAAABXQAAAAAAAwFVAAAAAAAAAV0AAAAAAAEBWQAAAAAAAQFdAAAAAAACAVkAAAAAAAABTQAAAAAAAgFVAAAAAAADAW0AAAAAAAABfQAAAAAAAQFdAAAAAAABgYUAAAAAAAMBWQAAAAAAAgFVAAAAAAACAXkAAAAAAAABYQAAAAAAAAFZAAAAAAABAV0AAAAAAAIBWQAAAAAAAwFlAAAAAAACAWUAAAAAAAEBaQAAAAAAAQF1AAAAAAACAX0AAAAAAAEBWQAAAAAAAgFRAAAAAAACAVEAAAAAAAIBYQAAAAAAAAFhAAAAAAAAAW0AAAAAAAMBWQAAAAAAAYGRAAAAAAAAAXEAAAAAAACBhQAAAAAAAQFZAAAAAAACAVUAAAAAAAGBnQAAAAAAAQFtAAAAAAABAU0AAAAAAAABVQAAAAAAAgGFAAAAAAAAAUUAAAAAAAEBdQAAAAAAAQFpAAAAAAADAVkAAAAAAAABaQAAAAAAAgFxAAAAAAAAAXEAAAAAAAABIQAAAAAAAwFdAAAAAAABAVkAAAAAAAABbQAAAAAAAAFJAAAAAAABAW0AAAAAAAEBaQAAAAAAAAFdAAAAAAADAV0AAAAAAAABbQAAAAAAAQFVAAAAAAACAX0AAAAAAAIBdQAAAAAAAQF9AAAAAAAAAXEAAAAAAAABYQAAAAAAAQFRAAAAAAABAVEAAAAAAAABXQAAAAAAAwF9AAAAAAABAVEAAAAAAAKBgQAAAAAAAQFRAAAAAAAAAW0AAAAAAAABeQAAAAAAAoGJAAAAAAAAAV0AAAAAAAABYQAAAAAAAgFxAAAAAAABAU0AAAAAAAIBWQAAAAAAAADhAAAAAAAAAR0AAAAAAAAA4QAAAAAAAgEtAAAAAAAAAOEAAAAAAAAA3QAAAAAAAADhAAAAAAAAAOEAAAAAAAIBaQAAAAAAAAEpAAAAAAADAX0AAAAAAAIBVQAAAAAAAYGBAAAAAAABAV0AAAAAAAEBYQAAAAAAAAFVAAAAAAADAVEAAAAAAAKBkQAAAAAAAQGNAAAAAAADAY0AAAAAAAEBWQAAAAAAAoGJAAAAAAAAAWEAAAAAAAIBaQAAAAAAAAGBAAAAAAACAWEAAAAAAAMBYQAAAAAAAQFxAAAAAAADAUUAAAAAAAMBUQAAAAAAAIGBAAAAAAABAXUAAAAAAAEBXQAAAAAAAAF9AAAAAAAAgZkAAAAAAAABaQAAAAAAAQFxAAAAAAABAZkAAAAAAAIBWQAAAAAAAQGNAAAAAAACAXkAAAAAAAMBcQAAAAAAAgF9AAAAAAAAAVkAAAAAAAMBYQAAAAAAAAGJAAAAAAADAW0AAAAAAAEBSQAAAAAAAQFRAAAAAAACAXEAAAAAAAABcQAAAAAAAAFRAAAAAAAAAOEAAAAAAAABZQAAAAAAAAFhAAAAAAAAAVkAAAAAAAMBXQAAAAAAAAFxAAAAAAAAAXEAAAAAAAEBYQAAAAAAAQFhAAAAAAACAV0AAAAAAAEBYQAAAAAAAgF1AAAAAAADAV0AAAAAAAABeQAAAAAAAAFVAAAAAAABAWUAAAAAAAMBZQAAAAAAAwFRAAAAAAADAWkAAAAAAAABhQAAAAAAAAFhAAAAAAACARkAAAAAAAABXQAAAAAAAAF5AAAAAAADAXUAAAAAAAABZQAAAAAAAAFdAAAAAAAAAWkAAAAAAAEBXQAAAAAAAgFhAAAAAAAAAVEAAAAAAAMBTQAAAAAAAgF5AAAAAAACAXUAAAAAAAEBWQAAAAAAAADpAAAAAAAAAT0AAAAAAACBhQAAAAAAAQF5AAAAAAADAWUAAAAAAAABXQAAAAAAAQFZAAAAAAABAWEAAAAAAAMBgQAAAAAAAAF1AAAAAAACAW0AAAAAAAABWQAAAAAAAQFdAAAAAAAAAUkAAAAAAAKBhQAAAAAAAgFRAAAAAAABAXUAAAAAAAIBdQAAAAAAAwFZAAAAAAABAWkAAAAAAAIBXQAAAAAAAIGFAAAAAAACATkAAAAAAAIBVQAAAAAAAgF1AAAAAAACgZUAAAAAAAABjQAAAAAAAwFhAAAAAAACAW0AAAAAAAABdQAAAAAAAwFpAAAAAAABAW0AAAAAAAEBQQAAAAAAAAEBAAAAAAACAXkAAAAAAAIBsQAAAAAAAgFVAAAAAAAAAUkAAAAAAAIBZQAAAAAAAgGFAAAAAAAAgYkAAAAAAAIBfQAAAAAAAoGBAAAAAAACgYUAAAAAAAIBTQAAAAAAAwGJAAAAAAAAgY0AAAAAAAMBUQAAAAAAAwFdAAAAAAABAV0AAAAAAAIBfQAAAAAAAwFdAAAAAAADAWEAAAAAAAEBXQAAAAAAAQFdAAAAAAAAAVkAAAAAAAABWQAAAAAAAYGhAAAAAAAAAXkAAAAAAAEBTQAAAAAAAAFxAAAAAAABAXkAAAAAAAEBdQAAAAAAAgFZAAAAAAACAW0AAAAAAAIBVQAAAAAAAwFdAAAAAAABAWUAAAAAAAMBbQAAAAAAAAEtAAAAAAAAAS0AAAAAAAABLQAAAAAAAgEtAAAAAAAAAS0AAAAAAAIBLQAAAAAAAgEtAAAAAAACAS0AAAAAAAIBLQAAAAAAAgEtAAAAAAACAWUAAAAAAAIBaQAAAAAAAQFFAAAAAAABAVUAAAAAAAEBiQAAAAAAAIGJAAAAAAADAWUAAAAAAAMBbQAAAAAAAQF9AAAAAAADAXEAAAAAAAABlQAAAAAAAQFtAAAAAAACAYkAAAAAAAABXQAAAAAAAwFZAAAAAAADgYEAAAAAAAMBRQAAAAAAAAFxAAAAAAAAAYEAAAAAAAABlQAAAAAAAgEZAAAAAAADAUkAAAAAAAMBRQAAAAAAAgF5AAAAAAABAWEAAAAAAAEBWQAAAAAAAgFhAAAAAAADAXEAAAAAAAABYQAAAAAAAwF1AAAAAAABAWkAAAAAAAABWQAAAAAAAgFdAAAAAAABAU0AAAAAAAOBhQAAAAAAAwF9AAAAAAAAAV0AAAAAAAMBVQAAAAAAAwFRAAAAAAADAV0AAAAAAAABYQAAAAAAAwFpAAAAAAAAAWUAAAAAAAIBIQAAAAAAAgFdAAAAAAABAWUAAAAAAAEBWQAAAAAAA4GBAAAAAAADAWkAAAAAAAABVQAAAAAAAgFtAAAAAAADAV0AAAAAAAIBQQAAAAAAAwFRAAAAAAACAVUAAAAAAACBhQAAAAAAAwFVAAAAAAADAYUAAAAAAAIBXQAAAAAAA4GBAAAAAAADgYEAAAAAAAABaQAAAAAAAQFhAAAAAAAAAYEAAAAAAAEBbQAAAAAAAQFJAAAAAAACAWkAAAAAAAIBXQAAAAAAAQFVAAAAAAACAWEAAAAAAAABYQAAAAAAAwFJAAAAAAABgYUAAAAAAAEBdQAAAAAAAwFdAAAAAAAAgYEAAAAAAAIBXQAAAAAAAAFxAAAAAAAAAVkAAAAAAAABZQAAAAAAAwFRAAAAAAABAV0AAAAAAAMBZQAAAAAAAAFZAAAAAAACAVUAAAAAAAABWQAAAAAAAAGNAAAAAAACAWkAAAAAAAABKQAAAAAAAgFhAAAAAAABAVkAAAAAAAIBVQAAAAAAAgFpAAAAAAAAAWUAAAAAAAMBWQAAAAAAAQFxAAAAAAAAAWUAAAAAAAIBgQAAAAAAAAFhAAAAAAAAAWEAAAAAAAEBcQAAAAAAAwFdAAAAAAABAVUAAAAAAAIBaQAAAAAAAQF1AAAAAAADAXkAAAAAAAIBTQAAAAAAAwFdAAAAAAADgYEAAAAAAAEBgQAAAAAAAwFxAAAAAAACAXEAAAAAAAMBaQAAAAAAAQFdAAAAAAACAV0AAAAAAAEBVQAAAAAAAgE9AAAAAAAAAWkAAAAAAAMBfQAAAAAAAQFxAAAAAAADAVkAAAAAAAEBjQAAAAAAAgFRAAAAAAACAWEAAAAAAAMBZQAAAAAAAgFVAAAAAAAAAV0AAAAAAAMBeQAAAAAAAAF1AAAAAAABAV0AAAAAAAEBYQAAAAAAAAFtAAAAAAABAWUAAAAAAACBmQAAAAAAAwFdAAAAAAABAWEAAAAAAAMBbQAAAAAAAQFRAAAAAAABAVkAAAAAAAABSQAAAAAAAAFxAAAAAAAAASEAAAAAAAEBUQAAAAAAAIGFAAAAAAABAVkAAAAAAAMBVQAAAAAAAAFZAAAAAAACAV0AAAAAAAEBfQAAAAAAAwFBAAAAAAAAAW0AAAAAAAIBZQAAAAAAAQFtAAAAAAADAXEAAAAAAAIBYQAAAAAAAAFVAAAAAAACgYEAAAAAAAEBeQAAAAAAAAFlAAAAAAABAXUAAAAAAAIBTQAAAAAAAwFVAAAAAAAAAVkAAAAAAAEBXQAAAAAAAwFpAAAAAAADAWEAAAAAAAIBhQAAAAAAAQFxAAAAAAABAVkAAAAAAAEBYQAAAAAAAQFhAAAAAAAAAW0AAAAAAAABUQAAAAAAAgFZAAAAAAABAXUAAAAAAAMBXQAAAAAAAgFVAAAAAAAAAWUAAAAAAAMBVQAAAAAAAQFlAAAAAAADAVEAAAAAAAEBWQAAAAAAAADJAAAAAAAAAUkAAAAAAAMBXQAAAAAAAwFdAAAAAAACAWEAAAAAAAIBNQAAAAAAAgF1AAAAAAACAWEAAAAAAAMBbQAAAAAAAAF1AAAAAAABAWEAAAAAAAMBXQAAAAAAAgF5AAAAAAADAV0AAAAAAAEBXQAAAAAAAwFpAAAAAAADAXUAAAAAAAMBdQAAAAAAAQFhAAAAAAAAAWEAAAAAAAMBZQAAAAAAAAFhAAAAAAACAWkAAAAAAAEBbQAAAAAAAAFxAAAAAAAAAWEAAAAAAAABOQAAAAAAAQFxAAAAAAACAX0AAAAAAAEBbQAAAAAAAQFdAAAAAAABAWUAAAAAAAMBbQAAAAAAAwFpAAAAAAAAAWUAAAAAAAABXQAAAAAAAwFlAAAAAAABAWkAAAAAAAMBZQAAAAAAAQFlAAAAAAADAXkAAAAAAAIBcQAAAAAAAQFlAAAAAAADAWEAAAAAAAIBZQAAAAAAAgFBAAAAAAAAAXEAAAAAAAEBZQAAAAAAAwFhAAAAAAABAWkAAAAAAAEBXQAAAAAAAQF5AAAAAAADAUkAAAAAAAMBXQAAAAAAAAFlAAAAAAADgYkAAAAAAAIBTQAAAAAAAQFVAAAAAAABAUUAAAAAAAABVQAAAAAAAAFZAAAAAAACAVUAAAAAAAEBeQAAAAAAAwFhAAAAAAACAW0AAAAAAAABaQAAAAAAAwFdAAAAAAAAAWEAAAAAAAIBaQAAAAAAAAFxAAAAAAABAVUAAAAAAAMBaQAAAAAAAAFNAAAAAAADAV0AAAAAAAABWQAAAAAAAAF1AAAAAAABAXkAAAAAAAIBUQAAAAAAAwFVAAAAAAAAAR0AAAAAAAMBZQAAAAAAAQFhAAAAAAADAVkAAAAAAAMBWQAAAAAAAQFlAAAAAAAAAWkAAAAAAAABXQAAAAAAAQFxAAAAAAABAVkAAAAAAAMBcQAAAAAAAAFVAAAAAAACAWkAAAAAAAABfQAAAAAAAwFRAAAAAAADAWkAAAAAAAMBjQAAAAAAAwFdAAAAAAABAWEAAAAAAAEBYQAAAAAAAQFZAAAAAAAAgZEAAAAAAAKBpQAAAAAAAwF5AAAAAAADAZ0AAAAAAAABhQAAAAAAAIGRAAAAAAACgYEAAAAAAAMBdQAAAAAAAgFdAAAAAAABAVUAAAAAAAABbQAAAAAAAwFFAAAAAAABgYkAAAAAAAABWQAAAAAAAwFhAAAAAAAAAWEAAAAAAAEBYQAAAAAAAAFdAAAAAAADAU0AAAAAAAIBKQAAAAAAAgFdAAAAAAADAXkAAAAAAAMBZQAAAAAAAwFtAAAAAAADAXkAAAAAAAABZQAAAAAAAwFJAAAAAAACAXUAAAAAAAABYQAAAAAAAAFtAAAAAAADAWEAAAAAAAMBZQAAAAAAAwFhAAAAAAAAAWUAAAAAAAEBaQAAAAAAAAEpAAAAAAACAWkAAAAAAAIBWQAAAAAAAwFdAAAAAAACAXUAAAAAAAIBYQAAAAAAAgFVAAAAAAAAAVUAAAAAAAEBXQAAAAAAAAFZAAAAAAABgYEAAAAAAAABGQAAAAAAAAFhAAAAAAACAUUAAAAAAAABWQAAAAAAAwFVAAAAAAACAXUAAAAAAAEBWQAAAAAAAQFVAAAAAAADAWkAAAAAAAEBhQAAAAAAAwF1AAAAAAABAV0AAAAAAAMBVQAAAAAAAQF5AAAAAAADAV0AAAAAAAMBZQAAAAAAAIGlAAAAAAABgZkAAAAAAAMBVQAAAAAAAgFhAAAAAAACAVEAAAAAAAEBVQAAAAAAAgFZAAAAAAAAAUUAAAAAAAEBhQAAAAAAAAGFAAAAAAABAYUAAAAAAACBgQAAAAAAAAF1AAAAAAABAYEAAAAAAAABEQAAAAAAAgFdAAAAAAAAAWkAAAAAAAMBWQAAAAAAAgFFAAAAAAAAAWkAAAAAAAMBcQAAAAAAAQFVAAAAAAABAVUAAAAAAAEBhQAAAAAAAAERAAAAAAACAVEAAAAAAAIBWQAAAAAAAwFhAAAAAAADAVkAAAAAAAIBaQAAAAAAAAFtAAAAAAACAV0AAAAAAAMBVQAAAAAAAAF9AAAAAAACgYUAAAAAAAEBXQAAAAAAAwFlAAAAAAACgYUAAAAAAAGBjQAAAAAAAQFdAAAAAAACAU0AAAAAAAIBdQAAAAAAAAFZAAAAAAACAYUAAAAAAAABfQAAAAAAAgFtAAAAAAAAAWUAAAAAAAABYQAAAAAAAAF1AAAAAAADAVkAAAAAAAMBbQAAAAAAAgFhAAAAAAABAX0AAAAAAAABTQAAAAAAAQF1AAAAAAACAVkAAAAAAAMBdQAAAAAAAAGFAAAAAAAAASkAAAAAAAEBUQAAAAAAAQFNAAAAAAAAAXkAAAAAAAIBZQAAAAAAAgFZAAAAAAACAVkAAAAAAAABXQAAAAAAAQFdAAAAAAAAAXUAAAAAAAMBaQAAAAAAAwFVAAAAAAADAW0AAAAAAAEBZQAAAAAAAwFZAAAAAAADAWUAAAAAAAABeQAAAAAAAgFZAAAAAAAAAV0AAAAAAAMBYQAAAAAAAAF9AAAAAAADAW0AAAAAAAABAQAAAAAAAgFVAAAAAAAAAWkAAAAAAAMBeQAAAAAAAQFpAAAAAAABAWEAAAAAAAEBYQAAAAAAAgFZAAAAAAABgZEAAAAAAAEBeQAAAAAAAAF5AAAAAAADAV0AAAAAAAABVQAAAAAAAgFdAAAAAAACAV0AAAAAAAIBeQAAAAAAAgFZAAAAAAADAVkAAAAAAAEBWQAAAAAAAgFhAAAAAAACAWkAAAAAAAGBhQAAAAAAAwFRAAAAAAAAAWEAAAAAAAIBXQAAAAAAAAE1AAAAAAAAAWEAAAAAAAMBaQAAAAAAAAFpAAAAAAACAV0AAAAAAAABbQAAAAAAAwFZAAAAAAAAATUAAAAAAAMBYQAAAAAAAAFhAAAAAAABAV0AAAAAAAIBaQAAAAAAAwFlAAAAAAADAVkAAAAAAAIBYQAAAAAAAwFtAAAAAAAAAXEAAAAAAAIBWQAAAAAAAQFlAAAAAAACAWEAAAAAAAABXQAAAAAAAAFZAAAAAAACAR0AAAAAAAABZQAAAAAAAgFxAAAAAAAAAYEAAAAAAAIBKQAAAAAAAQFZAAAAAAADAVEAAAAAAAEBVQAAAAAAAgFdAAAAAAAAAWkAAAAAAAEBWQAAAAAAAgFVAAAAAAADAWkAAAAAAAEBTQAAAAAAAwF5AAAAAAACAXkAAAAAAAGBgQAAAAAAAQFNAAAAAAABAX0AAAAAAAEBfQAAAAAAAAFZAAAAAAAAAWEAAAAAAAEBXQAAAAAAAAEVAAAAAAAAAW0AAAAAAAOBiQAAAAAAAQF9AAAAAAACAU0AAAAAAAEBYQAAAAAAAAFVAAAAAAAAAW0AAAAAAAEBWQAAAAAAAAE5AAAAAAADAXUAAAAAAAMBVQAAAAAAAAFpAAAAAAACAV0AAAAAAAIBXQAAAAAAAQGBAAAAAAAAAVkAAAAAAAIBdQAAAAAAAgFdAAAAAAACAXEAAAAAAAMBdQAAAAAAAgFxAAAAAAACAV0AAAAAAAIBUQAAAAAAAgFRAAAAAAAAAWEAAAAAAAABZQAAAAAAAAFpAAAAAAABAWUAAAAAAAMBYQAAAAAAAgFhAAAAAAAAAWUAAAAAAAMBgQAAAAAAAoGVAAAAAAABAXEAAAAAAAMBWQAAAAAAAgFtAAAAAAACAVkAAAAAAAABgQAAAAAAAAFtAAAAAAAAAX0AAAAAAAEBWQAAAAAAAQGRAAAAAAAAAU0AAAAAAAABYQAAAAAAAgFlAAAAAAACASkAAAAAAAIBVQAAAAAAAQFZAAAAAAAAAVEAAAAAAAMBXQAAAAAAAgFNAAAAAAACAVkAAAAAAAEBfQAAAAAAAgFdAAAAAAACAVkAAAAAAAABaQAAAAAAAAERAAAAAAAAAW0AAAAAAAIBXQAAAAAAAgE5AAAAAAACAV0AAAAAAAEBaQAAAAAAAwFRAAAAAAACAW0AAAAAAAEBeQAAAAAAAwFdAAAAAAABAYEAAAAAAAIBgQAAAAAAAgFZAAAAAAABAXUAAAAAAAEBgQAAAAAAAgFNAAAAAAACAWkAAAAAAAIBbQAAAAAAAwFZAAAAAAABAXEAAAAAAAEBZQAAAAAAAQF9AAAAAAAAAXUAAAAAAAIBaQAAAAAAAQFxAAAAAAADAWEAAAAAAAEBgQAAAAAAAAF5AAAAAAACAV0AAAAAAAIBXQAAAAAAAQFtAAAAAAACAV0AAAAAAAABYQAAAAAAAwFlAAAAAAABAW0AAAAAAAGBiQAAAAAAAgFhAAAAAAABAUkAAAAAAAABXQAAAAAAAgFNAAAAAAAAAUUAAAAAAAABYQAAAAAAAwFRAAAAAAADAVkAAAAAAAEBXQAAAAAAAAENAAAAAAACAV0AAAAAAAMBWQAAAAAAAwFdAAAAAAAAAX0AAAAAAAEBSQAAAAAAAAFtAAAAAAAAAVUAAAAAAAEBXQAAAAAAAAFhAAAAAAACAWUAAAAAAAEBgQAAAAAAAAEpAAAAAAADAVkAAAAAAAIBbQAAAAAAAwFJAAAAAAADAWUAAAAAAAEBWQAAAAAAAgFVAAAAAAABAWEAAAAAAAEBWQAAAAAAAwFZAAAAAAACAU0AAAAAAAIBWQAAAAAAAAElAAAAAAAAAVUAAAAAAAIBUQAAAAAAAgFpAAAAAAABAWkAAAAAAAEBaQAAAAAAAAFlAAAAAAABAVUAAAAAAAIBVQAAAAAAAAFlAAAAAAACAWkAAAAAAAABbQAAAAAAAgFJAAAAAAABAW0AAAAAAAEBYQAAAAAAAIGBAAAAAAACASEAAAAAAAEBXQAAAAAAAoGBAAAAAAACAYUAAAAAAAIBGQAAAAAAA4GdAAAAAAABAVEAAAAAAAABfQAAAAAAAQFlAAAAAAACAWkAAAAAAACBhQAAAAAAAYGVAAAAAAACAYEAAAAAAAGBiQAAAAAAA4GJAAAAAAABAWEAAAAAAAIBWQAAAAAAAwFtAAAAAAAAAXEAAAAAAAMBaQAAAAAAAAFhAAAAAAAAAVkAAAAAAAIBTQAAAAAAAwFVAAAAAAABAVUAAAAAAAKBjQAAAAAAAAF1AAAAAAABAXEAAAAAAAIBXQAAAAAAAQFRAAAAAAAAAVkAAAAAAAIBYQAAAAAAAYGBAAAAAAAAAXkAAAAAAAABYQAAAAAAAwGNAAAAAAAAAVkAAAAAAAABWQAAAAAAAwFtA",
          "dtype": "f8"
         },
         "xaxis": "x",
         "yaxis": "y"
        }
       ],
       "layout": {
        "barmode": "relative",
        "legend": {
         "tracegroupgap": 0
        },
        "template": {
         "data": {
          "bar": [
           {
            "error_x": {
             "color": "#2a3f5f"
            },
            "error_y": {
             "color": "#2a3f5f"
            },
            "marker": {
             "line": {
              "color": "#E5ECF6",
              "width": 0.5
             },
             "pattern": {
              "fillmode": "overlay",
              "size": 10,
              "solidity": 0.2
             }
            },
            "type": "bar"
           }
          ],
          "barpolar": [
           {
            "marker": {
             "line": {
              "color": "#E5ECF6",
              "width": 0.5
             },
             "pattern": {
              "fillmode": "overlay",
              "size": 10,
              "solidity": 0.2
             }
            },
            "type": "barpolar"
           }
          ],
          "carpet": [
           {
            "aaxis": {
             "endlinecolor": "#2a3f5f",
             "gridcolor": "white",
             "linecolor": "white",
             "minorgridcolor": "white",
             "startlinecolor": "#2a3f5f"
            },
            "baxis": {
             "endlinecolor": "#2a3f5f",
             "gridcolor": "white",
             "linecolor": "white",
             "minorgridcolor": "white",
             "startlinecolor": "#2a3f5f"
            },
            "type": "carpet"
           }
          ],
          "choropleth": [
           {
            "colorbar": {
             "outlinewidth": 0,
             "ticks": ""
            },
            "type": "choropleth"
           }
          ],
          "contour": [
           {
            "colorbar": {
             "outlinewidth": 0,
             "ticks": ""
            },
            "colorscale": [
             [
              0,
              "#0d0887"
             ],
             [
              0.1111111111111111,
              "#46039f"
             ],
             [
              0.2222222222222222,
              "#7201a8"
             ],
             [
              0.3333333333333333,
              "#9c179e"
             ],
             [
              0.4444444444444444,
              "#bd3786"
             ],
             [
              0.5555555555555556,
              "#d8576b"
             ],
             [
              0.6666666666666666,
              "#ed7953"
             ],
             [
              0.7777777777777778,
              "#fb9f3a"
             ],
             [
              0.8888888888888888,
              "#fdca26"
             ],
             [
              1,
              "#f0f921"
             ]
            ],
            "type": "contour"
           }
          ],
          "contourcarpet": [
           {
            "colorbar": {
             "outlinewidth": 0,
             "ticks": ""
            },
            "type": "contourcarpet"
           }
          ],
          "heatmap": [
           {
            "colorbar": {
             "outlinewidth": 0,
             "ticks": ""
            },
            "colorscale": [
             [
              0,
              "#0d0887"
             ],
             [
              0.1111111111111111,
              "#46039f"
             ],
             [
              0.2222222222222222,
              "#7201a8"
             ],
             [
              0.3333333333333333,
              "#9c179e"
             ],
             [
              0.4444444444444444,
              "#bd3786"
             ],
             [
              0.5555555555555556,
              "#d8576b"
             ],
             [
              0.6666666666666666,
              "#ed7953"
             ],
             [
              0.7777777777777778,
              "#fb9f3a"
             ],
             [
              0.8888888888888888,
              "#fdca26"
             ],
             [
              1,
              "#f0f921"
             ]
            ],
            "type": "heatmap"
           }
          ],
          "histogram": [
           {
            "marker": {
             "pattern": {
              "fillmode": "overlay",
              "size": 10,
              "solidity": 0.2
             }
            },
            "type": "histogram"
           }
          ],
          "histogram2d": [
           {
            "colorbar": {
             "outlinewidth": 0,
             "ticks": ""
            },
            "colorscale": [
             [
              0,
              "#0d0887"
             ],
             [
              0.1111111111111111,
              "#46039f"
             ],
             [
              0.2222222222222222,
              "#7201a8"
             ],
             [
              0.3333333333333333,
              "#9c179e"
             ],
             [
              0.4444444444444444,
              "#bd3786"
             ],
             [
              0.5555555555555556,
              "#d8576b"
             ],
             [
              0.6666666666666666,
              "#ed7953"
             ],
             [
              0.7777777777777778,
              "#fb9f3a"
             ],
             [
              0.8888888888888888,
              "#fdca26"
             ],
             [
              1,
              "#f0f921"
             ]
            ],
            "type": "histogram2d"
           }
          ],
          "histogram2dcontour": [
           {
            "colorbar": {
             "outlinewidth": 0,
             "ticks": ""
            },
            "colorscale": [
             [
              0,
              "#0d0887"
             ],
             [
              0.1111111111111111,
              "#46039f"
             ],
             [
              0.2222222222222222,
              "#7201a8"
             ],
             [
              0.3333333333333333,
              "#9c179e"
             ],
             [
              0.4444444444444444,
              "#bd3786"
             ],
             [
              0.5555555555555556,
              "#d8576b"
             ],
             [
              0.6666666666666666,
              "#ed7953"
             ],
             [
              0.7777777777777778,
              "#fb9f3a"
             ],
             [
              0.8888888888888888,
              "#fdca26"
             ],
             [
              1,
              "#f0f921"
             ]
            ],
            "type": "histogram2dcontour"
           }
          ],
          "mesh3d": [
           {
            "colorbar": {
             "outlinewidth": 0,
             "ticks": ""
            },
            "type": "mesh3d"
           }
          ],
          "parcoords": [
           {
            "line": {
             "colorbar": {
              "outlinewidth": 0,
              "ticks": ""
             }
            },
            "type": "parcoords"
           }
          ],
          "pie": [
           {
            "automargin": true,
            "type": "pie"
           }
          ],
          "scatter": [
           {
            "fillpattern": {
             "fillmode": "overlay",
             "size": 10,
             "solidity": 0.2
            },
            "type": "scatter"
           }
          ],
          "scatter3d": [
           {
            "line": {
             "colorbar": {
              "outlinewidth": 0,
              "ticks": ""
             }
            },
            "marker": {
             "colorbar": {
              "outlinewidth": 0,
              "ticks": ""
             }
            },
            "type": "scatter3d"
           }
          ],
          "scattercarpet": [
           {
            "marker": {
             "colorbar": {
              "outlinewidth": 0,
              "ticks": ""
             }
            },
            "type": "scattercarpet"
           }
          ],
          "scattergeo": [
           {
            "marker": {
             "colorbar": {
              "outlinewidth": 0,
              "ticks": ""
             }
            },
            "type": "scattergeo"
           }
          ],
          "scattergl": [
           {
            "marker": {
             "colorbar": {
              "outlinewidth": 0,
              "ticks": ""
             }
            },
            "type": "scattergl"
           }
          ],
          "scattermap": [
           {
            "marker": {
             "colorbar": {
              "outlinewidth": 0,
              "ticks": ""
             }
            },
            "type": "scattermap"
           }
          ],
          "scattermapbox": [
           {
            "marker": {
             "colorbar": {
              "outlinewidth": 0,
              "ticks": ""
             }
            },
            "type": "scattermapbox"
           }
          ],
          "scatterpolar": [
           {
            "marker": {
             "colorbar": {
              "outlinewidth": 0,
              "ticks": ""
             }
            },
            "type": "scatterpolar"
           }
          ],
          "scatterpolargl": [
           {
            "marker": {
             "colorbar": {
              "outlinewidth": 0,
              "ticks": ""
             }
            },
            "type": "scatterpolargl"
           }
          ],
          "scatterternary": [
           {
            "marker": {
             "colorbar": {
              "outlinewidth": 0,
              "ticks": ""
             }
            },
            "type": "scatterternary"
           }
          ],
          "surface": [
           {
            "colorbar": {
             "outlinewidth": 0,
             "ticks": ""
            },
            "colorscale": [
             [
              0,
              "#0d0887"
             ],
             [
              0.1111111111111111,
              "#46039f"
             ],
             [
              0.2222222222222222,
              "#7201a8"
             ],
             [
              0.3333333333333333,
              "#9c179e"
             ],
             [
              0.4444444444444444,
              "#bd3786"
             ],
             [
              0.5555555555555556,
              "#d8576b"
             ],
             [
              0.6666666666666666,
              "#ed7953"
             ],
             [
              0.7777777777777778,
              "#fb9f3a"
             ],
             [
              0.8888888888888888,
              "#fdca26"
             ],
             [
              1,
              "#f0f921"
             ]
            ],
            "type": "surface"
           }
          ],
          "table": [
           {
            "cells": {
             "fill": {
              "color": "#EBF0F8"
             },
             "line": {
              "color": "white"
             }
            },
            "header": {
             "fill": {
              "color": "#C8D4E3"
             },
             "line": {
              "color": "white"
             }
            },
            "type": "table"
           }
          ]
         },
         "layout": {
          "annotationdefaults": {
           "arrowcolor": "#2a3f5f",
           "arrowhead": 0,
           "arrowwidth": 1
          },
          "autotypenumbers": "strict",
          "coloraxis": {
           "colorbar": {
            "outlinewidth": 0,
            "ticks": ""
           }
          },
          "colorscale": {
           "diverging": [
            [
             0,
             "#8e0152"
            ],
            [
             0.1,
             "#c51b7d"
            ],
            [
             0.2,
             "#de77ae"
            ],
            [
             0.3,
             "#f1b6da"
            ],
            [
             0.4,
             "#fde0ef"
            ],
            [
             0.5,
             "#f7f7f7"
            ],
            [
             0.6,
             "#e6f5d0"
            ],
            [
             0.7,
             "#b8e186"
            ],
            [
             0.8,
             "#7fbc41"
            ],
            [
             0.9,
             "#4d9221"
            ],
            [
             1,
             "#276419"
            ]
           ],
           "sequential": [
            [
             0,
             "#0d0887"
            ],
            [
             0.1111111111111111,
             "#46039f"
            ],
            [
             0.2222222222222222,
             "#7201a8"
            ],
            [
             0.3333333333333333,
             "#9c179e"
            ],
            [
             0.4444444444444444,
             "#bd3786"
            ],
            [
             0.5555555555555556,
             "#d8576b"
            ],
            [
             0.6666666666666666,
             "#ed7953"
            ],
            [
             0.7777777777777778,
             "#fb9f3a"
            ],
            [
             0.8888888888888888,
             "#fdca26"
            ],
            [
             1,
             "#f0f921"
            ]
           ],
           "sequentialminus": [
            [
             0,
             "#0d0887"
            ],
            [
             0.1111111111111111,
             "#46039f"
            ],
            [
             0.2222222222222222,
             "#7201a8"
            ],
            [
             0.3333333333333333,
             "#9c179e"
            ],
            [
             0.4444444444444444,
             "#bd3786"
            ],
            [
             0.5555555555555556,
             "#d8576b"
            ],
            [
             0.6666666666666666,
             "#ed7953"
            ],
            [
             0.7777777777777778,
             "#fb9f3a"
            ],
            [
             0.8888888888888888,
             "#fdca26"
            ],
            [
             1,
             "#f0f921"
            ]
           ]
          },
          "colorway": [
           "#636efa",
           "#EF553B",
           "#00cc96",
           "#ab63fa",
           "#FFA15A",
           "#19d3f3",
           "#FF6692",
           "#B6E880",
           "#FF97FF",
           "#FECB52"
          ],
          "font": {
           "color": "#2a3f5f"
          },
          "geo": {
           "bgcolor": "white",
           "lakecolor": "white",
           "landcolor": "#E5ECF6",
           "showlakes": true,
           "showland": true,
           "subunitcolor": "white"
          },
          "hoverlabel": {
           "align": "left"
          },
          "hovermode": "closest",
          "mapbox": {
           "style": "light"
          },
          "paper_bgcolor": "white",
          "plot_bgcolor": "#E5ECF6",
          "polar": {
           "angularaxis": {
            "gridcolor": "white",
            "linecolor": "white",
            "ticks": ""
           },
           "bgcolor": "#E5ECF6",
           "radialaxis": {
            "gridcolor": "white",
            "linecolor": "white",
            "ticks": ""
           }
          },
          "scene": {
           "xaxis": {
            "backgroundcolor": "#E5ECF6",
            "gridcolor": "white",
            "gridwidth": 2,
            "linecolor": "white",
            "showbackground": true,
            "ticks": "",
            "zerolinecolor": "white"
           },
           "yaxis": {
            "backgroundcolor": "#E5ECF6",
            "gridcolor": "white",
            "gridwidth": 2,
            "linecolor": "white",
            "showbackground": true,
            "ticks": "",
            "zerolinecolor": "white"
           },
           "zaxis": {
            "backgroundcolor": "#E5ECF6",
            "gridcolor": "white",
            "gridwidth": 2,
            "linecolor": "white",
            "showbackground": true,
            "ticks": "",
            "zerolinecolor": "white"
           }
          },
          "shapedefaults": {
           "line": {
            "color": "#2a3f5f"
           }
          },
          "ternary": {
           "aaxis": {
            "gridcolor": "white",
            "linecolor": "white",
            "ticks": ""
           },
           "baxis": {
            "gridcolor": "white",
            "linecolor": "white",
            "ticks": ""
           },
           "bgcolor": "#E5ECF6",
           "caxis": {
            "gridcolor": "white",
            "linecolor": "white",
            "ticks": ""
           }
          },
          "title": {
           "x": 0.05
          },
          "xaxis": {
           "automargin": true,
           "gridcolor": "white",
           "linecolor": "white",
           "ticks": "",
           "title": {
            "standoff": 15
           },
           "zerolinecolor": "white",
           "zerolinewidth": 2
          },
          "yaxis": {
           "automargin": true,
           "gridcolor": "white",
           "linecolor": "white",
           "ticks": "",
           "title": {
            "standoff": 15
           },
           "zerolinecolor": "white",
           "zerolinewidth": 2
          }
         }
        },
        "title": {
         "text": "Distribution of Movie Durations"
        },
        "xaxis": {
         "anchor": "y",
         "domain": [
          0,
          1
         ],
         "title": {
          "text": "minutes"
         }
        },
        "yaxis": {
         "anchor": "x",
         "domain": [
          0,
          1
         ],
         "title": {
          "text": "count"
         }
        }
       }
      }
     },
     "metadata": {},
     "output_type": "display_data"
    },
    {
     "data": {
      "application/vnd.plotly.v1+json": {
       "config": {
        "plotlyServerURL": "https://plot.ly"
       },
       "data": [
        {
         "bingroup": "x",
         "hovertemplate": "seasons=%{x}<br>count=%{y}<extra></extra>",
         "legendgroup": "",
         "marker": {
          "color": "#636efa",
          "pattern": {
           "shape": ""
          }
         },
         "name": "",
         "nbinsx": 10,
         "orientation": "v",
         "showlegend": false,
         "type": "histogram",
         "x": {
          "bdata": "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",
          "dtype": "f8"
         },
         "xaxis": "x",
         "yaxis": "y"
        }
       ],
       "layout": {
        "barmode": "relative",
        "legend": {
         "tracegroupgap": 0
        },
        "template": {
         "data": {
          "bar": [
           {
            "error_x": {
             "color": "#2a3f5f"
            },
            "error_y": {
             "color": "#2a3f5f"
            },
            "marker": {
             "line": {
              "color": "#E5ECF6",
              "width": 0.5
             },
             "pattern": {
              "fillmode": "overlay",
              "size": 10,
              "solidity": 0.2
             }
            },
            "type": "bar"
           }
          ],
          "barpolar": [
           {
            "marker": {
             "line": {
              "color": "#E5ECF6",
              "width": 0.5
             },
             "pattern": {
              "fillmode": "overlay",
              "size": 10,
              "solidity": 0.2
             }
            },
            "type": "barpolar"
           }
          ],
          "carpet": [
           {
            "aaxis": {
             "endlinecolor": "#2a3f5f",
             "gridcolor": "white",
             "linecolor": "white",
             "minorgridcolor": "white",
             "startlinecolor": "#2a3f5f"
            },
            "baxis": {
             "endlinecolor": "#2a3f5f",
             "gridcolor": "white",
             "linecolor": "white",
             "minorgridcolor": "white",
             "startlinecolor": "#2a3f5f"
            },
            "type": "carpet"
           }
          ],
          "choropleth": [
           {
            "colorbar": {
             "outlinewidth": 0,
             "ticks": ""
            },
            "type": "choropleth"
           }
          ],
          "contour": [
           {
            "colorbar": {
             "outlinewidth": 0,
             "ticks": ""
            },
            "colorscale": [
             [
              0,
              "#0d0887"
             ],
             [
              0.1111111111111111,
              "#46039f"
             ],
             [
              0.2222222222222222,
              "#7201a8"
             ],
             [
              0.3333333333333333,
              "#9c179e"
             ],
             [
              0.4444444444444444,
              "#bd3786"
             ],
             [
              0.5555555555555556,
              "#d8576b"
             ],
             [
              0.6666666666666666,
              "#ed7953"
             ],
             [
              0.7777777777777778,
              "#fb9f3a"
             ],
             [
              0.8888888888888888,
              "#fdca26"
             ],
             [
              1,
              "#f0f921"
             ]
            ],
            "type": "contour"
           }
          ],
          "contourcarpet": [
           {
            "colorbar": {
             "outlinewidth": 0,
             "ticks": ""
            },
            "type": "contourcarpet"
           }
          ],
          "heatmap": [
           {
            "colorbar": {
             "outlinewidth": 0,
             "ticks": ""
            },
            "colorscale": [
             [
              0,
              "#0d0887"
             ],
             [
              0.1111111111111111,
              "#46039f"
             ],
             [
              0.2222222222222222,
              "#7201a8"
             ],
             [
              0.3333333333333333,
              "#9c179e"
             ],
             [
              0.4444444444444444,
              "#bd3786"
             ],
             [
              0.5555555555555556,
              "#d8576b"
             ],
             [
              0.6666666666666666,
              "#ed7953"
             ],
             [
              0.7777777777777778,
              "#fb9f3a"
             ],
             [
              0.8888888888888888,
              "#fdca26"
             ],
             [
              1,
              "#f0f921"
             ]
            ],
            "type": "heatmap"
           }
          ],
          "histogram": [
           {
            "marker": {
             "pattern": {
              "fillmode": "overlay",
              "size": 10,
              "solidity": 0.2
             }
            },
            "type": "histogram"
           }
          ],
          "histogram2d": [
           {
            "colorbar": {
             "outlinewidth": 0,
             "ticks": ""
            },
            "colorscale": [
             [
              0,
              "#0d0887"
             ],
             [
              0.1111111111111111,
              "#46039f"
             ],
             [
              0.2222222222222222,
              "#7201a8"
             ],
             [
              0.3333333333333333,
              "#9c179e"
             ],
             [
              0.4444444444444444,
              "#bd3786"
             ],
             [
              0.5555555555555556,
              "#d8576b"
             ],
             [
              0.6666666666666666,
              "#ed7953"
             ],
             [
              0.7777777777777778,
              "#fb9f3a"
             ],
             [
              0.8888888888888888,
              "#fdca26"
             ],
             [
              1,
              "#f0f921"
             ]
            ],
            "type": "histogram2d"
           }
          ],
          "histogram2dcontour": [
           {
            "colorbar": {
             "outlinewidth": 0,
             "ticks": ""
            },
            "colorscale": [
             [
              0,
              "#0d0887"
             ],
             [
              0.1111111111111111,
              "#46039f"
             ],
             [
              0.2222222222222222,
              "#7201a8"
             ],
             [
              0.3333333333333333,
              "#9c179e"
             ],
             [
              0.4444444444444444,
              "#bd3786"
             ],
             [
              0.5555555555555556,
              "#d8576b"
             ],
             [
              0.6666666666666666,
              "#ed7953"
             ],
             [
              0.7777777777777778,
              "#fb9f3a"
             ],
             [
              0.8888888888888888,
              "#fdca26"
             ],
             [
              1,
              "#f0f921"
             ]
            ],
            "type": "histogram2dcontour"
           }
          ],
          "mesh3d": [
           {
            "colorbar": {
             "outlinewidth": 0,
             "ticks": ""
            },
            "type": "mesh3d"
           }
          ],
          "parcoords": [
           {
            "line": {
             "colorbar": {
              "outlinewidth": 0,
              "ticks": ""
             }
            },
            "type": "parcoords"
           }
          ],
          "pie": [
           {
            "automargin": true,
            "type": "pie"
           }
          ],
          "scatter": [
           {
            "fillpattern": {
             "fillmode": "overlay",
             "size": 10,
             "solidity": 0.2
            },
            "type": "scatter"
           }
          ],
          "scatter3d": [
           {
            "line": {
             "colorbar": {
              "outlinewidth": 0,
              "ticks": ""
             }
            },
            "marker": {
             "colorbar": {
              "outlinewidth": 0,
              "ticks": ""
             }
            },
            "type": "scatter3d"
           }
          ],
          "scattercarpet": [
           {
            "marker": {
             "colorbar": {
              "outlinewidth": 0,
              "ticks": ""
             }
            },
            "type": "scattercarpet"
           }
          ],
          "scattergeo": [
           {
            "marker": {
             "colorbar": {
              "outlinewidth": 0,
              "ticks": ""
             }
            },
            "type": "scattergeo"
           }
          ],
          "scattergl": [
           {
            "marker": {
             "colorbar": {
              "outlinewidth": 0,
              "ticks": ""
             }
            },
            "type": "scattergl"
           }
          ],
          "scattermap": [
           {
            "marker": {
             "colorbar": {
              "outlinewidth": 0,
              "ticks": ""
             }
            },
            "type": "scattermap"
           }
          ],
          "scattermapbox": [
           {
            "marker": {
             "colorbar": {
              "outlinewidth": 0,
              "ticks": ""
             }
            },
            "type": "scattermapbox"
           }
          ],
          "scatterpolar": [
           {
            "marker": {
             "colorbar": {
              "outlinewidth": 0,
              "ticks": ""
             }
            },
            "type": "scatterpolar"
           }
          ],
          "scatterpolargl": [
           {
            "marker": {
             "colorbar": {
              "outlinewidth": 0,
              "ticks": ""
             }
            },
            "type": "scatterpolargl"
           }
          ],
          "scatterternary": [
           {
            "marker": {
             "colorbar": {
              "outlinewidth": 0,
              "ticks": ""
             }
            },
            "type": "scatterternary"
           }
          ],
          "surface": [
           {
            "colorbar": {
             "outlinewidth": 0,
             "ticks": ""
            },
            "colorscale": [
             [
              0,
              "#0d0887"
             ],
             [
              0.1111111111111111,
              "#46039f"
             ],
             [
              0.2222222222222222,
              "#7201a8"
             ],
             [
              0.3333333333333333,
              "#9c179e"
             ],
             [
              0.4444444444444444,
              "#bd3786"
             ],
             [
              0.5555555555555556,
              "#d8576b"
             ],
             [
              0.6666666666666666,
              "#ed7953"
             ],
             [
              0.7777777777777778,
              "#fb9f3a"
             ],
             [
              0.8888888888888888,
              "#fdca26"
             ],
             [
              1,
              "#f0f921"
             ]
            ],
            "type": "surface"
           }
          ],
          "table": [
           {
            "cells": {
             "fill": {
              "color": "#EBF0F8"
             },
             "line": {
              "color": "white"
             }
            },
            "header": {
             "fill": {
              "color": "#C8D4E3"
             },
             "line": {
              "color": "white"
             }
            },
            "type": "table"
           }
          ]
         },
         "layout": {
          "annotationdefaults": {
           "arrowcolor": "#2a3f5f",
           "arrowhead": 0,
           "arrowwidth": 1
          },
          "autotypenumbers": "strict",
          "coloraxis": {
           "colorbar": {
            "outlinewidth": 0,
            "ticks": ""
           }
          },
          "colorscale": {
           "diverging": [
            [
             0,
             "#8e0152"
            ],
            [
             0.1,
             "#c51b7d"
            ],
            [
             0.2,
             "#de77ae"
            ],
            [
             0.3,
             "#f1b6da"
            ],
            [
             0.4,
             "#fde0ef"
            ],
            [
             0.5,
             "#f7f7f7"
            ],
            [
             0.6,
             "#e6f5d0"
            ],
            [
             0.7,
             "#b8e186"
            ],
            [
             0.8,
             "#7fbc41"
            ],
            [
             0.9,
             "#4d9221"
            ],
            [
             1,
             "#276419"
            ]
           ],
           "sequential": [
            [
             0,
             "#0d0887"
            ],
            [
             0.1111111111111111,
             "#46039f"
            ],
            [
             0.2222222222222222,
             "#7201a8"
            ],
            [
             0.3333333333333333,
             "#9c179e"
            ],
            [
             0.4444444444444444,
             "#bd3786"
            ],
            [
             0.5555555555555556,
             "#d8576b"
            ],
            [
             0.6666666666666666,
             "#ed7953"
            ],
            [
             0.7777777777777778,
             "#fb9f3a"
            ],
            [
             0.8888888888888888,
             "#fdca26"
            ],
            [
             1,
             "#f0f921"
            ]
           ],
           "sequentialminus": [
            [
             0,
             "#0d0887"
            ],
            [
             0.1111111111111111,
             "#46039f"
            ],
            [
             0.2222222222222222,
             "#7201a8"
            ],
            [
             0.3333333333333333,
             "#9c179e"
            ],
            [
             0.4444444444444444,
             "#bd3786"
            ],
            [
             0.5555555555555556,
             "#d8576b"
            ],
            [
             0.6666666666666666,
             "#ed7953"
            ],
            [
             0.7777777777777778,
             "#fb9f3a"
            ],
            [
             0.8888888888888888,
             "#fdca26"
            ],
            [
             1,
             "#f0f921"
            ]
           ]
          },
          "colorway": [
           "#636efa",
           "#EF553B",
           "#00cc96",
           "#ab63fa",
           "#FFA15A",
           "#19d3f3",
           "#FF6692",
           "#B6E880",
           "#FF97FF",
           "#FECB52"
          ],
          "font": {
           "color": "#2a3f5f"
          },
          "geo": {
           "bgcolor": "white",
           "lakecolor": "white",
           "landcolor": "#E5ECF6",
           "showlakes": true,
           "showland": true,
           "subunitcolor": "white"
          },
          "hoverlabel": {
           "align": "left"
          },
          "hovermode": "closest",
          "mapbox": {
           "style": "light"
          },
          "paper_bgcolor": "white",
          "plot_bgcolor": "#E5ECF6",
          "polar": {
           "angularaxis": {
            "gridcolor": "white",
            "linecolor": "white",
            "ticks": ""
           },
           "bgcolor": "#E5ECF6",
           "radialaxis": {
            "gridcolor": "white",
            "linecolor": "white",
            "ticks": ""
           }
          },
          "scene": {
           "xaxis": {
            "backgroundcolor": "#E5ECF6",
            "gridcolor": "white",
            "gridwidth": 2,
            "linecolor": "white",
            "showbackground": true,
            "ticks": "",
            "zerolinecolor": "white"
           },
           "yaxis": {
            "backgroundcolor": "#E5ECF6",
            "gridcolor": "white",
            "gridwidth": 2,
            "linecolor": "white",
            "showbackground": true,
            "ticks": "",
            "zerolinecolor": "white"
           },
           "zaxis": {
            "backgroundcolor": "#E5ECF6",
            "gridcolor": "white",
            "gridwidth": 2,
            "linecolor": "white",
            "showbackground": true,
            "ticks": "",
            "zerolinecolor": "white"
           }
          },
          "shapedefaults": {
           "line": {
            "color": "#2a3f5f"
           }
          },
          "ternary": {
           "aaxis": {
            "gridcolor": "white",
            "linecolor": "white",
            "ticks": ""
           },
           "baxis": {
            "gridcolor": "white",
            "linecolor": "white",
            "ticks": ""
           },
           "bgcolor": "#E5ECF6",
           "caxis": {
            "gridcolor": "white",
            "linecolor": "white",
            "ticks": ""
           }
          },
          "title": {
           "x": 0.05
          },
          "xaxis": {
           "automargin": true,
           "gridcolor": "white",
           "linecolor": "white",
           "ticks": "",
           "title": {
            "standoff": 15
           },
           "zerolinecolor": "white",
           "zerolinewidth": 2
          },
          "yaxis": {
           "automargin": true,
           "gridcolor": "white",
           "linecolor": "white",
           "ticks": "",
           "title": {
            "standoff": 15
           },
           "zerolinecolor": "white",
           "zerolinewidth": 2
          }
         }
        },
        "title": {
         "text": "Distribution of TV Show Seasons"
        },
        "xaxis": {
         "anchor": "y",
         "domain": [
          0,
          1
         ],
         "title": {
          "text": "seasons"
         }
        },
        "yaxis": {
         "anchor": "x",
         "domain": [
          0,
          1
         ],
         "title": {
          "text": "count"
         }
        }
       }
      }
     },
     "metadata": {},
     "output_type": "display_data"
    }
   ],
   "source": [
    "#2. Duration Analysis\n",
    "\n",
    "# Separate Movies and TV Shows\n",
    "df_movies = df[df['type'] == 'Movie'].copy()\n",
    "df_shows = df[df['type'] == 'TV Show'].copy()\n",
    "\n",
    "# Extract duration values\n",
    "df_movies['minutes'] = df_movies['duration'].str.extract('(\\d+)').astype(float)\n",
    "df_shows['seasons'] = df_shows['duration'].str.extract('(\\d+)').astype(float)\n",
    "\n",
    "# Movie duration distribution\n",
    "fig = px.histogram(df_movies, x='minutes', nbins=50, title=\"Distribution of Movie Durations\")\n",
    "fig.show()\n",
    "\n",
    "# TV Show seasons distribution\n",
    "fig = px.histogram(df_shows, x='seasons', nbins=10, title=\"Distribution of TV Show Seasons\")\n",
    "fig.show()\n"
   ]
  },
  {
   "cell_type": "code",
   "execution_count": 27,
   "id": "29991e6b",
   "metadata": {},
   "outputs": [
    {
     "data": {
      "application/vnd.plotly.v1+json": {
       "config": {
        "plotlyServerURL": "https://plot.ly"
       },
       "data": [
        {
         "hovertemplate": "Date=%{x}<br>Count=%{y}<extra></extra>",
         "legendgroup": "",
         "line": {
          "color": "#636efa",
          "dash": "solid"
         },
         "marker": {
          "symbol": "circle"
         },
         "mode": "lines",
         "name": "",
         "orientation": "v",
         "showlegend": false,
         "type": "scatter",
         "x": [
          "2008-01-01T00:00:00.000000000",
          "2008-02-01T00:00:00.000000000",
          "2009-05-01T00:00:00.000000000",
          "2009-11-01T00:00:00.000000000",
          "2010-11-01T00:00:00.000000000",
          "2011-05-01T00:00:00.000000000",
          "2011-09-01T00:00:00.000000000",
          "2011-10-01T00:00:00.000000000",
          "2012-02-01T00:00:00.000000000",
          "2012-11-01T00:00:00.000000000",
          "2012-12-01T00:00:00.000000000",
          "2013-03-01T00:00:00.000000000",
          "2013-08-01T00:00:00.000000000",
          "2013-09-01T00:00:00.000000000",
          "2013-10-01T00:00:00.000000000",
          "2013-11-01T00:00:00.000000000",
          "2013-12-01T00:00:00.000000000",
          "2014-01-01T00:00:00.000000000",
          "2014-02-01T00:00:00.000000000",
          "2014-04-01T00:00:00.000000000",
          "2014-06-01T00:00:00.000000000",
          "2014-07-01T00:00:00.000000000",
          "2014-08-01T00:00:00.000000000",
          "2014-09-01T00:00:00.000000000",
          "2014-10-01T00:00:00.000000000",
          "2014-11-01T00:00:00.000000000",
          "2014-12-01T00:00:00.000000000",
          "2015-01-01T00:00:00.000000000",
          "2015-02-01T00:00:00.000000000",
          "2015-03-01T00:00:00.000000000",
          "2015-04-01T00:00:00.000000000",
          "2015-05-01T00:00:00.000000000",
          "2015-06-01T00:00:00.000000000",
          "2015-07-01T00:00:00.000000000",
          "2015-08-01T00:00:00.000000000",
          "2015-09-01T00:00:00.000000000",
          "2015-10-01T00:00:00.000000000",
          "2015-11-01T00:00:00.000000000",
          "2015-12-01T00:00:00.000000000",
          "2016-01-01T00:00:00.000000000",
          "2016-02-01T00:00:00.000000000",
          "2016-03-01T00:00:00.000000000",
          "2016-04-01T00:00:00.000000000",
          "2016-05-01T00:00:00.000000000",
          "2016-06-01T00:00:00.000000000",
          "2016-07-01T00:00:00.000000000",
          "2016-08-01T00:00:00.000000000",
          "2016-09-01T00:00:00.000000000",
          "2016-10-01T00:00:00.000000000",
          "2016-11-01T00:00:00.000000000",
          "2016-12-01T00:00:00.000000000",
          "2017-01-01T00:00:00.000000000",
          "2017-02-01T00:00:00.000000000",
          "2017-03-01T00:00:00.000000000",
          "2017-04-01T00:00:00.000000000",
          "2017-05-01T00:00:00.000000000",
          "2017-06-01T00:00:00.000000000",
          "2017-07-01T00:00:00.000000000",
          "2017-08-01T00:00:00.000000000",
          "2017-09-01T00:00:00.000000000",
          "2017-10-01T00:00:00.000000000",
          "2017-11-01T00:00:00.000000000",
          "2017-12-01T00:00:00.000000000",
          "2018-01-01T00:00:00.000000000",
          "2018-02-01T00:00:00.000000000",
          "2018-03-01T00:00:00.000000000",
          "2018-04-01T00:00:00.000000000",
          "2018-05-01T00:00:00.000000000",
          "2018-06-01T00:00:00.000000000",
          "2018-07-01T00:00:00.000000000",
          "2018-08-01T00:00:00.000000000",
          "2018-09-01T00:00:00.000000000",
          "2018-10-01T00:00:00.000000000",
          "2018-11-01T00:00:00.000000000",
          "2018-12-01T00:00:00.000000000",
          "2019-01-01T00:00:00.000000000",
          "2019-02-01T00:00:00.000000000",
          "2019-03-01T00:00:00.000000000",
          "2019-04-01T00:00:00.000000000",
          "2019-05-01T00:00:00.000000000",
          "2019-06-01T00:00:00.000000000",
          "2019-07-01T00:00:00.000000000",
          "2019-08-01T00:00:00.000000000",
          "2019-09-01T00:00:00.000000000",
          "2019-10-01T00:00:00.000000000",
          "2019-11-01T00:00:00.000000000",
          "2019-12-01T00:00:00.000000000",
          "2020-01-01T00:00:00.000000000",
          "2020-02-01T00:00:00.000000000",
          "2020-03-01T00:00:00.000000000",
          "2020-04-01T00:00:00.000000000",
          "2020-05-01T00:00:00.000000000",
          "2020-06-01T00:00:00.000000000",
          "2020-07-01T00:00:00.000000000",
          "2020-08-01T00:00:00.000000000",
          "2020-09-01T00:00:00.000000000",
          "2020-10-01T00:00:00.000000000",
          "2020-11-01T00:00:00.000000000",
          "2020-12-01T00:00:00.000000000",
          "2021-01-01T00:00:00.000000000",
          "2021-02-01T00:00:00.000000000",
          "2021-03-01T00:00:00.000000000",
          "2021-04-01T00:00:00.000000000",
          "2021-05-01T00:00:00.000000000",
          "2021-06-01T00:00:00.000000000",
          "2021-07-01T00:00:00.000000000",
          "2021-08-01T00:00:00.000000000",
          "2021-09-01T00:00:00.000000000"
         ],
         "xaxis": "x",
         "y": {
          "bdata": "AQABAAEAAQABAAEAAQALAAEAAQABAAEAAQACAAMAAgACAAIAAgACAAEAAQABAAEABAAEAAYAAQAEAAUABQAGAAYABwACAAcADgAEABUAKwAPABEAFgANABIAHAAhAC8AMwAsAF8ARwBSAHwAXABWAF4ATwBzAHEAfgBVAHYAgQBWAK0AcwBhAE4AmACkAHwAvwCaALkAmQCUAKwAogCLAKgAnQCDAHsAwQD/ANcAzQByAIkAsQCdAJwAkgCBAKgApwCaAKkAhABtAHAAvACEAM8AAQGyALcA",
          "dtype": "i2"
         },
         "yaxis": "y"
        }
       ],
       "layout": {
        "legend": {
         "tracegroupgap": 0
        },
        "template": {
         "data": {
          "bar": [
           {
            "error_x": {
             "color": "#2a3f5f"
            },
            "error_y": {
             "color": "#2a3f5f"
            },
            "marker": {
             "line": {
              "color": "#E5ECF6",
              "width": 0.5
             },
             "pattern": {
              "fillmode": "overlay",
              "size": 10,
              "solidity": 0.2
             }
            },
            "type": "bar"
           }
          ],
          "barpolar": [
           {
            "marker": {
             "line": {
              "color": "#E5ECF6",
              "width": 0.5
             },
             "pattern": {
              "fillmode": "overlay",
              "size": 10,
              "solidity": 0.2
             }
            },
            "type": "barpolar"
           }
          ],
          "carpet": [
           {
            "aaxis": {
             "endlinecolor": "#2a3f5f",
             "gridcolor": "white",
             "linecolor": "white",
             "minorgridcolor": "white",
             "startlinecolor": "#2a3f5f"
            },
            "baxis": {
             "endlinecolor": "#2a3f5f",
             "gridcolor": "white",
             "linecolor": "white",
             "minorgridcolor": "white",
             "startlinecolor": "#2a3f5f"
            },
            "type": "carpet"
           }
          ],
          "choropleth": [
           {
            "colorbar": {
             "outlinewidth": 0,
             "ticks": ""
            },
            "type": "choropleth"
           }
          ],
          "contour": [
           {
            "colorbar": {
             "outlinewidth": 0,
             "ticks": ""
            },
            "colorscale": [
             [
              0,
              "#0d0887"
             ],
             [
              0.1111111111111111,
              "#46039f"
             ],
             [
              0.2222222222222222,
              "#7201a8"
             ],
             [
              0.3333333333333333,
              "#9c179e"
             ],
             [
              0.4444444444444444,
              "#bd3786"
             ],
             [
              0.5555555555555556,
              "#d8576b"
             ],
             [
              0.6666666666666666,
              "#ed7953"
             ],
             [
              0.7777777777777778,
              "#fb9f3a"
             ],
             [
              0.8888888888888888,
              "#fdca26"
             ],
             [
              1,
              "#f0f921"
             ]
            ],
            "type": "contour"
           }
          ],
          "contourcarpet": [
           {
            "colorbar": {
             "outlinewidth": 0,
             "ticks": ""
            },
            "type": "contourcarpet"
           }
          ],
          "heatmap": [
           {
            "colorbar": {
             "outlinewidth": 0,
             "ticks": ""
            },
            "colorscale": [
             [
              0,
              "#0d0887"
             ],
             [
              0.1111111111111111,
              "#46039f"
             ],
             [
              0.2222222222222222,
              "#7201a8"
             ],
             [
              0.3333333333333333,
              "#9c179e"
             ],
             [
              0.4444444444444444,
              "#bd3786"
             ],
             [
              0.5555555555555556,
              "#d8576b"
             ],
             [
              0.6666666666666666,
              "#ed7953"
             ],
             [
              0.7777777777777778,
              "#fb9f3a"
             ],
             [
              0.8888888888888888,
              "#fdca26"
             ],
             [
              1,
              "#f0f921"
             ]
            ],
            "type": "heatmap"
           }
          ],
          "histogram": [
           {
            "marker": {
             "pattern": {
              "fillmode": "overlay",
              "size": 10,
              "solidity": 0.2
             }
            },
            "type": "histogram"
           }
          ],
          "histogram2d": [
           {
            "colorbar": {
             "outlinewidth": 0,
             "ticks": ""
            },
            "colorscale": [
             [
              0,
              "#0d0887"
             ],
             [
              0.1111111111111111,
              "#46039f"
             ],
             [
              0.2222222222222222,
              "#7201a8"
             ],
             [
              0.3333333333333333,
              "#9c179e"
             ],
             [
              0.4444444444444444,
              "#bd3786"
             ],
             [
              0.5555555555555556,
              "#d8576b"
             ],
             [
              0.6666666666666666,
              "#ed7953"
             ],
             [
              0.7777777777777778,
              "#fb9f3a"
             ],
             [
              0.8888888888888888,
              "#fdca26"
             ],
             [
              1,
              "#f0f921"
             ]
            ],
            "type": "histogram2d"
           }
          ],
          "histogram2dcontour": [
           {
            "colorbar": {
             "outlinewidth": 0,
             "ticks": ""
            },
            "colorscale": [
             [
              0,
              "#0d0887"
             ],
             [
              0.1111111111111111,
              "#46039f"
             ],
             [
              0.2222222222222222,
              "#7201a8"
             ],
             [
              0.3333333333333333,
              "#9c179e"
             ],
             [
              0.4444444444444444,
              "#bd3786"
             ],
             [
              0.5555555555555556,
              "#d8576b"
             ],
             [
              0.6666666666666666,
              "#ed7953"
             ],
             [
              0.7777777777777778,
              "#fb9f3a"
             ],
             [
              0.8888888888888888,
              "#fdca26"
             ],
             [
              1,
              "#f0f921"
             ]
            ],
            "type": "histogram2dcontour"
           }
          ],
          "mesh3d": [
           {
            "colorbar": {
             "outlinewidth": 0,
             "ticks": ""
            },
            "type": "mesh3d"
           }
          ],
          "parcoords": [
           {
            "line": {
             "colorbar": {
              "outlinewidth": 0,
              "ticks": ""
             }
            },
            "type": "parcoords"
           }
          ],
          "pie": [
           {
            "automargin": true,
            "type": "pie"
           }
          ],
          "scatter": [
           {
            "fillpattern": {
             "fillmode": "overlay",
             "size": 10,
             "solidity": 0.2
            },
            "type": "scatter"
           }
          ],
          "scatter3d": [
           {
            "line": {
             "colorbar": {
              "outlinewidth": 0,
              "ticks": ""
             }
            },
            "marker": {
             "colorbar": {
              "outlinewidth": 0,
              "ticks": ""
             }
            },
            "type": "scatter3d"
           }
          ],
          "scattercarpet": [
           {
            "marker": {
             "colorbar": {
              "outlinewidth": 0,
              "ticks": ""
             }
            },
            "type": "scattercarpet"
           }
          ],
          "scattergeo": [
           {
            "marker": {
             "colorbar": {
              "outlinewidth": 0,
              "ticks": ""
             }
            },
            "type": "scattergeo"
           }
          ],
          "scattergl": [
           {
            "marker": {
             "colorbar": {
              "outlinewidth": 0,
              "ticks": ""
             }
            },
            "type": "scattergl"
           }
          ],
          "scattermap": [
           {
            "marker": {
             "colorbar": {
              "outlinewidth": 0,
              "ticks": ""
             }
            },
            "type": "scattermap"
           }
          ],
          "scattermapbox": [
           {
            "marker": {
             "colorbar": {
              "outlinewidth": 0,
              "ticks": ""
             }
            },
            "type": "scattermapbox"
           }
          ],
          "scatterpolar": [
           {
            "marker": {
             "colorbar": {
              "outlinewidth": 0,
              "ticks": ""
             }
            },
            "type": "scatterpolar"
           }
          ],
          "scatterpolargl": [
           {
            "marker": {
             "colorbar": {
              "outlinewidth": 0,
              "ticks": ""
             }
            },
            "type": "scatterpolargl"
           }
          ],
          "scatterternary": [
           {
            "marker": {
             "colorbar": {
              "outlinewidth": 0,
              "ticks": ""
             }
            },
            "type": "scatterternary"
           }
          ],
          "surface": [
           {
            "colorbar": {
             "outlinewidth": 0,
             "ticks": ""
            },
            "colorscale": [
             [
              0,
              "#0d0887"
             ],
             [
              0.1111111111111111,
              "#46039f"
             ],
             [
              0.2222222222222222,
              "#7201a8"
             ],
             [
              0.3333333333333333,
              "#9c179e"
             ],
             [
              0.4444444444444444,
              "#bd3786"
             ],
             [
              0.5555555555555556,
              "#d8576b"
             ],
             [
              0.6666666666666666,
              "#ed7953"
             ],
             [
              0.7777777777777778,
              "#fb9f3a"
             ],
             [
              0.8888888888888888,
              "#fdca26"
             ],
             [
              1,
              "#f0f921"
             ]
            ],
            "type": "surface"
           }
          ],
          "table": [
           {
            "cells": {
             "fill": {
              "color": "#EBF0F8"
             },
             "line": {
              "color": "white"
             }
            },
            "header": {
             "fill": {
              "color": "#C8D4E3"
             },
             "line": {
              "color": "white"
             }
            },
            "type": "table"
           }
          ]
         },
         "layout": {
          "annotationdefaults": {
           "arrowcolor": "#2a3f5f",
           "arrowhead": 0,
           "arrowwidth": 1
          },
          "autotypenumbers": "strict",
          "coloraxis": {
           "colorbar": {
            "outlinewidth": 0,
            "ticks": ""
           }
          },
          "colorscale": {
           "diverging": [
            [
             0,
             "#8e0152"
            ],
            [
             0.1,
             "#c51b7d"
            ],
            [
             0.2,
             "#de77ae"
            ],
            [
             0.3,
             "#f1b6da"
            ],
            [
             0.4,
             "#fde0ef"
            ],
            [
             0.5,
             "#f7f7f7"
            ],
            [
             0.6,
             "#e6f5d0"
            ],
            [
             0.7,
             "#b8e186"
            ],
            [
             0.8,
             "#7fbc41"
            ],
            [
             0.9,
             "#4d9221"
            ],
            [
             1,
             "#276419"
            ]
           ],
           "sequential": [
            [
             0,
             "#0d0887"
            ],
            [
             0.1111111111111111,
             "#46039f"
            ],
            [
             0.2222222222222222,
             "#7201a8"
            ],
            [
             0.3333333333333333,
             "#9c179e"
            ],
            [
             0.4444444444444444,
             "#bd3786"
            ],
            [
             0.5555555555555556,
             "#d8576b"
            ],
            [
             0.6666666666666666,
             "#ed7953"
            ],
            [
             0.7777777777777778,
             "#fb9f3a"
            ],
            [
             0.8888888888888888,
             "#fdca26"
            ],
            [
             1,
             "#f0f921"
            ]
           ],
           "sequentialminus": [
            [
             0,
             "#0d0887"
            ],
            [
             0.1111111111111111,
             "#46039f"
            ],
            [
             0.2222222222222222,
             "#7201a8"
            ],
            [
             0.3333333333333333,
             "#9c179e"
            ],
            [
             0.4444444444444444,
             "#bd3786"
            ],
            [
             0.5555555555555556,
             "#d8576b"
            ],
            [
             0.6666666666666666,
             "#ed7953"
            ],
            [
             0.7777777777777778,
             "#fb9f3a"
            ],
            [
             0.8888888888888888,
             "#fdca26"
            ],
            [
             1,
             "#f0f921"
            ]
           ]
          },
          "colorway": [
           "#636efa",
           "#EF553B",
           "#00cc96",
           "#ab63fa",
           "#FFA15A",
           "#19d3f3",
           "#FF6692",
           "#B6E880",
           "#FF97FF",
           "#FECB52"
          ],
          "font": {
           "color": "#2a3f5f"
          },
          "geo": {
           "bgcolor": "white",
           "lakecolor": "white",
           "landcolor": "#E5ECF6",
           "showlakes": true,
           "showland": true,
           "subunitcolor": "white"
          },
          "hoverlabel": {
           "align": "left"
          },
          "hovermode": "closest",
          "mapbox": {
           "style": "light"
          },
          "paper_bgcolor": "white",
          "plot_bgcolor": "#E5ECF6",
          "polar": {
           "angularaxis": {
            "gridcolor": "white",
            "linecolor": "white",
            "ticks": ""
           },
           "bgcolor": "#E5ECF6",
           "radialaxis": {
            "gridcolor": "white",
            "linecolor": "white",
            "ticks": ""
           }
          },
          "scene": {
           "xaxis": {
            "backgroundcolor": "#E5ECF6",
            "gridcolor": "white",
            "gridwidth": 2,
            "linecolor": "white",
            "showbackground": true,
            "ticks": "",
            "zerolinecolor": "white"
           },
           "yaxis": {
            "backgroundcolor": "#E5ECF6",
            "gridcolor": "white",
            "gridwidth": 2,
            "linecolor": "white",
            "showbackground": true,
            "ticks": "",
            "zerolinecolor": "white"
           },
           "zaxis": {
            "backgroundcolor": "#E5ECF6",
            "gridcolor": "white",
            "gridwidth": 2,
            "linecolor": "white",
            "showbackground": true,
            "ticks": "",
            "zerolinecolor": "white"
           }
          },
          "shapedefaults": {
           "line": {
            "color": "#2a3f5f"
           }
          },
          "ternary": {
           "aaxis": {
            "gridcolor": "white",
            "linecolor": "white",
            "ticks": ""
           },
           "baxis": {
            "gridcolor": "white",
            "linecolor": "white",
            "ticks": ""
           },
           "bgcolor": "#E5ECF6",
           "caxis": {
            "gridcolor": "white",
            "linecolor": "white",
            "ticks": ""
           }
          },
          "title": {
           "x": 0.05
          },
          "xaxis": {
           "automargin": true,
           "gridcolor": "white",
           "linecolor": "white",
           "ticks": "",
           "title": {
            "standoff": 15
           },
           "zerolinecolor": "white",
           "zerolinewidth": 2
          },
          "yaxis": {
           "automargin": true,
           "gridcolor": "white",
           "linecolor": "white",
           "ticks": "",
           "title": {
            "standoff": 15
           },
           "zerolinecolor": "white",
           "zerolinewidth": 2
          }
         }
        },
        "title": {
         "text": "Monthly Netflix Content Additions Over Time"
        },
        "xaxis": {
         "anchor": "y",
         "domain": [
          0,
          1
         ],
         "title": {
          "text": "Date"
         }
        },
        "yaxis": {
         "anchor": "x",
         "domain": [
          0,
          1
         ],
         "title": {
          "text": "Count"
         }
        }
       }
      }
     },
     "metadata": {},
     "output_type": "display_data"
    }
   ],
   "source": [
    "#3. Monthly Trend of Content Addition\n",
    "\n",
    "monthly = df.groupby(['year_added', 'month_added']).size().reset_index(name='Count')\n",
    "monthly['Date'] = pd.to_datetime(monthly['year_added'].astype(str) + '-' + monthly['month_added'].astype(str))\n",
    "\n",
    "fig = px.line(monthly, x='Date', y='Count', title='Monthly Netflix Content Additions Over Time')\n",
    "fig.show()\n"
   ]
  },
  {
   "cell_type": "markdown",
   "id": "0ab6614d",
   "metadata": {},
   "source": [
    "HTML plots for hovering "
   ]
  },
  {
   "cell_type": "code",
   "execution_count": 30,
   "id": "01b23642",
   "metadata": {},
   "outputs": [],
   "source": [
    "# all plots in single html file\n",
    "\n",
    "import pandas as pd\n",
    "import plotly.express as px\n",
    "from wordcloud import WordCloud\n",
    "from PIL import Image\n",
    "import io\n",
    "import plotly.io as pio\n",
    "from plotly.subplots import make_subplots\n",
    "from plotly.graph_objs import Figure\n",
    "import os\n"
   ]
  },
  {
   "cell_type": "code",
   "execution_count": null,
   "id": "22f2ab8c",
   "metadata": {},
   "outputs": [
    {
     "ename": "ValueError",
     "evalue": "\nThe fig parameter must be a dict or Figure.\n    Received value of type <class 'list'>: [Figure({\n    'data': [{'hovertemplate': 'Count=%{marker.color}<br>Genre=%{y}<extra></extra>',\n              'legendgroup': '',\n              'marker': {'color': {'bdata': 'wAp6CYoGRQVlA1sD+gL0AoECaAI=', 'dtype': 'i2'},\n                         'coloraxis': 'coloraxis',\n                         'pattern': {'shape': ''}},\n              'name': '',\n              'orientation': 'h',\n              'showlegend': False,\n              'textposition': 'auto',\n              'type': 'bar',\n              'x': {'bdata': 'wAp6CYoGRQVlA1sD+gL0AoECaAI=', 'dtype': 'i2'},\n              'xaxis': 'x',\n              'y': array(['International Movies', 'Dramas', 'Comedies', 'International TV Shows',\n                          'Documentaries', 'Action & Adventure', 'TV Dramas',\n                          'Independent Movies', 'Children & Family Movies', 'Romantic Movies'],\n                         dtype=object),\n              'yaxis': 'y'}],\n    'layout': {'barmode': 'relative',\n               'coloraxis': {'colorbar': {'title': {'text': 'Count'}},\n                             'colorscale': [[0.0, '#440154'], [0.1111111111111111,\n                                            '#482878'], [0.2222222222222222,\n                                            '#3e4989'], [0.3333333333333333,\n                                            '#31688e'], [0.4444444444444444,\n                                            '#26828e'], [0.5555555555555556,\n                                            '#1f9e89'], [0.6666666666666666,\n                                            '#35b779'], [0.7777777777777778,\n                                            '#6ece58'], [0.8888888888888888,\n                                            '#b5de2b'], [1.0, '#fde725']]},\n               'legend': {'tracegroupgap': 0},\n               'template': '...',\n               'title': {'text': 'Top 10 Genres on Netflix'},\n               'xaxis': {'anchor': 'y', 'domain': [0.0, 1.0], 'title': {'text': 'Count'}},\n               'yaxis': {'anchor': 'x', 'autorange': 'reversed', 'domain': [0.0, 1.0], 'title': {'text': 'Genre'}}}\n}), Figure({\n    'data': [{'hovertemplate': 'type=Movie<br>year_added=%{x}<br>Count=%{y}<extra></extra>',\n              'legendgroup': 'Movie',\n              'marker': {'color': '#636efa', 'pattern': {'shape': ''}},\n              'name': 'Movie',\n              'orientation': 'v',\n              'showlegend': True,\n              'textposition': 'auto',\n              'type': 'bar',\n              'x': {'bdata': '2AcAANkHAADaBwAA2wcAANwHAADdBwAA3gcAAN8HAADgBwAA4QcAAOIHAADjBwAA5AcAAOUHAAA=',\n                    'dtype': 'i4'},\n              'xaxis': 'x',\n              'y': {'bdata': 'AQACAAEADQADAAYAEwA4APsARAPVBJAFBAXhAw==', 'dtype': 'i2'},\n              'yaxis': 'y'},\n             {'hovertemplate': 'type=TV Show<br>year_added=%{x}<br>Count=%{y}<extra></extra>',\n              'legendgroup': 'TV Show',\n              'marker': {'color': '#EF553B', 'pattern': {'shape': ''}},\n              'name': 'TV Show',\n              'orientation': 'v',\n              'showlegend': True,\n              'textposition': 'auto',\n              'type': 'bar',\n              'x': {'bdata': '2AcAAN0HAADeBwAA3wcAAOAHAADhBwAA4gcAAOMHAADkBwAA5QcAAA==', 'dtype': 'i4'},\n              'xaxis': 'x',\n              'y': {'bdata': 'AQAFAAUAGgCvAF0BmwFQAlMC+QE=', 'dtype': 'i2'},\n              'yaxis': 'y'}],\n    'layout': {'barmode': 'stack',\n               'legend': {'title': {'text': 'type'}, 'tracegroupgap': 0},\n               'template': '...',\n               'title': {'text': 'Movies vs TV Shows Added Per Year'},\n               'xaxis': {'anchor': 'y', 'domain': [0.0, 1.0], 'title': {'text': 'Year Added'}},\n               'yaxis': {'anchor': 'x', 'domain': [0.0, 1.0], 'title': {'text': 'Number of Titles'}}}\n}), Figure({\n    'data': [{'hovertemplate': 'Count=%{marker.color}<br>Country=%{y}<extra></extra>',\n              'legendgroup': '',\n              'marker': {'color': {'bdata': 'YA4WBD0DIwO9AYkBPAHoAOcA4gA=', 'dtype': 'i2'},\n                         'coloraxis': 'coloraxis',\n                         'pattern': {'shape': ''}},\n              'name': '',\n              'orientation': 'h',\n              'showlegend': False,\n              'textposition': 'auto',\n              'type': 'bar',\n              'x': {'bdata': 'YA4WBD0DIwO9AYkBPAHoAOcA4gA=', 'dtype': 'i2'},\n              'xaxis': 'x',\n              'y': array(['United States', 'India', 'Unknown', 'United Kingdom', 'Canada',\n                          'France', 'Japan', 'Spain', 'South Korea', 'Germany'], dtype=object),\n              'yaxis': 'y'}],\n    'layout': {'barmode': 'relative',\n               'coloraxis': {'colorbar': {'title': {'text': 'Count'}},\n                             'colorscale': [[0.0, 'rgb(255,245,240)'], [0.125,\n                                            'rgb(254,224,210)'], [0.25,\n                                            'rgb(252,187,161)'], [0.375,\n                                            'rgb(252,146,114)'], [0.5,\n                                            'rgb(251,106,74)'], [0.625,\n                                            'rgb(239,59,44)'], [0.75,\n                                            'rgb(203,24,29)'], [0.875,\n                                            'rgb(165,15,21)'], [1.0,\n                                            'rgb(103,0,13)']]},\n               'legend': {'tracegroupgap': 0},\n               'template': '...',\n               'title': {'text': 'Top 10 Countries Producing Netflix Content'},\n               'xaxis': {'anchor': 'y', 'domain': [0.0, 1.0], 'title': {'text': 'Count'}},\n               'yaxis': {'anchor': 'x', 'autorange': 'reversed', 'domain': [0.0, 1.0], 'title': {'text': 'Country'}}}\n}), Figure({\n    'data': [{'hovertemplate': 'x: %{x}<br>y: %{y}<br>color: [%{z[0]}, %{z[1]}, %{z[2]}]<extra></extra>',\n              'name': '0',\n              'source': ('data:image/png;base64,iVBORw0K' ... '8Buk1JdO/RdSwAAAAASUVORK5CYII='),\n              'type': 'image',\n              'xaxis': 'x',\n              'yaxis': 'y'}],\n    'layout': {'margin': {'t': 60},\n               'template': '...',\n               'title': {'text': 'WordCloud of Netflix Titles'},\n               'xaxis': {'anchor': 'y', 'domain': [0.0, 1.0], 'visible': False},\n               'yaxis': {'anchor': 'x', 'domain': [0.0, 1.0], 'visible': False}}\n}), Figure({\n    'data': [{'domain': {'x': [0.0, 1.0], 'y': [0.0, 1.0]},\n              'hovertemplate': 'Type=%{label}<br>Count=%{value}<extra></extra>',\n              'labels': array(['Movie', 'TV Show'], dtype=object),\n              'legendgroup': '',\n              'name': '',\n              'showlegend': True,\n              'textinfo': 'percent+label',\n              'textposition': 'inside',\n              'type': 'pie',\n              'values': {'bdata': '7hdoCg==', 'dtype': 'i2'}}],\n    'layout': {'legend': {'tracegroupgap': 0}, 'template': '...', 'title': {'text': 'Distribution of Movies vs TV Shows'}}\n}), Figure({\n    'data': [{'hovertemplate': 'Count=%{x}<br>Director=%{y}<extra></extra>',\n              'legendgroup': '',\n              'marker': {'color': '#636efa', 'pattern': {'shape': ''}},\n              'name': '',\n              'orientation': 'h',\n              'showlegend': False,\n              'textposition': 'auto',\n              'type': 'bar',\n              'x': {'bdata': 'PQoWABUAEwAQABAADwANAAwADAA=', 'dtype': 'i2'},\n              'xaxis': 'x',\n              'y': array(['Not specified', 'Rajiv Chilaka', 'Jan Suter', 'Raúl Campos',\n                          'Suhas Kadav', 'Marcus Raboy', 'Jay Karas', 'Cathy Garcia-Molina',\n                          'Martin Scorsese', 'Youssef Chahine'], dtype=object),\n              'yaxis': 'y'}],\n    'layout': {'barmode': 'relative',\n               'legend': {'tracegroupgap': 0},\n               'template': '...',\n               'title': {'text': 'Top 10 Directors on Netflix'},\n               'xaxis': {'anchor': 'y', 'domain': [0.0, 1.0], 'title': {'text': 'Count'}},\n               'yaxis': {'anchor': 'x', 'autorange': 'reversed', 'domain': [0.0, 1.0], 'title': {'text': 'Director'}}}\n}), Figure({\n    'data': [{'bingroup': 'x',\n              'hovertemplate': 'minutes=%{x}<br>count=%{y}<extra></extra>',\n              'legendgroup': '',\n              'marker': {'color': '#636efa', 'pattern': {'shape': ''}},\n              'name': '',\n              'nbinsx': 50,\n              'orientation': 'v',\n              'showlegend': False,\n              'type': 'histogram',\n              'x': {'bdata': ('AAAAAACAVkAAAAAAAMBWQAAAAAAAQF' ... 'AAAAAAVkAAAAAAAABWQAAAAAAAwFtA'),\n                    'dtype': 'f8'},\n              'xaxis': 'x',\n              'yaxis': 'y'}],\n    'layout': {'barmode': 'relative',\n               'legend': {'tracegroupgap': 0},\n               'template': '...',\n               'title': {'text': 'Distribution of Movie Durations'},\n               'xaxis': {'anchor': 'y', 'domain': [0.0, 1.0], 'title': {'text': 'minutes'}},\n               'yaxis': {'anchor': 'x', 'domain': [0.0, 1.0], 'title': {'text': 'count'}}}\n}), Figure({\n    'data': [{'bingroup': 'x',\n              'hovertemplate': 'seasons=%{x}<br>count=%{y}<extra></extra>',\n              'legendgroup': '',\n              'marker': {'color': '#636efa', 'pattern': {'shape': ''}},\n              'name': '',\n              'nbinsx': 10,\n              'orientation': 'v',\n              'showlegend': False,\n              'type': 'histogram',\n              'x': {'bdata': ('AAAAAAAAAEAAAAAAAADwPwAAAAAAAP' ... 'AAAAAACEAAAAAAAADwPwAAAAAAAABA'),\n                    'dtype': 'f8'},\n              'xaxis': 'x',\n              'yaxis': 'y'}],\n    'layout': {'barmode': 'relative',\n               'legend': {'tracegroupgap': 0},\n               'template': '...',\n               'title': {'text': 'Distribution of TV Show Seasons'},\n               'xaxis': {'anchor': 'y', 'domain': [0.0, 1.0], 'title': {'text': 'seasons'}},\n               'yaxis': {'anchor': 'x', 'domain': [0.0, 1.0], 'title': {'text': 'count'}}}\n}), Figure({\n    'data': [{'hovertemplate': 'Date=%{x}<br>Count=%{y}<extra></extra>',\n              'legendgroup': '',\n              'line': {'color': '#636efa', 'dash': 'solid'},\n              'marker': {'symbol': 'circle'},\n              'mode': 'lines',\n              'name': '',\n              'orientation': 'v',\n              'showlegend': False,\n              'type': 'scatter',\n              'x': array(['2008-01-01T00:00:00.000000000', '2008-02-01T00:00:00.000000000',\n                          '2009-05-01T00:00:00.000000000', '2009-11-01T00:00:00.000000000',\n                          '2010-11-01T00:00:00.000000000', '2011-05-01T00:00:00.000000000',\n                          '2011-09-01T00:00:00.000000000', '2011-10-01T00:00:00.000000000',\n                          '2012-02-01T00:00:00.000000000', '2012-11-01T00:00:00.000000000',\n                          '2012-12-01T00:00:00.000000000', '2013-03-01T00:00:00.000000000',\n                          '2013-08-01T00:00:00.000000000', '2013-09-01T00:00:00.000000000',\n                          '2013-10-01T00:00:00.000000000', '2013-11-01T00:00:00.000000000',\n                          '2013-12-01T00:00:00.000000000', '2014-01-01T00:00:00.000000000',\n                          '2014-02-01T00:00:00.000000000', '2014-04-01T00:00:00.000000000',\n                          '2014-06-01T00:00:00.000000000', '2014-07-01T00:00:00.000000000',\n                          '2014-08-01T00:00:00.000000000', '2014-09-01T00:00:00.000000000',\n                          '2014-10-01T00:00:00.000000000', '2014-11-01T00:00:00.000000000',\n                          '2014-12-01T00:00:00.000000000', '2015-01-01T00:00:00.000000000',\n                          '2015-02-01T00:00:00.000000000', '2015-03-01T00:00:00.000000000',\n                          '2015-04-01T00:00:00.000000000', '2015-05-01T00:00:00.000000000',\n                          '2015-06-01T00:00:00.000000000', '2015-07-01T00:00:00.000000000',\n                          '2015-08-01T00:00:00.000000000', '2015-09-01T00:00:00.000000000',\n                          '2015-10-01T00:00:00.000000000', '2015-11-01T00:00:00.000000000',\n                          '2015-12-01T00:00:00.000000000', '2016-01-01T00:00:00.000000000',\n                          '2016-02-01T00:00:00.000000000', '2016-03-01T00:00:00.000000000',\n                          '2016-04-01T00:00:00.000000000', '2016-05-01T00:00:00.000000000',\n                          '2016-06-01T00:00:00.000000000', '2016-07-01T00:00:00.000000000',\n                          '2016-08-01T00:00:00.000000000', '2016-09-01T00:00:00.000000000',\n                          '2016-10-01T00:00:00.000000000', '2016-11-01T00:00:00.000000000',\n                          '2016-12-01T00:00:00.000000000', '2017-01-01T00:00:00.000000000',\n                          '2017-02-01T00:00:00.000000000', '2017-03-01T00:00:00.000000000',\n                          '2017-04-01T00:00:00.000000000', '2017-05-01T00:00:00.000000000',\n                          '2017-06-01T00:00:00.000000000', '2017-07-01T00:00:00.000000000',\n                          '2017-08-01T00:00:00.000000000', '2017-09-01T00:00:00.000000000',\n                          '2017-10-01T00:00:00.000000000', '2017-11-01T00:00:00.000000000',\n                          '2017-12-01T00:00:00.000000000', '2018-01-01T00:00:00.000000000',\n                          '2018-02-01T00:00:00.000000000', '2018-03-01T00:00:00.000000000',\n                          '2018-04-01T00:00:00.000000000', '2018-05-01T00:00:00.000000000',\n                          '2018-06-01T00:00:00.000000000', '2018-07-01T00:00:00.000000000',\n                          '2018-08-01T00:00:00.000000000', '2018-09-01T00:00:00.000000000',\n                          '2018-10-01T00:00:00.000000000', '2018-11-01T00:00:00.000000000',\n                          '2018-12-01T00:00:00.000000000', '2019-01-01T00:00:00.000000000',\n                          '2019-02-01T00:00:00.000000000', '2019-03-01T00:00:00.000000000',\n                          '2019-04-01T00:00:00.000000000', '2019-05-01T00:00:00.000000000',\n                          '2019-06-01T00:00:00.000000000', '2019-07-01T00:00:00.000000000',\n                          '2019-08-01T00:00:00.000000000', '2019-09-01T00:00:00.000000000',\n                          '2019-10-01T00:00:00.000000000', '2019-11-01T00:00:00.000000000',\n                          '2019-12-01T00:00:00.000000000', '2020-01-01T00:00:00.000000000',\n                          '2020-02-01T00:00:00.000000000', '2020-03-01T00:00:00.000000000',\n                          '2020-04-01T00:00:00.000000000', '2020-05-01T00:00:00.000000000',\n                          '2020-06-01T00:00:00.000000000', '2020-07-01T00:00:00.000000000',\n                          '2020-08-01T00:00:00.000000000', '2020-09-01T00:00:00.000000000',\n                          '2020-10-01T00:00:00.000000000', '2020-11-01T00:00:00.000000000',\n                          '2020-12-01T00:00:00.000000000', '2021-01-01T00:00:00.000000000',\n                          '2021-02-01T00:00:00.000000000', '2021-03-01T00:00:00.000000000',\n                          '2021-04-01T00:00:00.000000000', '2021-05-01T00:00:00.000000000',\n                          '2021-06-01T00:00:00.000000000', '2021-07-01T00:00:00.000000000',\n                          '2021-08-01T00:00:00.000000000', '2021-09-01T00:00:00.000000000'],\n                         dtype='datetime64[ns]'),\n              'xaxis': 'x',\n              'y': {'bdata': ('AQABAAEAAQABAAEAAQALAAEAAQABAA' ... 'CaAKkAhABtAHAAvACEAM8AAQGyALcA'),\n                    'dtype': 'i2'},\n              'yaxis': 'y'}],\n    'layout': {'legend': {'tracegroupgap': 0},\n               'template': '...',\n               'title': {'text': 'Monthly Netflix Content Additions Over Time'},\n               'xaxis': {'anchor': 'y', 'domain': [0.0, 1.0], 'title': {'text': 'Date'}},\n               'yaxis': {'anchor': 'x', 'domain': [0.0, 1.0], 'title': {'text': 'Count'}}}\n})]",
     "output_type": "error",
     "traceback": [
      "\u001b[1;31m---------------------------------------------------------------------------\u001b[0m",
      "\u001b[1;31mValueError\u001b[0m                                Traceback (most recent call last)",
      "Cell \u001b[1;32mIn[33], line 64\u001b[0m\n\u001b[0;32m     62\u001b[0m \u001b[38;5;66;03m# Save all plots in a single HTML file\u001b[39;00m\n\u001b[0;32m     63\u001b[0m html_path \u001b[38;5;241m=\u001b[39m \u001b[38;5;124m\"\u001b[39m\u001b[38;5;124mDataset/netflix_analysis_all_plots.html\u001b[39m\u001b[38;5;124m\"\u001b[39m\n\u001b[1;32m---> 64\u001b[0m \u001b[43mpio\u001b[49m\u001b[38;5;241;43m.\u001b[39;49m\u001b[43mwrite_html\u001b[49m\u001b[43m(\u001b[49m\u001b[43m[\u001b[49m\u001b[43mfig1\u001b[49m\u001b[43m,\u001b[49m\u001b[43m \u001b[49m\u001b[43mfig2\u001b[49m\u001b[43m,\u001b[49m\u001b[43m \u001b[49m\u001b[43mfig3\u001b[49m\u001b[43m,\u001b[49m\u001b[43m \u001b[49m\u001b[43mfig4\u001b[49m\u001b[43m,\u001b[49m\u001b[43m \u001b[49m\u001b[43mfig5\u001b[49m\u001b[43m,\u001b[49m\u001b[43m \u001b[49m\u001b[43mfig6\u001b[49m\u001b[43m,\u001b[49m\u001b[43m \u001b[49m\u001b[43mfig7\u001b[49m\u001b[43m,\u001b[49m\u001b[43m \u001b[49m\u001b[43mfig8\u001b[49m\u001b[43m,\u001b[49m\u001b[43m \u001b[49m\u001b[43mfig9\u001b[49m\u001b[43m]\u001b[49m\u001b[43m,\u001b[49m\u001b[43m \u001b[49m\u001b[43mfile\u001b[49m\u001b[38;5;241;43m=\u001b[39;49m\u001b[43mhtml_path\u001b[49m\u001b[43m,\u001b[49m\u001b[43m \u001b[49m\u001b[43mauto_open\u001b[49m\u001b[38;5;241;43m=\u001b[39;49m\u001b[38;5;28;43;01mFalse\u001b[39;49;00m\u001b[43m)\u001b[49m\n\u001b[0;32m     66\u001b[0m html_path\n",
      "File \u001b[1;32mc:\\Users\\GC\\.conda\\envs\\youtube_analytics\\lib\\site-packages\\plotly\\io\\_html.py:479\u001b[0m, in \u001b[0;36mwrite_html\u001b[1;34m(fig, file, config, auto_play, include_plotlyjs, include_mathjax, post_script, full_html, animation_opts, validate, default_width, default_height, auto_open, div_id)\u001b[0m\n\u001b[0;32m    373\u001b[0m \u001b[38;5;250m\u001b[39m\u001b[38;5;124;03m\"\"\"\u001b[39;00m\n\u001b[0;32m    374\u001b[0m \u001b[38;5;124;03mWrite a figure to an HTML file representation\u001b[39;00m\n\u001b[0;32m    375\u001b[0m \n\u001b[1;32m   (...)\u001b[0m\n\u001b[0;32m    475\u001b[0m \u001b[38;5;124;03m    Representation of figure as an HTML div string\u001b[39;00m\n\u001b[0;32m    476\u001b[0m \u001b[38;5;124;03m\"\"\"\u001b[39;00m\n\u001b[0;32m    478\u001b[0m \u001b[38;5;66;03m# Build HTML string\u001b[39;00m\n\u001b[1;32m--> 479\u001b[0m html_str \u001b[38;5;241m=\u001b[39m \u001b[43mto_html\u001b[49m\u001b[43m(\u001b[49m\n\u001b[0;32m    480\u001b[0m \u001b[43m    \u001b[49m\u001b[43mfig\u001b[49m\u001b[43m,\u001b[49m\n\u001b[0;32m    481\u001b[0m \u001b[43m    \u001b[49m\u001b[43mconfig\u001b[49m\u001b[38;5;241;43m=\u001b[39;49m\u001b[43mconfig\u001b[49m\u001b[43m,\u001b[49m\n\u001b[0;32m    482\u001b[0m \u001b[43m    \u001b[49m\u001b[43mauto_play\u001b[49m\u001b[38;5;241;43m=\u001b[39;49m\u001b[43mauto_play\u001b[49m\u001b[43m,\u001b[49m\n\u001b[0;32m    483\u001b[0m \u001b[43m    \u001b[49m\u001b[43minclude_plotlyjs\u001b[49m\u001b[38;5;241;43m=\u001b[39;49m\u001b[43minclude_plotlyjs\u001b[49m\u001b[43m,\u001b[49m\n\u001b[0;32m    484\u001b[0m \u001b[43m    \u001b[49m\u001b[43minclude_mathjax\u001b[49m\u001b[38;5;241;43m=\u001b[39;49m\u001b[43minclude_mathjax\u001b[49m\u001b[43m,\u001b[49m\n\u001b[0;32m    485\u001b[0m \u001b[43m    \u001b[49m\u001b[43mpost_script\u001b[49m\u001b[38;5;241;43m=\u001b[39;49m\u001b[43mpost_script\u001b[49m\u001b[43m,\u001b[49m\n\u001b[0;32m    486\u001b[0m \u001b[43m    \u001b[49m\u001b[43mfull_html\u001b[49m\u001b[38;5;241;43m=\u001b[39;49m\u001b[43mfull_html\u001b[49m\u001b[43m,\u001b[49m\n\u001b[0;32m    487\u001b[0m \u001b[43m    \u001b[49m\u001b[43manimation_opts\u001b[49m\u001b[38;5;241;43m=\u001b[39;49m\u001b[43manimation_opts\u001b[49m\u001b[43m,\u001b[49m\n\u001b[0;32m    488\u001b[0m \u001b[43m    \u001b[49m\u001b[43mdefault_width\u001b[49m\u001b[38;5;241;43m=\u001b[39;49m\u001b[43mdefault_width\u001b[49m\u001b[43m,\u001b[49m\n\u001b[0;32m    489\u001b[0m \u001b[43m    \u001b[49m\u001b[43mdefault_height\u001b[49m\u001b[38;5;241;43m=\u001b[39;49m\u001b[43mdefault_height\u001b[49m\u001b[43m,\u001b[49m\n\u001b[0;32m    490\u001b[0m \u001b[43m    \u001b[49m\u001b[43mvalidate\u001b[49m\u001b[38;5;241;43m=\u001b[39;49m\u001b[43mvalidate\u001b[49m\u001b[43m,\u001b[49m\n\u001b[0;32m    491\u001b[0m \u001b[43m    \u001b[49m\u001b[43mdiv_id\u001b[49m\u001b[38;5;241;43m=\u001b[39;49m\u001b[43mdiv_id\u001b[49m\u001b[43m,\u001b[49m\n\u001b[0;32m    492\u001b[0m \u001b[43m\u001b[49m\u001b[43m)\u001b[49m\n\u001b[0;32m    494\u001b[0m \u001b[38;5;66;03m# Check if file is a string\u001b[39;00m\n\u001b[0;32m    495\u001b[0m \u001b[38;5;28;01mif\u001b[39;00m \u001b[38;5;28misinstance\u001b[39m(file, \u001b[38;5;28mstr\u001b[39m):\n\u001b[0;32m    496\u001b[0m     \u001b[38;5;66;03m# Use the standard pathlib constructor to make a pathlib object.\u001b[39;00m\n",
      "File \u001b[1;32mc:\\Users\\GC\\.conda\\envs\\youtube_analytics\\lib\\site-packages\\plotly\\io\\_html.py:130\u001b[0m, in \u001b[0;36mto_html\u001b[1;34m(fig, config, auto_play, include_plotlyjs, include_mathjax, post_script, full_html, animation_opts, default_width, default_height, validate, div_id)\u001b[0m\n\u001b[0;32m    127\u001b[0m \u001b[38;5;28;01mfrom\u001b[39;00m\u001b[38;5;250m \u001b[39m\u001b[38;5;21;01mplotly\u001b[39;00m\u001b[38;5;21;01m.\u001b[39;00m\u001b[38;5;21;01mio\u001b[39;00m\u001b[38;5;21;01m.\u001b[39;00m\u001b[38;5;21;01mjson\u001b[39;00m\u001b[38;5;250m \u001b[39m\u001b[38;5;28;01mimport\u001b[39;00m to_json_plotly\n\u001b[0;32m    129\u001b[0m \u001b[38;5;66;03m# ## Validate figure ##\u001b[39;00m\n\u001b[1;32m--> 130\u001b[0m fig_dict \u001b[38;5;241m=\u001b[39m \u001b[43mvalidate_coerce_fig_to_dict\u001b[49m\u001b[43m(\u001b[49m\u001b[43mfig\u001b[49m\u001b[43m,\u001b[49m\u001b[43m \u001b[49m\u001b[43mvalidate\u001b[49m\u001b[43m)\u001b[49m\n\u001b[0;32m    132\u001b[0m \u001b[38;5;66;03m# ## Generate div id ##\u001b[39;00m\n\u001b[0;32m    133\u001b[0m plotdivid \u001b[38;5;241m=\u001b[39m div_id \u001b[38;5;129;01mor\u001b[39;00m \u001b[38;5;28mstr\u001b[39m(uuid\u001b[38;5;241m.\u001b[39muuid4())\n",
      "File \u001b[1;32mc:\\Users\\GC\\.conda\\envs\\youtube_analytics\\lib\\site-packages\\plotly\\io\\_utils.py:20\u001b[0m, in \u001b[0;36mvalidate_coerce_fig_to_dict\u001b[1;34m(fig, validate)\u001b[0m\n\u001b[0;32m     18\u001b[0m         fig_dict \u001b[38;5;241m=\u001b[39m fig\u001b[38;5;241m.\u001b[39mto_plotly_json()\n\u001b[0;32m     19\u001b[0m     \u001b[38;5;28;01melse\u001b[39;00m:\n\u001b[1;32m---> 20\u001b[0m         \u001b[38;5;28;01mraise\u001b[39;00m \u001b[38;5;167;01mValueError\u001b[39;00m(\n\u001b[0;32m     21\u001b[0m \u001b[38;5;250m            \u001b[39m\u001b[38;5;124;03m\"\"\"\u001b[39;00m\n\u001b[0;32m     22\u001b[0m \u001b[38;5;124;03mThe fig parameter must be a dict or Figure.\u001b[39;00m\n\u001b[0;32m     23\u001b[0m \u001b[38;5;124;03m    Received value of type {typ}: {v}\"\"\"\u001b[39;00m\u001b[38;5;241m.\u001b[39mformat(\n\u001b[0;32m     24\u001b[0m                 typ\u001b[38;5;241m=\u001b[39m\u001b[38;5;28mtype\u001b[39m(fig), v\u001b[38;5;241m=\u001b[39mfig\n\u001b[0;32m     25\u001b[0m             )\n\u001b[0;32m     26\u001b[0m         )\n\u001b[0;32m     27\u001b[0m     \u001b[38;5;28;01mreturn\u001b[39;00m fig_dict\n",
      "\u001b[1;31mValueError\u001b[0m: \nThe fig parameter must be a dict or Figure.\n    Received value of type <class 'list'>: [Figure({\n    'data': [{'hovertemplate': 'Count=%{marker.color}<br>Genre=%{y}<extra></extra>',\n              'legendgroup': '',\n              'marker': {'color': {'bdata': 'wAp6CYoGRQVlA1sD+gL0AoECaAI=', 'dtype': 'i2'},\n                         'coloraxis': 'coloraxis',\n                         'pattern': {'shape': ''}},\n              'name': '',\n              'orientation': 'h',\n              'showlegend': False,\n              'textposition': 'auto',\n              'type': 'bar',\n              'x': {'bdata': 'wAp6CYoGRQVlA1sD+gL0AoECaAI=', 'dtype': 'i2'},\n              'xaxis': 'x',\n              'y': array(['International Movies', 'Dramas', 'Comedies', 'International TV Shows',\n                          'Documentaries', 'Action & Adventure', 'TV Dramas',\n                          'Independent Movies', 'Children & Family Movies', 'Romantic Movies'],\n                         dtype=object),\n              'yaxis': 'y'}],\n    'layout': {'barmode': 'relative',\n               'coloraxis': {'colorbar': {'title': {'text': 'Count'}},\n                             'colorscale': [[0.0, '#440154'], [0.1111111111111111,\n                                            '#482878'], [0.2222222222222222,\n                                            '#3e4989'], [0.3333333333333333,\n                                            '#31688e'], [0.4444444444444444,\n                                            '#26828e'], [0.5555555555555556,\n                                            '#1f9e89'], [0.6666666666666666,\n                                            '#35b779'], [0.7777777777777778,\n                                            '#6ece58'], [0.8888888888888888,\n                                            '#b5de2b'], [1.0, '#fde725']]},\n               'legend': {'tracegroupgap': 0},\n               'template': '...',\n               'title': {'text': 'Top 10 Genres on Netflix'},\n               'xaxis': {'anchor': 'y', 'domain': [0.0, 1.0], 'title': {'text': 'Count'}},\n               'yaxis': {'anchor': 'x', 'autorange': 'reversed', 'domain': [0.0, 1.0], 'title': {'text': 'Genre'}}}\n}), Figure({\n    'data': [{'hovertemplate': 'type=Movie<br>year_added=%{x}<br>Count=%{y}<extra></extra>',\n              'legendgroup': 'Movie',\n              'marker': {'color': '#636efa', 'pattern': {'shape': ''}},\n              'name': 'Movie',\n              'orientation': 'v',\n              'showlegend': True,\n              'textposition': 'auto',\n              'type': 'bar',\n              'x': {'bdata': '2AcAANkHAADaBwAA2wcAANwHAADdBwAA3gcAAN8HAADgBwAA4QcAAOIHAADjBwAA5AcAAOUHAAA=',\n                    'dtype': 'i4'},\n              'xaxis': 'x',\n              'y': {'bdata': 'AQACAAEADQADAAYAEwA4APsARAPVBJAFBAXhAw==', 'dtype': 'i2'},\n              'yaxis': 'y'},\n             {'hovertemplate': 'type=TV Show<br>year_added=%{x}<br>Count=%{y}<extra></extra>',\n              'legendgroup': 'TV Show',\n              'marker': {'color': '#EF553B', 'pattern': {'shape': ''}},\n              'name': 'TV Show',\n              'orientation': 'v',\n              'showlegend': True,\n              'textposition': 'auto',\n              'type': 'bar',\n              'x': {'bdata': '2AcAAN0HAADeBwAA3wcAAOAHAADhBwAA4gcAAOMHAADkBwAA5QcAAA==', 'dtype': 'i4'},\n              'xaxis': 'x',\n              'y': {'bdata': 'AQAFAAUAGgCvAF0BmwFQAlMC+QE=', 'dtype': 'i2'},\n              'yaxis': 'y'}],\n    'layout': {'barmode': 'stack',\n               'legend': {'title': {'text': 'type'}, 'tracegroupgap': 0},\n               'template': '...',\n               'title': {'text': 'Movies vs TV Shows Added Per Year'},\n               'xaxis': {'anchor': 'y', 'domain': [0.0, 1.0], 'title': {'text': 'Year Added'}},\n               'yaxis': {'anchor': 'x', 'domain': [0.0, 1.0], 'title': {'text': 'Number of Titles'}}}\n}), Figure({\n    'data': [{'hovertemplate': 'Count=%{marker.color}<br>Country=%{y}<extra></extra>',\n              'legendgroup': '',\n              'marker': {'color': {'bdata': 'YA4WBD0DIwO9AYkBPAHoAOcA4gA=', 'dtype': 'i2'},\n                         'coloraxis': 'coloraxis',\n                         'pattern': {'shape': ''}},\n              'name': '',\n              'orientation': 'h',\n              'showlegend': False,\n              'textposition': 'auto',\n              'type': 'bar',\n              'x': {'bdata': 'YA4WBD0DIwO9AYkBPAHoAOcA4gA=', 'dtype': 'i2'},\n              'xaxis': 'x',\n              'y': array(['United States', 'India', 'Unknown', 'United Kingdom', 'Canada',\n                          'France', 'Japan', 'Spain', 'South Korea', 'Germany'], dtype=object),\n              'yaxis': 'y'}],\n    'layout': {'barmode': 'relative',\n               'coloraxis': {'colorbar': {'title': {'text': 'Count'}},\n                             'colorscale': [[0.0, 'rgb(255,245,240)'], [0.125,\n                                            'rgb(254,224,210)'], [0.25,\n                                            'rgb(252,187,161)'], [0.375,\n                                            'rgb(252,146,114)'], [0.5,\n                                            'rgb(251,106,74)'], [0.625,\n                                            'rgb(239,59,44)'], [0.75,\n                                            'rgb(203,24,29)'], [0.875,\n                                            'rgb(165,15,21)'], [1.0,\n                                            'rgb(103,0,13)']]},\n               'legend': {'tracegroupgap': 0},\n               'template': '...',\n               'title': {'text': 'Top 10 Countries Producing Netflix Content'},\n               'xaxis': {'anchor': 'y', 'domain': [0.0, 1.0], 'title': {'text': 'Count'}},\n               'yaxis': {'anchor': 'x', 'autorange': 'reversed', 'domain': [0.0, 1.0], 'title': {'text': 'Country'}}}\n}), Figure({\n    'data': [{'hovertemplate': 'x: %{x}<br>y: %{y}<br>color: [%{z[0]}, %{z[1]}, %{z[2]}]<extra></extra>',\n              'name': '0',\n              'source': ('data:image/png;base64,iVBORw0K' ... '8Buk1JdO/RdSwAAAAASUVORK5CYII='),\n              'type': 'image',\n              'xaxis': 'x',\n              'yaxis': 'y'}],\n    'layout': {'margin': {'t': 60},\n               'template': '...',\n               'title': {'text': 'WordCloud of Netflix Titles'},\n               'xaxis': {'anchor': 'y', 'domain': [0.0, 1.0], 'visible': False},\n               'yaxis': {'anchor': 'x', 'domain': [0.0, 1.0], 'visible': False}}\n}), Figure({\n    'data': [{'domain': {'x': [0.0, 1.0], 'y': [0.0, 1.0]},\n              'hovertemplate': 'Type=%{label}<br>Count=%{value}<extra></extra>',\n              'labels': array(['Movie', 'TV Show'], dtype=object),\n              'legendgroup': '',\n              'name': '',\n              'showlegend': True,\n              'textinfo': 'percent+label',\n              'textposition': 'inside',\n              'type': 'pie',\n              'values': {'bdata': '7hdoCg==', 'dtype': 'i2'}}],\n    'layout': {'legend': {'tracegroupgap': 0}, 'template': '...', 'title': {'text': 'Distribution of Movies vs TV Shows'}}\n}), Figure({\n    'data': [{'hovertemplate': 'Count=%{x}<br>Director=%{y}<extra></extra>',\n              'legendgroup': '',\n              'marker': {'color': '#636efa', 'pattern': {'shape': ''}},\n              'name': '',\n              'orientation': 'h',\n              'showlegend': False,\n              'textposition': 'auto',\n              'type': 'bar',\n              'x': {'bdata': 'PQoWABUAEwAQABAADwANAAwADAA=', 'dtype': 'i2'},\n              'xaxis': 'x',\n              'y': array(['Not specified', 'Rajiv Chilaka', 'Jan Suter', 'Raúl Campos',\n                          'Suhas Kadav', 'Marcus Raboy', 'Jay Karas', 'Cathy Garcia-Molina',\n                          'Martin Scorsese', 'Youssef Chahine'], dtype=object),\n              'yaxis': 'y'}],\n    'layout': {'barmode': 'relative',\n               'legend': {'tracegroupgap': 0},\n               'template': '...',\n               'title': {'text': 'Top 10 Directors on Netflix'},\n               'xaxis': {'anchor': 'y', 'domain': [0.0, 1.0], 'title': {'text': 'Count'}},\n               'yaxis': {'anchor': 'x', 'autorange': 'reversed', 'domain': [0.0, 1.0], 'title': {'text': 'Director'}}}\n}), Figure({\n    'data': [{'bingroup': 'x',\n              'hovertemplate': 'minutes=%{x}<br>count=%{y}<extra></extra>',\n              'legendgroup': '',\n              'marker': {'color': '#636efa', 'pattern': {'shape': ''}},\n              'name': '',\n              'nbinsx': 50,\n              'orientation': 'v',\n              'showlegend': False,\n              'type': 'histogram',\n              'x': {'bdata': ('AAAAAACAVkAAAAAAAMBWQAAAAAAAQF' ... 'AAAAAAVkAAAAAAAABWQAAAAAAAwFtA'),\n                    'dtype': 'f8'},\n              'xaxis': 'x',\n              'yaxis': 'y'}],\n    'layout': {'barmode': 'relative',\n               'legend': {'tracegroupgap': 0},\n               'template': '...',\n               'title': {'text': 'Distribution of Movie Durations'},\n               'xaxis': {'anchor': 'y', 'domain': [0.0, 1.0], 'title': {'text': 'minutes'}},\n               'yaxis': {'anchor': 'x', 'domain': [0.0, 1.0], 'title': {'text': 'count'}}}\n}), Figure({\n    'data': [{'bingroup': 'x',\n              'hovertemplate': 'seasons=%{x}<br>count=%{y}<extra></extra>',\n              'legendgroup': '',\n              'marker': {'color': '#636efa', 'pattern': {'shape': ''}},\n              'name': '',\n              'nbinsx': 10,\n              'orientation': 'v',\n              'showlegend': False,\n              'type': 'histogram',\n              'x': {'bdata': ('AAAAAAAAAEAAAAAAAADwPwAAAAAAAP' ... 'AAAAAACEAAAAAAAADwPwAAAAAAAABA'),\n                    'dtype': 'f8'},\n              'xaxis': 'x',\n              'yaxis': 'y'}],\n    'layout': {'barmode': 'relative',\n               'legend': {'tracegroupgap': 0},\n               'template': '...',\n               'title': {'text': 'Distribution of TV Show Seasons'},\n               'xaxis': {'anchor': 'y', 'domain': [0.0, 1.0], 'title': {'text': 'seasons'}},\n               'yaxis': {'anchor': 'x', 'domain': [0.0, 1.0], 'title': {'text': 'count'}}}\n}), Figure({\n    'data': [{'hovertemplate': 'Date=%{x}<br>Count=%{y}<extra></extra>',\n              'legendgroup': '',\n              'line': {'color': '#636efa', 'dash': 'solid'},\n              'marker': {'symbol': 'circle'},\n              'mode': 'lines',\n              'name': '',\n              'orientation': 'v',\n              'showlegend': False,\n              'type': 'scatter',\n              'x': array(['2008-01-01T00:00:00.000000000', '2008-02-01T00:00:00.000000000',\n                          '2009-05-01T00:00:00.000000000', '2009-11-01T00:00:00.000000000',\n                          '2010-11-01T00:00:00.000000000', '2011-05-01T00:00:00.000000000',\n                          '2011-09-01T00:00:00.000000000', '2011-10-01T00:00:00.000000000',\n                          '2012-02-01T00:00:00.000000000', '2012-11-01T00:00:00.000000000',\n                          '2012-12-01T00:00:00.000000000', '2013-03-01T00:00:00.000000000',\n                          '2013-08-01T00:00:00.000000000', '2013-09-01T00:00:00.000000000',\n                          '2013-10-01T00:00:00.000000000', '2013-11-01T00:00:00.000000000',\n                          '2013-12-01T00:00:00.000000000', '2014-01-01T00:00:00.000000000',\n                          '2014-02-01T00:00:00.000000000', '2014-04-01T00:00:00.000000000',\n                          '2014-06-01T00:00:00.000000000', '2014-07-01T00:00:00.000000000',\n                          '2014-08-01T00:00:00.000000000', '2014-09-01T00:00:00.000000000',\n                          '2014-10-01T00:00:00.000000000', '2014-11-01T00:00:00.000000000',\n                          '2014-12-01T00:00:00.000000000', '2015-01-01T00:00:00.000000000',\n                          '2015-02-01T00:00:00.000000000', '2015-03-01T00:00:00.000000000',\n                          '2015-04-01T00:00:00.000000000', '2015-05-01T00:00:00.000000000',\n                          '2015-06-01T00:00:00.000000000', '2015-07-01T00:00:00.000000000',\n                          '2015-08-01T00:00:00.000000000', '2015-09-01T00:00:00.000000000',\n                          '2015-10-01T00:00:00.000000000', '2015-11-01T00:00:00.000000000',\n                          '2015-12-01T00:00:00.000000000', '2016-01-01T00:00:00.000000000',\n                          '2016-02-01T00:00:00.000000000', '2016-03-01T00:00:00.000000000',\n                          '2016-04-01T00:00:00.000000000', '2016-05-01T00:00:00.000000000',\n                          '2016-06-01T00:00:00.000000000', '2016-07-01T00:00:00.000000000',\n                          '2016-08-01T00:00:00.000000000', '2016-09-01T00:00:00.000000000',\n                          '2016-10-01T00:00:00.000000000', '2016-11-01T00:00:00.000000000',\n                          '2016-12-01T00:00:00.000000000', '2017-01-01T00:00:00.000000000',\n                          '2017-02-01T00:00:00.000000000', '2017-03-01T00:00:00.000000000',\n                          '2017-04-01T00:00:00.000000000', '2017-05-01T00:00:00.000000000',\n                          '2017-06-01T00:00:00.000000000', '2017-07-01T00:00:00.000000000',\n                          '2017-08-01T00:00:00.000000000', '2017-09-01T00:00:00.000000000',\n                          '2017-10-01T00:00:00.000000000', '2017-11-01T00:00:00.000000000',\n                          '2017-12-01T00:00:00.000000000', '2018-01-01T00:00:00.000000000',\n                          '2018-02-01T00:00:00.000000000', '2018-03-01T00:00:00.000000000',\n                          '2018-04-01T00:00:00.000000000', '2018-05-01T00:00:00.000000000',\n                          '2018-06-01T00:00:00.000000000', '2018-07-01T00:00:00.000000000',\n                          '2018-08-01T00:00:00.000000000', '2018-09-01T00:00:00.000000000',\n                          '2018-10-01T00:00:00.000000000', '2018-11-01T00:00:00.000000000',\n                          '2018-12-01T00:00:00.000000000', '2019-01-01T00:00:00.000000000',\n                          '2019-02-01T00:00:00.000000000', '2019-03-01T00:00:00.000000000',\n                          '2019-04-01T00:00:00.000000000', '2019-05-01T00:00:00.000000000',\n                          '2019-06-01T00:00:00.000000000', '2019-07-01T00:00:00.000000000',\n                          '2019-08-01T00:00:00.000000000', '2019-09-01T00:00:00.000000000',\n                          '2019-10-01T00:00:00.000000000', '2019-11-01T00:00:00.000000000',\n                          '2019-12-01T00:00:00.000000000', '2020-01-01T00:00:00.000000000',\n                          '2020-02-01T00:00:00.000000000', '2020-03-01T00:00:00.000000000',\n                          '2020-04-01T00:00:00.000000000', '2020-05-01T00:00:00.000000000',\n                          '2020-06-01T00:00:00.000000000', '2020-07-01T00:00:00.000000000',\n                          '2020-08-01T00:00:00.000000000', '2020-09-01T00:00:00.000000000',\n                          '2020-10-01T00:00:00.000000000', '2020-11-01T00:00:00.000000000',\n                          '2020-12-01T00:00:00.000000000', '2021-01-01T00:00:00.000000000',\n                          '2021-02-01T00:00:00.000000000', '2021-03-01T00:00:00.000000000',\n                          '2021-04-01T00:00:00.000000000', '2021-05-01T00:00:00.000000000',\n                          '2021-06-01T00:00:00.000000000', '2021-07-01T00:00:00.000000000',\n                          '2021-08-01T00:00:00.000000000', '2021-09-01T00:00:00.000000000'],\n                         dtype='datetime64[ns]'),\n              'xaxis': 'x',\n              'y': {'bdata': ('AQABAAEAAQABAAEAAQALAAEAAQABAA' ... 'CaAKkAhABtAHAAvACEAM8AAQGyALcA'),\n                    'dtype': 'i2'},\n              'yaxis': 'y'}],\n    'layout': {'legend': {'tracegroupgap': 0},\n               'template': '...',\n               'title': {'text': 'Monthly Netflix Content Additions Over Time'},\n               'xaxis': {'anchor': 'y', 'domain': [0.0, 1.0], 'title': {'text': 'Date'}},\n               'yaxis': {'anchor': 'x', 'domain': [0.0, 1.0], 'title': {'text': 'Count'}}}\n})]"
     ]
    }
   ],
   "source": [
    "\n",
    "# --- Plot 1: Top Genres by Count ---\n",
    "df_genres = df.assign(listed_in=df['listed_in'].str.split(', ')).explode('listed_in')\n",
    "top_genres = df_genres['listed_in'].value_counts().head(10).reset_index()\n",
    "top_genres.columns = ['Genre', 'Count']\n",
    "fig1 = px.bar(top_genres, x='Count', y='Genre', orientation='h',\n",
    "              title=\"Top 10 Genres on Netflix\", color='Count', color_continuous_scale='viridis')\n",
    "fig1.update_layout(yaxis=dict(autorange=\"reversed\"))\n",
    "\n",
    "# --- Plot 2: Movie vs TV Show Split by Year ---\n",
    "df['date_added'] = pd.to_datetime(df['date_added'])\n",
    "df['year_added'] = df['date_added'].dt.year\n",
    "content_by_year = df.groupby(['year_added', 'type']).size().reset_index(name='Count')\n",
    "fig2 = px.bar(content_by_year, x='year_added', y='Count', color='type',\n",
    "              title=\"Movies vs TV Shows Added Per Year\", barmode='stack')\n",
    "fig2.update_layout(xaxis_title=\"Year Added\", yaxis_title=\"Number of Titles\")\n",
    "\n",
    "# --- Plot 3: Top Countries Producing Netflix Content ---\n",
    "df_countries = df.assign(country=df['country'].str.split(', ')).explode('country')\n",
    "top_countries = df_countries['country'].value_counts().head(10).reset_index()\n",
    "top_countries.columns = ['Country', 'Count']\n",
    "fig3 = px.bar(top_countries, x='Count', y='Country', orientation='h',\n",
    "              title=\"Top 10 Countries Producing Netflix Content\", color='Count', color_continuous_scale='reds')\n",
    "fig3.update_layout(yaxis=dict(autorange=\"reversed\"))\n",
    "\n",
    "# --- Plot 4: WordCloud (converted to PNG then to Plotly image) ---\n",
    "wordcloud = WordCloud(width=800, height=400, background_color='black').generate(' '.join(df['title'].dropna()))\n",
    "img = Image.fromarray(wordcloud.to_array())\n",
    "buf = io.BytesIO()\n",
    "img.save(buf, format='PNG')\n",
    "buf.seek(0)\n",
    "fig4 = px.imshow(Image.open(buf))\n",
    "fig4.update_layout(title='WordCloud of Netflix Titles', xaxis_visible=False, yaxis_visible=False)\n",
    "\n",
    "# --- Plot 5: Interactive Pie Chart of Content Types ---\n",
    "type_counts = df['type'].value_counts().reset_index()\n",
    "type_counts.columns = ['Type', 'Count']\n",
    "fig5 = px.pie(type_counts, names='Type', values='Count', title='Distribution of Movies vs TV Shows')\n",
    "fig5.update_traces(textposition='inside', textinfo='percent+label')\n",
    "\n",
    "# --- Plot 6: Top 10 Directors ---\n",
    "df_directors = df[df['director'].notna()]\n",
    "df_directors = df_directors.assign(director=df_directors['director'].str.split(', ')).explode('director')\n",
    "top_directors = df_directors['director'].value_counts().head(10).reset_index()\n",
    "top_directors.columns = ['Director', 'Count']\n",
    "fig6 = px.bar(top_directors, x='Count', y='Director', orientation='h', title='Top 10 Directors on Netflix')\n",
    "fig6.update_layout(yaxis=dict(autorange=\"reversed\"))\n",
    "\n",
    "# --- Plot 7 & 8: Duration Analysis ---\n",
    "df_movies = df[df['type'] == 'Movie'].copy()\n",
    "df_shows = df[df['type'] == 'TV Show'].copy()\n",
    "df_movies['minutes'] = df_movies['duration'].str.extract('(\\d+)').astype(float)\n",
    "df_shows['seasons'] = df_shows['duration'].str.extract('(\\d+)').astype(float)\n",
    "fig7 = px.histogram(df_movies, x='minutes', nbins=50, title=\"Distribution of Movie Durations\")\n",
    "fig8 = px.histogram(df_shows, x='seasons', nbins=10, title=\"Distribution of TV Show Seasons\")\n",
    "\n",
    "# --- Plot 9: Monthly Trend of Content Addition ---\n",
    "df['month_added'] = df['date_added'].dt.month\n",
    "monthly = df.groupby(['year_added', 'month_added']).size().reset_index(name='Count')\n",
    "monthly['Date'] = pd.to_datetime(monthly['year_added'].astype(str) + '-' + monthly['month_added'].astype(str))\n",
    "fig9 = px.line(monthly, x='Date', y='Count', title='Monthly Netflix Content Additions Over Time')\n",
    "\n",
    "# Save all plots in a single HTML file\n",
    "#html_path = \"Dataset/netflix_analysis_all_plots.html\"\n",
    "\n",
    "#pio.write_html([fig1, fig2, fig3, fig4, fig5, fig6, fig7, fig8, fig9], file=html_path, auto_open=False)\n",
    "\n",
    "#html_path\n"
   ]
  },
  {
   "cell_type": "code",
   "execution_count": 34,
   "id": "90121350",
   "metadata": {},
   "outputs": [
    {
     "name": "stdout",
     "output_type": "stream",
     "text": [
      "Saved to netflix_analysis_all_plots.html\n"
     ]
    }
   ],
   "source": [
    "import plotly.io as pio\n",
    "\n",
    "# List of all your figures\n",
    "figures = [fig1, fig2, fig3, fig4, fig5, fig6, fig7, fig8, fig9]\n",
    "\n",
    "# Generate HTML strings for each figure\n",
    "html_parts = [pio.to_html(fig, full_html=False, include_plotlyjs='cdn') for fig in figures]\n",
    "\n",
    "# Combine them into one full HTML document\n",
    "full_html = f\"\"\"\n",
    "<html>\n",
    "<head>\n",
    "    <title>Netflix Analysis</title>\n",
    "</head>\n",
    "<body>\n",
    "    {''.join(html_parts)}\n",
    "</body>\n",
    "</html>\n",
    "\"\"\"\n",
    "\n",
    "# Save to file\n",
    "output_path = \"netflix_analysis_all_plots.html\"\n",
    "with open(output_path, \"w\", encoding=\"utf-8\") as f:\n",
    "    f.write(full_html)\n",
    "\n",
    "print(f\"Saved to {output_path}\")\n"
   ]
  },
  {
   "cell_type": "code",
   "execution_count": null,
   "id": "4aeb2d74",
   "metadata": {},
   "outputs": [],
   "source": []
  },
  {
   "cell_type": "code",
   "execution_count": null,
   "id": "e07a4b68",
   "metadata": {},
   "outputs": [],
   "source": []
  },
  {
   "cell_type": "code",
   "execution_count": null,
   "id": "8b34820e",
   "metadata": {},
   "outputs": [],
   "source": []
  },
  {
   "cell_type": "code",
   "execution_count": null,
   "id": "12f07e0a",
   "metadata": {},
   "outputs": [],
   "source": []
  },
  {
   "cell_type": "code",
   "execution_count": null,
   "id": "8ce65802",
   "metadata": {},
   "outputs": [],
   "source": []
  },
  {
   "cell_type": "code",
   "execution_count": null,
   "id": "995e7209",
   "metadata": {},
   "outputs": [],
   "source": []
  },
  {
   "cell_type": "code",
   "execution_count": null,
   "id": "3234c0af",
   "metadata": {},
   "outputs": [],
   "source": []
  },
  {
   "cell_type": "code",
   "execution_count": null,
   "id": "f33ba4f3",
   "metadata": {},
   "outputs": [],
   "source": []
  },
  {
   "cell_type": "code",
   "execution_count": null,
   "id": "69a7a039",
   "metadata": {},
   "outputs": [],
   "source": []
  },
  {
   "cell_type": "code",
   "execution_count": null,
   "id": "79d03f3e",
   "metadata": {},
   "outputs": [],
   "source": []
  },
  {
   "cell_type": "code",
   "execution_count": null,
   "id": "ae29f0e9",
   "metadata": {},
   "outputs": [],
   "source": []
  },
  {
   "cell_type": "code",
   "execution_count": null,
   "id": "ef89c829",
   "metadata": {},
   "outputs": [],
   "source": []
  },
  {
   "cell_type": "code",
   "execution_count": null,
   "id": "7a01eb98",
   "metadata": {},
   "outputs": [],
   "source": []
  },
  {
   "cell_type": "code",
   "execution_count": null,
   "id": "ca987ca0",
   "metadata": {},
   "outputs": [],
   "source": []
  },
  {
   "cell_type": "code",
   "execution_count": null,
   "id": "c4398c39",
   "metadata": {},
   "outputs": [],
   "source": []
  },
  {
   "cell_type": "code",
   "execution_count": null,
   "id": "5cfcf1c9",
   "metadata": {},
   "outputs": [],
   "source": []
  },
  {
   "cell_type": "code",
   "execution_count": null,
   "id": "80bc429c",
   "metadata": {},
   "outputs": [],
   "source": []
  },
  {
   "cell_type": "code",
   "execution_count": null,
   "id": "12172260",
   "metadata": {},
   "outputs": [],
   "source": []
  },
  {
   "cell_type": "code",
   "execution_count": null,
   "id": "280aae8b",
   "metadata": {},
   "outputs": [],
   "source": []
  },
  {
   "cell_type": "code",
   "execution_count": null,
   "id": "c46bcc0f",
   "metadata": {},
   "outputs": [],
   "source": []
  },
  {
   "cell_type": "code",
   "execution_count": null,
   "id": "d9798783",
   "metadata": {},
   "outputs": [],
   "source": []
  },
  {
   "cell_type": "code",
   "execution_count": null,
   "id": "652b5824",
   "metadata": {},
   "outputs": [],
   "source": []
  },
  {
   "cell_type": "code",
   "execution_count": null,
   "id": "446ce90a",
   "metadata": {},
   "outputs": [],
   "source": []
  },
  {
   "cell_type": "code",
   "execution_count": null,
   "id": "f5049ece",
   "metadata": {},
   "outputs": [],
   "source": []
  },
  {
   "cell_type": "code",
   "execution_count": null,
   "id": "568f3324",
   "metadata": {},
   "outputs": [],
   "source": []
  },
  {
   "cell_type": "code",
   "execution_count": null,
   "id": "0558a7f6",
   "metadata": {},
   "outputs": [],
   "source": []
  },
  {
   "cell_type": "code",
   "execution_count": null,
   "id": "522bb093",
   "metadata": {},
   "outputs": [],
   "source": []
  },
  {
   "cell_type": "code",
   "execution_count": null,
   "id": "8c71e2db",
   "metadata": {},
   "outputs": [],
   "source": []
  },
  {
   "cell_type": "code",
   "execution_count": null,
   "id": "c8cc6664",
   "metadata": {},
   "outputs": [],
   "source": []
  },
  {
   "cell_type": "code",
   "execution_count": null,
   "id": "361cd8d3",
   "metadata": {},
   "outputs": [],
   "source": []
  },
  {
   "cell_type": "code",
   "execution_count": null,
   "id": "88f08a7d",
   "metadata": {},
   "outputs": [],
   "source": []
  },
  {
   "cell_type": "code",
   "execution_count": null,
   "id": "99a0f54e",
   "metadata": {},
   "outputs": [],
   "source": []
  },
  {
   "cell_type": "code",
   "execution_count": null,
   "id": "eb74c934",
   "metadata": {},
   "outputs": [],
   "source": []
  },
  {
   "cell_type": "code",
   "execution_count": null,
   "id": "8671504e",
   "metadata": {},
   "outputs": [],
   "source": []
  },
  {
   "cell_type": "code",
   "execution_count": null,
   "id": "208193ff",
   "metadata": {},
   "outputs": [],
   "source": []
  },
  {
   "cell_type": "code",
   "execution_count": null,
   "id": "8dd7ac6e",
   "metadata": {},
   "outputs": [],
   "source": []
  },
  {
   "cell_type": "code",
   "execution_count": null,
   "id": "4cf2f961",
   "metadata": {},
   "outputs": [],
   "source": []
  },
  {
   "cell_type": "code",
   "execution_count": null,
   "id": "83557622",
   "metadata": {},
   "outputs": [],
   "source": []
  },
  {
   "cell_type": "code",
   "execution_count": null,
   "id": "f410ef01",
   "metadata": {},
   "outputs": [],
   "source": []
  },
  {
   "cell_type": "code",
   "execution_count": null,
   "id": "eff29f77",
   "metadata": {},
   "outputs": [],
   "source": []
  },
  {
   "cell_type": "code",
   "execution_count": null,
   "id": "31e6cbdd",
   "metadata": {},
   "outputs": [],
   "source": []
  },
  {
   "cell_type": "code",
   "execution_count": null,
   "id": "c3e752c3",
   "metadata": {},
   "outputs": [],
   "source": []
  },
  {
   "cell_type": "code",
   "execution_count": null,
   "id": "657ef7aa",
   "metadata": {},
   "outputs": [],
   "source": []
  },
  {
   "cell_type": "code",
   "execution_count": null,
   "id": "b249ebb4",
   "metadata": {},
   "outputs": [],
   "source": []
  },
  {
   "cell_type": "code",
   "execution_count": null,
   "id": "f775a4b0",
   "metadata": {},
   "outputs": [],
   "source": []
  },
  {
   "cell_type": "code",
   "execution_count": null,
   "id": "d78554a9",
   "metadata": {},
   "outputs": [],
   "source": []
  },
  {
   "cell_type": "code",
   "execution_count": null,
   "id": "25d4c04a",
   "metadata": {},
   "outputs": [],
   "source": []
  },
  {
   "cell_type": "code",
   "execution_count": null,
   "id": "03368d8e",
   "metadata": {},
   "outputs": [],
   "source": []
  }
 ],
 "metadata": {
  "kernelspec": {
   "display_name": "youtube_analytics",
   "language": "python",
   "name": "python3"
  },
  "language_info": {
   "codemirror_mode": {
    "name": "ipython",
    "version": 3
   },
   "file_extension": ".py",
   "mimetype": "text/x-python",
   "name": "python",
   "nbconvert_exporter": "python",
   "pygments_lexer": "ipython3",
   "version": "3.10.16"
  }
 },
 "nbformat": 4,
 "nbformat_minor": 5
}
