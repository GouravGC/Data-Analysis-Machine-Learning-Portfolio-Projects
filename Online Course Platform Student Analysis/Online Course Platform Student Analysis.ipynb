{
 "cells": [
  {
   "cell_type": "markdown",
   "id": "6fc8d5bc",
   "metadata": {},
   "source": [
    "Step 1:Simulate The Dataset"
   ]
  },
  {
   "cell_type": "code",
   "execution_count": 13,
   "id": "a3be51ad",
   "metadata": {},
   "outputs": [],
   "source": [
    "import pandas as pd\n",
    "import numpy as np\n",
    "from datetime import datetime, timedelta\n",
    "\n",
    "np.random.seed(42)\n",
    "\n",
    "n = 1000\n",
    "students = [f\"STU{i:04}\" for i in range(1, 201)]\n",
    "courses = [f\"COURSE{i}\" for i in range(1, 6)]  # 5 topics/modules\n",
    "\n",
    "data = []\n",
    "\n",
    "for i in range(n):\n",
    "    student_id = np.random.choice(students)\n",
    "    course_id = np.random.choice(courses)\n",
    "    enroll_date = datetime(2024, np.random.randint(1, 12), np.random.randint(1, 28))\n",
    "    completion_pct = np.clip(np.random.normal(75, 25), 0, 100)\n",
    "    quiz_score = np.clip(np.random.normal(70, 20), 0, 100)\n",
    "    video_time = np.random.randint(10, 60)\n",
    "    drop_off = np.random.normal(video_time * np.random.uniform(0.4, 1.0), 5)\n",
    "    drop_off = max(0, min(video_time, drop_off))\n",
    "\n",
    "    data.append({\n",
    "        'Student ID': student_id,\n",
    "        'Course ID': course_id,\n",
    "        'Enrollment Date': enroll_date,\n",
    "        'Completion %': round(completion_pct, 1),\n",
    "        'Quiz Score': round(quiz_score, 1),\n",
    "        'Time on Video (min)': video_time,\n",
    "        'Drop-off Timestamp (min)': round(drop_off, 1)\n",
    "    })\n",
    "\n",
    "df = pd.DataFrame(data)\n",
    "df.to_csv('student_course_data.csv', index=False)\n"
   ]
  },
  {
   "cell_type": "markdown",
   "id": "1ae98d77",
   "metadata": {},
   "source": [
    "Step 2:Load the data "
   ]
  },
  {
   "cell_type": "code",
   "execution_count": 14,
   "metadata": {},
   "outputs": [],
   "source": [
    "df = pd.read_csv('student_course_data.csv', parse_dates=['Enrollment Date'])\n"
   ]
  },
  {
   "cell_type": "markdown",
   "id": "315f7ec3",
   "metadata": {},
   "source": [
    "Step 3: Completion Rate by Course"
   ]
  },
  {
   "cell_type": "code",
   "execution_count": 15,
   "metadata": {},
   "outputs": [],
   "source": [
    "df['Completed'] = df['Completion %'] >= 90  # Threshold to consider course \"completed\"\n",
    "\n",
    "completion_summary = df.groupby('Course ID').agg(\n",
    "    Enrolled=('Student ID', 'count'),\n",
    "    Completed=('Completed', 'sum')\n",
    ")\n",
    "completion_summary['Completion Rate (%)'] = (completion_summary['Completed'] / completion_summary['Enrolled']) * 100\n"
   ]
  },
  {
   "cell_type": "markdown",
   "id": "0f7420bb",
   "metadata": {},
   "source": [
    "Plot: Completion Rate by Course"
   ]
  },
  {
   "cell_type": "code",
   "execution_count": 16,
   "metadata": {},
   "outputs": [
    {
     "data": {
      "application/vnd.plotly.v1+json": {
       "config": {
        "plotlyServerURL": "https://plot.ly"
       },
       "data": [
        {
         "hovertemplate": "Course ID=%{x}<br>Completion Rate (%)=%{marker.color}<extra></extra>",
         "legendgroup": "",
         "marker": {
          "color": {
           "bdata": "pqWlpaWlQUCCIdkimrM6QAAAAAAAsD1AORlEHriKPkANwzAMwzA6QA==",
           "dtype": "f8"
          },
          "coloraxis": "coloraxis",
          "pattern": {
           "shape": ""
          }
         },
         "name": "",
         "orientation": "v",
         "showlegend": false,
         "text": {
          "bdata": "pqWlpaWlQUCCIdkimrM6QAAAAAAAsD1AORlEHriKPkANwzAMwzA6QA==",
          "dtype": "f8"
         },
         "textposition": "auto",
         "type": "bar",
         "x": [
          "COURSE1",
          "COURSE2",
          "COURSE3",
          "COURSE4",
          "COURSE5"
         ],
         "xaxis": "x",
         "y": {
          "bdata": "pqWlpaWlQUCCIdkimrM6QAAAAAAAsD1AORlEHriKPkANwzAMwzA6QA==",
          "dtype": "f8"
         },
         "yaxis": "y"
        }
       ],
       "layout": {
        "barmode": "relative",
        "coloraxis": {
         "colorbar": {
          "title": {
           "text": "Completion Rate (%)"
          }
         },
         "colorscale": [
          [
           0,
           "#0d0887"
          ],
          [
           0.1111111111111111,
           "#46039f"
          ],
          [
           0.2222222222222222,
           "#7201a8"
          ],
          [
           0.3333333333333333,
           "#9c179e"
          ],
          [
           0.4444444444444444,
           "#bd3786"
          ],
          [
           0.5555555555555556,
           "#d8576b"
          ],
          [
           0.6666666666666666,
           "#ed7953"
          ],
          [
           0.7777777777777778,
           "#fb9f3a"
          ],
          [
           0.8888888888888888,
           "#fdca26"
          ],
          [
           1,
           "#f0f921"
          ]
         ]
        },
        "legend": {
         "tracegroupgap": 0
        },
        "template": {
         "data": {
          "bar": [
           {
            "error_x": {
             "color": "#2a3f5f"
            },
            "error_y": {
             "color": "#2a3f5f"
            },
            "marker": {
             "line": {
              "color": "#E5ECF6",
              "width": 0.5
             },
             "pattern": {
              "fillmode": "overlay",
              "size": 10,
              "solidity": 0.2
             }
            },
            "type": "bar"
           }
          ],
          "barpolar": [
           {
            "marker": {
             "line": {
              "color": "#E5ECF6",
              "width": 0.5
             },
             "pattern": {
              "fillmode": "overlay",
              "size": 10,
              "solidity": 0.2
             }
            },
            "type": "barpolar"
           }
          ],
          "carpet": [
           {
            "aaxis": {
             "endlinecolor": "#2a3f5f",
             "gridcolor": "white",
             "linecolor": "white",
             "minorgridcolor": "white",
             "startlinecolor": "#2a3f5f"
            },
            "baxis": {
             "endlinecolor": "#2a3f5f",
             "gridcolor": "white",
             "linecolor": "white",
             "minorgridcolor": "white",
             "startlinecolor": "#2a3f5f"
            },
            "type": "carpet"
           }
          ],
          "choropleth": [
           {
            "colorbar": {
             "outlinewidth": 0,
             "ticks": ""
            },
            "type": "choropleth"
           }
          ],
          "contour": [
           {
            "colorbar": {
             "outlinewidth": 0,
             "ticks": ""
            },
            "colorscale": [
             [
              0,
              "#0d0887"
             ],
             [
              0.1111111111111111,
              "#46039f"
             ],
             [
              0.2222222222222222,
              "#7201a8"
             ],
             [
              0.3333333333333333,
              "#9c179e"
             ],
             [
              0.4444444444444444,
              "#bd3786"
             ],
             [
              0.5555555555555556,
              "#d8576b"
             ],
             [
              0.6666666666666666,
              "#ed7953"
             ],
             [
              0.7777777777777778,
              "#fb9f3a"
             ],
             [
              0.8888888888888888,
              "#fdca26"
             ],
             [
              1,
              "#f0f921"
             ]
            ],
            "type": "contour"
           }
          ],
          "contourcarpet": [
           {
            "colorbar": {
             "outlinewidth": 0,
             "ticks": ""
            },
            "type": "contourcarpet"
           }
          ],
          "heatmap": [
           {
            "colorbar": {
             "outlinewidth": 0,
             "ticks": ""
            },
            "colorscale": [
             [
              0,
              "#0d0887"
             ],
             [
              0.1111111111111111,
              "#46039f"
             ],
             [
              0.2222222222222222,
              "#7201a8"
             ],
             [
              0.3333333333333333,
              "#9c179e"
             ],
             [
              0.4444444444444444,
              "#bd3786"
             ],
             [
              0.5555555555555556,
              "#d8576b"
             ],
             [
              0.6666666666666666,
              "#ed7953"
             ],
             [
              0.7777777777777778,
              "#fb9f3a"
             ],
             [
              0.8888888888888888,
              "#fdca26"
             ],
             [
              1,
              "#f0f921"
             ]
            ],
            "type": "heatmap"
           }
          ],
          "histogram": [
           {
            "marker": {
             "pattern": {
              "fillmode": "overlay",
              "size": 10,
              "solidity": 0.2
             }
            },
            "type": "histogram"
           }
          ],
          "histogram2d": [
           {
            "colorbar": {
             "outlinewidth": 0,
             "ticks": ""
            },
            "colorscale": [
             [
              0,
              "#0d0887"
             ],
             [
              0.1111111111111111,
              "#46039f"
             ],
             [
              0.2222222222222222,
              "#7201a8"
             ],
             [
              0.3333333333333333,
              "#9c179e"
             ],
             [
              0.4444444444444444,
              "#bd3786"
             ],
             [
              0.5555555555555556,
              "#d8576b"
             ],
             [
              0.6666666666666666,
              "#ed7953"
             ],
             [
              0.7777777777777778,
              "#fb9f3a"
             ],
             [
              0.8888888888888888,
              "#fdca26"
             ],
             [
              1,
              "#f0f921"
             ]
            ],
            "type": "histogram2d"
           }
          ],
          "histogram2dcontour": [
           {
            "colorbar": {
             "outlinewidth": 0,
             "ticks": ""
            },
            "colorscale": [
             [
              0,
              "#0d0887"
             ],
             [
              0.1111111111111111,
              "#46039f"
             ],
             [
              0.2222222222222222,
              "#7201a8"
             ],
             [
              0.3333333333333333,
              "#9c179e"
             ],
             [
              0.4444444444444444,
              "#bd3786"
             ],
             [
              0.5555555555555556,
              "#d8576b"
             ],
             [
              0.6666666666666666,
              "#ed7953"
             ],
             [
              0.7777777777777778,
              "#fb9f3a"
             ],
             [
              0.8888888888888888,
              "#fdca26"
             ],
             [
              1,
              "#f0f921"
             ]
            ],
            "type": "histogram2dcontour"
           }
          ],
          "mesh3d": [
           {
            "colorbar": {
             "outlinewidth": 0,
             "ticks": ""
            },
            "type": "mesh3d"
           }
          ],
          "parcoords": [
           {
            "line": {
             "colorbar": {
              "outlinewidth": 0,
              "ticks": ""
             }
            },
            "type": "parcoords"
           }
          ],
          "pie": [
           {
            "automargin": true,
            "type": "pie"
           }
          ],
          "scatter": [
           {
            "fillpattern": {
             "fillmode": "overlay",
             "size": 10,
             "solidity": 0.2
            },
            "type": "scatter"
           }
          ],
          "scatter3d": [
           {
            "line": {
             "colorbar": {
              "outlinewidth": 0,
              "ticks": ""
             }
            },
            "marker": {
             "colorbar": {
              "outlinewidth": 0,
              "ticks": ""
             }
            },
            "type": "scatter3d"
           }
          ],
          "scattercarpet": [
           {
            "marker": {
             "colorbar": {
              "outlinewidth": 0,
              "ticks": ""
             }
            },
            "type": "scattercarpet"
           }
          ],
          "scattergeo": [
           {
            "marker": {
             "colorbar": {
              "outlinewidth": 0,
              "ticks": ""
             }
            },
            "type": "scattergeo"
           }
          ],
          "scattergl": [
           {
            "marker": {
             "colorbar": {
              "outlinewidth": 0,
              "ticks": ""
             }
            },
            "type": "scattergl"
           }
          ],
          "scattermap": [
           {
            "marker": {
             "colorbar": {
              "outlinewidth": 0,
              "ticks": ""
             }
            },
            "type": "scattermap"
           }
          ],
          "scattermapbox": [
           {
            "marker": {
             "colorbar": {
              "outlinewidth": 0,
              "ticks": ""
             }
            },
            "type": "scattermapbox"
           }
          ],
          "scatterpolar": [
           {
            "marker": {
             "colorbar": {
              "outlinewidth": 0,
              "ticks": ""
             }
            },
            "type": "scatterpolar"
           }
          ],
          "scatterpolargl": [
           {
            "marker": {
             "colorbar": {
              "outlinewidth": 0,
              "ticks": ""
             }
            },
            "type": "scatterpolargl"
           }
          ],
          "scatterternary": [
           {
            "marker": {
             "colorbar": {
              "outlinewidth": 0,
              "ticks": ""
             }
            },
            "type": "scatterternary"
           }
          ],
          "surface": [
           {
            "colorbar": {
             "outlinewidth": 0,
             "ticks": ""
            },
            "colorscale": [
             [
              0,
              "#0d0887"
             ],
             [
              0.1111111111111111,
              "#46039f"
             ],
             [
              0.2222222222222222,
              "#7201a8"
             ],
             [
              0.3333333333333333,
              "#9c179e"
             ],
             [
              0.4444444444444444,
              "#bd3786"
             ],
             [
              0.5555555555555556,
              "#d8576b"
             ],
             [
              0.6666666666666666,
              "#ed7953"
             ],
             [
              0.7777777777777778,
              "#fb9f3a"
             ],
             [
              0.8888888888888888,
              "#fdca26"
             ],
             [
              1,
              "#f0f921"
             ]
            ],
            "type": "surface"
           }
          ],
          "table": [
           {
            "cells": {
             "fill": {
              "color": "#EBF0F8"
             },
             "line": {
              "color": "white"
             }
            },
            "header": {
             "fill": {
              "color": "#C8D4E3"
             },
             "line": {
              "color": "white"
             }
            },
            "type": "table"
           }
          ]
         },
         "layout": {
          "annotationdefaults": {
           "arrowcolor": "#2a3f5f",
           "arrowhead": 0,
           "arrowwidth": 1
          },
          "autotypenumbers": "strict",
          "coloraxis": {
           "colorbar": {
            "outlinewidth": 0,
            "ticks": ""
           }
          },
          "colorscale": {
           "diverging": [
            [
             0,
             "#8e0152"
            ],
            [
             0.1,
             "#c51b7d"
            ],
            [
             0.2,
             "#de77ae"
            ],
            [
             0.3,
             "#f1b6da"
            ],
            [
             0.4,
             "#fde0ef"
            ],
            [
             0.5,
             "#f7f7f7"
            ],
            [
             0.6,
             "#e6f5d0"
            ],
            [
             0.7,
             "#b8e186"
            ],
            [
             0.8,
             "#7fbc41"
            ],
            [
             0.9,
             "#4d9221"
            ],
            [
             1,
             "#276419"
            ]
           ],
           "sequential": [
            [
             0,
             "#0d0887"
            ],
            [
             0.1111111111111111,
             "#46039f"
            ],
            [
             0.2222222222222222,
             "#7201a8"
            ],
            [
             0.3333333333333333,
             "#9c179e"
            ],
            [
             0.4444444444444444,
             "#bd3786"
            ],
            [
             0.5555555555555556,
             "#d8576b"
            ],
            [
             0.6666666666666666,
             "#ed7953"
            ],
            [
             0.7777777777777778,
             "#fb9f3a"
            ],
            [
             0.8888888888888888,
             "#fdca26"
            ],
            [
             1,
             "#f0f921"
            ]
           ],
           "sequentialminus": [
            [
             0,
             "#0d0887"
            ],
            [
             0.1111111111111111,
             "#46039f"
            ],
            [
             0.2222222222222222,
             "#7201a8"
            ],
            [
             0.3333333333333333,
             "#9c179e"
            ],
            [
             0.4444444444444444,
             "#bd3786"
            ],
            [
             0.5555555555555556,
             "#d8576b"
            ],
            [
             0.6666666666666666,
             "#ed7953"
            ],
            [
             0.7777777777777778,
             "#fb9f3a"
            ],
            [
             0.8888888888888888,
             "#fdca26"
            ],
            [
             1,
             "#f0f921"
            ]
           ]
          },
          "colorway": [
           "#636efa",
           "#EF553B",
           "#00cc96",
           "#ab63fa",
           "#FFA15A",
           "#19d3f3",
           "#FF6692",
           "#B6E880",
           "#FF97FF",
           "#FECB52"
          ],
          "font": {
           "color": "#2a3f5f"
          },
          "geo": {
           "bgcolor": "white",
           "lakecolor": "white",
           "landcolor": "#E5ECF6",
           "showlakes": true,
           "showland": true,
           "subunitcolor": "white"
          },
          "hoverlabel": {
           "align": "left"
          },
          "hovermode": "closest",
          "mapbox": {
           "style": "light"
          },
          "paper_bgcolor": "white",
          "plot_bgcolor": "#E5ECF6",
          "polar": {
           "angularaxis": {
            "gridcolor": "white",
            "linecolor": "white",
            "ticks": ""
           },
           "bgcolor": "#E5ECF6",
           "radialaxis": {
            "gridcolor": "white",
            "linecolor": "white",
            "ticks": ""
           }
          },
          "scene": {
           "xaxis": {
            "backgroundcolor": "#E5ECF6",
            "gridcolor": "white",
            "gridwidth": 2,
            "linecolor": "white",
            "showbackground": true,
            "ticks": "",
            "zerolinecolor": "white"
           },
           "yaxis": {
            "backgroundcolor": "#E5ECF6",
            "gridcolor": "white",
            "gridwidth": 2,
            "linecolor": "white",
            "showbackground": true,
            "ticks": "",
            "zerolinecolor": "white"
           },
           "zaxis": {
            "backgroundcolor": "#E5ECF6",
            "gridcolor": "white",
            "gridwidth": 2,
            "linecolor": "white",
            "showbackground": true,
            "ticks": "",
            "zerolinecolor": "white"
           }
          },
          "shapedefaults": {
           "line": {
            "color": "#2a3f5f"
           }
          },
          "ternary": {
           "aaxis": {
            "gridcolor": "white",
            "linecolor": "white",
            "ticks": ""
           },
           "baxis": {
            "gridcolor": "white",
            "linecolor": "white",
            "ticks": ""
           },
           "bgcolor": "#E5ECF6",
           "caxis": {
            "gridcolor": "white",
            "linecolor": "white",
            "ticks": ""
           }
          },
          "title": {
           "x": 0.05
          },
          "xaxis": {
           "automargin": true,
           "gridcolor": "white",
           "linecolor": "white",
           "ticks": "",
           "title": {
            "standoff": 15
           },
           "zerolinecolor": "white",
           "zerolinewidth": 2
          },
          "yaxis": {
           "automargin": true,
           "gridcolor": "white",
           "linecolor": "white",
           "ticks": "",
           "title": {
            "standoff": 15
           },
           "zerolinecolor": "white",
           "zerolinewidth": 2
          }
         }
        },
        "title": {
         "text": "Course Completion Rate by Course ID"
        },
        "xaxis": {
         "anchor": "y",
         "domain": [
          0,
          1
         ],
         "title": {
          "text": "Course ID"
         }
        },
        "yaxis": {
         "anchor": "x",
         "domain": [
          0,
          1
         ],
         "title": {
          "text": "Completion Rate (%)"
         }
        }
       }
      }
     },
     "metadata": {},
     "output_type": "display_data"
    }
   ],
   "source": [
    "import plotly.express as px\n",
    "\n",
    "fig1 = px.bar(\n",
    "    completion_summary.reset_index(),\n",
    "    x='Course ID',\n",
    "    y='Completion Rate (%)',\n",
    "    title='Course Completion Rate by Course ID',\n",
    "    text='Completion Rate (%)',\n",
    "    color='Completion Rate (%)'\n",
    ")\n",
    "fig1.show()\n"
   ]
  },
  {
   "cell_type": "markdown",
   "id": "7c8cd71e",
   "metadata": {},
   "source": [
    "Step 4: Student Performance Analysis"
   ]
  },
  {
   "cell_type": "code",
   "execution_count": 17,
   "id": "645a54be",
   "metadata": {},
   "outputs": [],
   "source": [
    "performance_summary = df.groupby('Course ID').agg(\n",
    "    Avg_Quiz_Score=('Quiz Score', 'mean'),\n",
    "    Avg_Completion_Percent=('Completion %', 'mean')\n",
    ")\n"
   ]
  },
  {
   "cell_type": "markdown",
   "id": "200d469c",
   "metadata": {},
   "source": [
    "Plot: Avg. Quiz Score per Course"
   ]
  },
  {
   "cell_type": "code",
   "execution_count": 18,
   "metadata": {},
   "outputs": [
    {
     "data": {
      "application/vnd.plotly.v1+json": {
       "config": {
        "plotlyServerURL": "https://plot.ly"
       },
       "data": [
        {
         "hovertemplate": "Course ID=%{x}<br>Avg_Quiz_Score=%{marker.color}<extra></extra>",
         "legendgroup": "",
         "marker": {
          "color": {
           "bdata": "LCwsLCw8UUC6JHWxnjBRQAAAAACA71FAguS6/f67UUDrUbgehatQQA==",
           "dtype": "f8"
          },
          "coloraxis": "coloraxis",
          "pattern": {
           "shape": ""
          }
         },
         "name": "",
         "orientation": "v",
         "showlegend": false,
         "text": {
          "bdata": "LCwsLCw8UUC6JHWxnjBRQAAAAACA71FAguS6/f67UUDrUbgehatQQA==",
          "dtype": "f8"
         },
         "textposition": "auto",
         "type": "bar",
         "x": [
          "COURSE1",
          "COURSE2",
          "COURSE3",
          "COURSE4",
          "COURSE5"
         ],
         "xaxis": "x",
         "y": {
          "bdata": "LCwsLCw8UUC6JHWxnjBRQAAAAACA71FAguS6/f67UUDrUbgehatQQA==",
          "dtype": "f8"
         },
         "yaxis": "y"
        }
       ],
       "layout": {
        "barmode": "relative",
        "coloraxis": {
         "colorbar": {
          "title": {
           "text": "Avg_Quiz_Score"
          }
         },
         "colorscale": [
          [
           0,
           "#0d0887"
          ],
          [
           0.1111111111111111,
           "#46039f"
          ],
          [
           0.2222222222222222,
           "#7201a8"
          ],
          [
           0.3333333333333333,
           "#9c179e"
          ],
          [
           0.4444444444444444,
           "#bd3786"
          ],
          [
           0.5555555555555556,
           "#d8576b"
          ],
          [
           0.6666666666666666,
           "#ed7953"
          ],
          [
           0.7777777777777778,
           "#fb9f3a"
          ],
          [
           0.8888888888888888,
           "#fdca26"
          ],
          [
           1,
           "#f0f921"
          ]
         ]
        },
        "legend": {
         "tracegroupgap": 0
        },
        "template": {
         "data": {
          "bar": [
           {
            "error_x": {
             "color": "#2a3f5f"
            },
            "error_y": {
             "color": "#2a3f5f"
            },
            "marker": {
             "line": {
              "color": "#E5ECF6",
              "width": 0.5
             },
             "pattern": {
              "fillmode": "overlay",
              "size": 10,
              "solidity": 0.2
             }
            },
            "type": "bar"
           }
          ],
          "barpolar": [
           {
            "marker": {
             "line": {
              "color": "#E5ECF6",
              "width": 0.5
             },
             "pattern": {
              "fillmode": "overlay",
              "size": 10,
              "solidity": 0.2
             }
            },
            "type": "barpolar"
           }
          ],
          "carpet": [
           {
            "aaxis": {
             "endlinecolor": "#2a3f5f",
             "gridcolor": "white",
             "linecolor": "white",
             "minorgridcolor": "white",
             "startlinecolor": "#2a3f5f"
            },
            "baxis": {
             "endlinecolor": "#2a3f5f",
             "gridcolor": "white",
             "linecolor": "white",
             "minorgridcolor": "white",
             "startlinecolor": "#2a3f5f"
            },
            "type": "carpet"
           }
          ],
          "choropleth": [
           {
            "colorbar": {
             "outlinewidth": 0,
             "ticks": ""
            },
            "type": "choropleth"
           }
          ],
          "contour": [
           {
            "colorbar": {
             "outlinewidth": 0,
             "ticks": ""
            },
            "colorscale": [
             [
              0,
              "#0d0887"
             ],
             [
              0.1111111111111111,
              "#46039f"
             ],
             [
              0.2222222222222222,
              "#7201a8"
             ],
             [
              0.3333333333333333,
              "#9c179e"
             ],
             [
              0.4444444444444444,
              "#bd3786"
             ],
             [
              0.5555555555555556,
              "#d8576b"
             ],
             [
              0.6666666666666666,
              "#ed7953"
             ],
             [
              0.7777777777777778,
              "#fb9f3a"
             ],
             [
              0.8888888888888888,
              "#fdca26"
             ],
             [
              1,
              "#f0f921"
             ]
            ],
            "type": "contour"
           }
          ],
          "contourcarpet": [
           {
            "colorbar": {
             "outlinewidth": 0,
             "ticks": ""
            },
            "type": "contourcarpet"
           }
          ],
          "heatmap": [
           {
            "colorbar": {
             "outlinewidth": 0,
             "ticks": ""
            },
            "colorscale": [
             [
              0,
              "#0d0887"
             ],
             [
              0.1111111111111111,
              "#46039f"
             ],
             [
              0.2222222222222222,
              "#7201a8"
             ],
             [
              0.3333333333333333,
              "#9c179e"
             ],
             [
              0.4444444444444444,
              "#bd3786"
             ],
             [
              0.5555555555555556,
              "#d8576b"
             ],
             [
              0.6666666666666666,
              "#ed7953"
             ],
             [
              0.7777777777777778,
              "#fb9f3a"
             ],
             [
              0.8888888888888888,
              "#fdca26"
             ],
             [
              1,
              "#f0f921"
             ]
            ],
            "type": "heatmap"
           }
          ],
          "histogram": [
           {
            "marker": {
             "pattern": {
              "fillmode": "overlay",
              "size": 10,
              "solidity": 0.2
             }
            },
            "type": "histogram"
           }
          ],
          "histogram2d": [
           {
            "colorbar": {
             "outlinewidth": 0,
             "ticks": ""
            },
            "colorscale": [
             [
              0,
              "#0d0887"
             ],
             [
              0.1111111111111111,
              "#46039f"
             ],
             [
              0.2222222222222222,
              "#7201a8"
             ],
             [
              0.3333333333333333,
              "#9c179e"
             ],
             [
              0.4444444444444444,
              "#bd3786"
             ],
             [
              0.5555555555555556,
              "#d8576b"
             ],
             [
              0.6666666666666666,
              "#ed7953"
             ],
             [
              0.7777777777777778,
              "#fb9f3a"
             ],
             [
              0.8888888888888888,
              "#fdca26"
             ],
             [
              1,
              "#f0f921"
             ]
            ],
            "type": "histogram2d"
           }
          ],
          "histogram2dcontour": [
           {
            "colorbar": {
             "outlinewidth": 0,
             "ticks": ""
            },
            "colorscale": [
             [
              0,
              "#0d0887"
             ],
             [
              0.1111111111111111,
              "#46039f"
             ],
             [
              0.2222222222222222,
              "#7201a8"
             ],
             [
              0.3333333333333333,
              "#9c179e"
             ],
             [
              0.4444444444444444,
              "#bd3786"
             ],
             [
              0.5555555555555556,
              "#d8576b"
             ],
             [
              0.6666666666666666,
              "#ed7953"
             ],
             [
              0.7777777777777778,
              "#fb9f3a"
             ],
             [
              0.8888888888888888,
              "#fdca26"
             ],
             [
              1,
              "#f0f921"
             ]
            ],
            "type": "histogram2dcontour"
           }
          ],
          "mesh3d": [
           {
            "colorbar": {
             "outlinewidth": 0,
             "ticks": ""
            },
            "type": "mesh3d"
           }
          ],
          "parcoords": [
           {
            "line": {
             "colorbar": {
              "outlinewidth": 0,
              "ticks": ""
             }
            },
            "type": "parcoords"
           }
          ],
          "pie": [
           {
            "automargin": true,
            "type": "pie"
           }
          ],
          "scatter": [
           {
            "fillpattern": {
             "fillmode": "overlay",
             "size": 10,
             "solidity": 0.2
            },
            "type": "scatter"
           }
          ],
          "scatter3d": [
           {
            "line": {
             "colorbar": {
              "outlinewidth": 0,
              "ticks": ""
             }
            },
            "marker": {
             "colorbar": {
              "outlinewidth": 0,
              "ticks": ""
             }
            },
            "type": "scatter3d"
           }
          ],
          "scattercarpet": [
           {
            "marker": {
             "colorbar": {
              "outlinewidth": 0,
              "ticks": ""
             }
            },
            "type": "scattercarpet"
           }
          ],
          "scattergeo": [
           {
            "marker": {
             "colorbar": {
              "outlinewidth": 0,
              "ticks": ""
             }
            },
            "type": "scattergeo"
           }
          ],
          "scattergl": [
           {
            "marker": {
             "colorbar": {
              "outlinewidth": 0,
              "ticks": ""
             }
            },
            "type": "scattergl"
           }
          ],
          "scattermap": [
           {
            "marker": {
             "colorbar": {
              "outlinewidth": 0,
              "ticks": ""
             }
            },
            "type": "scattermap"
           }
          ],
          "scattermapbox": [
           {
            "marker": {
             "colorbar": {
              "outlinewidth": 0,
              "ticks": ""
             }
            },
            "type": "scattermapbox"
           }
          ],
          "scatterpolar": [
           {
            "marker": {
             "colorbar": {
              "outlinewidth": 0,
              "ticks": ""
             }
            },
            "type": "scatterpolar"
           }
          ],
          "scatterpolargl": [
           {
            "marker": {
             "colorbar": {
              "outlinewidth": 0,
              "ticks": ""
             }
            },
            "type": "scatterpolargl"
           }
          ],
          "scatterternary": [
           {
            "marker": {
             "colorbar": {
              "outlinewidth": 0,
              "ticks": ""
             }
            },
            "type": "scatterternary"
           }
          ],
          "surface": [
           {
            "colorbar": {
             "outlinewidth": 0,
             "ticks": ""
            },
            "colorscale": [
             [
              0,
              "#0d0887"
             ],
             [
              0.1111111111111111,
              "#46039f"
             ],
             [
              0.2222222222222222,
              "#7201a8"
             ],
             [
              0.3333333333333333,
              "#9c179e"
             ],
             [
              0.4444444444444444,
              "#bd3786"
             ],
             [
              0.5555555555555556,
              "#d8576b"
             ],
             [
              0.6666666666666666,
              "#ed7953"
             ],
             [
              0.7777777777777778,
              "#fb9f3a"
             ],
             [
              0.8888888888888888,
              "#fdca26"
             ],
             [
              1,
              "#f0f921"
             ]
            ],
            "type": "surface"
           }
          ],
          "table": [
           {
            "cells": {
             "fill": {
              "color": "#EBF0F8"
             },
             "line": {
              "color": "white"
             }
            },
            "header": {
             "fill": {
              "color": "#C8D4E3"
             },
             "line": {
              "color": "white"
             }
            },
            "type": "table"
           }
          ]
         },
         "layout": {
          "annotationdefaults": {
           "arrowcolor": "#2a3f5f",
           "arrowhead": 0,
           "arrowwidth": 1
          },
          "autotypenumbers": "strict",
          "coloraxis": {
           "colorbar": {
            "outlinewidth": 0,
            "ticks": ""
           }
          },
          "colorscale": {
           "diverging": [
            [
             0,
             "#8e0152"
            ],
            [
             0.1,
             "#c51b7d"
            ],
            [
             0.2,
             "#de77ae"
            ],
            [
             0.3,
             "#f1b6da"
            ],
            [
             0.4,
             "#fde0ef"
            ],
            [
             0.5,
             "#f7f7f7"
            ],
            [
             0.6,
             "#e6f5d0"
            ],
            [
             0.7,
             "#b8e186"
            ],
            [
             0.8,
             "#7fbc41"
            ],
            [
             0.9,
             "#4d9221"
            ],
            [
             1,
             "#276419"
            ]
           ],
           "sequential": [
            [
             0,
             "#0d0887"
            ],
            [
             0.1111111111111111,
             "#46039f"
            ],
            [
             0.2222222222222222,
             "#7201a8"
            ],
            [
             0.3333333333333333,
             "#9c179e"
            ],
            [
             0.4444444444444444,
             "#bd3786"
            ],
            [
             0.5555555555555556,
             "#d8576b"
            ],
            [
             0.6666666666666666,
             "#ed7953"
            ],
            [
             0.7777777777777778,
             "#fb9f3a"
            ],
            [
             0.8888888888888888,
             "#fdca26"
            ],
            [
             1,
             "#f0f921"
            ]
           ],
           "sequentialminus": [
            [
             0,
             "#0d0887"
            ],
            [
             0.1111111111111111,
             "#46039f"
            ],
            [
             0.2222222222222222,
             "#7201a8"
            ],
            [
             0.3333333333333333,
             "#9c179e"
            ],
            [
             0.4444444444444444,
             "#bd3786"
            ],
            [
             0.5555555555555556,
             "#d8576b"
            ],
            [
             0.6666666666666666,
             "#ed7953"
            ],
            [
             0.7777777777777778,
             "#fb9f3a"
            ],
            [
             0.8888888888888888,
             "#fdca26"
            ],
            [
             1,
             "#f0f921"
            ]
           ]
          },
          "colorway": [
           "#636efa",
           "#EF553B",
           "#00cc96",
           "#ab63fa",
           "#FFA15A",
           "#19d3f3",
           "#FF6692",
           "#B6E880",
           "#FF97FF",
           "#FECB52"
          ],
          "font": {
           "color": "#2a3f5f"
          },
          "geo": {
           "bgcolor": "white",
           "lakecolor": "white",
           "landcolor": "#E5ECF6",
           "showlakes": true,
           "showland": true,
           "subunitcolor": "white"
          },
          "hoverlabel": {
           "align": "left"
          },
          "hovermode": "closest",
          "mapbox": {
           "style": "light"
          },
          "paper_bgcolor": "white",
          "plot_bgcolor": "#E5ECF6",
          "polar": {
           "angularaxis": {
            "gridcolor": "white",
            "linecolor": "white",
            "ticks": ""
           },
           "bgcolor": "#E5ECF6",
           "radialaxis": {
            "gridcolor": "white",
            "linecolor": "white",
            "ticks": ""
           }
          },
          "scene": {
           "xaxis": {
            "backgroundcolor": "#E5ECF6",
            "gridcolor": "white",
            "gridwidth": 2,
            "linecolor": "white",
            "showbackground": true,
            "ticks": "",
            "zerolinecolor": "white"
           },
           "yaxis": {
            "backgroundcolor": "#E5ECF6",
            "gridcolor": "white",
            "gridwidth": 2,
            "linecolor": "white",
            "showbackground": true,
            "ticks": "",
            "zerolinecolor": "white"
           },
           "zaxis": {
            "backgroundcolor": "#E5ECF6",
            "gridcolor": "white",
            "gridwidth": 2,
            "linecolor": "white",
            "showbackground": true,
            "ticks": "",
            "zerolinecolor": "white"
           }
          },
          "shapedefaults": {
           "line": {
            "color": "#2a3f5f"
           }
          },
          "ternary": {
           "aaxis": {
            "gridcolor": "white",
            "linecolor": "white",
            "ticks": ""
           },
           "baxis": {
            "gridcolor": "white",
            "linecolor": "white",
            "ticks": ""
           },
           "bgcolor": "#E5ECF6",
           "caxis": {
            "gridcolor": "white",
            "linecolor": "white",
            "ticks": ""
           }
          },
          "title": {
           "x": 0.05
          },
          "xaxis": {
           "automargin": true,
           "gridcolor": "white",
           "linecolor": "white",
           "ticks": "",
           "title": {
            "standoff": 15
           },
           "zerolinecolor": "white",
           "zerolinewidth": 2
          },
          "yaxis": {
           "automargin": true,
           "gridcolor": "white",
           "linecolor": "white",
           "ticks": "",
           "title": {
            "standoff": 15
           },
           "zerolinecolor": "white",
           "zerolinewidth": 2
          }
         }
        },
        "title": {
         "text": "Average Quiz Score by Course"
        },
        "xaxis": {
         "anchor": "y",
         "domain": [
          0,
          1
         ],
         "title": {
          "text": "Course ID"
         }
        },
        "yaxis": {
         "anchor": "x",
         "domain": [
          0,
          1
         ],
         "title": {
          "text": "Avg_Quiz_Score"
         }
        }
       }
      }
     },
     "metadata": {},
     "output_type": "display_data"
    }
   ],
   "source": [
    "fig2 = px.bar(\n",
    "    performance_summary.reset_index(),\n",
    "    x='Course ID',\n",
    "    y='Avg_Quiz_Score',\n",
    "    title='Average Quiz Score by Course',\n",
    "    text='Avg_Quiz_Score',\n",
    "    color='Avg_Quiz_Score'\n",
    ")\n",
    "fig2.show()\n"
   ]
  },
  {
   "cell_type": "markdown",
   "id": "5bdac057",
   "metadata": {},
   "source": [
    "Step 5: Correlation — Time on Video vs Quiz Score"
   ]
  },
  {
   "cell_type": "code",
   "execution_count": 19,
   "metadata": {},
   "outputs": [
    {
     "name": "stdout",
     "output_type": "stream",
     "text": [
      "Requirement already satisfied: statsmodels in c:\\users\\gc\\.conda\\envs\\youtube_analytics\\lib\\site-packages (0.14.4)Note: you may need to restart the kernel to use updated packages.\n",
      "\n",
      "Requirement already satisfied: numpy<3,>=1.22.3 in c:\\users\\gc\\.conda\\envs\\youtube_analytics\\lib\\site-packages (from statsmodels) (2.2.5)\n",
      "Requirement already satisfied: scipy!=1.9.2,>=1.8 in c:\\users\\gc\\.conda\\envs\\youtube_analytics\\lib\\site-packages (from statsmodels) (1.15.2)\n",
      "Requirement already satisfied: pandas!=2.1.0,>=1.4 in c:\\users\\gc\\.conda\\envs\\youtube_analytics\\lib\\site-packages (from statsmodels) (2.2.3)\n",
      "Requirement already satisfied: patsy>=0.5.6 in c:\\users\\gc\\.conda\\envs\\youtube_analytics\\lib\\site-packages (from statsmodels) (1.0.1)\n",
      "Requirement already satisfied: packaging>=21.3 in c:\\users\\gc\\.conda\\envs\\youtube_analytics\\lib\\site-packages (from statsmodels) (25.0)\n",
      "Requirement already satisfied: python-dateutil>=2.8.2 in c:\\users\\gc\\.conda\\envs\\youtube_analytics\\lib\\site-packages (from pandas!=2.1.0,>=1.4->statsmodels) (2.9.0.post0)\n",
      "Requirement already satisfied: pytz>=2020.1 in c:\\users\\gc\\.conda\\envs\\youtube_analytics\\lib\\site-packages (from pandas!=2.1.0,>=1.4->statsmodels) (2025.2)\n",
      "Requirement already satisfied: tzdata>=2022.7 in c:\\users\\gc\\.conda\\envs\\youtube_analytics\\lib\\site-packages (from pandas!=2.1.0,>=1.4->statsmodels) (2025.2)\n",
      "Requirement already satisfied: six>=1.5 in c:\\users\\gc\\.conda\\envs\\youtube_analytics\\lib\\site-packages (from python-dateutil>=2.8.2->pandas!=2.1.0,>=1.4->statsmodels) (1.17.0)\n"
     ]
    }
   ],
   "source": [
    "%pip install statsmodels"
   ]
  },
  {
   "cell_type": "code",
   "execution_count": 20,
   "id": "6dcd5b9c",
   "metadata": {},
   "outputs": [
    {
     "data": {
      "application/vnd.plotly.v1+json": {
       "config": {
        "plotlyServerURL": "https://plot.ly"
       },
       "data": [
        {
         "hovertemplate": "Course ID=COURSE4<br>Time on Video (min)=%{x}<br>Quiz Score=%{y}<extra></extra>",
         "legendgroup": "COURSE4",
         "marker": {
          "color": "#636efa",
          "symbol": "circle"
         },
         "mode": "markers",
         "name": "COURSE4",
         "orientation": "v",
         "showlegend": true,
         "type": "scatter",
         "x": {
          "bdata": "HDkqMREPKRw0LSwwDwsgKDEvMDIOJh8qNx0oHjIfEzowLyweKSYlMSU0KBQPHhcOEiUSKjIxJTM3MiY2Gi0hDxYSODgyOB4vKi4fHzoRNxY7IhERNw8uNBEyFi0cMyEaLzElHyYZExcsOiMyMDUxEBAoMAozLhcWLRokIzUuNCk7KBMKIjkVNxUKFh8sEhksGSgyGiUoJyUYIDgZEzQXNRQuIxEOMx8wMCcSNw00NRIfHg8bIToMOholLw0NJDsXNxwwOyM0DyQcNCk=",
          "dtype": "i1"
         },
         "xaxis": "x",
         "y": {
          "bdata": "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",
          "dtype": "f8"
         },
         "yaxis": "y"
        },
        {
         "hovertemplate": "<b>OLS trendline</b><br>Quiz Score = -0.0746929 * Time on Video (min) + 73.6628<br>R<sup>2</sup>=0.003457<br><br>Course ID=COURSE4<br>Time on Video (min)=%{x}<br>Quiz Score=%{y} <b>(trend)</b><extra></extra>",
         "legendgroup": "COURSE4",
         "marker": {
          "color": "#636efa",
          "symbol": "circle"
         },
         "mode": "lines",
         "name": "COURSE4",
         "showlegend": false,
         "type": "scatter",
         "x": {
          "bdata": "CgoKCwwNDQ0ODg4PDw8PDw8PEBARERERERESEhISEhITExMTFBQVFRYWFhYWFxcXFxcYGRkZGRoaGhoaGxwcHBwcHR4eHh4eHx8fHx8fHx8gICEhISIiIyMjIyQkJCUlJSUlJSUlJiYmJicnKCgoKCgoKCkpKSkqKioqLCwsLCwtLS0tLi4uLi4vLy8vLzAwMDAwMDAwMTExMTExMjIyMjIyMjIzMzMzNDQ0NDQ0NDQ1NTU1Njc3Nzc3Nzc4ODg4OTk6Ojo6Ojs7Ozs=",
          "dtype": "i1"
         },
         "xaxis": "x",
         "y": {
          "bdata": "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",
          "dtype": "f8"
         },
         "yaxis": "y"
        },
        {
         "hovertemplate": "Course ID=COURSE3<br>Time on Video (min)=%{x}<br>Quiz Score=%{y}<extra></extra>",
         "legendgroup": "COURSE3",
         "marker": {
          "color": "#EF553B",
          "symbol": "circle"
         },
         "mode": "markers",
         "name": "COURSE3",
         "orientation": "v",
         "showlegend": true,
         "type": "scatter",
         "x": {
          "bdata": "HhAPFiEpLRQvODUVODYkDiEgIjgiDh4bCygvIiASNTklJS8MMiMmNBwLLBQNFhoWDQolHjcyOjonIBw3MhYgGjUbISwZEw0zIDQxDSUYEyIVMzopLhUjICUsJzIrHBUZFDc3KTAzJQ8qDhI4JyEnLisVKg8tFA0RFRwwIyA5ITQqHwsPKic7KzokGBscESEROS8RDzkLIiEoExMSDxoxJzIMNCAoOTAKJAs3OiAzGhwyDBYqLxAvEDgwFSkPOxMj",
          "dtype": "i1"
         },
         "xaxis": "x",
         "y": {
          "bdata": "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",
          "dtype": "f8"
         },
         "yaxis": "y"
        },
        {
         "hovertemplate": "<b>OLS trendline</b><br>Quiz Score = -0.096753 * Time on Video (min) + 75.0731<br>R<sup>2</sup>=0.005577<br><br>Course ID=COURSE3<br>Time on Video (min)=%{x}<br>Quiz Score=%{y} <b>(trend)</b><extra></extra>",
         "legendgroup": "COURSE3",
         "marker": {
          "color": "#EF553B",
          "symbol": "circle"
         },
         "mode": "lines",
         "name": "COURSE3",
         "showlegend": false,
         "type": "scatter",
         "x": {
          "bdata": "CgoLCwsLCwwMDA0NDQ0NDg4ODw8PDw8PDxAQEBERERESEhITExMTExQUFBQVFRUVFRUVFhYWFhYYGBkZGhoaGhsbGxwcHBwcHB4eHh8gICAgICAgICAhISEhISEhIiIiIiIjIyMjJCQkJSUlJSUlJicnJycnJygoKCkpKSkqKioqKisrKywsLC0tLi4vLy8vLy8wMDAwMTEyMjIyMjIzMzMzNDQ0NDU1NTY3Nzc3Nzg4ODg4OTk5OTk6Ojo6Ojs7",
          "dtype": "i1"
         },
         "xaxis": "x",
         "y": {
          "bdata": "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",
          "dtype": "f8"
         },
         "yaxis": "y"
        },
        {
         "hovertemplate": "Course ID=COURSE5<br>Time on Video (min)=%{x}<br>Quiz Score=%{y}<extra></extra>",
         "legendgroup": "COURSE5",
         "marker": {
          "color": "#00cc96",
          "symbol": "circle"
         },
         "mode": "markers",
         "name": "COURSE5",
         "orientation": "v",
         "showlegend": true,
         "type": "scatter",
         "x": {
          "bdata": "JS02LAo5HjMMMgsyLicSJR4KIg8mEyM3HykqFRwLITsmJisNHTAbDzYbOw01LjkXDxcuES8gNTYWFy4cEh0wNRMpNi8eCiQiLxEYJxgNLi05HDksJCU3MB86JxIeNS8WOSIWGhIjDxYeJTUvMSwPKxI7Dyo2ODUUGx8WGhkaOCMZMjEjLSENIzcwGxMpMC86HREVGzMnMyA1KjApHRcxIgosHRIcMTAsERUQCzcZIxsROjQXEjAjIToOGgoSITgqLBMfDhYaLjUqICYiIDsNIw0W",
          "dtype": "i1"
         },
         "xaxis": "x",
         "y": {
          "bdata": "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",
          "dtype": "f8"
         },
         "yaxis": "y"
        },
        {
         "hovertemplate": "<b>OLS trendline</b><br>Quiz Score = -0.0878312 * Time on Video (min) + 69.7478<br>R<sup>2</sup>=0.004143<br><br>Course ID=COURSE5<br>Time on Video (min)=%{x}<br>Quiz Score=%{y} <b>(trend)</b><extra></extra>",
         "legendgroup": "COURSE5",
         "marker": {
          "color": "#00cc96",
          "symbol": "circle"
         },
         "mode": "lines",
         "name": "COURSE5",
         "showlegend": false,
         "type": "scatter",
         "x": {
          "bdata": "CgoKCgoLCwsMDQ0NDQ0NDg4PDw8PDw8QERERERESEhISEhISEhMTExMUFRUVFhYWFhYWFhcXFxcXGBgZGRkaGhoaGhsbGxsbGxwcHBwdHR0dHR4eHh4eHx8fHyAgICAhISEhIiIiIiIjIyMjIyMjIyQkJSUlJSYmJiYnJycnKSkpKSoqKioqKyssLCwsLCwtLS0uLi4uLi4vLy8vLy8wMDAwMDAwMDExMTEyMjIzMzM0NTU1NTU1NTU2NjY2Njc3Nzc4ODg5OTk5OTo6Ojo7Ozs7",
          "dtype": "i1"
         },
         "xaxis": "x",
         "y": {
          "bdata": "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",
          "dtype": "f8"
         },
         "yaxis": "y"
        },
        {
         "hovertemplate": "Course ID=COURSE2<br>Time on Video (min)=%{x}<br>Quiz Score=%{y}<extra></extra>",
         "legendgroup": "COURSE2",
         "marker": {
          "color": "#ab63fa",
          "symbol": "circle"
         },
         "mode": "markers",
         "name": "COURSE2",
         "orientation": "v",
         "showlegend": true,
         "type": "scatter",
         "x": {
          "bdata": "HSUqNgoRGg4dFxYxKw0UJgwbJzQ6EDA1OjcRDzgrDDYOCxQ6MxkVNCoVMAs3Hx46OSsZDB8hNSAXGis6OzIfNAsnFCYyIR0lISYxHjQdNjEOETk2FjE0LichFS0XHTgSLDUMGTggHRISGjkmFhsXIhgqDTAuEh4oKxoPNigrDC83DxMdNDohDzc5DRU0FyElIjctGxQKHRwfCi4TOTMeGRwSLC8hNBQnGhYcHzYWGycmIi0LKDUvESc7OR0iIws=",
          "dtype": "i1"
         },
         "xaxis": "x",
         "y": {
          "bdata": "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",
          "dtype": "f8"
         },
         "yaxis": "y"
        },
        {
         "hovertemplate": "<b>OLS trendline</b><br>Quiz Score = 0.0490524 * Time on Video (min) + 67.0542<br>R<sup>2</sup>=0.001577<br><br>Course ID=COURSE2<br>Time on Video (min)=%{x}<br>Quiz Score=%{y} <b>(trend)</b><extra></extra>",
         "legendgroup": "COURSE2",
         "marker": {
          "color": "#ab63fa",
          "symbol": "circle"
         },
         "mode": "lines",
         "name": "COURSE2",
         "showlegend": false,
         "type": "scatter",
         "x": {
          "bdata": "CgoKCwsLCwsMDAwMDA0NDQ4ODg8PDw8QERERERISEhISExMUFBQUFBUVFRUWFhYWFhcXFxcXGBkZGRkaGhoaGhsbGxscHBwdHR0dHR0dHR0eHh4eHx8fHx8gICEhISEhISEiIiIiIyUlJSYmJiYmJycnJycnKCgoKioqKysrKysrLCwtLS0uLi4vLy8wMDAxMTExMjIzMzQ0NDQ0NDQ0NTU1NTY2NjY2Njc3Nzc3ODg4OTk5OTk5Ojo6Ojo6Ozs=",
          "dtype": "i1"
         },
         "xaxis": "x",
         "y": {
          "bdata": "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",
          "dtype": "f8"
         },
         "yaxis": "y"
        },
        {
         "hovertemplate": "Course ID=COURSE1<br>Time on Video (min)=%{x}<br>Quiz Score=%{y}<extra></extra>",
         "legendgroup": "COURSE1",
         "marker": {
          "color": "#FFA15A",
          "symbol": "circle"
         },
         "mode": "markers",
         "name": "COURSE1",
         "orientation": "v",
         "showlegend": true,
         "type": "scatter",
         "x": {
          "bdata": "NhUgEBIZIRMZERQhIBQ2OS0ULDghITIMMiQVICYYGDMnFCEyEC07MhElDig0Dx81DRIXHRoiKiMsOSAkLi0yJToVIyMfDQ8KDgsKOzccNCErMykfOScpEQ0MExk2Hw8PMxMTIw4NMCkQMicZNDUtKxsNLTgXIRkPCyEnFSwPHhslMjobMQwzLQ4rJQ8dKDcrLzAUOg8mHDspGxUqFDAkJB86NRUtEiExLRgiGRQ2GjchMiMcEDMoHCMSMikkOBkfFjQ5LAsvER85GRUY",
          "dtype": "i1"
         },
         "xaxis": "x",
         "y": {
          "bdata": "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",
          "dtype": "f8"
         },
         "yaxis": "y"
        },
        {
         "hovertemplate": "<b>OLS trendline</b><br>Quiz Score = -0.0216813 * Time on Video (min) + 69.6786<br>R<sup>2</sup>=0.000262<br><br>Course ID=COURSE1<br>Time on Video (min)=%{x}<br>Quiz Score=%{y} <b>(trend)</b><extra></extra>",
         "legendgroup": "COURSE1",
         "marker": {
          "color": "#FFA15A",
          "symbol": "circle"
         },
         "mode": "lines",
         "name": "COURSE1",
         "showlegend": false,
         "type": "scatter",
         "x": {
          "bdata": "CgoLCwsMDAwNDQ0NDQ4ODg4PDw8PDw8PDxAQEBAREREREhISEhMTExMUFBQUFBQUFRUVFRUVFRYXFxgYGBgZGRkZGRkZGRoaGxsbGxwcHBwdHR4fHx8fHx8fICAgICEhISEhISEhISEiIiMjIyMjIyQkJCQkJSUlJSYmJycnJygoKCkpKSkpKiorKysrLCwsLC0tLS0tLS0tLi8vMDAwMTEyMjIyMjIyMjIzMzMzMzQ0NDQ1NTU2NjY2Nzc3ODg4OTk5OTk6Ojo6Ozs7",
          "dtype": "i1"
         },
         "xaxis": "x",
         "y": {
          "bdata": "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",
          "dtype": "f8"
         },
         "yaxis": "y"
        }
       ],
       "layout": {
        "legend": {
         "title": {
          "text": "Course ID"
         },
         "tracegroupgap": 0
        },
        "template": {
         "data": {
          "bar": [
           {
            "error_x": {
             "color": "#2a3f5f"
            },
            "error_y": {
             "color": "#2a3f5f"
            },
            "marker": {
             "line": {
              "color": "#E5ECF6",
              "width": 0.5
             },
             "pattern": {
              "fillmode": "overlay",
              "size": 10,
              "solidity": 0.2
             }
            },
            "type": "bar"
           }
          ],
          "barpolar": [
           {
            "marker": {
             "line": {
              "color": "#E5ECF6",
              "width": 0.5
             },
             "pattern": {
              "fillmode": "overlay",
              "size": 10,
              "solidity": 0.2
             }
            },
            "type": "barpolar"
           }
          ],
          "carpet": [
           {
            "aaxis": {
             "endlinecolor": "#2a3f5f",
             "gridcolor": "white",
             "linecolor": "white",
             "minorgridcolor": "white",
             "startlinecolor": "#2a3f5f"
            },
            "baxis": {
             "endlinecolor": "#2a3f5f",
             "gridcolor": "white",
             "linecolor": "white",
             "minorgridcolor": "white",
             "startlinecolor": "#2a3f5f"
            },
            "type": "carpet"
           }
          ],
          "choropleth": [
           {
            "colorbar": {
             "outlinewidth": 0,
             "ticks": ""
            },
            "type": "choropleth"
           }
          ],
          "contour": [
           {
            "colorbar": {
             "outlinewidth": 0,
             "ticks": ""
            },
            "colorscale": [
             [
              0,
              "#0d0887"
             ],
             [
              0.1111111111111111,
              "#46039f"
             ],
             [
              0.2222222222222222,
              "#7201a8"
             ],
             [
              0.3333333333333333,
              "#9c179e"
             ],
             [
              0.4444444444444444,
              "#bd3786"
             ],
             [
              0.5555555555555556,
              "#d8576b"
             ],
             [
              0.6666666666666666,
              "#ed7953"
             ],
             [
              0.7777777777777778,
              "#fb9f3a"
             ],
             [
              0.8888888888888888,
              "#fdca26"
             ],
             [
              1,
              "#f0f921"
             ]
            ],
            "type": "contour"
           }
          ],
          "contourcarpet": [
           {
            "colorbar": {
             "outlinewidth": 0,
             "ticks": ""
            },
            "type": "contourcarpet"
           }
          ],
          "heatmap": [
           {
            "colorbar": {
             "outlinewidth": 0,
             "ticks": ""
            },
            "colorscale": [
             [
              0,
              "#0d0887"
             ],
             [
              0.1111111111111111,
              "#46039f"
             ],
             [
              0.2222222222222222,
              "#7201a8"
             ],
             [
              0.3333333333333333,
              "#9c179e"
             ],
             [
              0.4444444444444444,
              "#bd3786"
             ],
             [
              0.5555555555555556,
              "#d8576b"
             ],
             [
              0.6666666666666666,
              "#ed7953"
             ],
             [
              0.7777777777777778,
              "#fb9f3a"
             ],
             [
              0.8888888888888888,
              "#fdca26"
             ],
             [
              1,
              "#f0f921"
             ]
            ],
            "type": "heatmap"
           }
          ],
          "histogram": [
           {
            "marker": {
             "pattern": {
              "fillmode": "overlay",
              "size": 10,
              "solidity": 0.2
             }
            },
            "type": "histogram"
           }
          ],
          "histogram2d": [
           {
            "colorbar": {
             "outlinewidth": 0,
             "ticks": ""
            },
            "colorscale": [
             [
              0,
              "#0d0887"
             ],
             [
              0.1111111111111111,
              "#46039f"
             ],
             [
              0.2222222222222222,
              "#7201a8"
             ],
             [
              0.3333333333333333,
              "#9c179e"
             ],
             [
              0.4444444444444444,
              "#bd3786"
             ],
             [
              0.5555555555555556,
              "#d8576b"
             ],
             [
              0.6666666666666666,
              "#ed7953"
             ],
             [
              0.7777777777777778,
              "#fb9f3a"
             ],
             [
              0.8888888888888888,
              "#fdca26"
             ],
             [
              1,
              "#f0f921"
             ]
            ],
            "type": "histogram2d"
           }
          ],
          "histogram2dcontour": [
           {
            "colorbar": {
             "outlinewidth": 0,
             "ticks": ""
            },
            "colorscale": [
             [
              0,
              "#0d0887"
             ],
             [
              0.1111111111111111,
              "#46039f"
             ],
             [
              0.2222222222222222,
              "#7201a8"
             ],
             [
              0.3333333333333333,
              "#9c179e"
             ],
             [
              0.4444444444444444,
              "#bd3786"
             ],
             [
              0.5555555555555556,
              "#d8576b"
             ],
             [
              0.6666666666666666,
              "#ed7953"
             ],
             [
              0.7777777777777778,
              "#fb9f3a"
             ],
             [
              0.8888888888888888,
              "#fdca26"
             ],
             [
              1,
              "#f0f921"
             ]
            ],
            "type": "histogram2dcontour"
           }
          ],
          "mesh3d": [
           {
            "colorbar": {
             "outlinewidth": 0,
             "ticks": ""
            },
            "type": "mesh3d"
           }
          ],
          "parcoords": [
           {
            "line": {
             "colorbar": {
              "outlinewidth": 0,
              "ticks": ""
             }
            },
            "type": "parcoords"
           }
          ],
          "pie": [
           {
            "automargin": true,
            "type": "pie"
           }
          ],
          "scatter": [
           {
            "fillpattern": {
             "fillmode": "overlay",
             "size": 10,
             "solidity": 0.2
            },
            "type": "scatter"
           }
          ],
          "scatter3d": [
           {
            "line": {
             "colorbar": {
              "outlinewidth": 0,
              "ticks": ""
             }
            },
            "marker": {
             "colorbar": {
              "outlinewidth": 0,
              "ticks": ""
             }
            },
            "type": "scatter3d"
           }
          ],
          "scattercarpet": [
           {
            "marker": {
             "colorbar": {
              "outlinewidth": 0,
              "ticks": ""
             }
            },
            "type": "scattercarpet"
           }
          ],
          "scattergeo": [
           {
            "marker": {
             "colorbar": {
              "outlinewidth": 0,
              "ticks": ""
             }
            },
            "type": "scattergeo"
           }
          ],
          "scattergl": [
           {
            "marker": {
             "colorbar": {
              "outlinewidth": 0,
              "ticks": ""
             }
            },
            "type": "scattergl"
           }
          ],
          "scattermap": [
           {
            "marker": {
             "colorbar": {
              "outlinewidth": 0,
              "ticks": ""
             }
            },
            "type": "scattermap"
           }
          ],
          "scattermapbox": [
           {
            "marker": {
             "colorbar": {
              "outlinewidth": 0,
              "ticks": ""
             }
            },
            "type": "scattermapbox"
           }
          ],
          "scatterpolar": [
           {
            "marker": {
             "colorbar": {
              "outlinewidth": 0,
              "ticks": ""
             }
            },
            "type": "scatterpolar"
           }
          ],
          "scatterpolargl": [
           {
            "marker": {
             "colorbar": {
              "outlinewidth": 0,
              "ticks": ""
             }
            },
            "type": "scatterpolargl"
           }
          ],
          "scatterternary": [
           {
            "marker": {
             "colorbar": {
              "outlinewidth": 0,
              "ticks": ""
             }
            },
            "type": "scatterternary"
           }
          ],
          "surface": [
           {
            "colorbar": {
             "outlinewidth": 0,
             "ticks": ""
            },
            "colorscale": [
             [
              0,
              "#0d0887"
             ],
             [
              0.1111111111111111,
              "#46039f"
             ],
             [
              0.2222222222222222,
              "#7201a8"
             ],
             [
              0.3333333333333333,
              "#9c179e"
             ],
             [
              0.4444444444444444,
              "#bd3786"
             ],
             [
              0.5555555555555556,
              "#d8576b"
             ],
             [
              0.6666666666666666,
              "#ed7953"
             ],
             [
              0.7777777777777778,
              "#fb9f3a"
             ],
             [
              0.8888888888888888,
              "#fdca26"
             ],
             [
              1,
              "#f0f921"
             ]
            ],
            "type": "surface"
           }
          ],
          "table": [
           {
            "cells": {
             "fill": {
              "color": "#EBF0F8"
             },
             "line": {
              "color": "white"
             }
            },
            "header": {
             "fill": {
              "color": "#C8D4E3"
             },
             "line": {
              "color": "white"
             }
            },
            "type": "table"
           }
          ]
         },
         "layout": {
          "annotationdefaults": {
           "arrowcolor": "#2a3f5f",
           "arrowhead": 0,
           "arrowwidth": 1
          },
          "autotypenumbers": "strict",
          "coloraxis": {
           "colorbar": {
            "outlinewidth": 0,
            "ticks": ""
           }
          },
          "colorscale": {
           "diverging": [
            [
             0,
             "#8e0152"
            ],
            [
             0.1,
             "#c51b7d"
            ],
            [
             0.2,
             "#de77ae"
            ],
            [
             0.3,
             "#f1b6da"
            ],
            [
             0.4,
             "#fde0ef"
            ],
            [
             0.5,
             "#f7f7f7"
            ],
            [
             0.6,
             "#e6f5d0"
            ],
            [
             0.7,
             "#b8e186"
            ],
            [
             0.8,
             "#7fbc41"
            ],
            [
             0.9,
             "#4d9221"
            ],
            [
             1,
             "#276419"
            ]
           ],
           "sequential": [
            [
             0,
             "#0d0887"
            ],
            [
             0.1111111111111111,
             "#46039f"
            ],
            [
             0.2222222222222222,
             "#7201a8"
            ],
            [
             0.3333333333333333,
             "#9c179e"
            ],
            [
             0.4444444444444444,
             "#bd3786"
            ],
            [
             0.5555555555555556,
             "#d8576b"
            ],
            [
             0.6666666666666666,
             "#ed7953"
            ],
            [
             0.7777777777777778,
             "#fb9f3a"
            ],
            [
             0.8888888888888888,
             "#fdca26"
            ],
            [
             1,
             "#f0f921"
            ]
           ],
           "sequentialminus": [
            [
             0,
             "#0d0887"
            ],
            [
             0.1111111111111111,
             "#46039f"
            ],
            [
             0.2222222222222222,
             "#7201a8"
            ],
            [
             0.3333333333333333,
             "#9c179e"
            ],
            [
             0.4444444444444444,
             "#bd3786"
            ],
            [
             0.5555555555555556,
             "#d8576b"
            ],
            [
             0.6666666666666666,
             "#ed7953"
            ],
            [
             0.7777777777777778,
             "#fb9f3a"
            ],
            [
             0.8888888888888888,
             "#fdca26"
            ],
            [
             1,
             "#f0f921"
            ]
           ]
          },
          "colorway": [
           "#636efa",
           "#EF553B",
           "#00cc96",
           "#ab63fa",
           "#FFA15A",
           "#19d3f3",
           "#FF6692",
           "#B6E880",
           "#FF97FF",
           "#FECB52"
          ],
          "font": {
           "color": "#2a3f5f"
          },
          "geo": {
           "bgcolor": "white",
           "lakecolor": "white",
           "landcolor": "#E5ECF6",
           "showlakes": true,
           "showland": true,
           "subunitcolor": "white"
          },
          "hoverlabel": {
           "align": "left"
          },
          "hovermode": "closest",
          "mapbox": {
           "style": "light"
          },
          "paper_bgcolor": "white",
          "plot_bgcolor": "#E5ECF6",
          "polar": {
           "angularaxis": {
            "gridcolor": "white",
            "linecolor": "white",
            "ticks": ""
           },
           "bgcolor": "#E5ECF6",
           "radialaxis": {
            "gridcolor": "white",
            "linecolor": "white",
            "ticks": ""
           }
          },
          "scene": {
           "xaxis": {
            "backgroundcolor": "#E5ECF6",
            "gridcolor": "white",
            "gridwidth": 2,
            "linecolor": "white",
            "showbackground": true,
            "ticks": "",
            "zerolinecolor": "white"
           },
           "yaxis": {
            "backgroundcolor": "#E5ECF6",
            "gridcolor": "white",
            "gridwidth": 2,
            "linecolor": "white",
            "showbackground": true,
            "ticks": "",
            "zerolinecolor": "white"
           },
           "zaxis": {
            "backgroundcolor": "#E5ECF6",
            "gridcolor": "white",
            "gridwidth": 2,
            "linecolor": "white",
            "showbackground": true,
            "ticks": "",
            "zerolinecolor": "white"
           }
          },
          "shapedefaults": {
           "line": {
            "color": "#2a3f5f"
           }
          },
          "ternary": {
           "aaxis": {
            "gridcolor": "white",
            "linecolor": "white",
            "ticks": ""
           },
           "baxis": {
            "gridcolor": "white",
            "linecolor": "white",
            "ticks": ""
           },
           "bgcolor": "#E5ECF6",
           "caxis": {
            "gridcolor": "white",
            "linecolor": "white",
            "ticks": ""
           }
          },
          "title": {
           "x": 0.05
          },
          "xaxis": {
           "automargin": true,
           "gridcolor": "white",
           "linecolor": "white",
           "ticks": "",
           "title": {
            "standoff": 15
           },
           "zerolinecolor": "white",
           "zerolinewidth": 2
          },
          "yaxis": {
           "automargin": true,
           "gridcolor": "white",
           "linecolor": "white",
           "ticks": "",
           "title": {
            "standoff": 15
           },
           "zerolinecolor": "white",
           "zerolinewidth": 2
          }
         }
        },
        "title": {
         "text": "Quiz Score vs Time Spent on Video"
        },
        "xaxis": {
         "anchor": "y",
         "domain": [
          0,
          1
         ],
         "title": {
          "text": "Time on Video (min)"
         }
        },
        "yaxis": {
         "anchor": "x",
         "domain": [
          0,
          1
         ],
         "title": {
          "text": "Quiz Score"
         }
        }
       }
      }
     },
     "metadata": {},
     "output_type": "display_data"
    }
   ],
   "source": [
    "\n",
    "fig3 = px.scatter(\n",
    "    df,\n",
    "    x='Time on Video (min)',\n",
    "    y='Quiz Score',\n",
    "    color='Course ID',\n",
    "    trendline='ols',\n",
    "    title='Quiz Score vs Time Spent on Video'\n",
    ")\n",
    "fig3.show()\n",
    "\n",
    "\n"
   ]
  },
  {
   "cell_type": "markdown",
   "id": "c2269f37",
   "metadata": {},
   "source": [
    "Step 6: Drop-Off Point Analysis"
   ]
  },
  {
   "cell_type": "code",
   "execution_count": 21,
   "id": "da176aaf",
   "metadata": {},
   "outputs": [],
   "source": [
    "drop_summary = df.groupby('Course ID').agg(\n",
    "    Avg_Video_Length=('Time on Video (min)', 'mean'),\n",
    "    Avg_Drop_Off=('Drop-off Timestamp (min)', 'mean')\n",
    ")\n",
    "drop_summary['Avg_Engagement_Rate (%)'] = (drop_summary['Avg_Drop_Off'] / drop_summary['Avg_Video_Length']) * 100\n"
   ]
  },
  {
   "cell_type": "markdown",
   "id": "145aa944",
   "metadata": {},
   "source": [
    "Plot: Engagement Rate by Course"
   ]
  },
  {
   "cell_type": "code",
   "execution_count": 22,
   "id": "980e5f87",
   "metadata": {},
   "outputs": [
    {
     "data": {
      "application/vnd.plotly.v1+json": {
       "config": {
        "plotlyServerURL": "https://plot.ly"
       },
       "data": [
        {
         "hovertemplate": "Course ID=%{x}<br>Avg_Engagement_Rate (%)=%{marker.color}<extra></extra>",
         "legendgroup": "",
         "marker": {
          "color": {
           "bdata": "GAMTB1BZUUCgOHODjn9QQPUlpkdrP1FAXgu5SlJ9UUDRYwwbXy1RQA==",
           "dtype": "f8"
          },
          "coloraxis": "coloraxis",
          "pattern": {
           "shape": ""
          }
         },
         "name": "",
         "orientation": "v",
         "showlegend": false,
         "text": {
          "bdata": "GAMTB1BZUUCgOHODjn9QQPUlpkdrP1FAXgu5SlJ9UUDRYwwbXy1RQA==",
          "dtype": "f8"
         },
         "textposition": "auto",
         "type": "bar",
         "x": [
          "COURSE1",
          "COURSE2",
          "COURSE3",
          "COURSE4",
          "COURSE5"
         ],
         "xaxis": "x",
         "y": {
          "bdata": "GAMTB1BZUUCgOHODjn9QQPUlpkdrP1FAXgu5SlJ9UUDRYwwbXy1RQA==",
          "dtype": "f8"
         },
         "yaxis": "y"
        }
       ],
       "layout": {
        "barmode": "relative",
        "coloraxis": {
         "colorbar": {
          "title": {
           "text": "Avg_Engagement_Rate (%)"
          }
         },
         "colorscale": [
          [
           0,
           "#0d0887"
          ],
          [
           0.1111111111111111,
           "#46039f"
          ],
          [
           0.2222222222222222,
           "#7201a8"
          ],
          [
           0.3333333333333333,
           "#9c179e"
          ],
          [
           0.4444444444444444,
           "#bd3786"
          ],
          [
           0.5555555555555556,
           "#d8576b"
          ],
          [
           0.6666666666666666,
           "#ed7953"
          ],
          [
           0.7777777777777778,
           "#fb9f3a"
          ],
          [
           0.8888888888888888,
           "#fdca26"
          ],
          [
           1,
           "#f0f921"
          ]
         ]
        },
        "legend": {
         "tracegroupgap": 0
        },
        "template": {
         "data": {
          "bar": [
           {
            "error_x": {
             "color": "#2a3f5f"
            },
            "error_y": {
             "color": "#2a3f5f"
            },
            "marker": {
             "line": {
              "color": "#E5ECF6",
              "width": 0.5
             },
             "pattern": {
              "fillmode": "overlay",
              "size": 10,
              "solidity": 0.2
             }
            },
            "type": "bar"
           }
          ],
          "barpolar": [
           {
            "marker": {
             "line": {
              "color": "#E5ECF6",
              "width": 0.5
             },
             "pattern": {
              "fillmode": "overlay",
              "size": 10,
              "solidity": 0.2
             }
            },
            "type": "barpolar"
           }
          ],
          "carpet": [
           {
            "aaxis": {
             "endlinecolor": "#2a3f5f",
             "gridcolor": "white",
             "linecolor": "white",
             "minorgridcolor": "white",
             "startlinecolor": "#2a3f5f"
            },
            "baxis": {
             "endlinecolor": "#2a3f5f",
             "gridcolor": "white",
             "linecolor": "white",
             "minorgridcolor": "white",
             "startlinecolor": "#2a3f5f"
            },
            "type": "carpet"
           }
          ],
          "choropleth": [
           {
            "colorbar": {
             "outlinewidth": 0,
             "ticks": ""
            },
            "type": "choropleth"
           }
          ],
          "contour": [
           {
            "colorbar": {
             "outlinewidth": 0,
             "ticks": ""
            },
            "colorscale": [
             [
              0,
              "#0d0887"
             ],
             [
              0.1111111111111111,
              "#46039f"
             ],
             [
              0.2222222222222222,
              "#7201a8"
             ],
             [
              0.3333333333333333,
              "#9c179e"
             ],
             [
              0.4444444444444444,
              "#bd3786"
             ],
             [
              0.5555555555555556,
              "#d8576b"
             ],
             [
              0.6666666666666666,
              "#ed7953"
             ],
             [
              0.7777777777777778,
              "#fb9f3a"
             ],
             [
              0.8888888888888888,
              "#fdca26"
             ],
             [
              1,
              "#f0f921"
             ]
            ],
            "type": "contour"
           }
          ],
          "contourcarpet": [
           {
            "colorbar": {
             "outlinewidth": 0,
             "ticks": ""
            },
            "type": "contourcarpet"
           }
          ],
          "heatmap": [
           {
            "colorbar": {
             "outlinewidth": 0,
             "ticks": ""
            },
            "colorscale": [
             [
              0,
              "#0d0887"
             ],
             [
              0.1111111111111111,
              "#46039f"
             ],
             [
              0.2222222222222222,
              "#7201a8"
             ],
             [
              0.3333333333333333,
              "#9c179e"
             ],
             [
              0.4444444444444444,
              "#bd3786"
             ],
             [
              0.5555555555555556,
              "#d8576b"
             ],
             [
              0.6666666666666666,
              "#ed7953"
             ],
             [
              0.7777777777777778,
              "#fb9f3a"
             ],
             [
              0.8888888888888888,
              "#fdca26"
             ],
             [
              1,
              "#f0f921"
             ]
            ],
            "type": "heatmap"
           }
          ],
          "histogram": [
           {
            "marker": {
             "pattern": {
              "fillmode": "overlay",
              "size": 10,
              "solidity": 0.2
             }
            },
            "type": "histogram"
           }
          ],
          "histogram2d": [
           {
            "colorbar": {
             "outlinewidth": 0,
             "ticks": ""
            },
            "colorscale": [
             [
              0,
              "#0d0887"
             ],
             [
              0.1111111111111111,
              "#46039f"
             ],
             [
              0.2222222222222222,
              "#7201a8"
             ],
             [
              0.3333333333333333,
              "#9c179e"
             ],
             [
              0.4444444444444444,
              "#bd3786"
             ],
             [
              0.5555555555555556,
              "#d8576b"
             ],
             [
              0.6666666666666666,
              "#ed7953"
             ],
             [
              0.7777777777777778,
              "#fb9f3a"
             ],
             [
              0.8888888888888888,
              "#fdca26"
             ],
             [
              1,
              "#f0f921"
             ]
            ],
            "type": "histogram2d"
           }
          ],
          "histogram2dcontour": [
           {
            "colorbar": {
             "outlinewidth": 0,
             "ticks": ""
            },
            "colorscale": [
             [
              0,
              "#0d0887"
             ],
             [
              0.1111111111111111,
              "#46039f"
             ],
             [
              0.2222222222222222,
              "#7201a8"
             ],
             [
              0.3333333333333333,
              "#9c179e"
             ],
             [
              0.4444444444444444,
              "#bd3786"
             ],
             [
              0.5555555555555556,
              "#d8576b"
             ],
             [
              0.6666666666666666,
              "#ed7953"
             ],
             [
              0.7777777777777778,
              "#fb9f3a"
             ],
             [
              0.8888888888888888,
              "#fdca26"
             ],
             [
              1,
              "#f0f921"
             ]
            ],
            "type": "histogram2dcontour"
           }
          ],
          "mesh3d": [
           {
            "colorbar": {
             "outlinewidth": 0,
             "ticks": ""
            },
            "type": "mesh3d"
           }
          ],
          "parcoords": [
           {
            "line": {
             "colorbar": {
              "outlinewidth": 0,
              "ticks": ""
             }
            },
            "type": "parcoords"
           }
          ],
          "pie": [
           {
            "automargin": true,
            "type": "pie"
           }
          ],
          "scatter": [
           {
            "fillpattern": {
             "fillmode": "overlay",
             "size": 10,
             "solidity": 0.2
            },
            "type": "scatter"
           }
          ],
          "scatter3d": [
           {
            "line": {
             "colorbar": {
              "outlinewidth": 0,
              "ticks": ""
             }
            },
            "marker": {
             "colorbar": {
              "outlinewidth": 0,
              "ticks": ""
             }
            },
            "type": "scatter3d"
           }
          ],
          "scattercarpet": [
           {
            "marker": {
             "colorbar": {
              "outlinewidth": 0,
              "ticks": ""
             }
            },
            "type": "scattercarpet"
           }
          ],
          "scattergeo": [
           {
            "marker": {
             "colorbar": {
              "outlinewidth": 0,
              "ticks": ""
             }
            },
            "type": "scattergeo"
           }
          ],
          "scattergl": [
           {
            "marker": {
             "colorbar": {
              "outlinewidth": 0,
              "ticks": ""
             }
            },
            "type": "scattergl"
           }
          ],
          "scattermap": [
           {
            "marker": {
             "colorbar": {
              "outlinewidth": 0,
              "ticks": ""
             }
            },
            "type": "scattermap"
           }
          ],
          "scattermapbox": [
           {
            "marker": {
             "colorbar": {
              "outlinewidth": 0,
              "ticks": ""
             }
            },
            "type": "scattermapbox"
           }
          ],
          "scatterpolar": [
           {
            "marker": {
             "colorbar": {
              "outlinewidth": 0,
              "ticks": ""
             }
            },
            "type": "scatterpolar"
           }
          ],
          "scatterpolargl": [
           {
            "marker": {
             "colorbar": {
              "outlinewidth": 0,
              "ticks": ""
             }
            },
            "type": "scatterpolargl"
           }
          ],
          "scatterternary": [
           {
            "marker": {
             "colorbar": {
              "outlinewidth": 0,
              "ticks": ""
             }
            },
            "type": "scatterternary"
           }
          ],
          "surface": [
           {
            "colorbar": {
             "outlinewidth": 0,
             "ticks": ""
            },
            "colorscale": [
             [
              0,
              "#0d0887"
             ],
             [
              0.1111111111111111,
              "#46039f"
             ],
             [
              0.2222222222222222,
              "#7201a8"
             ],
             [
              0.3333333333333333,
              "#9c179e"
             ],
             [
              0.4444444444444444,
              "#bd3786"
             ],
             [
              0.5555555555555556,
              "#d8576b"
             ],
             [
              0.6666666666666666,
              "#ed7953"
             ],
             [
              0.7777777777777778,
              "#fb9f3a"
             ],
             [
              0.8888888888888888,
              "#fdca26"
             ],
             [
              1,
              "#f0f921"
             ]
            ],
            "type": "surface"
           }
          ],
          "table": [
           {
            "cells": {
             "fill": {
              "color": "#EBF0F8"
             },
             "line": {
              "color": "white"
             }
            },
            "header": {
             "fill": {
              "color": "#C8D4E3"
             },
             "line": {
              "color": "white"
             }
            },
            "type": "table"
           }
          ]
         },
         "layout": {
          "annotationdefaults": {
           "arrowcolor": "#2a3f5f",
           "arrowhead": 0,
           "arrowwidth": 1
          },
          "autotypenumbers": "strict",
          "coloraxis": {
           "colorbar": {
            "outlinewidth": 0,
            "ticks": ""
           }
          },
          "colorscale": {
           "diverging": [
            [
             0,
             "#8e0152"
            ],
            [
             0.1,
             "#c51b7d"
            ],
            [
             0.2,
             "#de77ae"
            ],
            [
             0.3,
             "#f1b6da"
            ],
            [
             0.4,
             "#fde0ef"
            ],
            [
             0.5,
             "#f7f7f7"
            ],
            [
             0.6,
             "#e6f5d0"
            ],
            [
             0.7,
             "#b8e186"
            ],
            [
             0.8,
             "#7fbc41"
            ],
            [
             0.9,
             "#4d9221"
            ],
            [
             1,
             "#276419"
            ]
           ],
           "sequential": [
            [
             0,
             "#0d0887"
            ],
            [
             0.1111111111111111,
             "#46039f"
            ],
            [
             0.2222222222222222,
             "#7201a8"
            ],
            [
             0.3333333333333333,
             "#9c179e"
            ],
            [
             0.4444444444444444,
             "#bd3786"
            ],
            [
             0.5555555555555556,
             "#d8576b"
            ],
            [
             0.6666666666666666,
             "#ed7953"
            ],
            [
             0.7777777777777778,
             "#fb9f3a"
            ],
            [
             0.8888888888888888,
             "#fdca26"
            ],
            [
             1,
             "#f0f921"
            ]
           ],
           "sequentialminus": [
            [
             0,
             "#0d0887"
            ],
            [
             0.1111111111111111,
             "#46039f"
            ],
            [
             0.2222222222222222,
             "#7201a8"
            ],
            [
             0.3333333333333333,
             "#9c179e"
            ],
            [
             0.4444444444444444,
             "#bd3786"
            ],
            [
             0.5555555555555556,
             "#d8576b"
            ],
            [
             0.6666666666666666,
             "#ed7953"
            ],
            [
             0.7777777777777778,
             "#fb9f3a"
            ],
            [
             0.8888888888888888,
             "#fdca26"
            ],
            [
             1,
             "#f0f921"
            ]
           ]
          },
          "colorway": [
           "#636efa",
           "#EF553B",
           "#00cc96",
           "#ab63fa",
           "#FFA15A",
           "#19d3f3",
           "#FF6692",
           "#B6E880",
           "#FF97FF",
           "#FECB52"
          ],
          "font": {
           "color": "#2a3f5f"
          },
          "geo": {
           "bgcolor": "white",
           "lakecolor": "white",
           "landcolor": "#E5ECF6",
           "showlakes": true,
           "showland": true,
           "subunitcolor": "white"
          },
          "hoverlabel": {
           "align": "left"
          },
          "hovermode": "closest",
          "mapbox": {
           "style": "light"
          },
          "paper_bgcolor": "white",
          "plot_bgcolor": "#E5ECF6",
          "polar": {
           "angularaxis": {
            "gridcolor": "white",
            "linecolor": "white",
            "ticks": ""
           },
           "bgcolor": "#E5ECF6",
           "radialaxis": {
            "gridcolor": "white",
            "linecolor": "white",
            "ticks": ""
           }
          },
          "scene": {
           "xaxis": {
            "backgroundcolor": "#E5ECF6",
            "gridcolor": "white",
            "gridwidth": 2,
            "linecolor": "white",
            "showbackground": true,
            "ticks": "",
            "zerolinecolor": "white"
           },
           "yaxis": {
            "backgroundcolor": "#E5ECF6",
            "gridcolor": "white",
            "gridwidth": 2,
            "linecolor": "white",
            "showbackground": true,
            "ticks": "",
            "zerolinecolor": "white"
           },
           "zaxis": {
            "backgroundcolor": "#E5ECF6",
            "gridcolor": "white",
            "gridwidth": 2,
            "linecolor": "white",
            "showbackground": true,
            "ticks": "",
            "zerolinecolor": "white"
           }
          },
          "shapedefaults": {
           "line": {
            "color": "#2a3f5f"
           }
          },
          "ternary": {
           "aaxis": {
            "gridcolor": "white",
            "linecolor": "white",
            "ticks": ""
           },
           "baxis": {
            "gridcolor": "white",
            "linecolor": "white",
            "ticks": ""
           },
           "bgcolor": "#E5ECF6",
           "caxis": {
            "gridcolor": "white",
            "linecolor": "white",
            "ticks": ""
           }
          },
          "title": {
           "x": 0.05
          },
          "xaxis": {
           "automargin": true,
           "gridcolor": "white",
           "linecolor": "white",
           "ticks": "",
           "title": {
            "standoff": 15
           },
           "zerolinecolor": "white",
           "zerolinewidth": 2
          },
          "yaxis": {
           "automargin": true,
           "gridcolor": "white",
           "linecolor": "white",
           "ticks": "",
           "title": {
            "standoff": 15
           },
           "zerolinecolor": "white",
           "zerolinewidth": 2
          }
         }
        },
        "title": {
         "text": "Average Engagement (Drop-off Point) by Course"
        },
        "xaxis": {
         "anchor": "y",
         "domain": [
          0,
          1
         ],
         "title": {
          "text": "Course ID"
         }
        },
        "yaxis": {
         "anchor": "x",
         "domain": [
          0,
          1
         ],
         "title": {
          "text": "Avg_Engagement_Rate (%)"
         }
        }
       }
      }
     },
     "metadata": {},
     "output_type": "display_data"
    }
   ],
   "source": [
    "fig4 = px.bar(\n",
    "    drop_summary.reset_index(),\n",
    "    x='Course ID',\n",
    "    y='Avg_Engagement_Rate (%)',\n",
    "    title='Average Engagement (Drop-off Point) by Course',\n",
    "    text='Avg_Engagement_Rate (%)',\n",
    "    color='Avg_Engagement_Rate (%)'\n",
    ")\n",
    "fig4.show()\n"
   ]
  },
  {
   "cell_type": "markdown",
   "id": "2382b74b",
   "metadata": {},
   "source": [
    "Step 7: Drop-off Heatmap (optional advanced plot)"
   ]
  },
  {
   "cell_type": "code",
   "execution_count": 23,
   "id": "d2b6b2b5",
   "metadata": {},
   "outputs": [
    {
     "name": "stderr",
     "output_type": "stream",
     "text": [
      "C:\\Users\\GC\\AppData\\Local\\Temp\\ipykernel_4944\\1073010636.py:4: FutureWarning:\n",
      "\n",
      "The default of observed=False is deprecated and will be changed to True in a future version of pandas. Pass observed=False to retain current behavior or observed=True to adopt the future default and silence this warning.\n",
      "\n"
     ]
    },
    {
     "data": {
      "application/vnd.plotly.v1+json": {
       "config": {
        "plotlyServerURL": "https://plot.ly"
       },
       "data": [
        {
         "coloraxis": "coloraxis",
         "histfunc": "sum",
         "hovertemplate": "Drop Bin=%{x}<br>Course ID=%{y}<br>sum of Count=%{z}<extra></extra>",
         "name": "",
         "type": "histogram2d",
         "x": [
          "(-0.058, 5.8]",
          "(5.8, 11.6]",
          "(11.6, 17.4]",
          "(17.4, 23.2]",
          "(23.2, 29.0]",
          "(29.0, 34.8]",
          "(34.8, 40.6]",
          "(40.6, 46.4]",
          "(46.4, 52.2]",
          "(52.2, 58.0]",
          "(-0.058, 5.8]",
          "(5.8, 11.6]",
          "(11.6, 17.4]",
          "(17.4, 23.2]",
          "(23.2, 29.0]",
          "(29.0, 34.8]",
          "(34.8, 40.6]",
          "(40.6, 46.4]",
          "(46.4, 52.2]",
          "(52.2, 58.0]",
          "(-0.058, 5.8]",
          "(5.8, 11.6]",
          "(11.6, 17.4]",
          "(17.4, 23.2]",
          "(23.2, 29.0]",
          "(29.0, 34.8]",
          "(34.8, 40.6]",
          "(40.6, 46.4]",
          "(46.4, 52.2]",
          "(52.2, 58.0]",
          "(-0.058, 5.8]",
          "(5.8, 11.6]",
          "(11.6, 17.4]",
          "(17.4, 23.2]",
          "(23.2, 29.0]",
          "(29.0, 34.8]",
          "(34.8, 40.6]",
          "(40.6, 46.4]",
          "(46.4, 52.2]",
          "(52.2, 58.0]",
          "(-0.058, 5.8]",
          "(5.8, 11.6]",
          "(11.6, 17.4]",
          "(17.4, 23.2]",
          "(23.2, 29.0]",
          "(29.0, 34.8]",
          "(34.8, 40.6]",
          "(40.6, 46.4]",
          "(46.4, 52.2]",
          "(52.2, 58.0]"
         ],
         "xaxis": "x",
         "xbingroup": "x",
         "y": [
          "COURSE1",
          "COURSE1",
          "COURSE1",
          "COURSE1",
          "COURSE1",
          "COURSE1",
          "COURSE1",
          "COURSE1",
          "COURSE1",
          "COURSE1",
          "COURSE2",
          "COURSE2",
          "COURSE2",
          "COURSE2",
          "COURSE2",
          "COURSE2",
          "COURSE2",
          "COURSE2",
          "COURSE2",
          "COURSE2",
          "COURSE3",
          "COURSE3",
          "COURSE3",
          "COURSE3",
          "COURSE3",
          "COURSE3",
          "COURSE3",
          "COURSE3",
          "COURSE3",
          "COURSE3",
          "COURSE4",
          "COURSE4",
          "COURSE4",
          "COURSE4",
          "COURSE4",
          "COURSE4",
          "COURSE4",
          "COURSE4",
          "COURSE4",
          "COURSE4",
          "COURSE5",
          "COURSE5",
          "COURSE5",
          "COURSE5",
          "COURSE5",
          "COURSE5",
          "COURSE5",
          "COURSE5",
          "COURSE5",
          "COURSE5"
         ],
         "yaxis": "y",
         "ybingroup": "y",
         "z": {
          "bdata": "DBMpIiAdEggIAxIcFSUdFQ8KCQMNGyEZGx4QCwgCBhspHBYdFgcQBQ0bJhsjFxUMBgg=",
          "dtype": "i1"
         }
        }
       ],
       "layout": {
        "coloraxis": {
         "colorbar": {
          "title": {
           "text": "sum of Count"
          }
         },
         "colorscale": [
          [
           0,
           "#440154"
          ],
          [
           0.1111111111111111,
           "#482878"
          ],
          [
           0.2222222222222222,
           "#3e4989"
          ],
          [
           0.3333333333333333,
           "#31688e"
          ],
          [
           0.4444444444444444,
           "#26828e"
          ],
          [
           0.5555555555555556,
           "#1f9e89"
          ],
          [
           0.6666666666666666,
           "#35b779"
          ],
          [
           0.7777777777777778,
           "#6ece58"
          ],
          [
           0.8888888888888888,
           "#b5de2b"
          ],
          [
           1,
           "#fde725"
          ]
         ]
        },
        "legend": {
         "tracegroupgap": 0
        },
        "template": {
         "data": {
          "bar": [
           {
            "error_x": {
             "color": "#2a3f5f"
            },
            "error_y": {
             "color": "#2a3f5f"
            },
            "marker": {
             "line": {
              "color": "#E5ECF6",
              "width": 0.5
             },
             "pattern": {
              "fillmode": "overlay",
              "size": 10,
              "solidity": 0.2
             }
            },
            "type": "bar"
           }
          ],
          "barpolar": [
           {
            "marker": {
             "line": {
              "color": "#E5ECF6",
              "width": 0.5
             },
             "pattern": {
              "fillmode": "overlay",
              "size": 10,
              "solidity": 0.2
             }
            },
            "type": "barpolar"
           }
          ],
          "carpet": [
           {
            "aaxis": {
             "endlinecolor": "#2a3f5f",
             "gridcolor": "white",
             "linecolor": "white",
             "minorgridcolor": "white",
             "startlinecolor": "#2a3f5f"
            },
            "baxis": {
             "endlinecolor": "#2a3f5f",
             "gridcolor": "white",
             "linecolor": "white",
             "minorgridcolor": "white",
             "startlinecolor": "#2a3f5f"
            },
            "type": "carpet"
           }
          ],
          "choropleth": [
           {
            "colorbar": {
             "outlinewidth": 0,
             "ticks": ""
            },
            "type": "choropleth"
           }
          ],
          "contour": [
           {
            "colorbar": {
             "outlinewidth": 0,
             "ticks": ""
            },
            "colorscale": [
             [
              0,
              "#0d0887"
             ],
             [
              0.1111111111111111,
              "#46039f"
             ],
             [
              0.2222222222222222,
              "#7201a8"
             ],
             [
              0.3333333333333333,
              "#9c179e"
             ],
             [
              0.4444444444444444,
              "#bd3786"
             ],
             [
              0.5555555555555556,
              "#d8576b"
             ],
             [
              0.6666666666666666,
              "#ed7953"
             ],
             [
              0.7777777777777778,
              "#fb9f3a"
             ],
             [
              0.8888888888888888,
              "#fdca26"
             ],
             [
              1,
              "#f0f921"
             ]
            ],
            "type": "contour"
           }
          ],
          "contourcarpet": [
           {
            "colorbar": {
             "outlinewidth": 0,
             "ticks": ""
            },
            "type": "contourcarpet"
           }
          ],
          "heatmap": [
           {
            "colorbar": {
             "outlinewidth": 0,
             "ticks": ""
            },
            "colorscale": [
             [
              0,
              "#0d0887"
             ],
             [
              0.1111111111111111,
              "#46039f"
             ],
             [
              0.2222222222222222,
              "#7201a8"
             ],
             [
              0.3333333333333333,
              "#9c179e"
             ],
             [
              0.4444444444444444,
              "#bd3786"
             ],
             [
              0.5555555555555556,
              "#d8576b"
             ],
             [
              0.6666666666666666,
              "#ed7953"
             ],
             [
              0.7777777777777778,
              "#fb9f3a"
             ],
             [
              0.8888888888888888,
              "#fdca26"
             ],
             [
              1,
              "#f0f921"
             ]
            ],
            "type": "heatmap"
           }
          ],
          "histogram": [
           {
            "marker": {
             "pattern": {
              "fillmode": "overlay",
              "size": 10,
              "solidity": 0.2
             }
            },
            "type": "histogram"
           }
          ],
          "histogram2d": [
           {
            "colorbar": {
             "outlinewidth": 0,
             "ticks": ""
            },
            "colorscale": [
             [
              0,
              "#0d0887"
             ],
             [
              0.1111111111111111,
              "#46039f"
             ],
             [
              0.2222222222222222,
              "#7201a8"
             ],
             [
              0.3333333333333333,
              "#9c179e"
             ],
             [
              0.4444444444444444,
              "#bd3786"
             ],
             [
              0.5555555555555556,
              "#d8576b"
             ],
             [
              0.6666666666666666,
              "#ed7953"
             ],
             [
              0.7777777777777778,
              "#fb9f3a"
             ],
             [
              0.8888888888888888,
              "#fdca26"
             ],
             [
              1,
              "#f0f921"
             ]
            ],
            "type": "histogram2d"
           }
          ],
          "histogram2dcontour": [
           {
            "colorbar": {
             "outlinewidth": 0,
             "ticks": ""
            },
            "colorscale": [
             [
              0,
              "#0d0887"
             ],
             [
              0.1111111111111111,
              "#46039f"
             ],
             [
              0.2222222222222222,
              "#7201a8"
             ],
             [
              0.3333333333333333,
              "#9c179e"
             ],
             [
              0.4444444444444444,
              "#bd3786"
             ],
             [
              0.5555555555555556,
              "#d8576b"
             ],
             [
              0.6666666666666666,
              "#ed7953"
             ],
             [
              0.7777777777777778,
              "#fb9f3a"
             ],
             [
              0.8888888888888888,
              "#fdca26"
             ],
             [
              1,
              "#f0f921"
             ]
            ],
            "type": "histogram2dcontour"
           }
          ],
          "mesh3d": [
           {
            "colorbar": {
             "outlinewidth": 0,
             "ticks": ""
            },
            "type": "mesh3d"
           }
          ],
          "parcoords": [
           {
            "line": {
             "colorbar": {
              "outlinewidth": 0,
              "ticks": ""
             }
            },
            "type": "parcoords"
           }
          ],
          "pie": [
           {
            "automargin": true,
            "type": "pie"
           }
          ],
          "scatter": [
           {
            "fillpattern": {
             "fillmode": "overlay",
             "size": 10,
             "solidity": 0.2
            },
            "type": "scatter"
           }
          ],
          "scatter3d": [
           {
            "line": {
             "colorbar": {
              "outlinewidth": 0,
              "ticks": ""
             }
            },
            "marker": {
             "colorbar": {
              "outlinewidth": 0,
              "ticks": ""
             }
            },
            "type": "scatter3d"
           }
          ],
          "scattercarpet": [
           {
            "marker": {
             "colorbar": {
              "outlinewidth": 0,
              "ticks": ""
             }
            },
            "type": "scattercarpet"
           }
          ],
          "scattergeo": [
           {
            "marker": {
             "colorbar": {
              "outlinewidth": 0,
              "ticks": ""
             }
            },
            "type": "scattergeo"
           }
          ],
          "scattergl": [
           {
            "marker": {
             "colorbar": {
              "outlinewidth": 0,
              "ticks": ""
             }
            },
            "type": "scattergl"
           }
          ],
          "scattermap": [
           {
            "marker": {
             "colorbar": {
              "outlinewidth": 0,
              "ticks": ""
             }
            },
            "type": "scattermap"
           }
          ],
          "scattermapbox": [
           {
            "marker": {
             "colorbar": {
              "outlinewidth": 0,
              "ticks": ""
             }
            },
            "type": "scattermapbox"
           }
          ],
          "scatterpolar": [
           {
            "marker": {
             "colorbar": {
              "outlinewidth": 0,
              "ticks": ""
             }
            },
            "type": "scatterpolar"
           }
          ],
          "scatterpolargl": [
           {
            "marker": {
             "colorbar": {
              "outlinewidth": 0,
              "ticks": ""
             }
            },
            "type": "scatterpolargl"
           }
          ],
          "scatterternary": [
           {
            "marker": {
             "colorbar": {
              "outlinewidth": 0,
              "ticks": ""
             }
            },
            "type": "scatterternary"
           }
          ],
          "surface": [
           {
            "colorbar": {
             "outlinewidth": 0,
             "ticks": ""
            },
            "colorscale": [
             [
              0,
              "#0d0887"
             ],
             [
              0.1111111111111111,
              "#46039f"
             ],
             [
              0.2222222222222222,
              "#7201a8"
             ],
             [
              0.3333333333333333,
              "#9c179e"
             ],
             [
              0.4444444444444444,
              "#bd3786"
             ],
             [
              0.5555555555555556,
              "#d8576b"
             ],
             [
              0.6666666666666666,
              "#ed7953"
             ],
             [
              0.7777777777777778,
              "#fb9f3a"
             ],
             [
              0.8888888888888888,
              "#fdca26"
             ],
             [
              1,
              "#f0f921"
             ]
            ],
            "type": "surface"
           }
          ],
          "table": [
           {
            "cells": {
             "fill": {
              "color": "#EBF0F8"
             },
             "line": {
              "color": "white"
             }
            },
            "header": {
             "fill": {
              "color": "#C8D4E3"
             },
             "line": {
              "color": "white"
             }
            },
            "type": "table"
           }
          ]
         },
         "layout": {
          "annotationdefaults": {
           "arrowcolor": "#2a3f5f",
           "arrowhead": 0,
           "arrowwidth": 1
          },
          "autotypenumbers": "strict",
          "coloraxis": {
           "colorbar": {
            "outlinewidth": 0,
            "ticks": ""
           }
          },
          "colorscale": {
           "diverging": [
            [
             0,
             "#8e0152"
            ],
            [
             0.1,
             "#c51b7d"
            ],
            [
             0.2,
             "#de77ae"
            ],
            [
             0.3,
             "#f1b6da"
            ],
            [
             0.4,
             "#fde0ef"
            ],
            [
             0.5,
             "#f7f7f7"
            ],
            [
             0.6,
             "#e6f5d0"
            ],
            [
             0.7,
             "#b8e186"
            ],
            [
             0.8,
             "#7fbc41"
            ],
            [
             0.9,
             "#4d9221"
            ],
            [
             1,
             "#276419"
            ]
           ],
           "sequential": [
            [
             0,
             "#0d0887"
            ],
            [
             0.1111111111111111,
             "#46039f"
            ],
            [
             0.2222222222222222,
             "#7201a8"
            ],
            [
             0.3333333333333333,
             "#9c179e"
            ],
            [
             0.4444444444444444,
             "#bd3786"
            ],
            [
             0.5555555555555556,
             "#d8576b"
            ],
            [
             0.6666666666666666,
             "#ed7953"
            ],
            [
             0.7777777777777778,
             "#fb9f3a"
            ],
            [
             0.8888888888888888,
             "#fdca26"
            ],
            [
             1,
             "#f0f921"
            ]
           ],
           "sequentialminus": [
            [
             0,
             "#0d0887"
            ],
            [
             0.1111111111111111,
             "#46039f"
            ],
            [
             0.2222222222222222,
             "#7201a8"
            ],
            [
             0.3333333333333333,
             "#9c179e"
            ],
            [
             0.4444444444444444,
             "#bd3786"
            ],
            [
             0.5555555555555556,
             "#d8576b"
            ],
            [
             0.6666666666666666,
             "#ed7953"
            ],
            [
             0.7777777777777778,
             "#fb9f3a"
            ],
            [
             0.8888888888888888,
             "#fdca26"
            ],
            [
             1,
             "#f0f921"
            ]
           ]
          },
          "colorway": [
           "#636efa",
           "#EF553B",
           "#00cc96",
           "#ab63fa",
           "#FFA15A",
           "#19d3f3",
           "#FF6692",
           "#B6E880",
           "#FF97FF",
           "#FECB52"
          ],
          "font": {
           "color": "#2a3f5f"
          },
          "geo": {
           "bgcolor": "white",
           "lakecolor": "white",
           "landcolor": "#E5ECF6",
           "showlakes": true,
           "showland": true,
           "subunitcolor": "white"
          },
          "hoverlabel": {
           "align": "left"
          },
          "hovermode": "closest",
          "mapbox": {
           "style": "light"
          },
          "paper_bgcolor": "white",
          "plot_bgcolor": "#E5ECF6",
          "polar": {
           "angularaxis": {
            "gridcolor": "white",
            "linecolor": "white",
            "ticks": ""
           },
           "bgcolor": "#E5ECF6",
           "radialaxis": {
            "gridcolor": "white",
            "linecolor": "white",
            "ticks": ""
           }
          },
          "scene": {
           "xaxis": {
            "backgroundcolor": "#E5ECF6",
            "gridcolor": "white",
            "gridwidth": 2,
            "linecolor": "white",
            "showbackground": true,
            "ticks": "",
            "zerolinecolor": "white"
           },
           "yaxis": {
            "backgroundcolor": "#E5ECF6",
            "gridcolor": "white",
            "gridwidth": 2,
            "linecolor": "white",
            "showbackground": true,
            "ticks": "",
            "zerolinecolor": "white"
           },
           "zaxis": {
            "backgroundcolor": "#E5ECF6",
            "gridcolor": "white",
            "gridwidth": 2,
            "linecolor": "white",
            "showbackground": true,
            "ticks": "",
            "zerolinecolor": "white"
           }
          },
          "shapedefaults": {
           "line": {
            "color": "#2a3f5f"
           }
          },
          "ternary": {
           "aaxis": {
            "gridcolor": "white",
            "linecolor": "white",
            "ticks": ""
           },
           "baxis": {
            "gridcolor": "white",
            "linecolor": "white",
            "ticks": ""
           },
           "bgcolor": "#E5ECF6",
           "caxis": {
            "gridcolor": "white",
            "linecolor": "white",
            "ticks": ""
           }
          },
          "title": {
           "x": 0.05
          },
          "xaxis": {
           "automargin": true,
           "gridcolor": "white",
           "linecolor": "white",
           "ticks": "",
           "title": {
            "standoff": 15
           },
           "zerolinecolor": "white",
           "zerolinewidth": 2
          },
          "yaxis": {
           "automargin": true,
           "gridcolor": "white",
           "linecolor": "white",
           "ticks": "",
           "title": {
            "standoff": 15
           },
           "zerolinecolor": "white",
           "zerolinewidth": 2
          }
         }
        },
        "title": {
         "text": "Drop-off Timestamp Heatmap by Course"
        },
        "xaxis": {
         "anchor": "y",
         "domain": [
          0,
          1
         ],
         "title": {
          "text": "Drop Bin"
         }
        },
        "yaxis": {
         "anchor": "x",
         "domain": [
          0,
          1
         ],
         "title": {
          "text": "Course ID"
         }
        }
       }
      }
     },
     "metadata": {},
     "output_type": "display_data"
    }
   ],
   "source": [
    "heat_df = df[['Course ID', 'Drop-off Timestamp (min)']].copy()\n",
    "heat_df['Drop Bin'] = pd.cut(heat_df['Drop-off Timestamp (min)'], bins=10)\n",
    "\n",
    "heatmap_data = heat_df.groupby(['Course ID', 'Drop Bin']).size().reset_index(name='Count')\n",
    "heatmap_data['Drop Bin'] = heatmap_data['Drop Bin'].astype(str)  # Convert Interval to string\n",
    "\n",
    "fig5 = px.density_heatmap(\n",
    "    heatmap_data,\n",
    "    x='Drop Bin',\n",
    "    y='Course ID',\n",
    "    z='Count',\n",
    "    title='Drop-off Timestamp Heatmap by Course',\n",
    "    color_continuous_scale='Viridis'\n",
    ")\n",
    "fig5.show()\n"
   ]
  },
  {
   "cell_type": "markdown",
   "id": "224f2314",
   "metadata": {},
   "source": [
    "Exporting All Plots To Single HTML File"
   ]
  },
  {
   "cell_type": "code",
   "execution_count": 24,
   "id": "899da5a3",
   "metadata": {},
   "outputs": [
    {
     "name": "stdout",
     "output_type": "stream",
     "text": [
      "Saved to Online Course Platform Student Analysis.html\n"
     ]
    }
   ],
   "source": [
    "import plotly.io as pio\n",
    "\n",
    "# List of all your figures\n",
    "figures = [fig1, fig2, fig3, fig4, fig5]\n",
    "\n",
    "# Generate HTML strings for each figure\n",
    "html_parts = [pio.to_html(fig, full_html=False, include_plotlyjs='cdn') for fig in figures]\n",
    "\n",
    "# Combine them into one full HTML document\n",
    "full_html = f\"\"\"\n",
    "<html>\n",
    "<head>\n",
    "    <title>Spotify Analysis</title>\n",
    "</head>\n",
    "<body>\n",
    "    {''.join(html_parts)}\n",
    "</body>\n",
    "</html>\n",
    "\"\"\"\n",
    "\n",
    "# Save to file\n",
    "output_path = \"Online Course Platform Student Analysis.html\"\n",
    "with open(output_path, \"w\", encoding=\"utf-8\") as f:\n",
    "    f.write(full_html)\n",
    "\n",
    "print(f\"Saved to {output_path}\")"
   ]
  }
 ],
 "metadata": {
  "kernelspec": {
   "display_name": "youtube_analytics",
   "language": "python",
   "name": "python3"
  },
  "language_info": {
   "codemirror_mode": {
    "name": "ipython",
    "version": 3
   },
   "file_extension": ".py",
   "mimetype": "text/x-python",
   "name": "python",
   "nbconvert_exporter": "python",
   "pygments_lexer": "ipython3",
   "version": "3.10.16"
  }
 },
 "nbformat": 4,
 "nbformat_minor": 5
}
